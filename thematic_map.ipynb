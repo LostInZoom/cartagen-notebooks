{
 "cells": [
  {
   "cell_type": "markdown",
   "metadata": {
    "slideshow": {
     "slide_type": "slide"
    }
   },
   "source": [
    "# **Tutorial** : Which cartographic representation for a point data set ? \n",
    "## Overview of some existing techniques using CartAGen\n",
    "Press **`space bar`** to show next slide "
   ]
  },
  {
   "cell_type": "markdown",
   "metadata": {
    "slideshow": {
     "slide_type": "slide"
    }
   },
   "source": [
    "- 🙋 **For whom ?** : \n",
    "  - people who have spatial data to enhance through maps, but don't know which cartographic representation to choose\n",
    "  - expert cartographers wishing to discover the **possibilities of cartographic generalization** offered by the CartAGen tool\n",
    "  - anyone wishing to learn about the various problems encountered when creating maps from point data (and how to get around these problems).\n",
    "\n",
    "Press **`space bar`** and **`scroll down`** to show next message "
   ]
  },
  {
   "cell_type": "markdown",
   "metadata": {
    "slideshow": {
     "slide_type": "fragment"
    }
   },
   "source": [
    "\n",
    "- ❓ **What is CartAGen ?** :\n",
    "    - an **open source Python library** made by **IGN** (i.e the french national mapping agency) researchers\n",
    "    - a tool to carry out cartographic generalization processes and **automate** them\n",
    "    - a **QGIS plugin** to use the Python library in a GIS environment  \n",
    "    \n",
    "Press **`space bar`** and **`scroll down`** to show next message "
   ]
  },
  {
   "cell_type": "markdown",
   "metadata": {
    "slideshow": {
     "slide_type": "fragment"
    }
   },
   "source": [
    "\n",
    "- 📗 **How to use this Notebook ?** : \n",
    "    - a Notebook is a document that mixes **markdown cells** (i.e. cells with formatted text like this one) and **code cells**, which you can modify and execute at will\n",
    "    - it comes with a **sample data set** on which you can **test** the various features of the CartAGen python library\n",
    "    - you can import your **own data** and run the code cells of this Notebook, or use the CartAGen tool in **another environment** (QGIS or python script)\n",
    "\n",
    "Press **`right arrow`** to show next slide and start part 0, or press **`space bar`** to show sub-slide and see useful links"
   ]
  },
  {
   "cell_type": "markdown",
   "metadata": {
    "slideshow": {
     "slide_type": "subslide"
    }
   },
   "source": [
    "   \n",
    "- 🔗 **Useful links** : \n",
    "    - [Library repository](https://github.com/LostInZoom/cartagen4py?tab=readme-ov-file) \n",
    "    - [QGIS Plugin repository](https://github.com/LostInZoom/cartagen-qgis)\n",
    "    - [CartAGen documentation](https://cartagen4py.readthedocs.io/en/latest/index.html)\n",
    "\n",
    "_by Paul Bourcier, 2024 - CC-BY-SA 4.0_\n",
    "\n",
    "Press **`space bar`** to show next slide, press **`shift + space bar`** to go backward\\\n",
    "**`Click`** question mark icon to show other shortcuts"
   ]
  },
  {
   "cell_type": "markdown",
   "metadata": {
    "slideshow": {
     "slide_type": "slide"
    }
   },
   "source": [
    "## ⚙️ **Part 0 :** Preparing the working environment"
   ]
  },
  {
   "cell_type": "markdown",
   "metadata": {
    "slideshow": {
     "slide_type": "fragment"
    }
   },
   "source": [
    "Press **`space bar`** to show code cell, then press **`shift + enter`** to execute it\\\n",
    "**`*`** symbol means code output is loading"
   ]
  },
  {
   "cell_type": "code",
   "execution_count": 1,
   "metadata": {
    "slideshow": {
     "slide_type": "fragment"
    }
   },
   "outputs": [],
   "source": [
    "# Importing libraries\n",
    "\n",
    "from matplotlib import pyplot as plt # for ploting results, especially maps\n",
    "import cartagen as cg # the main library, containing cartographic generalization algorithms\n",
    "import geopandas as gp # used to import and manipulate geographic data\n",
    "import pandas as pd # used to concatenate datas\n",
    "import ipywidgets # creation of interactive plots\n",
    "import os # navigation within the environnement\n",
    "from mpl_toolkits.axes_grid1.anchored_artists import AnchoredSizeBar # adding scalebar to the maps\n",
    "import matplotlib.colors as matcol # generating color palettes\n",
    "from matplotlib.path import Path  # Plot generation\n",
    "from matplotlib.patches import PathPatch # Plot generation\n",
    "from matplotlib.figure import Figure # Plot generation\n",
    "from mpl_toolkits.axisartist.axislines import Subplot # Plot generation\n",
    "from shapely.geometry import Polygon, MultiPolygon, Point # Create and manipulate geometries\n",
    "from shapely.wkt import loads # Create and manipulate geometries\n",
    "from shapely import intersects\n",
    "from shapely.ops import linemerge\n",
    "from tqdm.notebook import tqdm # Creating loading bar\n",
    "from time import sleep # Creating loading bar\n",
    "import numpy as np # Using mathematical operations in Python\n",
    "import re # regex\n",
    "from IPython.display import clear_output, Image # used to delete widgets\n",
    "import pydeck as pdk #pydeck for interactive maps\n",
    "import json #manipulating dictionnaries\n",
    "import contextily as ctx # Adding basemaps\n",
    "import random #generating random numbers\n",
    "import matplotlib.colors as mcolors #generating colors \n",
    "import matplotlib.cm as cm #used to display colorbar\n",
    "# from matplotlib.path import Path\n",
    "# from matplotlib.patches import PathPatch\n",
    "import progressbar\n",
    "import mapclassify #choroplete map settings\n",
    "\n",
    "import warnings # Remove warnings\n",
    "warnings.filterwarnings(\"ignore\", category=UserWarning, message=\".*GeoDataFrame you are attempting to plot is empty.*\") # Remove user warning \n",
    "warnings.filterwarnings(\"ignore\", category=UserWarning, message=\".*CRS not set for some of the concatenation inputs.*.\")\n",
    "#warnings.filterwarnings(\"ignore\", category=SettingWithCopyWarning, message=\".*A value is trying to be set on a copy of a slice from a DataFrame.*.\")"
   ]
  },
  {
   "cell_type": "markdown",
   "metadata": {
    "slideshow": {
     "slide_type": "slide"
    }
   },
   "source": [
    "## ❌ **Part 1 :** Common issues with point data representation"
   ]
  },
  {
   "cell_type": "markdown",
   "metadata": {
    "slideshow": {
     "slide_type": "fragment"
    }
   },
   "source": [
    "Nowadays, more and more spatial data set shared by data producers take form of point data set, i.e datas associated with x/y coordinate enabling their integration in maps. Those point data sets concern a wide variety of thematic : environnement, population, urbanism, mobilities, etc. \n",
    "\n",
    "Let's figure out some issues when cartographying these kind of data."
   ]
  },
  {
   "cell_type": "markdown",
   "metadata": {
    "hideOutput": true,
    "slideshow": {
     "slide_type": "slide"
    }
   },
   "source": [
    "### **1.1/** Why displaying raw point data set can induce limitations ?\n",
    "\n",
    "When creating maps with the purpose of showing the spatial distribution of a phenomenon, displaying every individual point of our dataset can be problematic. Let's take the example of the restaurant selling crepes in Brittany, France : "
   ]
  },
  {
   "cell_type": "markdown",
   "metadata": {
    "slideshow": {
     "slide_type": "fragment"
    }
   },
   "source": [
    "**1.1.1/** Displaying maps of creperies in Brittany"
   ]
  },
  {
   "cell_type": "markdown",
   "metadata": {
    "slideshow": {
     "slide_type": "fragment"
    }
   },
   "source": [
    "💬 This Notebook is meant to be interactive (beyond code modifications) : after **running** a code cell, you will often be able to **change** algorithm parameters or figure settings, thanks to **buttons**. Let's try changing the figure size thanks to a slider button."
   ]
  },
  {
   "cell_type": "code",
   "execution_count": null,
   "metadata": {
    "hideCode": true,
    "slideshow": {
     "slide_type": "subslide"
    }
   },
   "outputs": [],
   "source": [
    "#Displaying maps of crepe restaurants in Brittany\n",
    "brittany = gp.read_file('data/puntos/brittany.geojson')\n",
    "crepes = gp.read_file('data/puntos/crepes.geojson')\n",
    "widgets = [\n",
    "    '', progressbar.Percentage(), ' ',  \n",
    "    progressbar.Bar(marker='🟩', left='', right='                                                  ', width = 1) \n",
    "]\n",
    "\n",
    "def plt_bre_1(figure_size):\n",
    "    \n",
    "    with progressbar.ProgressBar(max_value=2,widgets=widgets) as bar:\n",
    "        ax = brittany.plot(facecolor = 'None', edgecolor = \"grey\", linewidth = 0.5, figsize = (figure_size,figure_size))\n",
    "        bar.update(1)\n",
    "        ax.axes.get_xaxis().set_visible(False)\n",
    "        ax.axes.get_yaxis().set_visible(False)\n",
    "        scalebar = AnchoredSizeBar(ax.transData,\n",
    "                                10000,  \n",
    "                                '10 km',  \n",
    "                                'lower left',  \n",
    "                                pad=0.5,\n",
    "                                color='black',\n",
    "                                frameon=True,\n",
    "                                size_vertical=1)\n",
    "        ax.add_artist(scalebar)\n",
    "\n",
    "        crepes.plot(ax=ax)    \n",
    "        bar.update(2)\n",
    "    \n",
    "ipywidgets.interact(plt_bre_1, figure_size = ipywidgets.IntSlider(value =12, min = 1, max = 16,step = 1,continuous_update=False))"
   ]
  },
  {
   "cell_type": "markdown",
   "metadata": {
    "slideshow": {
     "slide_type": "slide"
    }
   },
   "source": [
    "💬 This map shows all the creperies in Brittany that are represented in the [OSM](https://www.openstreetmap.org/#map=14/48.81620/-1.17910) database. Because some points are overlaping eachother, it is difficult to read the spatial distribution of these restaurants. Eventhough we understand that there are more restaurants in the mains cities and in some part of the coast, we can't really say if there are more restaurants in Rennes or Brest, for example. "
   ]
  },
  {
   "cell_type": "markdown",
   "metadata": {
    "slideshow": {
     "slide_type": "fragment"
    }
   },
   "source": [
    "💬 Let's try to lower the opacity of the points, so we can see more easily when several points are overlaping "
   ]
  },
  {
   "cell_type": "markdown",
   "metadata": {
    "slideshow": {
     "slide_type": "fragment"
    }
   },
   "source": [
    "**1.1.2/** Displaying creperies with opacity"
   ]
  },
  {
   "cell_type": "code",
   "execution_count": null,
   "metadata": {
    "hideCode": true,
    "slideshow": {
     "slide_type": "subslide"
    }
   },
   "outputs": [],
   "source": [
    "#Trying to lower the opacity to see if spatial distribution are more readable\n",
    "\n",
    "def plt_bre_1(figure_size, opacity):\n",
    "    with progressbar.ProgressBar(max_value=2,widgets=widgets) as bar:\n",
    "        ax = brittany.plot(facecolor = 'None', edgecolor = \"grey\", linewidth = 0.5, figsize = (figure_size,figure_size))\n",
    "        bar.update(1)\n",
    "        ax.axes.get_xaxis().set_visible(False)\n",
    "        ax.axes.get_yaxis().set_visible(False)\n",
    "\n",
    "        scalebar = AnchoredSizeBar(ax.transData,\n",
    "                                10000,  \n",
    "                                '10 km',  \n",
    "                                'lower left',  \n",
    "                                pad=0.5,\n",
    "                                color='black',\n",
    "                                frameon=True,\n",
    "                                size_vertical=1)\n",
    "        ax.add_artist(scalebar)\n",
    "\n",
    "        crepes.plot(ax=ax, alpha = opacity)\n",
    "        bar.update(2)\n",
    "ipywidgets.interact(plt_bre_1, figure_size = ipywidgets.IntSlider(value =12, min = 1, max = 16,step = 1,continuous_update=False),\n",
    "                               opacity = ipywidgets.FloatSlider(value =0.7, min = 0, max = 1,step = 0.01,continuous_update=False))\n",
    "\n"
   ]
  },
  {
   "cell_type": "markdown",
   "metadata": {
    "slideshow": {
     "slide_type": "fragment"
    }
   },
   "source": [
    "With this technique, spatial distribution is getting clearer. But it is still not enough to determine in which city there are more creperies ! We will see some techniques to improve the readibility of the map regarding the spatial distribution of those restaurants in part 2... "
   ]
  },
  {
   "cell_type": "markdown",
   "metadata": {
    "slideshow": {
     "slide_type": "slide"
    }
   },
   "source": [
    "### **1.2/** Point data sets in multi-scale maps : the persistant problem of scale"
   ]
  },
  {
   "cell_type": "markdown",
   "metadata": {
    "slideshow": {
     "slide_type": "fragment"
    }
   },
   "source": [
    "Nowadays, geographic data sets are often displayed on interactive maps, i.e maps in which the user can change the current view by zooming or panning. When it comes to point data sets, it is true that this medium offers the possibility to look precisly where the points are located within a desired zone. However, displaying raw data point still generate map readability problems at certain scales."
   ]
  },
  {
   "cell_type": "markdown",
   "metadata": {
    "slideshow": {
     "slide_type": "fragment"
    }
   },
   "source": [
    "Let's take the example of parking meters in Paris :"
   ]
  },
  {
   "cell_type": "markdown",
   "metadata": {
    "slideshow": {
     "slide_type": "slide"
    }
   },
   "source": [
    "**1.2.1/** Interactive map of parking meters in Paris"
   ]
  },
  {
   "cell_type": "markdown",
   "metadata": {
    "slideshow": {
     "slide_type": "fragment"
    }
   },
   "source": [
    "💬 Once the interactive map is loaded, you can navigate through it just like in other websites !"
   ]
  },
  {
   "cell_type": "code",
   "execution_count": null,
   "metadata": {
    "hideCode": true,
    "slideshow": {
     "slide_type": "subslide"
    }
   },
   "outputs": [],
   "source": [
    "horo = gp.read_file('data/puntos/horodateurs-mobiliers.geojson')\n",
    "\n",
    "for i in range(len(horo)):\n",
    "    horo.loc[i,'lon'] = json.loads(horo.loc[i,'geo_point_2d'])['lon']\n",
    "    horo.loc[i,'lat'] = json.loads(horo.loc[i,'geo_point_2d'])['lat']\n",
    "\n",
    "mean_latitude = horo.lat.mean()\n",
    "mean_longitude = horo.lon.mean()\n",
    "df = horo.drop(columns='geometry')\n",
    "\n",
    "layer = pdk.Layer(\n",
    "    \"ScatterplotLayer\",\n",
    "    df,\n",
    "    opacity=0.8,\n",
    "    stroked=True,\n",
    "    filled=True,\n",
    "    radius_scale=6,\n",
    "    radius_min_pixels=5,\n",
    "    radius_max_pixels=100,\n",
    "    line_width_min_pixels=0,\n",
    "    get_position=[\"lon\", \"lat\"],\n",
    "    pickable=True,\n",
    ")\n",
    "\n",
    "view_state = pdk.ViewState(longitude=mean_longitude, latitude=mean_latitude, zoom=15, bearing=0, pitch=0)\n",
    "\n",
    "r = pdk.Deck(layers=[layer],initial_view_state=view_state, map_provider=\"carto\",  map_style=\"light_no_labels\", tooltip={\"text\": \"{numhoro}\"})\n",
    "\n",
    "r.to_html('ScatterplotLayer.html')"
   ]
  },
  {
   "cell_type": "markdown",
   "metadata": {
    "slideshow": {
     "slide_type": "fragment"
    }
   },
   "source": [
    "This example highlights one fact : when the zoom level is high, displaying every point of our data set is a good idea since we easily understand where is each parking meters (which can be useful to find one in a real context). \n",
    "\n",
    "However, when the zoom level is low (for example when it is possible to see Paris as a whole), the map is saturated of information, raw point representation not being optimized in that case."
   ]
  },
  {
   "cell_type": "markdown",
   "metadata": {
    "slideshow": {
     "slide_type": "slide"
    }
   },
   "source": [
    "In fact, the problem the problem of showing all points at low zoom levels is not only that map is saturated with points, but also that map reader needs most likely change. \n",
    "\n",
    "Indeed, when looking at whole Paris, the need of the map reader is probably not to find the parking meters next to him, but most likely to understand how this equipment is distributed in the city (without understanding the precise location of each of them)."
   ]
  },
  {
   "cell_type": "markdown",
   "metadata": {
    "slideshow": {
     "slide_type": "fragment"
    }
   },
   "source": [
    "To conclude on this part, interactive maps don't solve the problem of cartographic representation of the datas. In other words, there are still needs for transforming it at certain scales, to make the map more readable. \n",
    "\n",
    "Those transforming operations are called cartographic generalization. CartAGen proposes some tools to perform generalization."
   ]
  },
  {
   "cell_type": "markdown",
   "metadata": {
    "slideshow": {
     "slide_type": "slide"
    }
   },
   "source": [
    "## 🛠 **Part 2 :** Exploring cartographic generalization techniques with CartAGen\n",
    "As we saw, scale is what matter when defining which cartographic representation to choose. Let's explore generalization techniques according to it."
   ]
  },
  {
   "cell_type": "markdown",
   "metadata": {
    "slideshow": {
     "slide_type": "slide"
    }
   },
   "source": [
    "### **2.1/** Point displacement techniques\n",
    "At large scale (i.e small zones, high zoom level...), we generally want to keep each point in our representation, to be as close as reality. When points start to overlap eachother, point displacement algorithms can be useful, since they make the map more readable but also keep the number of points on the map."
   ]
  },
  {
   "cell_type": "markdown",
   "metadata": {
    "slideshow": {
     "slide_type": "slide"
    }
   },
   "source": [
    "**2.1.1/** Display the points to displace"
   ]
  },
  {
   "cell_type": "code",
   "execution_count": null,
   "metadata": {
    "hideCode": true,
    "slideshow": {
     "slide_type": "subslide"
    }
   },
   "outputs": [],
   "source": [
    "# Display points to displace\n",
    "admin = gp.read_file('data/puntos/arr_paris.geojson')\n",
    "admin.to_crs(crs=\"EPSG:3857\",inplace=True)\n",
    "horo.to_crs(crs=\"EPSG:3857\",inplace=True)\n",
    "horo_ok = gp.clip(horo, admin.loc[14:15])\n",
    "\n",
    "with progressbar.ProgressBar(max_value=2,widgets=widgets) as bar:\n",
    "    ax = admin.loc[14:15].plot(facecolor = 'None', edgecolor = \"grey\", linewidth = 0.5, figsize = (9,9))\n",
    "    ax.axes.get_xaxis().set_visible(False)\n",
    "    ax.axes.get_yaxis().set_visible(False)\n",
    "    scalebar = AnchoredSizeBar(ax.transData,\n",
    "                            1000,  \n",
    "                            '1000 m',  \n",
    "                            'lower left',  \n",
    "                            pad=0.5,\n",
    "                            color='black',\n",
    "                            frameon=True,\n",
    "                            size_vertical=1)\n",
    "    ax.add_artist(scalebar)\n",
    "\n",
    "    horo_ok.plot(ax=ax)\n",
    "    bar.update(1)\n",
    "    ctx.add_basemap(ax,source=ctx.providers.CartoDB.Positron)\n",
    "    bar.update(2)"
   ]
  },
  {
   "cell_type": "markdown",
   "metadata": {
    "slideshow": {
     "slide_type": "slide"
    }
   },
   "source": [
    "Yet, there is no algorithm dedicated to point displacement in CartAGen. Nonetheless, it is possible to use the random_displacement algorithm by transforming our points into polygons before : "
   ]
  },
  {
   "cell_type": "markdown",
   "metadata": {
    "slideshow": {
     "slide_type": "fragment"
    }
   },
   "source": [
    "**2.1.2/** Converting points to polygons by creating buffers"
   ]
  },
  {
   "cell_type": "code",
   "execution_count": null,
   "metadata": {
    "hideCode": true,
    "slideshow": {
     "slide_type": "subslide"
    }
   },
   "outputs": [],
   "source": [
    "# Converting points to polygons by creating buffers\n",
    "horo_poly = horo_ok.copy()\n",
    "\n",
    "with progressbar.ProgressBar(max_value=len(horo_poly),widgets=widgets) as bar:\n",
    "    count = 0\n",
    "    for index, pt in horo_poly.iterrows():\n",
    "        horo_poly.loc[index,'geometry'] = horo_poly.loc[index,'geometry'].buffer(42)\n",
    "        count += 1\n",
    "        bar.update(count)\n",
    "if horo_poly.geometry.geom_type.unique()[0] == 'Polygon':\n",
    "    print(\"✅ successful transformation\")\n",
    "else:\n",
    "    print(\"❌ transformation failed\")"
   ]
  },
  {
   "cell_type": "markdown",
   "metadata": {
    "slideshow": {
     "slide_type": "slide"
    }
   },
   "source": [
    "**2.1.3/** Displacing points using the random_displacement algorithm"
   ]
  },
  {
   "cell_type": "markdown",
   "metadata": {
    "slideshow": {
     "slide_type": "fragment"
    }
   },
   "source": [
    "💬 Here, the \"max trials\" parameter is set to one, which means that each feature overlaping (or being to close to) another one is displaced one time. \n",
    "\n",
    "If this parameter is set to two, the algorithm will perform the displacement twice (most likely in two different directions since it is chosen randomly) and keep the situation that have the less overlaps. \n",
    "\n",
    "Setting a high value for this parameter will highly extend computation time (up to several minutes)."
   ]
  },
  {
   "cell_type": "code",
   "execution_count": null,
   "metadata": {
    "hideCode": true,
    "hideOutput": true,
    "slideshow": {
     "slide_type": "subslide"
    }
   },
   "outputs": [],
   "source": [
    "# Displacing point buffers\n",
    "widgets1 = [\n",
    "    '', progressbar.Percentage(), ' ',  \n",
    "    progressbar.Bar(marker='🟩', left='', right='                        '), ' (', progressbar.ETA(), ') ' \n",
    "]\n",
    "def disp_pts(polygon_distance, max_trials, max_displacement):\n",
    "    global horo_poly\n",
    "    with progressbar.ProgressBar(max_value=4,widgets=widgets1) as bar:\n",
    "        bar.update(1)\n",
    "        horo_poly = cg.random_displacement(horo_poly, polygon_distance=polygon_distance, max_trials=max_trials, max_displacement=max_displacement)\n",
    "        bar.update(2)\n",
    "\n",
    "        fig, axs = plt.subplots(1, 2, figsize = (14,14))\n",
    "\n",
    "        axs[0].set_title('Before', pad=10, family='sans-serif')\n",
    "        axs[0].scatter(np.asarray(horo_ok.geometry.get_coordinates())[:,:1], np.asarray(horo_ok.geometry.get_coordinates())[:,-1])\n",
    "        bar.update(3)\n",
    "        axs[0].set_xlim(left=254968, right=259800)\n",
    "        axs[0].set_ylim(bottom=6248519, top=6255324)\n",
    "        axs[0].set_aspect('equal')\n",
    "        ctx.add_basemap(axs[0],source=ctx.providers.CartoDB.Positron)\n",
    "        fig.axes[0].get_xaxis().set_visible(False)\n",
    "        fig.axes[0].get_yaxis().set_visible(False)\n",
    "\n",
    "        axs[1].set_title('After', pad=10, family='sans-serif')\n",
    "        axs[1].scatter(np.asarray(horo_poly.geometry.centroid.get_coordinates())[:,:1], np.asarray(horo_poly.geometry.centroid.get_coordinates())[:,-1])\n",
    "        bar.update(4)\n",
    "        axs[1].set_xlim(left=254968, right=259800)\n",
    "        axs[1].set_ylim(bottom=6248519, top=6255324)\n",
    "        axs[1].set_aspect('equal')\n",
    "        ctx.add_basemap(axs[1],source=ctx.providers.CartoDB.Positron)\n",
    "        fig.axes[1].get_xaxis().set_visible(False)\n",
    "        fig.axes[1].get_yaxis().set_visible(False)\n",
    "   \n",
    "\n",
    "ipywidgets.interact(disp_pts, polygon_distance = ipywidgets.BoundedIntText(value=10, min=0, max=200, step=1,description='polygon distance',style={'description_width': 'initial'}),\n",
    "                              max_trials = ipywidgets.BoundedIntText(value=1, min=0, max=200, step=1,description='max trials'),\n",
    "                              max_displacement = ipywidgets.BoundedIntText(value=10, min=0, max=200, step=1,description='max displacement', style={'description_width': 'initial'}))"
   ]
  },
  {
   "cell_type": "markdown",
   "metadata": {
    "slideshow": {
     "slide_type": "fragment"
    }
   },
   "source": [
    "Setting a low \"max_trials\" parameter reduce the computation time but the resulting displacement is often not satisfactory. A \"max_trials\" value of 25 is better in our case (but computation time is long)."
   ]
  },
  {
   "cell_type": "markdown",
   "metadata": {
    "slideshow": {
     "slide_type": "subslide"
    }
   },
   "source": [
    "**2.1.3'/** Code details on random_displacement algorithm"
   ]
  },
  {
   "cell_type": "code",
   "execution_count": null,
   "metadata": {
    "slideshow": {
     "slide_type": "subslide"
    }
   },
   "outputs": [],
   "source": [
    "pm_polygons = horo_ok.copy() # copying the points to displace\n",
    "pm_polygons.geometry = pm_polygons.geometry.buffer(42) #changing point geometry to polygon geometry with 42 meters buffer \n",
    "\n",
    "pm_polygons = cg.random_displacement(pm_polygons, polygon_distance=20,\n",
    "                                                  max_trials=1, \n",
    "                                                  max_displacement=10)\n",
    "                                     #displacing polygons /!\\ can be long if max_trials is high\n",
    "\n",
    "pm_polygons.geometry = pm_polygons.geometry.centroid \n",
    "pm_polygons.plot(figsize=(9,9)) #after displacement\n",
    "horo_ok.plot(figsize=(9,9)) #before displacement"
   ]
  },
  {
   "cell_type": "markdown",
   "metadata": {
    "slideshow": {
     "slide_type": "slide"
    }
   },
   "source": [
    "### **2.2/** Point reduction techniques\n",
    "As the scale decreazes, more and more points overlaps eachother, so that displacement become less easy to perform. At this point, having all the points on the map become less important : the map is more about having a global vision of the spatial distribution of the datas. Point reductions algorithms enable these transformations."
   ]
  },
  {
   "cell_type": "markdown",
   "metadata": {
    "slideshow": {
     "slide_type": "slide"
    }
   },
   "source": [
    "**2.2.1/** Using reduce_kmeans algorithm"
   ]
  },
  {
   "cell_type": "code",
   "execution_count": null,
   "metadata": {
    "hideCode": true,
    "scrolled": false,
    "slideshow": {
     "slide_type": "subslide"
    }
   },
   "outputs": [],
   "source": [
    "# Reduce_points_kmeans algorithm\n",
    "horo_ok = gp.clip(horo, admin.loc[13:16])\n",
    "\n",
    "def kmean(figure_size, shrink_ratio):\n",
    "    fig, axs = plt.subplots(1, 2, figsize = (figure_size,figure_size))\n",
    "    with progressbar.ProgressBar(max_value=5,widgets=widgets) as bar:\n",
    "        horo_red = cg.reduce_kmeans(horo_ok,ratio=shrink_ratio,mode='simplification')\n",
    "        bar.update(1)\n",
    "        axs[0].set_title('Before', pad=10, family='sans-serif')\n",
    "        axs[0].scatter(x=np.asarray(horo_ok.geometry.get_coordinates())[:,:1], y= np.asarray(horo_ok.geometry.get_coordinates())[:,-1])\n",
    "        bar.update(2)\n",
    "        ctx.add_basemap(axs[0],source=ctx.providers.CartoDB.Positron)\n",
    "        bar.update(3)\n",
    "        fig.axes[0].get_xaxis().set_visible(False)\n",
    "        fig.axes[0].get_yaxis().set_visible(False)\n",
    "        axs[0].set_aspect('equal')\n",
    "        \n",
    "        axs[1].set_title('After', pad=10, family='sans-serif')\n",
    "           \n",
    "        axs[1].scatter(np.asarray(horo_red.geometry.x), np.asarray(horo_red.geometry.y))\n",
    "        bar.update(4)\n",
    "        ctx.add_basemap(axs[1],source=ctx.providers.CartoDB.Positron)\n",
    "        bar.update(5)\n",
    "        fig.axes[1].get_xaxis().set_visible(False)\n",
    "        fig.axes[1].get_yaxis().set_visible(False)\n",
    "        axs[1].set_aspect('equal')\n",
    "        \n",
    "ipywidgets.interact(kmean, figure_size = ipywidgets.IntSlider(value =16, min = 1, max = 16,step = 1,continuous_update=False),\n",
    "                           shrink_ratio = ipywidgets.FloatSlider(value =0.7, min = 0, max = 1,step = 0.01,continuous_update=False))"
   ]
  },
  {
   "cell_type": "markdown",
   "metadata": {
    "slideshow": {
     "slide_type": "fragment"
    }
   },
   "source": [
    "The reduce point kmeans algorithm tends to uniformize the spatial distribution of the point data set by deleting more points in areas where the point density is higher. It can be a problem, because there is a risk that cartographic representation doesn't reflect real spatial distribution. Here is another algorithms to reduce the number of points : "
   ]
  },
  {
   "cell_type": "markdown",
   "metadata": {
    "slideshow": {
     "slide_type": "subslide"
    }
   },
   "source": [
    "**2.2.1'/** Code details on reduce_kmeans algorithm"
   ]
  },
  {
   "cell_type": "code",
   "execution_count": null,
   "metadata": {
    "scrolled": true,
    "slideshow": {
     "slide_type": "subslide"
    }
   },
   "outputs": [],
   "source": [
    "horo_red = cg.reduce_kmeans(horo_ok,ratio=0.7,mode='simplification')\n",
    "\n",
    "horo_red.plot(figsize=(9,9))"
   ]
  },
  {
   "cell_type": "markdown",
   "metadata": {
    "slideshow": {
     "slide_type": "slide"
    }
   },
   "source": [
    "**2.2.2/** Using reduce_quadtree algorithm"
   ]
  },
  {
   "cell_type": "code",
   "execution_count": null,
   "metadata": {
    "hideCode": true,
    "slideshow": {
     "slide_type": "subslide"
    }
   },
   "outputs": [],
   "source": [
    "# reduce_points_quadtree algorithm (simplification mode)\n",
    "horo_ok = gp.clip(horo, admin.loc[13:16])\n",
    "\n",
    "def qtree_simp(figure_size, depth):\n",
    "    fig, axs = plt.subplots(1, 2, figsize = (figure_size,figure_size))\n",
    "\n",
    "    # horo_red = cg.reduce_points_quadtree(horo_ok,5,mode='simplification')\n",
    "    # horo_red = [x[0] for x in horo_red[0]]\n",
    "    with progressbar.ProgressBar(max_value=5,widgets=widgets) as bar:\n",
    "        horo_red = cg.reduce_quadtree(horo_ok,depth=depth,mode='simplification')\n",
    "        bar.update(1)\n",
    "\n",
    "        axs[0].set_title('Before', pad=10, family='sans-serif')\n",
    "        axs[0].scatter(x=np.asarray(horo_ok.geometry.get_coordinates())[:,:1], y= np.asarray(horo_ok.geometry.get_coordinates())[:,-1])\n",
    "        bar.update(2)\n",
    "        ctx.add_basemap(axs[0],source=ctx.providers.CartoDB.Positron)\n",
    "        bar.update(3)\n",
    "        fig.axes[0].get_xaxis().set_visible(False)\n",
    "        fig.axes[0].get_yaxis().set_visible(False)\n",
    "        axs[0].set_aspect('equal')\n",
    "\n",
    "        axs[1].set_title('After', pad=10, family='sans-serif')\n",
    "     \n",
    "        axs[1].scatter(np.asarray(horo_red.geometry.get_coordinates())[:,:1], y= np.asarray(horo_red.geometry.get_coordinates())[:,-1])\n",
    "            \n",
    "        bar.update(4)\n",
    "        ctx.add_basemap(axs[1],source=ctx.providers.CartoDB.Positron)\n",
    "        bar.update(5)\n",
    "        fig.axes[1].get_xaxis().set_visible(False)\n",
    "        fig.axes[1].get_yaxis().set_visible(False)\n",
    "        axs[1].set_xlim(left=253668, right=261883)\n",
    "        axs[1].set_ylim(bottom=6248519, top=6258324)\n",
    "        axs[1].set_aspect('equal')\n",
    "\n",
    "ipywidgets.interact(qtree_simp, figure_size = ipywidgets.IntSlider(value =16, min = 1, max = 16,step = 1,continuous_update=False),\n",
    "                                depth = ipywidgets.IntSlider(value =5, min = 0, max = 8,step = 1,continuous_update=False))"
   ]
  },
  {
   "cell_type": "markdown",
   "metadata": {
    "slideshow": {
     "slide_type": "fragment"
    }
   },
   "source": [
    "The reduce point quadtree algorithm seems quicker in terms of processing time.\n",
    "It has the disavantage that the reduction strenth can not be thinly set up."
   ]
  },
  {
   "cell_type": "markdown",
   "metadata": {
    "slideshow": {
     "slide_type": "fragment"
    }
   },
   "source": [
    "Note that those algorithms delete points based on their position, without dealing with attributes. In others words, if you want to reduce point prior to setting up a symbology based on an attribute value, you should not use those algorithms. Here what you could do. "
   ]
  },
  {
   "cell_type": "markdown",
   "metadata": {
    "slideshow": {
     "slide_type": "subslide"
    }
   },
   "source": [
    "**2.2.2'/** Code details on reduce_quadtree algorithm"
   ]
  },
  {
   "cell_type": "code",
   "execution_count": null,
   "metadata": {
    "slideshow": {
     "slide_type": "subslide"
    }
   },
   "outputs": [],
   "source": [
    "reduced = cg.reduce_quadtree(horo_ok,depth=5,mode=\"simplification\") #Using the reduce_quadtree function on a gdf contianing our points\n",
    "\n",
    "reduced.plot(figsize=(9,9))"
   ]
  },
  {
   "cell_type": "markdown",
   "metadata": {
    "slideshow": {
     "slide_type": "slide"
    }
   },
   "source": [
    "**2.2.3/** Adding a fake attribute to our datas"
   ]
  },
  {
   "cell_type": "markdown",
   "metadata": {
    "slideshow": {
     "slide_type": "fragment"
    }
   },
   "source": [
    "Let's say we add an attribute containing the number of places in the parking area. Calling it \"nb_places\""
   ]
  },
  {
   "cell_type": "code",
   "execution_count": null,
   "metadata": {
    "hideCode": true,
    "slideshow": {
     "slide_type": "subslide"
    }
   },
   "outputs": [],
   "source": [
    "# Adding a fake value to parking meters points (let's say the number of places in the parking area)\n",
    "horo_value = horo.copy()\n",
    "with progressbar.ProgressBar(max_value=len(horo_value),widgets=widgets) as bar:\n",
    "    for i in range(len(horo_value)):\n",
    "        horo_value.loc[i,'nb_places'] = random.randint(1, 100) \n",
    "        bar.update(i)\n",
    "#create a field based on index for merging df later\n",
    "horo_value['index'] = horo_value.index\n",
    "print(\"Sample of our data containing the 'nb_places' attribute : \")\n",
    "horo_value[['nb_places','index','numhoro']].head(2)"
   ]
  },
  {
   "cell_type": "markdown",
   "metadata": {
    "slideshow": {
     "slide_type": "slide"
    }
   },
   "source": [
    "**2.2.4/** Using reduce_quadtree algorithm with an attribute value (\"selection mode\")"
   ]
  },
  {
   "cell_type": "markdown",
   "metadata": {
    "slideshow": {
     "slide_type": "fragment"
    }
   },
   "source": [
    "\"selection\" mode will retains the point with the largest value in the chosen column, weighted by the depth of the point."
   ]
  },
  {
   "cell_type": "code",
   "execution_count": null,
   "metadata": {
    "hideCode": true,
    "slideshow": {
     "slide_type": "subslide"
    }
   },
   "outputs": [],
   "source": [
    "# reduce_quadtree algorithm (selection mode)\n",
    "horo_value_clp = gp.clip(horo_value, admin.loc[13:16])\n",
    "\n",
    "def qtree_attr(figure_size, depth, display_sizes):\n",
    "    fig, axs = plt.subplots(1, 2, figsize = (figure_size,figure_size))\n",
    "\n",
    "    with progressbar.ProgressBar(max_value=5,widgets=widgets) as bar:\n",
    "        horo_red = cg.reduce_quadtree(horo_value_clp,depth=depth,mode=\"selection\",column='nb_places')\n",
    "        bar.update(1)\n",
    "\n",
    "        axs[0].set_title('Before', pad=10, family='sans-serif')\n",
    "        axs[0].scatter(x=np.asarray(horo_ok.geometry.get_coordinates())[:,:1], y= np.asarray(horo_ok.geometry.get_coordinates())[:,-1])\n",
    "        bar.update(2)\n",
    "        ctx.add_basemap(axs[0],source=ctx.providers.CartoDB.Positron)\n",
    "        bar.update(3)\n",
    "        fig.axes[0].get_xaxis().set_visible(False)\n",
    "        fig.axes[0].get_yaxis().set_visible(False)\n",
    "        axs[0].set_aspect('equal')\n",
    "\n",
    "        axs[1].set_title('After', pad=10, family='sans-serif')\n",
    "        \n",
    "        if display_sizes == True:\n",
    "            axs[1].scatter(np.asarray(horo_red.geometry.get_coordinates())[:,:1], y= np.asarray(horo_red.geometry.get_coordinates())[:,-1], s= horo_red['nb_places'])\n",
    "        else:   \n",
    "            axs[1].scatter(np.asarray(horo_red.geometry.get_coordinates())[:,:1], y= np.asarray(horo_red.geometry.get_coordinates())[:,-1]) \n",
    "        bar.update(4)\n",
    "        ctx.add_basemap(axs[1],source=ctx.providers.CartoDB.Positron)\n",
    "        bar.update(5)\n",
    "        fig.axes[1].get_xaxis().set_visible(False)\n",
    "        fig.axes[1].get_yaxis().set_visible(False)\n",
    "        axs[1].set_xlim(left=253668, right=261883)\n",
    "        axs[1].set_ylim(bottom=6248519, top=6258324)\n",
    "        axs[1].set_aspect('equal')\n",
    "\n",
    "ipywidgets.interact(qtree_attr, figure_size = ipywidgets.IntSlider(value =16, min = 1, max = 16,step = 1,continuous_update=False),\n",
    "                                depth = ipywidgets.IntSlider(value =5, min = 0, max = 8,step = 1,continuous_update=False),\n",
    "                                display_sizes = False\n",
    "                                )"
   ]
  },
  {
   "cell_type": "markdown",
   "metadata": {
    "slideshow": {
     "slide_type": "fragment"
    }
   },
   "source": [
    "In this case, for each group of points in which the algorithm deletes points, the point with the highest value is kept. However, reduce_quadtree algorithm also tends to uniformize the spatial distribution. Note that selection mode also exists on reduce_kmeans algorithm."
   ]
  },
  {
   "cell_type": "markdown",
   "metadata": {
    "slideshow": {
     "slide_type": "subslide"
    }
   },
   "source": [
    "**2.2.4'/** Code details on reduce_quadtree algorithm with selection mode "
   ]
  },
  {
   "cell_type": "code",
   "execution_count": null,
   "metadata": {
    "slideshow": {
     "slide_type": "subslide"
    }
   },
   "outputs": [],
   "source": [
    "reduced = cg.reduce_quadtree(horo_value_clp,depth=5,mode=\"selection\",column='nb_places')\n",
    "\n",
    "reduced.plot(figsize=(9,9))"
   ]
  },
  {
   "cell_type": "markdown",
   "metadata": {
    "slideshow": {
     "slide_type": "slide"
    }
   },
   "source": [
    "**2.2.5/** Using reduce_labelgrid algorithm with selection mode "
   ]
  },
  {
   "cell_type": "code",
   "execution_count": null,
   "metadata": {
    "hideCode": true,
    "slideshow": {
     "slide_type": "subslide"
    }
   },
   "outputs": [],
   "source": [
    "# Using the LabelGrid algorithm with selection mode \n",
    "horo_value_clp = gp.clip(horo_value, admin.loc[13:16])\n",
    "horo_value_clp.reset_index(inplace=True)\n",
    "extent = horo_value_clp.total_bounds\n",
    "\n",
    "def lb_selec(figure_size, shape, width, height, sizes, show_grid):\n",
    "    with progressbar.ProgressBar(max_value=5,widgets=widgets) as bar:\n",
    "        lg = cg.reduce_labelgrid(horo_value_clp, width = width, height = height, column=\"nb_places\", shape=shape, mode='selection', grid=True)\n",
    "        bar.update(1)\n",
    "\n",
    "        fig, axs = plt.subplots(1, 2, figsize = (figure_size,figure_size))\n",
    "\n",
    "        axs[0].set_title('Before', pad=10, family='sans-serif')\n",
    "        if sizes == True:\n",
    "            axs[0].scatter(x=np.asarray(horo_value_clp.geometry.get_coordinates())[:,:1], y= np.asarray(horo_value_clp.geometry.get_coordinates())[:,-1],s= horo_value_clp.nb_places)\n",
    "        else:\n",
    "            axs[0].scatter(x=np.asarray(horo_value_clp.geometry.get_coordinates())[:,:1], y= np.asarray(horo_value_clp.geometry.get_coordinates())[:,-1])\n",
    "        bar.update(2)\n",
    "        ctx.add_basemap(axs[0],source=ctx.providers.CartoDB.Positron)\n",
    "        bar.update(3)\n",
    "        fig.axes[0].get_xaxis().set_visible(False)\n",
    "        fig.axes[0].get_yaxis().set_visible(False)\n",
    "        plt.xlim(extent[0]-350, extent[2]+350)\n",
    "        plt.ylim(extent[1]-350, extent[3]+350)\t\n",
    "        axs[0].set_aspect('equal')\n",
    "\n",
    "        axs[1].set_title('After', pad=10, family='sans-serif')\n",
    "        if show_grid == True:\n",
    "            for i in range(len(lg[1])):\n",
    "                poly = Path.make_compound_path(Path(np.asarray(lg[1].geometry[i].exterior.coords)[:, :2]),*[Path(np.asarray(ring.coords)[:, :2]) for ring in lg[1].geometry[i].interiors])\n",
    "                axs[1].add_patch(PathPatch(poly, facecolor= 'None', edgecolor='black',linewidth = 0.15, alpha= 0.7))\n",
    "\n",
    "        if sizes == True:\n",
    "            axs[1].scatter(x=np.asarray(lg[0].geometry.get_coordinates())[:,:1], y= np.asarray(lg[0].geometry.get_coordinates())[:,-1], s=lg[0].nb_places)\n",
    "        else:\n",
    "            axs[1].scatter(x=np.asarray(lg[0].geometry.get_coordinates())[:,:1], y= np.asarray(lg[0].geometry.get_coordinates())[:,-1])\n",
    "        bar.update(4)\n",
    "        ctx.add_basemap(axs[1],source=ctx.providers.CartoDB.Positron)\n",
    "        bar.update(5)\n",
    "        fig.axes[1].get_xaxis().set_visible(False)\n",
    "        fig.axes[1].get_yaxis().set_visible(False)\n",
    "        plt.xlim(extent[0]-350, extent[2]+350)\n",
    "        plt.ylim(extent[1]-350, extent[3]+350)\n",
    "        axs[1].set_aspect('equal')\n",
    "\n",
    "ipywidgets.interact(lb_selec, figure_size = ipywidgets.IntSlider(value =16, min = 1, max = 16,step = 1,continuous_update=False),\n",
    "                              shape = ipywidgets.Dropdown(options=['square', 'diamond', 'hexagonal'], value='square', description='Cell shape:'),\n",
    "                              width = ipywidgets.IntSlider(value =250, min = 0, max = 1000,step = 1,continuous_update=False),\n",
    "                              height = ipywidgets.IntSlider(value =250, min = 0, max = 1000,step = 1,continuous_update=False),\n",
    "                              sizes = False,\n",
    "                              show_grid = False)"
   ]
  },
  {
   "cell_type": "markdown",
   "metadata": {
    "slideshow": {
     "slide_type": "fragment"
    }
   },
   "source": [
    "The Label Grid algorithm basically do the same, but seems to preserves more the spatial distribution of the points, since the reduction strentgh is the same everywhere (without taking in account point density)"
   ]
  },
  {
   "cell_type": "markdown",
   "metadata": {
    "slideshow": {
     "slide_type": "subslide"
    }
   },
   "source": [
    "**2.2.5'/** Code details on reduce_points_labelgrid algorithm with selection mode "
   ]
  },
  {
   "cell_type": "code",
   "execution_count": null,
   "metadata": {
    "slideshow": {
     "slide_type": "subslide"
    }
   },
   "outputs": [],
   "source": [
    "reduced = cg.reduce_labelgrid(horo_value_clp, width = 500, height = 500,\n",
    "                                              shape=\"square\", \n",
    "                                              column=\"nb_places\", mode='selection')\n",
    "\n",
    "reduced.plot(figsize=(9,9))"
   ]
  },
  {
   "cell_type": "markdown",
   "metadata": {
    "slideshow": {
     "slide_type": "slide"
    }
   },
   "source": [
    "### **2.3/** Agregation techniques\n",
    "At one moment, it becomes useless to represent point data as points on map. Indeed, at smaller scales (at whole Brittany in our first example and at Paris scale in the second one), there are whether to much information to display, or to much overlaps between points. In cartography, there are several ways to tackle this problem. Agregation is one of those."
   ]
  },
  {
   "cell_type": "markdown",
   "metadata": {
    "slideshow": {
     "slide_type": "fragment"
    }
   },
   "source": [
    "Agregation consists of \"merging\" the information of the points into broader spatial entities (generally a polygon). A common type of agregation is the one made with administrative (or statistical) units. Performing agregation in administrative units doesn't require to use CartAGen (only Geopandas is needed)."
   ]
  },
  {
   "cell_type": "markdown",
   "metadata": {
    "slideshow": {
     "slide_type": "slide"
    }
   },
   "source": [
    "**2.3.1/** Perform agregation in administrative/statistical units"
   ]
  },
  {
   "cell_type": "code",
   "execution_count": null,
   "metadata": {
    "hideCode": true,
    "slideshow": {
     "slide_type": "subslide"
    }
   },
   "outputs": [],
   "source": [
    "# Agregating points into adminstrative units in Paris\n",
    "def multipolygon_to_polygon(geom): # function that transform MultiPolygon geometry to Polygon\n",
    "    if isinstance(geom, MultiPolygon):\n",
    "        return geom.geoms[0]\n",
    "    return geom\n",
    "mun = admin.copy()\n",
    "mun.loc[:,'geometry'] = mun.loc[:,'geometry'].apply(multipolygon_to_polygon)\n",
    "neigh = gp.read_file('data/puntos/quartier_paris.geojson')\n",
    "neigh.to_crs(crs=\"EPSG:3857\",inplace=True)\n",
    "iris = gp.read_file('data/puntos/iris.geojson')\n",
    "iris.to_crs(crs=\"EPSG:3857\",inplace=True)\n",
    "iris.loc[:,'geometry'] = iris.loc[:,'geometry'].apply(multipolygon_to_polygon) \n",
    "\n",
    "horo_enr = gp.sjoin(horo_value, mun)\n",
    "horo_enr = horo_enr[[\"numhoro\",\"nb_places\",\"ID\",\"NOM\",\"geometry\"]]\n",
    "horo_enr = gp.sjoin(horo_enr, neigh)\n",
    "horo_enr = horo_enr[[\"numhoro\",\"nb_places\",\"ID\",\"NOM\",\"n_sq_qu\", \"l_qu\",\"geometry\"]]\n",
    "horo_enr = gp.sjoin(horo_enr, iris)\n",
    "horo_enr = horo_enr[[\"numhoro\",\"nb_places\",\"ID\",\"NOM\",\"n_sq_qu\", \"l_qu\",\"code_iris\",\"nom_iris\", \"geometry\"]]\n",
    "horo_enr['nb_pm'] = 1\n",
    "\n",
    "def agr_admin(figure_size, unit, value, show_units):\n",
    "    if unit == 'IRIS':\n",
    "        unit = 'code_iris'\n",
    "    elif unit == 'neighborhoods':\n",
    "        unit = 'n_sq_qu'\n",
    "    else:\n",
    "        unit = 'ID'\n",
    "\n",
    "    if value == 'sum of places':\n",
    "        value = 'nb_places'\n",
    "    else:\n",
    "        value = 'nb_pm'\n",
    "\n",
    "    fig, axs = plt.subplots(1, 2, figsize = (figure_size,figure_size))\n",
    "    with progressbar.ProgressBar(max_value=6,widgets=widgets) as bar:\n",
    "        horo_agr = horo_enr.groupby([unit]).sum(['nb_pm'])\n",
    "        bar.update(1)\n",
    "        if unit == 'code_iris':\n",
    "            unit_to_disp = iris.merge(right=horo_agr, how='left', on = 'code_iris')\n",
    "        elif unit == 'n_sq_qu':\n",
    "            unit_to_disp = neigh.merge(right=horo_agr, how='left', on = 'n_sq_qu')\n",
    "        else:\n",
    "            unit_to_disp = mun.merge(right=horo_agr, how='left', on = 'ID')\n",
    "        bar.update(2)\n",
    "        axs[0].set_title('Before', pad=10, family='sans-serif')\n",
    "        axs[0].scatter(x=np.asarray(horo.geometry.get_coordinates())[:,:1], y= np.asarray(horo.geometry.get_coordinates())[:,-1])\n",
    "        bar.update(3)\n",
    "        ctx.add_basemap(axs[0],source=ctx.providers.CartoDB.Positron)\n",
    "        bar.update(4)\n",
    "        fig.axes[0].get_xaxis().set_visible(False)\n",
    "        fig.axes[0].get_yaxis().set_visible(False)\n",
    "        axs[0].set_aspect('equal')\n",
    "        axs[0].set_xlim(left=249654, right=272000)\n",
    "        axs[0].set_ylim(bottom=6243332, top=6258584)\n",
    "\n",
    "        axs[1].set_title('After', pad=10, family='sans-serif')\n",
    "        if value == 'nb_places':\n",
    "            axs[1].scatter(np.asarray(unit_to_disp.geometry.centroid.get_coordinates())[:,:1], y= np.asarray(unit_to_disp.geometry.centroid.get_coordinates())[:,-1], s= unit_to_disp[value]*0.2)\n",
    "        else:\n",
    "            axs[1].scatter(np.asarray(unit_to_disp.geometry.centroid.get_coordinates())[:,:1], y= np.asarray(unit_to_disp.geometry.centroid.get_coordinates())[:,-1], s= unit_to_disp[value])\n",
    "        if show_units == True:\n",
    "            for i in range(len(unit_to_disp)):\n",
    "                poly = Path.make_compound_path(Path(np.asarray(unit_to_disp.geometry[i].exterior.coords)[:, :2]),*[Path(np.asarray(ring.coords)[:, :2]) for ring in unit_to_disp.geometry[i].interiors])\n",
    "                axs[1].add_patch(PathPatch(poly, facecolor= 'None', edgecolor='black',linewidth = 0.15))\n",
    "        bar.update(5)\n",
    "        ctx.add_basemap(axs[1],source=ctx.providers.CartoDB.Positron)\n",
    "        bar.update(6)\n",
    "        fig.axes[1].get_xaxis().set_visible(False)\n",
    "        fig.axes[1].get_yaxis().set_visible(False)\n",
    "        axs[1].set_aspect('equal')\n",
    "        axs[1].set_xlim(left=249654, right=272000)\n",
    "        axs[1].set_ylim(bottom=6243332, top=6258584)\n",
    "\n",
    "ipywidgets.interact(agr_admin, figure_size = ipywidgets.IntSlider(value =16, min = 1, max = 16,step = 1,continuous_update=False),\n",
    "                               unit = ipywidgets.Dropdown(options=['IRIS', 'neighborhoods', 'municipalities'], value='neighborhoods', description='Agregation units:',style = {'description_width': 'initial'}),\n",
    "                               value = ipywidgets.Dropdown(options=['sum of places', 'count of parking meters'], value='count of parking meters', description='Values represented:',style = {'description_width': 'initial'}),\n",
    "                               show_units = False)"
   ]
  },
  {
   "cell_type": "markdown",
   "metadata": {
    "slideshow": {
     "slide_type": "fragment"
    }
   },
   "source": [
    "Thus, you can represent datas agregated in polygonal units as circles. You can also represent directly those units, and set up their color according to the information they contain (instead of showing it through circle size). However, this require to calculates ratio indicators, since it is not recommanded to show stock values with colors."
   ]
  },
  {
   "cell_type": "markdown",
   "metadata": {
    "slideshow": {
     "slide_type": "slide"
    }
   },
   "source": [
    "**2.3.2/** Display agregated datas in choroplete map style"
   ]
  },
  {
   "cell_type": "code",
   "execution_count": null,
   "metadata": {
    "hideCode": true,
    "slideshow": {
     "slide_type": "subslide"
    }
   },
   "outputs": [],
   "source": [
    "# Creating ratio indicators to display agregated data in choroplete map style\n",
    "mun.to_crs(crs=\"EPSG:2154\",inplace=True)\n",
    "mun['area'] = mun['geometry'].area/1000000 #square kilometers\n",
    "\n",
    "neigh.to_crs(crs=\"EPSG:2154\",inplace=True)\n",
    "neigh['area'] = neigh['geometry'].area/1000000\n",
    "\n",
    "iris.to_crs(crs=\"EPSG:2154\",inplace=True)\n",
    "iris['area'] = iris['geometry'].area/1000000\n",
    "\n",
    "def agr_admin_choro(figure_size, unit, value, colors):\n",
    "    fig = plt.figure(1, (figure_size, figure_size))\n",
    "\n",
    "    if value == 'sum of places':\n",
    "        value = 'nb_places'\n",
    "    else:\n",
    "        value = 'nb_pm'\n",
    "\n",
    "    if unit == 'IRIS':\n",
    "        unit = 'code_iris'\n",
    "    elif unit == 'neighborhoods':\n",
    "        unit = 'n_sq_qu'\n",
    "    else:\n",
    "        unit = 'ID'\n",
    "\n",
    "    \n",
    "    horo_agr = horo_enr.groupby([unit]).sum(['nb_pm'])\n",
    "        \n",
    "    if unit == 'code_iris':\n",
    "        unit_to_disp = iris.merge(right=horo_agr, how='left', on = 'code_iris')\n",
    "    elif unit == 'n_sq_qu':\n",
    "        unit_to_disp = neigh.merge(right=horo_agr, how='left', on = 'n_sq_qu')\n",
    "    else:\n",
    "        unit_to_disp = mun.merge(right=horo_agr, how='left', on = 'ID')\n",
    "    with progressbar.ProgressBar(max_value=len(unit_to_disp)*2,widgets=widgets) as bar:    \n",
    "        for i in range(len(unit_to_disp)):\n",
    "            unit_to_disp.loc[i,'density'] = unit_to_disp.loc[i,value]/unit_to_disp.loc[i,'area']\n",
    "            bar.update(i)\n",
    "        unit_to_disp = unit_to_disp.dropna()\n",
    "        unit_to_disp = unit_to_disp.reset_index(drop = True)\n",
    "        unit_to_disp.loc[:,'geometry'] = unit_to_disp.loc[:,'geometry'].apply(multipolygon_to_polygon) \n",
    "        unit_to_disp.to_crs(crs=\"EPSG:3857\", inplace=True)\n",
    "\n",
    "        sub1 = fig.add_subplot(121)\n",
    "        sub1.set_title('Before', pad=10, family='sans-serif')\n",
    "        sub1.scatter(x=np.asarray(horo.geometry.get_coordinates())[:,:1], y= np.asarray(horo.geometry.get_coordinates())[:,-1])\n",
    "        ctx.add_basemap(sub1,source=ctx.providers.CartoDB.Positron)\n",
    "        sub1.axes.get_xaxis().set_visible(False)\n",
    "        sub1.axes.get_yaxis().set_visible(False)\n",
    "        sub1.set_aspect('equal')\n",
    "        sub1.set_xlim(left=249654, right=272000)\n",
    "        sub1.set_ylim(bottom=6243332, top=6258584)\n",
    "\n",
    "        sub2 = fig.add_subplot(122)\n",
    "        sub2.set_title('After', pad=10, family='sans-serif')\n",
    "        cmap = plt.get_cmap(colors)\n",
    "        norm = mcolors.Normalize(vmin=unit_to_disp['density'].min(), vmax=unit_to_disp['density'].max())\n",
    "\n",
    "        for j in range(len(unit_to_disp)):\n",
    "            color_value = unit_to_disp.loc[j, 'density']/unit_to_disp.loc[:, 'density'].max()\n",
    "            color = cmap(color_value)\n",
    "\n",
    "            poly = Path.make_compound_path(Path(np.asarray(unit_to_disp.geometry[j].exterior.coords)[:, :2]),*[Path(np.asarray(ring.coords)[:, :2]) for ring in unit_to_disp.geometry[j].interiors])\n",
    "            sub2.add_patch(PathPatch(poly, facecolor= color, edgecolor='black',linewidth = 0.15, alpha = 0.7))\n",
    "            bar.update(i+j)\n",
    "        mappable = cm.ScalarMappable(norm=norm, cmap=cmap)\n",
    "        mappable.set_array(unit_to_disp['density'])\n",
    "        cbar = fig.colorbar(mappable, ax = sub2, fraction=0.03, pad=-0.025, orientation='vertical')\n",
    "        cbar.set_label(f'{value} per km²')  \n",
    "\n",
    "        sub2.axes.get_xaxis().set_visible(False)\n",
    "        sub2.axes.get_yaxis().set_visible(False)\n",
    "        sub2.set_aspect('equal') \n",
    "        sub2.set_xlim(left=249654, right=272000)\n",
    "        sub2.set_ylim(bottom=6243332, top=6258584)\n",
    "        ctx.add_basemap(sub2,source=ctx.providers.CartoDB.Positron)\n",
    "\n",
    "ipywidgets.interact(agr_admin_choro, figure_size = ipywidgets.IntSlider(value =16, min = 1, max = 16,step = 1,continuous_update=False),\n",
    "                               unit = ipywidgets.Dropdown(options=['IRIS', 'neighborhoods', 'municipalities'], value='neighborhoods', description='Agregation units:',style = {'description_width': 'initial'}),\n",
    "                               value = ipywidgets.Dropdown(options=['sum of places', 'count of parking meters'], value='count of parking meters', description='Values represented:', style = {'description_width': 'initial'}),\n",
    "                               colors = ipywidgets.Dropdown(options=['Reds', 'YlOrRd','viridis'], value='Reds', description='Color palette:', style = {'description_width': 'initial'}))"
   ]
  },
  {
   "cell_type": "markdown",
   "metadata": {
    "slideshow": {
     "slide_type": "slide"
    }
   },
   "source": [
    "We can identify two main problems for this technique :\n",
    "- There are not always administrative/statistical units available for the desired zone\n",
    "- Sometimes there are big size differencies between units, which make the spatial distribution of the datas harder to see (which can be partially tackle by creating ratio indicators)"
   ]
  },
  {
   "cell_type": "markdown",
   "metadata": {
    "slideshow": {
     "slide_type": "fragment"
    }
   },
   "source": [
    "For those reason, it can be interesting to agregate our points into regular geographical entities, such as the cells of a grid "
   ]
  },
  {
   "cell_type": "markdown",
   "metadata": {
    "slideshow": {
     "slide_type": "slide"
    }
   },
   "source": [
    "**2.3.3/** Using reduce_point_labelgrid (agregation mode) to perform agregation in a grid"
   ]
  },
  {
   "cell_type": "code",
   "execution_count": null,
   "metadata": {
    "hideCode": true,
    "slideshow": {
     "slide_type": "subslide"
    }
   },
   "outputs": [],
   "source": [
    "# Using the Label Grid algorithm to aggregate datas \n",
    "horo_value.to_crs(crs='EPSG:3857',inplace=True)\n",
    "extent = horo_value.total_bounds\n",
    "\n",
    "def agr_grid(figure_size, width, height, shape, value,show_grid):\n",
    "    with progressbar.ProgressBar(max_value=5,widgets=widgets) as bar:\n",
    "        lg = cg.reduce_labelgrid(horo_value, width = width, height = height, column=\"nb_places\", shape=shape, mode='aggregation',grid=True)\n",
    "        bar.update(1)\n",
    "        fig, axs = plt.subplots(1, 2, figsize = (figure_size,figure_size))\n",
    "\n",
    "        axs[0].set_title('Before', pad=10, family='sans-serif')\n",
    "        axs[0].scatter(x=np.asarray(horo_value.geometry.get_coordinates())[:,:1], y= np.asarray(horo_value.geometry.get_coordinates())[:,-1])\n",
    "        bar.update(2)\n",
    "        ctx.add_basemap(axs[0],source=ctx.providers.CartoDB.Positron)\n",
    "        bar.update(3)\n",
    "        fig.axes[0].get_xaxis().set_visible(False)\n",
    "        fig.axes[0].get_yaxis().set_visible(False)\n",
    "        plt.xlim(extent[0]-350, extent[2]+350)\n",
    "        plt.ylim(extent[1]-350, extent[3]+350)\t\n",
    "        axs[0].set_aspect('equal')\n",
    "\n",
    "        axs[1].set_title('After', pad=10, family='sans-serif')\n",
    "        if show_grid == True:\n",
    "            for i in range(len(lg[1])):\n",
    "                poly = Path.make_compound_path(Path(np.asarray(lg[1].geometry[i].exterior.coords)[:, :2]),*[Path(np.asarray(ring.coords)[:, :2]) for ring in lg[1].geometry[i].interiors])\n",
    "                axs[1].add_patch(PathPatch(poly, facecolor= 'None', edgecolor='black',linewidth = 0.15, alpha= 0.7))\n",
    "            \n",
    "        if value == 'count of parking meters':\n",
    "            axs[1].scatter(x=np.asarray(lg[0].geometry.get_coordinates())[:,:1], y= np.asarray(lg[0].geometry.get_coordinates())[:,-1], s=lg[0]['count']*2.5)\n",
    "        else:\n",
    "            axs[1].scatter(x=np.asarray(lg[0].geometry.get_coordinates())[:,:1], y= np.asarray(lg[0].geometry.get_coordinates())[:,-1], s=lg[0]['sum']*0.15)\n",
    "        bar.update(4)\n",
    "        ctx.add_basemap(axs[1],source=ctx.providers.CartoDB.Positron)\n",
    "        bar.update(5)\n",
    "        fig.axes[1].get_xaxis().set_visible(False)\n",
    "        fig.axes[1].get_yaxis().set_visible(False)\n",
    "        plt.xlim(extent[0]-350, extent[2]+350)\n",
    "        plt.ylim(extent[1]-350, extent[3]+350)\n",
    "        axs[1].set_aspect('equal')\n",
    "\n",
    "ipywidgets.interact(agr_grid, figure_size = ipywidgets.IntSlider(value =16, min = 1, max = 20,step = 1,continuous_update=False),\n",
    "                              shape = ipywidgets.Dropdown(options=['square', 'diamond', 'hexagonal'], value='square', description='Cell shape:'),\n",
    "                              width = ipywidgets.IntSlider(value =500, min = 0, max = 1000,step = 1,continuous_update=False),\n",
    "                              height = ipywidgets.IntSlider(value =500, min = 0, max = 1000,step = 1,continuous_update=False),\n",
    "                              value = ipywidgets.Dropdown(options=['sum of places', 'count of parking meters'], value='count of parking meters', description='Values represented:', style = {'description_width': 'initial'}),\n",
    "                              show_grid =False)"
   ]
  },
  {
   "cell_type": "markdown",
   "metadata": {
    "slideshow": {
     "slide_type": "fragment"
    }
   },
   "source": [
    "Just like with administrative units, you can display the data in the form of colorized grid cells. Since each cell has the same size, it is possible to display the data without calculating a ratio indicator."
   ]
  },
  {
   "cell_type": "markdown",
   "metadata": {
    "slideshow": {
     "slide_type": "subslide"
    }
   },
   "source": [
    "**2.3.3'/** Code details on reduce_labelgrid (agregation mode) algorithm"
   ]
  },
  {
   "cell_type": "code",
   "execution_count": null,
   "metadata": {
    "slideshow": {
     "slide_type": "subslide"
    }
   },
   "outputs": [],
   "source": [
    "lg = cg.reduce_labelgrid(horo_value, width = 500, height = 500,\n",
    "                                     column=\"nb_places\", \n",
    "                                     shape=\"square\", mode='aggregation')\n",
    "\n",
    "lg.plot(figsize=(9,9), markersize = \"count\")"
   ]
  },
  {
   "cell_type": "markdown",
   "metadata": {
    "slideshow": {
     "slide_type": "slide"
    }
   },
   "source": [
    "**2.3.4/** Display the agregation grid from reduce_labelgrid"
   ]
  },
  {
   "cell_type": "code",
   "execution_count": null,
   "metadata": {
    "hideCode": true,
    "scrolled": false,
    "slideshow": {
     "slide_type": "subslide"
    }
   },
   "outputs": [],
   "source": [
    "# Display the grid from Label Grid agregation \n",
    "horo_value.to_crs(crs='EPSG:3857',inplace=True)\n",
    "extent = horo_value.total_bounds\n",
    "\n",
    "def agr_grid_choro(figure_size, width, height, shape, value, colors):\n",
    "    lg = cg.reduce_labelgrid(horo_value, width = width, height = height, shape=shape, mode=\"aggregation\", column = \"nb_places\", grid=True)\n",
    "    \n",
    "    fig, axs = plt.subplots(1, 2, figsize = (figure_size,figure_size))\n",
    "\n",
    "    axs[0].set_title('Before', pad=10, family='sans-serif')\n",
    "    axs[0].scatter(x=np.asarray(horo_value.geometry.get_coordinates())[:,:1], y= np.asarray(horo_value.geometry.get_coordinates())[:,-1],s=2)\n",
    "    ctx.add_basemap(axs[0],source=ctx.providers.CartoDB.Positron)\n",
    "    fig.axes[0].get_xaxis().set_visible(False)\n",
    "    fig.axes[0].get_yaxis().set_visible(False)\n",
    "    plt.xlim(extent[0]-350, extent[2]+350)\n",
    "    plt.ylim(extent[1]-350, extent[3]+350)\n",
    "    axs[0].set_aspect('equal')\n",
    "    if value == 'count of parking meters':\n",
    "        value = 'count'\n",
    "    else:\n",
    "        value = 'sum'\n",
    "\n",
    "    axs[1].set_title('After', pad=10, family='sans-serif')\n",
    "    cmap = plt.get_cmap(colors)\n",
    "    norm = mcolors.Normalize(vmin=lg[1][value].min(), vmax=lg[1][value].max())\n",
    "    with progressbar.ProgressBar(max_value=len(lg[1]),widgets=widgets) as bar:\n",
    "        for i in range(len(lg[1])):\n",
    "            color_value = lg[1].loc[i, value]/lg[1].loc[:, value].max()\n",
    "            color = cmap(color_value)\n",
    "            \n",
    "            poly = Path.make_compound_path(Path(np.asarray(lg[1].geometry[i].exterior.coords)[:, :2]),*[Path(np.asarray(ring.coords)[:, :2]) for ring in lg[1].geometry[i].interiors])\n",
    "            if color != (0,0,0,0):\n",
    "                axs[1].add_patch(PathPatch(poly, facecolor= color, edgecolor='black',linewidth = 0.15, alpha= 0.7))\n",
    "            bar.update(i)\n",
    "    mappable = cm.ScalarMappable(norm=norm, cmap=cmap)\n",
    "    mappable.set_array(lg[1][value])\n",
    "    cbar = fig.colorbar(mappable, ax = axs[1], fraction=0.03, pad=-0.025, orientation='vertical')\n",
    "    cbar.set_label(f'{value}')\n",
    "\n",
    "    ctx.add_basemap(axs[1],source=ctx.providers.CartoDB.Positron)\n",
    "    fig.axes[1].get_xaxis().set_visible(False)\n",
    "    fig.axes[1].get_yaxis().set_visible(False)\n",
    "    plt.xlim(extent[0]-350, extent[2]+350)\n",
    "    plt.ylim(extent[1]-350, extent[3]+350)\n",
    "    axs[1].set_aspect('equal')\n",
    "\n",
    "ipywidgets.interact(agr_grid_choro, figure_size = ipywidgets.IntSlider(value =16, min = 1, max = 20,step = 1,continuous_update=False),\n",
    "                              shape = ipywidgets.Dropdown(options=['square', 'diamond', 'hexagonal'], value='square', description='Cell shape:'),\n",
    "                              width = ipywidgets.IntSlider(value =500, min = 0, max = 1000,step = 1,continuous_update=False),\n",
    "                              height = ipywidgets.IntSlider(value =500, min = 0, max = 1000,step = 1,continuous_update=False),\n",
    "                              colors = ipywidgets.Dropdown(options=['Reds', 'YlOrRd','viridis'], value='Reds', description='Color palette:', style = {'description_width': 'initial'}),\n",
    "                              value = ipywidgets.Dropdown(options=['sum of places', 'count of parking meters'], value='count of parking meters', description='Values represented:', style = {'description_width': 'initial'}))"
   ]
  },
  {
   "cell_type": "markdown",
   "metadata": {
    "slideshow": {
     "slide_type": "subslide"
    }
   },
   "source": [
    "**2.3.4'/** Code details of reduce_labelgrid to display agregation grid"
   ]
  },
  {
   "cell_type": "code",
   "execution_count": null,
   "metadata": {
    "slideshow": {
     "slide_type": "subslide"
    }
   },
   "outputs": [],
   "source": [
    "lg = cg.reduce_labelgrid(horo_value, width = 500, height = 500, shape=\"square\", mode=\"aggregation\", \n",
    "                                     column = \"nb_places\",\n",
    "                                     grid=True)\n",
    "    \n",
    "lg[1].plot(figsize=(9,9),column=\"count\")"
   ]
  },
  {
   "cell_type": "markdown",
   "metadata": {
    "slideshow": {
     "slide_type": "slide"
    }
   },
   "source": [
    "Agregation are good techniques for a strong level of generalisation, which is useful when the goal of the map is to give a global idea of the spatial distribution of a point data set."
   ]
  },
  {
   "cell_type": "markdown",
   "metadata": {
    "slideshow": {
     "slide_type": "fragment"
    }
   },
   "source": [
    "However, it is often hard to determine which level of agregation fits the most to the map : too big units/cells means masking local variation of the distribution of the datas, too small means too much details on the map."
   ]
  },
  {
   "cell_type": "markdown",
   "metadata": {
    "slideshow": {
     "slide_type": "fragment"
    }
   },
   "source": [
    "To counter that problem and not having to chose an agregation level, the heat map technique can be used.  "
   ]
  },
  {
   "cell_type": "markdown",
   "metadata": {
    "slideshow": {
     "slide_type": "slide"
    }
   },
   "source": [
    "### **2.4/** The heat map\n"
   ]
  },
  {
   "cell_type": "markdown",
   "metadata": {
    "slideshow": {
     "slide_type": "fragment"
    }
   },
   "source": [
    "The heatmap (or spatial smoothing), is a technique that consists of estimating the density of point data in every part of the map zone. Let's see the Kernel-density estimation (KDE), the most common technique to build heatmap :"
   ]
  },
  {
   "cell_type": "markdown",
   "metadata": {
    "slideshow": {
     "slide_type": "slide"
    }
   },
   "source": [
    "**2.4.1/** Using the heatmap algorithm from CartAGen"
   ]
  },
  {
   "cell_type": "code",
   "execution_count": null,
   "metadata": {
    "hideCode": true,
    "slideshow": {
     "slide_type": "subslide"
    }
   },
   "outputs": [],
   "source": [
    "admin.to_crs(crs='EPSG:2154', inplace=True)\n",
    "horo_value.to_crs(crs='EPSG:2154',inplace=True)\n",
    "\n",
    "def heatm(cell_size, radius, activate_weighting, colors, figure_size, method, clip):    \n",
    "    with progressbar.ProgressBar(max_value=3,widgets=widgets) as bar:\n",
    "        if activate_weighting == True and clip==True:\n",
    "            hm = cg.heatmap(horo_value, cell_size=cell_size, radius=radius, column=\"nb_places\",clip=admin,method=method)\n",
    "        elif activate_weighting == True and clip==False:\n",
    "            hm = cg.heatmap(horo_value, cell_size=cell_size, radius=radius, column=\"nb_places\", method=method)\n",
    "        elif activate_weighting == False and clip==True:\n",
    "            hm = cg.heatmap(horo_value, cell_size=cell_size, radius=radius, clip = admin, method=method)\n",
    "        else:\n",
    "            hm = cg.heatmap(horo_value, cell_size=cell_size, radius=radius, method=method)\n",
    "        bar.update(1)\n",
    "        ax = hm.plot(column=\"density\",cmap=colors,alpha=0.85,figsize=(figure_size,figure_size))\n",
    "        bar.update(2)\n",
    "        ctx.add_basemap(ax,source=ctx.providers.CartoDB.Positron,crs='EPSG:2154')\n",
    "        bar.update(3)\n",
    "\n",
    "ipywidgets.interact(heatm, figure_size = ipywidgets.IntSlider(value =12, min = 1, max = 20,step = 1,continuous_update=False),\n",
    "                           cell_size = ipywidgets.IntSlider(value =250, min = 0, max = 1000, step = 1,continuous_update=False),\n",
    "                           radius = ipywidgets.IntSlider(value =1000, min = 0, max = 3000, step = 1,continuous_update=False),\n",
    "                           activate_weighting = False,\n",
    "                           clip = False,\n",
    "                           method = ipywidgets.Dropdown(options=['quartic'], value='quartic', description='Smoothing method:', style = {'description_width': 'initial'}),\n",
    "                           colors = ipywidgets.Dropdown(options=['Reds', 'YlOrRd','viridis'], value='Reds', description='Color palette:', style = {'description_width': 'initial'}))"
   ]
  },
  {
   "cell_type": "markdown",
   "metadata": {
    "slideshow": {
     "slide_type": "subslide"
    }
   },
   "source": [
    "**2.4.1'/** Code details on the heatmap algorithm "
   ]
  },
  {
   "cell_type": "code",
   "execution_count": null,
   "metadata": {
    "slideshow": {
     "slide_type": "subslide"
    }
   },
   "outputs": [],
   "source": [
    "#make sure the input layer are in the same projected crs\n",
    "horo_value.to_crs(crs='EPSG:2154',inplace=True)\n",
    "admin.to_crs(crs='EPSG:2154', inplace=True)\n",
    "\n",
    "hm = cg.heatmap(horo_value, cell_size= 250,radius= 1000, method=\"quartic\", column=\"nb_places\",clip=admin)\n",
    "hm.plot(column=\"density\") #the output is a gdf that you can display using the .plot() method"
   ]
  },
  {
   "cell_type": "markdown",
   "metadata": {
    "slideshow": {
     "slide_type": "slide"
    }
   },
   "source": [
    "### **2.5/** What about Brittany ? Where is the biggest density of creperies ?"
   ]
  },
  {
   "cell_type": "markdown",
   "metadata": {
    "slideshow": {
     "slide_type": "fragment"
    }
   },
   "source": [
    "If we come back to our first problem, we understand that we need strong generalization processes to be able to read the spatial distribution of the points, since there is a lot of overlap. Let's try agregation in administrative units"
   ]
  },
  {
   "cell_type": "markdown",
   "metadata": {
    "slideshow": {
     "slide_type": "slide"
    }
   },
   "source": [
    "**2.5.1/** Agregating points into communes of Brittany"
   ]
  },
  {
   "cell_type": "code",
   "execution_count": null,
   "metadata": {
    "hideCode": true,
    "slideshow": {
     "slide_type": "subslide"
    }
   },
   "outputs": [],
   "source": [
    "def multipolygon_to_polygon(geom): # function that transform MultiPolygon geometry to Polygon\n",
    "    if isinstance(geom, MultiPolygon):\n",
    "        return geom.geoms[0]\n",
    "    return geom\n",
    "\n",
    "com_brittany = gp.read_file('data/puntos/com_britt.geojson')\n",
    "com_brittany.loc[:,'geometry'] = com_brittany.loc[:,'geometry'].apply(multipolygon_to_polygon) \n",
    "\n",
    "crepes_enr = gp.sjoin(crepes, com_brittany)\n",
    "crepes_enr = crepes_enr[[\"NOM_M\",\"ID\",\"POPULATION\",\"full_id\",\"geometry\"]]\n",
    "\n",
    "crepes_agr = crepes_enr.groupby([\"ID\"]).count()\n",
    "crepes_com = com_brittany.merge(right=crepes_agr, how='left', on = 'ID')\n",
    "crepes_com = crepes_com[[\"NOM_M_x\",\"POPULATION_y\",\"geometry_x\"]]\n",
    "crepes_com.set_geometry(\"geometry_x\", inplace=True, crs=\"EPSG:2154\")\n",
    "\n",
    "def plt_aggr(figure_size,symbology):\n",
    "    with progressbar.ProgressBar(max_value=len(crepes_com),widgets=widgets) as bar:\n",
    "        if symbology == \"circle\":\n",
    "            for i in range(len(crepes_com)):\n",
    "                if crepes_com.loc[i,'POPULATION_y'] != crepes_com.loc[i,'POPULATION_y']:\n",
    "                    crepes_com.loc[i,'POPULATION_y'] = 0\n",
    "                crepes_com.loc[i,'nb_rest_ok'] = crepes_com.loc[i,'POPULATION_y']*15 \n",
    "                bar.update(i)\n",
    "            crepes_cir = crepes_com.copy() \n",
    "            crepes_cir.geometry = crepes_cir.geometry.centroid \n",
    "            ax=com_brittany.plot(figsize=(figure_size,figure_size),facecolor='None',edgecolor=\"lightgrey\",linewidth=0.5)\n",
    "            crepes_cir.plot(ax=ax,markersize =\"nb_rest_ok\", legend=True,color='b', alpha=0.6)\n",
    "            for size in [1, 3, 25]:  \n",
    "                plt.scatter([], [], s=size*15, label=str(size), color='b', alpha=0.6)\n",
    "\n",
    "            plt.legend(scatterpoints=1, frameon=True, labelspacing=1, title='nb of restaurants')\n",
    "\n",
    "            cities = crepes_cir[(crepes_com['nb_rest_ok'] > 225)]\n",
    "            for idx, row in cities.iterrows():\n",
    "                ax.text(row.geometry_x.x, row.geometry_x.y, row['NOM_M_x'], fontsize=8, ha='center')\n",
    "            ax.get_xaxis().set_visible(False)\n",
    "            ax.get_yaxis().set_visible(False)\n",
    "            \n",
    "        else:\n",
    "            crepes_com['density'] = (crepes_com['nb_rest_ok']/15)/(crepes_com.geometry.area/1000000)\n",
    "            for i in range(len(crepes_com)):\n",
    "                if crepes_com.loc[i,'density'] != crepes_com.loc[i,'density']:\n",
    "                    crepes_com.loc[i,'density'] = 0\n",
    "                sleep(0.001)\n",
    "                bar.update(i)\n",
    "            ax= crepes_com.plot(column =\"density\", cmap='YlOrRd',scheme='NaturalBreaks', legend_kwds={\"title\":\"Restaurant per km2 \\n (natural breaks)\"},legend=True,figsize=(figure_size,figure_size))\n",
    "            com_brittany.plot(ax=ax,facecolor='None',edgecolor=\"lightgrey\",linewidth=0.5)\n",
    "            ax.get_xaxis().set_visible(False)\n",
    "            ax.get_yaxis().set_visible(False)\n",
    "        \n",
    "ipywidgets.interact(plt_aggr, figure_size = ipywidgets.IntSlider(value =12, min = 1, max = 20,step = 1,continuous_update=False),\n",
    "                              symbology = ipywidgets.Dropdown(options=['circle','choroplete'], value='circle', description='Symbology:', style = {'description_width': 'initial'}))\n"
   ]
  },
  {
   "cell_type": "markdown",
   "metadata": {
    "slideshow": {
     "slide_type": "slide"
    }
   },
   "source": [
    "The circle map highlights well the cities that contains the most creperies. It appears that Quimper, Rennes and Saint-Malo are the top 3 cities.\n",
    "The choroplete map give another vision of this distribution, since the number of restaurants is weighted by the surface of the commune. In this case it is harder to read spatial distribution with this mode, since few very small communes have big densities."
   ]
  },
  {
   "cell_type": "markdown",
   "metadata": {
    "slideshow": {
     "slide_type": "fragment"
    }
   },
   "source": [
    "Let's create an heatmap with those data, to get rid of the impact of the administrative boundaries in our cartographic representation."
   ]
  },
  {
   "cell_type": "markdown",
   "metadata": {
    "slideshow": {
     "slide_type": "fragment"
    }
   },
   "source": [
    "**2.5.1/** Use the heatmap technique"
   ]
  },
  {
   "cell_type": "code",
   "execution_count": null,
   "metadata": {
    "hideCode": true,
    "slideshow": {
     "slide_type": "subslide"
    }
   },
   "outputs": [],
   "source": [
    "com_brittany.to_crs(crs='EPSG:2154', inplace=True)\n",
    "crepes.to_crs(crs='EPSG:2154',inplace=True)\n",
    "\n",
    "def heatm_brit(cell_size, radius, colors, figure_size, method, clip):    \n",
    "    with progressbar.ProgressBar(max_value=4,widgets=widgets) as bar:\n",
    "        bar.update(1)\n",
    "        if clip==True:\n",
    "            hm = cg.heatmap(crepes, cell_size=cell_size, radius=radius,clip=com_brittany,method=method)\n",
    "        else:\n",
    "            hm = cg.heatmap(crepes, cell_size=cell_size, radius=radius, method=method)\n",
    "   \n",
    "        bar.update(2)\n",
    "        ax = hm.plot(column=\"density\",cmap=colors,alpha=0.85,figsize=(figure_size,figure_size))\n",
    "        bar.update(3)\n",
    "        ctx.add_basemap(ax,source=ctx.providers.CartoDB.Positron,crs='EPSG:2154')\n",
    "        bar.update(4)\n",
    "\n",
    "ipywidgets.interact(heatm_brit, figure_size = ipywidgets.IntSlider(value =12, min = 1, max = 20,step = 1,continuous_update=False),\n",
    "                           cell_size = ipywidgets.IntSlider(value =1000, min = 0, max = 10000, step = 1,continuous_update=False),\n",
    "                           radius = ipywidgets.IntSlider(value =15000, min = 0, max = 30000, step = 1,continuous_update=False),\n",
    "                           clip = True,\n",
    "                           method = ipywidgets.Dropdown(options=['quartic'], value='quartic', description='Smoothing method:', style = {'description_width': 'initial'}),\n",
    "                           colors = ipywidgets.Dropdown(options=['Reds', 'YlOrRd','viridis'], value='Reds', description='Color palette:', style = {'description_width': 'initial'}))"
   ]
  },
  {
   "cell_type": "markdown",
   "metadata": {
    "slideshow": {
     "slide_type": "slide"
    }
   },
   "source": [
    "In this case, the heatmap enables to highlight the zones with high density of restaurants, regardless of administrative units. For example, eventhough Rennes and Quimper have a similar count of creperies, the zone of Rennes and its surrounding have a much higher density thant Quimper and its surroundings."
   ]
  },
  {
   "cell_type": "markdown",
   "metadata": {
    "slideshow": {
     "slide_type": "fragment"
    }
   },
   "source": [
    "However, the problem of the heatmap technique is that the quality of the representation also depends on the number of input points. In this case there are bigs empty spaces due to lack of points (above all when radius is low), which is not ideal."
   ]
  },
  {
   "cell_type": "markdown",
   "metadata": {
    "slideshow": {
     "slide_type": "slide"
    }
   },
   "source": [
    "## 📍**Part 3 :** Clustering methods with CartAGen"
   ]
  },
  {
   "cell_type": "markdown",
   "metadata": {
    "slideshow": {
     "slide_type": "fragment"
    }
   },
   "source": [
    "To be continued..."
   ]
  }
 ],
 "metadata": {
  "celltoolbar": "Hide code",
  "kernelspec": {
   "display_name": "Python 3 (ipykernel)",
   "language": "python",
   "name": "python3"
  },
  "language_info": {
   "codemirror_mode": {
    "name": "ipython",
    "version": 3
   },
   "file_extension": ".py",
   "mimetype": "text/x-python",
   "name": "python",
   "nbconvert_exporter": "python",
   "pygments_lexer": "ipython3",
   "version": "3.10.12"
  },
  "rise": {
   "autolaunch": true,
   "scroll": true
  }
 },
 "nbformat": 4,
 "nbformat_minor": 2
}
