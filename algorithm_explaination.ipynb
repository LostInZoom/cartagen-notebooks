{
 "cells": [
  {
   "cell_type": "markdown",
   "metadata": {},
   "source": [
    "# **Focus** : How to simplify the shape of a line/polygon ? \n",
    "## Detailed explaination of some generalization algorithms\n",
    "Press **`space bar`** to display the next slide.\n",
    "_If this Notebook doesn't appear in slideshow mode, reload the page_"
   ]
  },
  {
   "cell_type": "markdown",
   "metadata": {},
   "source": [
    "- 🙋 **For whom ?** : \n",
    "  - people who have spatial data represented by lines or polygones and wish to simplify its aspect.\n",
    "  - expert cartographers wishing to discover new simplification algorithms offered by the CartAGen tool\n",
    "  - student in algorithm class \n",
    "\n",
    "Press **`spacebar`** and **`scroll down`** to display the following message. _Reload the page if you can't scroll down._ "
   ]
  },
  {
   "cell_type": "markdown",
   "metadata": {},
   "source": [
    "\n",
    "- ❓ **What is CartAGen ?** :\n",
    "    - an **open source Python library** made by **IGN** (i.e the french national mapping agency) researchers\n",
    "    - a tool to carry out cartographic generalization processes and **automate** them\n",
    "    - a **QGIS plugin** to use the Python library in a GIS environment  \n",
    "    \n",
    "Press **`space bar`** and **`scroll down`** to show next message "
   ]
  },
  {
   "cell_type": "markdown",
   "metadata": {},
   "source": [
    "\n",
    "- 📗 **How to use this Notebook ?** : \n",
    "    - a Notebook is a document that mixes **markdown cells** (i.e. cells with formatted text like this one) and **code cells**, which you can modify and execute at will\n",
    "\n",
    "Press **`right arrow`** to show next slide and start part 0, or press **`space bar`** to show sub-slide and see useful links"
   ]
  },
  {
   "cell_type": "markdown",
   "metadata": {},
   "source": [
    "   \n",
    "- 🔗 **Useful links** : \n",
    "    - [Library repository](https://github.com/LostInZoom/cartagen4py?tab=readme-ov-file) \n",
    "    - [QGIS Plugin repository](https://github.com/LostInZoom/cartagen-qgis)\n",
    "    - [CartAGen documentation](https://cartagen.readthedocs.io/en/latest/)\n",
    "\n",
    "_by Paul Bourcier, 2024 - EUPL 1.2_\n",
    "\n",
    "Press **`space bar`** to show next slide, press **`shift + space bar`** to go backward\\\n",
    "**`Click`** question mark icon to show other shortcuts"
   ]
  },
  {
   "cell_type": "markdown",
   "metadata": {},
   "source": [
    "## ⚙️ **Part 0 :** Preparing the working environment"
   ]
  },
  {
   "cell_type": "markdown",
   "metadata": {},
   "source": [
    "Press **`space bar`** to show code cell, then press **`shift + enter`** to execute it\\\n",
    "**`*`** symbol means code output is loading"
   ]
  },
  {
   "cell_type": "code",
   "execution_count": 1,
   "metadata": {},
   "outputs": [],
   "source": [
    "# Importing libraries\n",
    "\n",
    "import cartagen as cg # the main library, containing cartographic generalization algorithms\n",
    "\n",
    "#geographic data manipulation \n",
    "import geopandas as gp # used to import and manipulate geographic data\n",
    "from shapely.geometry import Polygon, MultiPolygon, Point, LineString, MultiPoint # Create and manipulate geometries\n",
    "from shapely.ops import linemerge, transform\n",
    "from shapely import line_interpolate_point, centroid, force_2d, intersection\n",
    "from shapely.wkt import loads\n",
    "from time import sleep # Creating loading bar\n",
    "\n",
    "#displaying the data\n",
    "from matplotlib import pyplot as plt # for ploting results, especially maps\n",
    "from mpl_toolkits.axes_grid1.anchored_artists import AnchoredSizeBar # adding scalebar to the maps\n",
    "import matplotlib.colors as matcol # generating color palettes\n",
    "from matplotlib.path import Path  # Plot generation\n",
    "from matplotlib.patches import PathPatch # Plot generation\n",
    "from mpl_toolkits.axisartist.axislines import Subplot # Plot generation\n",
    "import matplotlib.colors as mcolors #generating colors \n",
    "import matplotlib.cm as cm #used to display colorbar\n",
    "import contextily as ctx # Adding basemaps\n",
    "\n",
    "#creating interactive outputs\n",
    "import ipywidgets # creation of interactive plots\n",
    "from IPython.display import display, clear_output\n",
    "import pydeck as pdk #deck.gl in Python for interactive maps\n",
    "import json #manipulating dictionnaries\n",
    "import progressbar\n",
    "import ipyleaflet #creates interactive maps\n",
    "from time import sleep\n",
    "\n",
    "# other data manipulation\n",
    "import pandas as pd # used to concatenate datas\n",
    "import numpy as np # Using mathematical operations in Python\n",
    "from sklearn import cluster #clustering methods\n",
    "\n",
    "import random #generating random numbers\n",
    "import warnings # Remove warnings\n",
    "warnings.filterwarnings(\"ignore\", category=UserWarning, message=\".*GeoDataFrame you are attempting to plot is empty.*\") # Remove user warning \n",
    "warnings.filterwarnings(\"ignore\", category=UserWarning, message=\".*CRS not set for some of the concatenation inputs.*.\")"
   ]
  },
  {
   "cell_type": "markdown",
   "metadata": {},
   "source": [
    "**Cartogaphic generalisation** refers to the processes of transforming the graphical representation of the elements of a map to lower its complexity."
   ]
  },
  {
   "cell_type": "markdown",
   "metadata": {},
   "source": [
    "Here are some examples of generalisation techniques : \n",
    "\n",
    "\n",
    "![Alt text](https://raw.githubusercontent.com/gowestmen/images/refs/heads/main/carto_generalization_operators.png)"
   ]
  },
  {
   "cell_type": "markdown",
   "metadata": {},
   "source": [
    "The need for cartographic generalisation can occurs in different situations : \n",
    "- When the map is unreadable because there are too much element on it/the elements are too small\n",
    "- In the context of sensible spatial data (ex : adresses of hospital patients), to prevent from be able to identify precise locations\n",
    "- For aestetic purposes\n",
    "- To reduce the complexity/weight of spatial data prior to other geoprocessings"
   ]
  },
  {
   "cell_type": "markdown",
   "metadata": {},
   "source": [
    "When it comes to vector data taking the form of line or polyon, that can represent feature like roads, river, administrative boundaries, etc., cartographic generalisation often consists in geometry simplification."
   ]
  },
  {
   "cell_type": "markdown",
   "metadata": {},
   "source": [
    "In **CartAGen**, there are curently four available algorithms dedicated to those techniques. Each of these algorithms have their own specifities, making them more or less suitable depending on the feature represented. Some are specialized in generalizing river, meanwhile some other seems more adapted to roads.   "
   ]
  },
  {
   "cell_type": "markdown",
   "metadata": {},
   "source": [
    "To choose wisely which of these algorithms best suits your datas, it is important to understand how they works ! This Notebook is meant to show you this.\n",
    "Here are the algorithms reviewed : \n",
    "- Douglas-Peucker algorithm\n",
    "- Visvalingam-Whyatt algorithm\n",
    "- Raposo algorithm\n",
    "- Li-Openshaw algorithm "
   ]
  },
  {
   "cell_type": "markdown",
   "metadata": {},
   "source": [
    "##  **Part 1** : Douglas-Peucker algorithm"
   ]
  },
  {
   "cell_type": "markdown",
   "metadata": {},
   "source": [
    "This line simplification algorithm created by [David H. Douglas and Thomas K. Peucker](https://utpjournals.press/doi/10.3138/FM57-6770-U75U-7727). It is the oldest of the four presented here."
   ]
  },
  {
   "cell_type": "markdown",
   "metadata": {},
   "source": [
    "It is a line filtering algorithm, which means that it filters the vertices of the line (or polygon) to only retain the most important ones to preserve the shape of the line. The algorithm iteratively searches the most characteristics vertices of portions of the line and decides to retain or remove them given a distance threshold."
   ]
  },
  {
   "cell_type": "markdown",
   "metadata": {},
   "source": [
    "**1.1/** Load the line to simplify"
   ]
  },
  {
   "cell_type": "code",
   "execution_count": 2,
   "metadata": {},
   "outputs": [
    {
     "data": {
      "application/vnd.jupyter.widget-view+json": {
       "model_id": "bfb0a146854b42d1ab1d9e90e120a712",
       "version_major": 2,
       "version_minor": 0
      },
      "text/plain": [
       "interactive(children=(IntSlider(value=6, continuous_update=False, description='figure_size', max=16, min=1), C…"
      ]
     },
     "metadata": {},
     "output_type": "display_data"
    }
   ],
   "source": [
    "line_1 = gp.read_file(\"data/data_lines/ligne.geojson\")\n",
    "line_1_vertices = gp.GeoDataFrame(geometry=gp.GeoSeries([Point(vertice) for vertice in line_1.geometry[0].coords]))\n",
    "load_vertices = ipywidgets.Checkbox(\n",
    "    value=False,\n",
    "    description='Show vertices'\n",
    ")\n",
    "figure_size = ipywidgets.IntSlider(value =6, min = 1, max = 16,step = 1,continuous_update=False)\n",
    "\n",
    "def load_line_1(figure_size, load_vertices):\n",
    "    ax = line_1.plot(figsize=(figure_size,figure_size))\n",
    "    ax.axes.get_xaxis().set_visible(False)\n",
    "    ax.axes.get_yaxis().set_visible(False)\n",
    "    if load_vertices == True:  \n",
    "        line_1_vertices.plot(ax=ax)\n",
    "\n",
    "out_load_line_1 = ipywidgets.interactive(load_line_1, figure_size = figure_size, load_vertices = load_vertices)\n",
    "display(out_load_line_1)"
   ]
  },
  {
   "cell_type": "markdown",
   "metadata": {},
   "source": [
    "**1.2/** Principle"
   ]
  },
  {
   "cell_type": "code",
   "execution_count": 3,
   "metadata": {},
   "outputs": [
    {
     "data": {
      "application/vnd.jupyter.widget-view+json": {
       "model_id": "0c012e927ed44334bbcb27251b9577b3",
       "version_major": 2,
       "version_minor": 0
      },
      "text/plain": [
       "Button(description='Next step', style=ButtonStyle())"
      ]
     },
     "metadata": {},
     "output_type": "display_data"
    },
    {
     "data": {
      "application/vnd.jupyter.widget-view+json": {
       "model_id": "89033434d829436196e56905e2b0ca09",
       "version_major": 2,
       "version_minor": 0
      },
      "text/plain": [
       "Button(description='Previous step', style=ButtonStyle())"
      ]
     },
     "metadata": {},
     "output_type": "display_data"
    },
    {
     "data": {
      "application/vnd.jupyter.widget-view+json": {
       "model_id": "56e5c3e1720048f194084e48d02f9862",
       "version_major": 2,
       "version_minor": 0
      },
      "text/plain": [
       "interactive(children=(IntText(value=0, description='step', disabled=True), Output()), _dom_classes=('widget-in…"
      ]
     },
     "metadata": {},
     "output_type": "display_data"
    }
   ],
   "source": [
    "next_step = ipywidgets.Button(description='Next step',button_style='')\n",
    "back_step = ipywidgets.Button(description='Previous step',button_style='')\n",
    "count = ipywidgets.IntText(value=0,disabled=True)\n",
    "\n",
    "def dp(step):\n",
    "    global pt_red\n",
    "    global pt_green\n",
    "    global second_line_1\n",
    "    global second_line_2\n",
    "    global farthest_pt_1\n",
    "    global farthest_pt_2\n",
    "    global third_line_1\n",
    "    global third_line_2\n",
    "    global fourth_line_1\n",
    "    global fourth_line_2\n",
    "    global gdf_red\n",
    "    global gdf_green\n",
    "    if count.value == 0:\n",
    "        ax = line_1.plot(color=\"grey\",figsize=(12,12))\n",
    "        line_1_vertices.plot(ax=ax,color=\"grey\")\n",
    "        ax.axes.get_xaxis().set_visible(False)\n",
    "        ax.axes.get_yaxis().set_visible(False)\n",
    "    if count.value == 1:\n",
    "        ax = line_1.plot(color=\"grey\",figsize=(12,12))\n",
    "        line_1_vertices.plot(ax=ax,color=\"grey\")\n",
    "        gp.GeoDataFrame(geometry=gp.GeoSeries(LineString([line_1_vertices.geometry[0],line_1_vertices.geometry[len(line_1_vertices)-1]]))).plot(ax=ax)\n",
    "        ax.axes.get_xaxis().set_visible(False)\n",
    "        ax.axes.get_yaxis().set_visible(False)\n",
    "        print(\"Retrieving the line formed by the first and last point\")\n",
    "    if count.value == 2:\n",
    "        print(\"Checking if there are vertices above the length threshold\")\n",
    "        ax = line_1.plot(color=\"grey\",figsize=(12,12))\n",
    "        buff = gp.GeoSeries(LineString([line_1_vertices.geometry[0],line_1_vertices.geometry[len(line_1_vertices)-1]])).buffer(13,cap_style='flat')\n",
    "        buff.plot(ax=ax,color = \"orange\", alpha = 0.5)\n",
    "        gp.GeoDataFrame(geometry=gp.GeoSeries(LineString([line_1_vertices.geometry[0],line_1_vertices.geometry[len(line_1_vertices)-1]]))).plot(ax=ax)\n",
    "        pt_red = []\n",
    "        pt_green = []\n",
    "        for i in range(len(line_1_vertices)):\n",
    "            pt = line_1_vertices[(line_1_vertices.index == i)].geometry\n",
    "            pt = pt.reset_index(drop=True)\n",
    "            \n",
    "            if pt.intersects(buff.geometry)[0]:\n",
    "                pt.plot(ax=ax,color = \"grey\")\n",
    "                pt_red.append(pt)\n",
    "            else: \n",
    "                pt.plot(ax=ax,color = \"red\")\n",
    "                pt_green.append(pt)\n",
    "        gdf_red = gp.GeoDataFrame(geometry = gp.GeoSeries([point[0] for point in pt_red]))\n",
    "        gdf_green = gp.GeoDataFrame(geometry = gp.GeoSeries([point[0] for point in pt_green]))\n",
    "        ax.axes.get_xaxis().set_visible(False)\n",
    "        ax.axes.get_yaxis().set_visible(False)\n",
    "    if count.value == 3:\n",
    "        print(\"As there are vertices above the length threshold, \\nwe compute two new lines with the perpendicullarly farthest point from the previous line\")\n",
    "        first_line = gp.GeoDataFrame(geometry=gp.GeoSeries(LineString([line_1_vertices.geometry[0],line_1_vertices.geometry[len(line_1_vertices)-1]])))\n",
    "        ax = first_line.plot(linestyle = 'dashed',figsize=(12,12))\n",
    "        line_1.plot(color=\"grey\",ax=ax, alpha=0.5)\n",
    "        gdf_red.plot(ax=ax, color='grey', alpha=0.5)\n",
    "        gdf_green.plot(ax=ax, color='grey', alpha=0.5)\n",
    "    \n",
    "        gdf_green['distance'] = gdf_green.geometry.apply(lambda point: point.distance(first_line.geometry[0]))\n",
    "        farthest_pt_1 = gdf_green[(gdf_green['distance'] == max(gdf_green['distance']))].geometry[gdf_green[(gdf_green['distance'] == max(gdf_green['distance']))].geometry.index[0]]\n",
    "        second_line_1 = gp.GeoDataFrame(geometry=gp.GeoSeries(LineString([line_1_vertices.geometry[0],farthest_pt_1])))\n",
    "        second_line_2 = gp.GeoDataFrame(geometry=gp.GeoSeries(LineString([farthest_pt_1,line_1_vertices.geometry[len(line_1_vertices)-1]])))\n",
    "        second_line_1.plot(ax=ax)\n",
    "        second_line_2.plot(ax=ax)\n",
    "        \n",
    "        seg_length = np.sqrt(abs(gdf_green[(gdf_green['distance'] == max(gdf_green['distance']))]['distance'].iloc[0]**2-second_line_1.geometry.length.iloc[0]**2))\n",
    "        perpen_line = gp.GeoDataFrame(geometry=gp.GeoSeries(LineString([farthest_pt_1,line_interpolate_point(first_line, seg_length).geometry[0]])))\n",
    "        perpen_line.plot(ax=ax,linestyle='dashed')\n",
    "        ax.axes.get_xaxis().set_visible(False)\n",
    "        ax.axes.get_yaxis().set_visible(False)\n",
    "    if count.value == 4:\n",
    "        pt_green_2 = []\n",
    "        pt_red_2 = []\n",
    "        print(\"Checking the vectrice - line distance like in step 2, but with the new computed lines\")\n",
    "        ax = line_1.plot(color=\"grey\",figsize=(12,12))\n",
    "        buff_2 = second_line_1.geometry.buffer(13,cap_style='flat')\n",
    "        buff_2.plot(ax=ax,color = \"orange\", alpha = 0.5)\n",
    "        buff_3 = second_line_2.geometry.buffer(13,cap_style='flat')\n",
    "        buff_3.plot(ax=ax,color = \"orange\", alpha = 0.5)\n",
    "        second_line_1.plot(ax=ax)\n",
    "        second_line_2.plot(ax=ax)\n",
    "        counter = 0\n",
    "        for i in range(len(line_1_vertices)):\n",
    "            pt = line_1_vertices[(line_1_vertices.index == i)].geometry\n",
    "            pt = pt.reset_index(drop=True)\n",
    "            counter += 1\n",
    "            if pt.intersects(buff_2)[0] or pt.intersects(buff_3)[0]:\n",
    "                pt.plot(ax=ax,color = \"grey\")\n",
    "                pt_red_2.append(pt)\n",
    "            else: \n",
    "                pt.plot(ax=ax,color = \"red\")\n",
    "                pt_green_2.append(pt)\n",
    "        pt_green = [pt[0] for pt in pt_green_2]\n",
    "        pt_red = [pt[0] for pt in pt_red_2]\n",
    "        ax.axes.get_xaxis().set_visible(False)\n",
    "        ax.axes.get_yaxis().set_visible(False)\n",
    "        gdf_red = gp.GeoDataFrame(geometry = pt_red)\n",
    "        gdf_green = gp.GeoDataFrame(geometry = pt_green)\n",
    "    if count.value == 5:\n",
    "        print(\"Compute new lines since there are vertices above length threshold.\")\n",
    "        second_line_1 = gp.GeoDataFrame(geometry=gp.GeoSeries(LineString([line_1_vertices.geometry[0],farthest_pt_1])))\n",
    "        second_line_2 = gp.GeoDataFrame(geometry=gp.GeoSeries(LineString([farthest_pt_1,line_1_vertices.geometry[len(line_1_vertices)-1]])))\n",
    "        ax = second_line_1.plot(linestyle = 'dashed',figsize=(12,12))\n",
    "        second_line_2.plot(ax=ax,linestyle = 'dashed')\n",
    "        line_1.plot(color=\"grey\",ax=ax, alpha = 0.5)\n",
    "        line_1_vertices.plot(ax=ax, color='grey', alpha=0.5)\n",
    "        \n",
    "        gdf_green['distance'] = gdf_green.geometry.apply(lambda point: point.distance(second_line_1.geometry[0]))\n",
    "        farthest_pt_2 = pt_green[0]\n",
    "        third_line_1 = gp.GeoDataFrame(geometry=gp.GeoSeries(LineString([line_1_vertices.geometry[0],farthest_pt_2])))\n",
    "        third_line_1.plot(ax=ax)\n",
    "        third_line_2 = gp.GeoDataFrame(geometry=gp.GeoSeries(LineString([farthest_pt_2,farthest_pt_1])))\n",
    "        third_line_2.plot(ax=ax)\n",
    "        \n",
    "        seg_length = np.sqrt(abs(gdf_green['distance'].iloc[0]**2-third_line_1.geometry.length.iloc[0]**2))\n",
    "        perpen_line = gp.GeoDataFrame(geometry=gp.GeoSeries(LineString([farthest_pt_2,line_interpolate_point(second_line_1, seg_length).geometry[0]])))\n",
    "        perpen_line.plot(ax=ax,linestyle='dashed')\n",
    "        ax.axes.get_xaxis().set_visible(False)\n",
    "        ax.axes.get_yaxis().set_visible(False)\n",
    "    if count.value == 6:\n",
    "        pt_green_2 = []\n",
    "        pt_red_2 = []\n",
    "        print(\"Checking the vectrice - line distance like in step 2, but with the new computed lines\")\n",
    "        ax = line_1.plot(color=\"grey\",figsize=(12,12))\n",
    "        buff_4 = third_line_1.geometry.buffer(13,cap_style='flat')\n",
    "        buff_4.plot(ax=ax,color = \"orange\", alpha = 0.5)\n",
    "        buff_5 = third_line_2.geometry.buffer(13,cap_style='flat')\n",
    "        buff_5.plot(ax=ax,color = \"orange\", alpha = 0.5)\n",
    "        buff_3 = second_line_2.geometry.buffer(13,cap_style='flat')\n",
    "        buff_3.plot(ax=ax,color = \"orange\", alpha = 0.5)\n",
    "    \n",
    "        third_line_1.plot(ax=ax)\n",
    "        third_line_2.plot(ax=ax)\n",
    "        second_line_2.plot(ax=ax)\n",
    "        counter = 0\n",
    "        for i in range(len(line_1_vertices)):\n",
    "            pt = line_1_vertices[(line_1_vertices.index == i)].geometry\n",
    "            pt = pt.reset_index(drop=True)\n",
    "            counter += 1\n",
    "            if (pt.intersects(buff_4)[0] or pt.intersects(buff_5)[0] or pt.intersects(buff_3)[0]):\n",
    "                pt.plot(ax=ax,color = \"grey\")\n",
    "                pt_red_2.append(pt)\n",
    "            else: \n",
    "                pt.plot(ax=ax,color = \"red\")\n",
    "                pt_green_2.append(pt)\n",
    "        pt_green = [pt[0] for pt in pt_green_2]\n",
    "        pt_red = [pt[0] for pt in pt_red_2]\n",
    "        ax.axes.get_xaxis().set_visible(False)\n",
    "        ax.axes.get_yaxis().set_visible(False)\n",
    "        gdf_red = gp.GeoDataFrame(geometry = pt_red)\n",
    "        gdf_green = gp.GeoDataFrame(geometry = pt_green)\n",
    "    if count.value == 7:\n",
    "        print(\"Compute new lines since there are vertices above length threshold.\")\n",
    "        ax = second_line_2.plot(linestyle = 'dashed',figsize=(12,12))\n",
    "        third_line_1.plot(ax=ax,linestyle = 'dashed')\n",
    "        third_line_2.plot(ax=ax,linestyle = 'dashed')\n",
    "        line_1.plot(color=\"grey\",ax=ax, alpha = 0.5)\n",
    "        line_1_vertices.plot(ax=ax, color='grey', alpha=0.5)\n",
    "        \n",
    "        gdf_green['distance'] = gdf_green.geometry.apply(lambda point: point.distance(third_line_1.geometry[0]))\n",
    "        farthest_pt_3 = pt_green[1]\n",
    "        fourth_line_1 = gp.GeoDataFrame(geometry=gp.GeoSeries(LineString([line_1_vertices.geometry[0],farthest_pt_3])))\n",
    "        fourth_line_1.plot(ax=ax)\n",
    "        fourth_line_2 = gp.GeoDataFrame(geometry=gp.GeoSeries(LineString([farthest_pt_3,farthest_pt_2])))\n",
    "        fourth_line_2.plot(ax=ax)\n",
    "        \n",
    "        seg_length = np.sqrt(abs(gdf_green['distance'].iloc[1]**2-fourth_line_2.geometry.length.iloc[0]**2))\n",
    "        perpen_line = gp.GeoDataFrame(geometry=gp.GeoSeries(LineString([farthest_pt_3,line_interpolate_point(third_line_1, -seg_length).geometry[0]])))\n",
    "        perpen_line.plot(ax=ax,linestyle='dashed')\n",
    "        ax.axes.get_xaxis().set_visible(False)\n",
    "        ax.axes.get_yaxis().set_visible(False)\n",
    "    if count.value == 8:\n",
    "        print(\"Get the final simplified line thanks to the selected vertices\")\n",
    "        ax = line_1.plot(color=\"grey\",alpha=0.5,figsize=(12,12))\n",
    "        fourth_line_1.plot(ax=ax)\n",
    "        fourth_line_2.plot(ax=ax)\n",
    "        third_line_2.plot(ax=ax)\n",
    "        second_line_2.plot(ax=ax)\n",
    "        for i in range(len(line_1_vertices)):\n",
    "            pt = line_1_vertices[(line_1_vertices.index == i)].geometry\n",
    "            pt = pt.reset_index(drop=True)\n",
    "            if pt.touches(fourth_line_1.geometry)[0] or pt.touches(fourth_line_2.geometry)[0] or pt.touches(third_line_2.geometry)[0] or pt.touches(second_line_2.geometry)[0]:\n",
    "                pt.plot(ax=ax)\n",
    "        ax.axes.get_xaxis().set_visible(False)\n",
    "        ax.axes.get_yaxis().set_visible(False)\n",
    "\n",
    "def next(next_step):\n",
    "    count.value+=1\n",
    "        \n",
    "next_step.on_click(next)\n",
    "\n",
    "def back(back_step):\n",
    "    count.value-=1\n",
    "        \n",
    "back_step.on_click(back)\n",
    "\n",
    "out_dp = ipywidgets.interactive(dp,step=count)\n",
    "display(next_step, back_step, out_dp)"
   ]
  },
  {
   "cell_type": "markdown",
   "metadata": {},
   "source": [
    "**1.3/** Hands on"
   ]
  },
  {
   "cell_type": "code",
   "execution_count": 4,
   "metadata": {},
   "outputs": [
    {
     "data": {
      "application/vnd.jupyter.widget-view+json": {
       "model_id": "d0cea3cbc044480e82da2977acac6939",
       "version_major": 2,
       "version_minor": 0
      },
      "text/plain": [
       "interactive(children=(IntSlider(value=13, continuous_update=False, description='length_thshld', max=5000, min=…"
      ]
     },
     "metadata": {},
     "output_type": "display_data"
    },
    {
     "data": {
      "application/vnd.jupyter.widget-view+json": {
       "model_id": "f8ee8f929000470d9d1ebe420c436c54",
       "version_major": 2,
       "version_minor": 0
      },
      "text/plain": [
       "Button(description='Generate line', style=ButtonStyle())"
      ]
     },
     "metadata": {},
     "output_type": "display_data"
    },
    {
     "data": {
      "application/vnd.jupyter.widget-view+json": {
       "model_id": "c16c026d25e04a48a6409cf6af4b019b",
       "version_major": 2,
       "version_minor": 0
      },
      "text/plain": [
       "Button(description='Show Brittany', style=ButtonStyle())"
      ]
     },
     "metadata": {},
     "output_type": "display_data"
    }
   ],
   "source": [
    "generate_line = ipywidgets.Button(description='Generate line',button_style='')\n",
    "show_brit = ipywidgets.Button(description='Show Brittany',button_style='')\n",
    "length = ipywidgets.IntSlider(value =13, min = 1, max = 5000,step = 1,continuous_update=False)\n",
    "brit = gp.read_file(\"data/puntos/brittany.geojson\")\n",
    "\n",
    "def test_dp(length_thshld):\n",
    "    ax= line_1.plot(color=\"grey\",alpha = 0.7, figsize=(12,12))\n",
    "    gp.GeoDataFrame(geometry = cg.douglas_peucker(list(line_1.geometry), length_thshld,False)).plot(ax=ax)\n",
    "    ax.set_aspect('equal')\n",
    "    ax.axes.get_xaxis().set_visible(False)\n",
    "    ax.axes.get_yaxis().set_visible(False)\n",
    "\n",
    "def new_line(generate_line):\n",
    "    global line_1\n",
    "    points = []\n",
    "    for i in range(20):\n",
    "        points.append((i*1000, random.uniform(*(0, 5000)))) \n",
    "    line_1 = LineString(points)\n",
    "    line_1 = gp.GeoDataFrame(geometry=gp.GeoSeries(line_1))\n",
    "    if length.value == 13:\n",
    "        length.value = 12\n",
    "    else:\n",
    "        length.value = 13\n",
    "\n",
    "def show_brit_func(show_brit):\n",
    "    global line_1\n",
    "    line_1 = brit\n",
    "    if length.value == 13:\n",
    "        length.value = 12\n",
    "    else:\n",
    "        length.value = 13\n",
    "        \n",
    "generate_line.on_click(new_line)\n",
    "show_brit.on_click(show_brit_func)\n",
    "\n",
    "out_test_dp = ipywidgets.interactive(test_dp,length_thshld=length)\n",
    "display(out_test_dp,generate_line, show_brit)"
   ]
  },
  {
   "cell_type": "markdown",
   "metadata": {},
   "source": [
    "Eventhough Douglas-Peucker algorithm is easy to use and to understand (only one parameter is required), the resulting simplified geometry has often a lot of unsmooth angles. This \"sharp\" aspect is not ideal when generalizing natural features, such as rivers or coasts (as we can see with Brittany in our example)."
   ]
  },
  {
   "cell_type": "markdown",
   "metadata": {},
   "source": [
    "**1.4/** CartAGen's Douglas-Peucker algorithm code details "
   ]
  },
  {
   "cell_type": "code",
   "execution_count": 5,
   "metadata": {},
   "outputs": [
    {
     "data": {
      "text/plain": [
       "<Axes: >"
      ]
     },
     "execution_count": 5,
     "metadata": {},
     "output_type": "execute_result"
    },
    {
     "data": {
      "image/png": "[encoded data removed]",
      "text/plain": [
       "<Figure size 640x480 with 1 Axes>"
      ]
     },
     "metadata": {},
     "output_type": "display_data"
    }
   ],
   "source": [
    "res = cg.douglas_peucker(list(line_1.geometry), threshold=1 ,preserve_topology=False) #in this example, \"line_1\" is a GeoDataFrame\n",
    "\n",
    "gp.GeoDataFrame(geometry = res).plot()"
   ]
  },
  {
   "cell_type": "markdown",
   "metadata": {},
   "source": [
    "##  **Part 2** : Visvalingam-Whyatt algorithm"
   ]
  },
  {
   "cell_type": "markdown",
   "metadata": {},
   "source": [
    "This algorithm created by [M. Visvalingam and J.D. Whyatt](https://www.tandfonline.com/doi/abs/10.1179/000870493786962263) in 1993 is an area-based line simplification."
   ]
  },
  {
   "cell_type": "markdown",
   "metadata": {},
   "source": [
    "The principle of the algorithm is to select the vertices to delete. To select the vertices to delete, there is an iterative process, and at each iteration, the triangles formed by three consecutive vertices are computed. If the area of the smallest triangle is smaller than a threshold (“area_tolerance” parameter), the middle vertex is deleted, and another iteration starts."
   ]
  },
  {
   "cell_type": "markdown",
   "metadata": {},
   "source": [
    "**2.1/** Principle"
   ]
  },
  {
   "cell_type": "code",
   "execution_count": 6,
   "metadata": {},
   "outputs": [
    {
     "data": {
      "application/vnd.jupyter.widget-view+json": {
       "model_id": "9e6196d19bca4759bc5c58b85d26d4fe",
       "version_major": 2,
       "version_minor": 0
      },
      "text/plain": [
       "Button(description='Next step', style=ButtonStyle())"
      ]
     },
     "metadata": {},
     "output_type": "display_data"
    },
    {
     "data": {
      "application/vnd.jupyter.widget-view+json": {
       "model_id": "8796596984284d119a36795122d0b2d6",
       "version_major": 2,
       "version_minor": 0
      },
      "text/plain": [
       "Button(description='Previous step', style=ButtonStyle())"
      ]
     },
     "metadata": {},
     "output_type": "display_data"
    },
    {
     "data": {
      "application/vnd.jupyter.widget-view+json": {
       "model_id": "8e31e65e35884cd0b829e30f425ab545",
       "version_major": 2,
       "version_minor": 0
      },
      "text/plain": [
       "interactive(children=(IntText(value=0, description='step', disabled=True), Output()), _dom_classes=('widget-in…"
      ]
     },
     "metadata": {},
     "output_type": "display_data"
    }
   ],
   "source": [
    "line_2 = gp.read_file(\"data/data_lines/line_2.geojson\")\n",
    "line_2_vertices = gp.GeoDataFrame(geometry=gp.GeoSeries([Point(vertice) for vertice in line_2.geometry[0].coords]))\n",
    "line_2_vertices = line_2_vertices.set_crs(crs='EPSG:2154')\n",
    "\n",
    "next_step = ipywidgets.Button(description='Next step',button_style='')\n",
    "back_step = ipywidgets.Button(description='Previous step',button_style='')\n",
    "count = ipywidgets.IntText(value=0,disabled=True)\n",
    "count.value = 0\n",
    "\n",
    "def vw(step):\n",
    "    global tri\n",
    "    global pts_tri\n",
    "    global line_2_vertices\n",
    "    global line_2_vertices_2\n",
    "    global line_2_vertices_3\n",
    "    global line_2_vertices_4\n",
    "\n",
    "    if count.value == 0:\n",
    "        ax = line_2.plot(color=\"grey\",figsize=(12,12))\n",
    "        line_2_vertices.plot(ax=ax,color=\"grey\")\n",
    "        ax.axes.get_xaxis().set_visible(False)\n",
    "        ax.axes.get_yaxis().set_visible(False)\n",
    "    ###############################################    \n",
    "    if count.value == 1:\n",
    "        print(\"Compute the triangle formed by the first three points and calculate its area\")\n",
    "        ax = line_2.plot(color = \"grey\", figsize = (12,12))\n",
    "        \n",
    "        pts_tri = []\n",
    "        for i in range(3):\n",
    "            pt = line_2_vertices[(line_2_vertices.index == i)]\n",
    "            pt.plot(ax=ax)\n",
    "            pts_tri.append(pt.geometry)\n",
    "        tri = []\n",
    "        tri.append(gp.GeoDataFrame(geometry=gp.GeoSeries(Polygon([pts.reset_index(drop=True)[0] for pts in pts_tri]))))\n",
    "        tri[0].plot(ax=ax,alpha=0.5)\n",
    "        tri[0]['area'] = tri[0].geometry.area \n",
    "\n",
    "        ax.axes.get_xaxis().set_visible(False)\n",
    "        ax.axes.get_yaxis().set_visible(False)\n",
    "    ##############################################\n",
    "    if count.value == 2:\n",
    "        print(\"Repeat this operation for the triangle formed by the 2nd, 3rd and 4th points\\nAnd for all the other triangles that follow\")\n",
    "        ax = line_2.plot(color = \"black\", figsize = (12,12),linewidth=1.5)\n",
    "        tri= []\n",
    "        for i in range(len(line_2_vertices)-2):\n",
    "            pts_tri = []\n",
    "            for j in range(i,i+3,1):\n",
    "                pt = line_2_vertices[(line_2_vertices.index == j)]\n",
    "                pt.plot(ax=ax)\n",
    "                pts_tri.append(pt.geometry)\n",
    "                \n",
    "            tri.append(gp.GeoDataFrame(geometry=gp.GeoSeries(Polygon([Point(point.get_coordinates()) for point in pts_tri]))))\n",
    "            tri[i].plot(ax=ax,color = (np.random.uniform(0, 1),np.random.uniform(0, 1),np.random.uniform(0, 1)),alpha=0.6)\n",
    "            tri[i]['area'] = tri[i].geometry.area \n",
    "\n",
    "        ax.axes.get_xaxis().set_visible(False)\n",
    "        ax.axes.get_yaxis().set_visible(False)\n",
    "    ##############################################\n",
    "    if count.value == 3:\n",
    "        print(\"Remove the middle vertice of the smallest triangle.\\nIf no triangle has a surface below the area threshold, the line can't be simplified\")\n",
    "        ax = line_2.plot(color = \"grey\", figsize = (12,12), alpha= 0.5)\n",
    "        smallest_tri = tri[0]\n",
    "        for i in tri:\n",
    "            if i.area[0] < smallest_tri.area[0]:\n",
    "                smallest_tri = i\n",
    "        if smallest_tri.geometry.area.iloc[0] < 30:\n",
    "            smallest_tri.plot(ax=ax, color = \"pink\")\n",
    "            pt_to_remove = Point(smallest_tri.geometry[0].exterior.coords[1])\n",
    "            gp.GeoSeries(pt_to_remove).plot(ax=ax, color=\"red\")\n",
    "        else:\n",
    "            for i in range(len(line_2_vertices)-2):\n",
    "                tri[i].plot(ax=ax,color = \"lightgreen\",alpha=0.8)\n",
    "        c = -1\n",
    "        for i in list(line_2_vertices.geometry):\n",
    "            c += 1\n",
    "            if i == pt_to_remove:\n",
    "                line_2_vertices_2 = line_2_vertices.drop(c)\n",
    "                line_2_vertices_2 = line_2_vertices_2.reset_index(drop = True)\n",
    "        ax.axes.get_xaxis().set_visible(False)\n",
    "        ax.axes.get_yaxis().set_visible(False)\n",
    "    ##############################################\n",
    "    if count.value == 4:\n",
    "        print(\"Again, we compute triangles with the new set of vertices.\\nAnd measure the area of each triangle\")\n",
    "        ax = line_2.plot(color = \"grey\", figsize = (12,12), alpha=0.5)\n",
    "        current_line = gp.GeoSeries(LineString([point[1].geometry for point in line_2_vertices_2.iterrows()]))\n",
    "        current_line.plot(ax=ax, color=\"black\",linewidth=1.5)\n",
    "        tri= []\n",
    "        for i in range(len(line_2_vertices_2)-2):\n",
    "            pts_tri = []\n",
    "            for j in range(i,i+3,1):\n",
    "                pt = line_2_vertices_2[(line_2_vertices_2.index == j)]\n",
    "                pt.plot(ax=ax)\n",
    "                pts_tri.append(pt.geometry)\n",
    "                \n",
    "            tri.append(gp.GeoDataFrame(geometry=gp.GeoSeries(Polygon([Point(point.get_coordinates()) for point in pts_tri]))))\n",
    "            tri[i].plot(ax=ax,color = (np.random.uniform(0, 1),np.random.uniform(0, 1),np.random.uniform(0, 1)),alpha=0.6)\n",
    "            tri[i]['area'] = tri[i].geometry.area \n",
    "\n",
    "        ax.axes.get_xaxis().set_visible(False)\n",
    "        ax.axes.get_yaxis().set_visible(False)\n",
    "    ##############################################\n",
    "    if count.value == 5:\n",
    "        print(\"Remove the middle vertice of the smallest triangle, if it has a surface below the area threshold.\")\n",
    "        ax = line_2.plot(color = \"grey\", figsize = (12,12), alpha= 0.3)\n",
    "        current_line = gp.GeoSeries(LineString([point[1].geometry for point in line_2_vertices_2.iterrows()]))\n",
    "        current_line.plot(ax=ax,color=\"grey\")\n",
    "        smallest_tri = tri[0]\n",
    "        for i in tri:\n",
    "            if i.area[0] < smallest_tri.area[0]:\n",
    "                smallest_tri = i\n",
    "        if smallest_tri.geometry.area.iloc[0] < 30:\n",
    "            smallest_tri.plot(ax=ax, color = \"pink\")\n",
    "            pt_to_remove = Point(smallest_tri.geometry[0].exterior.coords[1])\n",
    "            gp.GeoSeries(pt_to_remove).plot(ax=ax, color=\"red\")\n",
    "        else:\n",
    "            for i in range(len(line_2_vertices_2)-2):\n",
    "                tri[i].plot(ax=ax,color = \"lightgreen\",alpha=0.8)\n",
    "        c = -1\n",
    "        for i in list(line_2_vertices_2.geometry):\n",
    "            c += 1\n",
    "            if i == pt_to_remove:\n",
    "                line_2_vertices_3 = line_2_vertices_2.drop(c)\n",
    "                line_2_vertices_3 = line_2_vertices_3.reset_index(drop = True)\n",
    "        ax.axes.get_xaxis().set_visible(False)\n",
    "        ax.axes.get_yaxis().set_visible(False)\n",
    "    ##############################################    \n",
    "    if count.value == 6:\n",
    "        print(\"Repeat the process until there are no vertices to remove\")\n",
    "        ax = line_2.plot(color = \"grey\", figsize = (12,12), alpha=0.5)\n",
    "        current_line = gp.GeoSeries(LineString([point[1].geometry for point in line_2_vertices_3.iterrows()]))\n",
    "        current_line.plot(ax=ax, color=\"black\",linewidth=1.5)\n",
    "        tri= []\n",
    "        for i in range(len(line_2_vertices_3)-2):\n",
    "            pts_tri = []\n",
    "            for j in range(i,i+3,1):\n",
    "                pt = line_2_vertices_3[(line_2_vertices_3.index == j)]\n",
    "                pt.plot(ax=ax)\n",
    "                pts_tri.append(pt.geometry)\n",
    "                \n",
    "            tri.append(gp.GeoDataFrame(geometry=gp.GeoSeries(Polygon([Point(point.get_coordinates()) for point in pts_tri]))))\n",
    "            tri[i].plot(ax=ax,color = (np.random.uniform(0, 1),np.random.uniform(0, 1),np.random.uniform(0, 1)),alpha=0.6)\n",
    "            tri[i]['area'] = tri[i].geometry.area \n",
    "        ax.axes.get_xaxis().set_visible(False)\n",
    "        ax.axes.get_yaxis().set_visible(False)\n",
    "    ##############################################\n",
    "    if count.value == 7:\n",
    "        print(\"Repeat the process until there are no vertices to remove\")\n",
    "        ax = line_2.plot(color = \"grey\", figsize = (12,12), alpha= 0.3)\n",
    "        current_line = gp.GeoSeries(LineString([point[1].geometry for point in line_2_vertices_3.iterrows()]))\n",
    "        current_line.plot(ax=ax,color=\"grey\")\n",
    "        smallest_tri = tri[0]\n",
    "        for i in tri:\n",
    "            if i.area[0] < smallest_tri.area[0]:\n",
    "                smallest_tri = i\n",
    "        if smallest_tri.geometry.area.iloc[0] < 30:\n",
    "            smallest_tri.plot(ax=ax, color = \"pink\")\n",
    "            pt_to_remove = Point(smallest_tri.geometry[0].exterior.coords[1])\n",
    "            gp.GeoSeries(pt_to_remove).plot(ax=ax, color=\"red\")\n",
    "        else:\n",
    "            for i in range(len(line_2_vertices_3)-2):\n",
    "                tri[i].plot(ax=ax,color = \"lightgreen\",alpha=0.8)\n",
    "        c = -1\n",
    "        for i in list(line_2_vertices_3.geometry):\n",
    "            c += 1\n",
    "            if i == pt_to_remove:\n",
    "                line_2_vertices_4 = line_2_vertices_3.drop(c)\n",
    "                line_2_vertices_4 = line_2_vertices_4.reset_index(drop = True)\n",
    "        ax.axes.get_xaxis().set_visible(False)\n",
    "        ax.axes.get_yaxis().set_visible(False)\n",
    "    ##############################################    \n",
    "    if count.value == 8:\n",
    "        print(\"Repeat the process until there are no vertices to remove\")\n",
    "        ax = line_2.plot(color = \"grey\", figsize = (12,12), alpha=0.5)\n",
    "        current_line = gp.GeoSeries(LineString([point[1].geometry for point in line_2_vertices_4.iterrows()]))\n",
    "        current_line.plot(ax=ax, color=\"black\",linewidth=1.5)\n",
    "        tri= []\n",
    "        for i in range(len(line_2_vertices_4)-2):\n",
    "            pts_tri = []\n",
    "            for j in range(i,i+3,1):\n",
    "                pt = line_2_vertices_4[(line_2_vertices_4.index == j)]\n",
    "                pt.plot(ax=ax)\n",
    "                pts_tri.append(pt.geometry)\n",
    "                \n",
    "            tri.append(gp.GeoDataFrame(geometry=gp.GeoSeries(Polygon([Point(point.get_coordinates()) for point in pts_tri]))))\n",
    "            tri[i].plot(ax=ax,color = (np.random.uniform(0, 1),np.random.uniform(0, 1),np.random.uniform(0, 1)),alpha=0.6)\n",
    "            tri[i]['area'] = tri[i].geometry.area \n",
    "        ax.axes.get_xaxis().set_visible(False)\n",
    "        ax.axes.get_yaxis().set_visible(False)\n",
    "    ##############################################\n",
    "    if count.value == 9:\n",
    "        print(\"In this case, they are no triangles below the area threshold.\\nThus the line can't be more simplified given this threshold\")\n",
    "        ax = line_2.plot(color = \"grey\", figsize = (12,12), alpha= 0.3)\n",
    "        current_line = gp.GeoSeries(LineString([point[1].geometry for point in line_2_vertices_4.iterrows()]))\n",
    "        current_line.plot(ax=ax,color=\"grey\")\n",
    "        smallest_tri = tri[0]\n",
    "        for i in tri:\n",
    "            if i.area[0] < smallest_tri.area[0]:\n",
    "                smallest_tri = i\n",
    "        if smallest_tri.geometry.area.iloc[0] < 30:\n",
    "            smallest_tri.plot(ax=ax, color = \"pink\")\n",
    "            pt_to_remove = Point(smallest_tri.geometry[0].exterior.coords[1])\n",
    "            gp.GeoSeries(pt_to_remove).plot(ax=ax, color=\"red\")\n",
    "        else:\n",
    "            for i in range(len(line_2_vertices_4)-2):\n",
    "                tri[i].plot(ax=ax,color = \"lightgreen\",alpha=0.8)\n",
    "        ax.axes.get_xaxis().set_visible(False)\n",
    "        ax.axes.get_yaxis().set_visible(False)\n",
    "    ##############################################    \n",
    "    if count.value == 10:\n",
    "        print(\"Compute the final line\")\n",
    "        ax = line_2.plot(color = \"grey\", figsize = (12,12), alpha=0.5)\n",
    "        current_line = gp.GeoSeries(LineString([point[1].geometry for point in line_2_vertices_4.iterrows()]))\n",
    "        current_line.plot(ax=ax, color=\"black\",linewidth=1.5)\n",
    "        line_2_vertices_4.plot(ax=ax,color=\"black\")\n",
    "        ax.axes.get_xaxis().set_visible(False)\n",
    "        ax.axes.get_yaxis().set_visible(False)\n",
    "\n",
    "        \n",
    "\n",
    "def next(next_step):\n",
    "    count.value+=1\n",
    "        \n",
    "next_step.on_click(next)\n",
    "\n",
    "def back(back_step):\n",
    "    count.value-=1\n",
    "        \n",
    "back_step.on_click(back)\n",
    "\n",
    "out_vw = ipywidgets.interactive(vw,step=count)\n",
    "display(next_step, back_step, out_vw)"
   ]
  },
  {
   "cell_type": "markdown",
   "metadata": {},
   "source": [
    "**2.2/** Hands on"
   ]
  },
  {
   "cell_type": "code",
   "execution_count": 7,
   "metadata": {},
   "outputs": [
    {
     "data": {
      "application/vnd.jupyter.widget-view+json": {
       "model_id": "b20b49f08435418b9d88265eecade823",
       "version_major": 2,
       "version_minor": 0
      },
      "text/plain": [
       "interactive(children=(IntSlider(value=13, continuous_update=False, description='area_threshold', max=5000, min…"
      ]
     },
     "metadata": {},
     "output_type": "display_data"
    },
    {
     "data": {
      "application/vnd.jupyter.widget-view+json": {
       "model_id": "a892eb13a5f547bba0786aebffcaa882",
       "version_major": 2,
       "version_minor": 0
      },
      "text/plain": [
       "Button(description='Generate line', style=ButtonStyle())"
      ]
     },
     "metadata": {},
     "output_type": "display_data"
    },
    {
     "data": {
      "application/vnd.jupyter.widget-view+json": {
       "model_id": "887912709bbf45a7b81b6859da7dce51",
       "version_major": 2,
       "version_minor": 0
      },
      "text/plain": [
       "Button(description='Show river', style=ButtonStyle())"
      ]
     },
     "metadata": {},
     "output_type": "display_data"
    }
   ],
   "source": [
    "generate_line = ipywidgets.Button(description='Generate line',button_style='')\n",
    "show_river = ipywidgets.Button(description='Show river',button_style='')\n",
    "area = ipywidgets.IntSlider(value =13, min = 1, max = 5000,step = 1,continuous_update=False)\n",
    "river = gp.read_file(\"data/data_lines/river.geojson\")\n",
    "\n",
    "def test_vw(area_threshold):\n",
    "    ax= line_2.plot(color=\"grey\",alpha = 0.7, figsize=(10,10))\n",
    "    gp.GeoDataFrame(geometry = gp.GeoSeries(cg.visvalingam_whyatt(line_2.geometry[0], area_threshold))).plot(ax=ax)\n",
    "    ax.axes.get_xaxis().set_visible(False)\n",
    "    ax.axes.get_yaxis().set_visible(False)\n",
    "\n",
    "def new_line(generate_line):\n",
    "    global line_2\n",
    "    points = []\n",
    "    for i in range(30):\n",
    "        points.append((i*10, random.uniform(*(0, 100)))) \n",
    "    line_2 = LineString(points)\n",
    "    line_2 = gp.GeoDataFrame(geometry=gp.GeoSeries(line_2))\n",
    "    if area.value == 13:\n",
    "        area.value = 12\n",
    "    else:\n",
    "        area.value = 13\n",
    "\n",
    "def show_river_func(show_river):\n",
    "    global line_2\n",
    "    line_2 = river[(river.index == 19)]\n",
    "    line_2 = line_2.reset_index(drop=True)\n",
    "    if area.value == 13:\n",
    "        area.value = 12\n",
    "    else:\n",
    "        area.value = 13\n",
    "        \n",
    "generate_line.on_click(new_line)\n",
    "show_river.on_click(show_river_func)\n",
    "\n",
    "out_test_vw = ipywidgets.interactive(test_vw,area_threshold=area)\n",
    "display(out_test_vw,generate_line, show_river)"
   ]
  },
  {
   "cell_type": "markdown",
   "metadata": {},
   "source": [
    "**2.3/** CartAGen's Visvalingam-Whyatt algorithm code details"
   ]
  },
  {
   "cell_type": "code",
   "execution_count": 8,
   "metadata": {},
   "outputs": [
    {
     "data": {
      "text/plain": [
       "<Axes: >"
      ]
     },
     "execution_count": 8,
     "metadata": {},
     "output_type": "execute_result"
    },
    {
     "data": {
      "image/png": "[encoded data removed]",
      "text/plain": [
       "<Figure size 1000x1000 with 1 Axes>"
      ]
     },
     "metadata": {},
     "output_type": "display_data"
    }
   ],
   "source": [
    "res = cg.visvalingam_whyatt(line_2.geometry[0], area_tolerance=30) #in this example, \"line_1\" is a GeoDataFrame\n",
    "\n",
    "ax= gp.GeoDataFrame(geometry = gp.GeoSeries(res)).plot(figsize=(10,10))\n",
    "line_2.plot(ax=ax, color=\"grey\", alpha=0.5)"
   ]
  },
  {
   "cell_type": "markdown",
   "metadata": {},
   "source": [
    "The main disadvantage of this algorithm is its computation time, which is longer than the Douglas-Peucker algorithm."
   ]
  },
  {
   "cell_type": "markdown",
   "metadata": {},
   "source": [
    "However, it tends to give less angular results, making it more relevant for the simplification of natural line or polygon features such as rivers, forests, or coastlines."
   ]
  },
  {
   "cell_type": "markdown",
   "metadata": {},
   "source": [
    "## **Part 3** Li-Openshaw algorithm"
   ]
  },
  {
   "cell_type": "markdown",
   "metadata": {},
   "source": [
    "This algorithm created by [Zhilin Li and Stan Openshaw](https://api.semanticscholar.org/CorpusID:120732702) in 1993 is based on a regular square grid."
   ]
  },
  {
   "cell_type": "markdown",
   "metadata": {},
   "source": [
    "It first divide the line vertexes into groups partionned by a regular grid, then each group of vertexes is replaced by their centroid."
   ]
  },
  {
   "cell_type": "markdown",
   "metadata": {},
   "source": [
    "**3.1/** Principle"
   ]
  },
  {
   "cell_type": "code",
   "execution_count": 9,
   "metadata": {},
   "outputs": [
    {
     "data": {
      "application/vnd.jupyter.widget-view+json": {
       "model_id": "416b287258094bbaa9d797d7ff8c80f3",
       "version_major": 2,
       "version_minor": 0
      },
      "text/plain": [
       "Button(description='Next step', style=ButtonStyle())"
      ]
     },
     "metadata": {},
     "output_type": "display_data"
    },
    {
     "data": {
      "application/vnd.jupyter.widget-view+json": {
       "model_id": "2e404b639f9746adb66958f96b46e182",
       "version_major": 2,
       "version_minor": 0
      },
      "text/plain": [
       "Button(description='Previous step', style=ButtonStyle())"
      ]
     },
     "metadata": {},
     "output_type": "display_data"
    },
    {
     "data": {
      "application/vnd.jupyter.widget-view+json": {
       "model_id": "50e9b97027534d23b5b20cc3b6cf61ad",
       "version_major": 2,
       "version_minor": 0
      },
      "text/plain": [
       "interactive(children=(IntText(value=0, description='step', disabled=True), Output()), _dom_classes=('widget-in…"
      ]
     },
     "metadata": {},
     "output_type": "display_data"
    }
   ],
   "source": [
    "next_step = ipywidgets.Button(description='Next step',button_style='')\n",
    "back_step = ipywidgets.Button(description='Previous step',button_style='')\n",
    "count = ipywidgets.IntText(value=0,disabled=True)\n",
    "line_1 = gp.read_file(\"data/data_lines/ligne.geojson\")\n",
    "line_1_vertices = gp.GeoDataFrame(geometry=gp.GeoSeries([Point(vertice) for vertice in line_1.geometry[0].coords]))\n",
    "\n",
    "def lo(step):\n",
    "    global grid\n",
    "    global pts_to_keep\n",
    "    global idx\n",
    "    if count.value == 0:\n",
    "        ax = line_1.plot(color=\"grey\",figsize=(12,12))\n",
    "        line_1_vertices.plot(ax=ax,color=\"grey\")\n",
    "        ax.axes.get_xaxis().set_visible(False)\n",
    "        ax.axes.get_yaxis().set_visible(False)\n",
    "    ###############################################\n",
    "    if count.value == 1:\n",
    "        print(\"Compute a regular square grid based on the extent of the line.\\nThe size of the grid cells is parametrable\")\n",
    "        ax = line_1.plot(color=\"grey\",figsize=(12,12))\n",
    "        line_1_vertices.plot(ax=ax,color=\"grey\",alpha=0.5)\n",
    "        idx, grid = cg.partition_grid(line_1_vertices,20)\n",
    "        gp.GeoDataFrame(geometry=grid).plot(ax=ax,facecolor = 'None',edgecolor=\"darkblue\")\n",
    "        ax.axes.get_xaxis().set_visible(False)\n",
    "        ax.axes.get_yaxis().set_visible(False)\n",
    "    ###############################################    \n",
    "    if count.value == 2:\n",
    "        print(\"Inside each cells, retrieve the line vertices and compute their centroid.\\nThose centroids will be the vertices of the simplified line\")\n",
    "        ax = line_1_vertices.plot(color=\"grey\", figsize=(12,12))\n",
    "        gp.GeoDataFrame(geometry=grid).plot(ax=ax,facecolor = 'None',edgecolor=\"darkblue\")\n",
    "        pts_to_keep = []\n",
    "        for i in idx:\n",
    "            if len(i) > 0:\n",
    "                pts_to_compute = []\n",
    "                for j in i:\n",
    "                    pts_to_compute.append(line_1_vertices.iloc[j].iloc[0])\n",
    "                pts_to_compute = MultiPoint(pts_to_compute)\n",
    "                pt_keep = gp.GeoSeries(centroid(pts_to_compute))\n",
    "                pt_keep.plot(ax=ax, color = \"green\")\n",
    "                pts_to_keep.append(pt_keep)\n",
    "        ax.axes.get_xaxis().set_visible(False)\n",
    "        ax.axes.get_yaxis().set_visible(False)\n",
    "    ###############################################    \n",
    "    if count.value == 3:\n",
    "        print(\"Make sure the first and last point of the original line are kept aswell\")\n",
    "        ax = line_1_vertices.plot(color=\"grey\", figsize=(12,12),alpha = 0.3)\n",
    "        gp.GeoDataFrame(geometry=grid).plot(ax=ax,facecolor = 'None',edgecolor=\"darkblue\",alpha=0.5)\n",
    "        first = gp.GeoSeries(line_1_vertices.iloc[0].geometry)\n",
    "        first.plot(ax=ax, color = \"green\")\n",
    "        last = gp.GeoSeries(line_1_vertices.iloc[len(line_1_vertices)-1].geometry)\n",
    "        last.plot(ax=ax, color = \"green\")\n",
    "        gp.GeoDataFrame(geometry=gp.GeoSeries([point[0] for point in pts_to_keep])).plot(ax=ax,color=\"grey\")\n",
    "        pts_to_keep.insert(0,first)\n",
    "        pts_to_keep.insert(len(pts_to_keep),last)\n",
    "        ax.axes.get_xaxis().set_visible(False)\n",
    "        ax.axes.get_yaxis().set_visible(False)\n",
    "    ###############################################    \n",
    "    if count.value == 4:\n",
    "        print(\"Compute the simplified line\")\n",
    "        ax = line_1.plot(color=\"grey\",figsize=(12,12),alpha=0.5)\n",
    "        gp.GeoDataFrame(geometry=gp.GeoSeries([point[0] for point in pts_to_keep])).plot(ax=ax)\n",
    "        pts_to_keep[7], pts_to_keep[8] = pts_to_keep[8], pts_to_keep[7]\n",
    "        final_line = gp.GeoSeries(LineString([point[0] for point in pts_to_keep]))\n",
    "        final_line.plot(ax=ax)\n",
    "        ax.axes.get_xaxis().set_visible(False)\n",
    "        ax.axes.get_yaxis().set_visible(False)\n",
    "\n",
    "def next(next_step):\n",
    "    count.value+=1\n",
    "        \n",
    "next_step.on_click(next)\n",
    "\n",
    "def back(back_step):\n",
    "    count.value-=1\n",
    "        \n",
    "back_step.on_click(back)\n",
    "\n",
    "out_lo = ipywidgets.interactive(lo,step=count)\n",
    "display(next_step, back_step, out_lo)"
   ]
  },
  {
   "cell_type": "markdown",
   "metadata": {},
   "source": [
    "**3.2/** Hands on"
   ]
  },
  {
   "cell_type": "code",
   "execution_count": 10,
   "metadata": {},
   "outputs": [
    {
     "data": {
      "application/vnd.jupyter.widget-view+json": {
       "model_id": "040455ed0100406abd0bbf4f02b16000",
       "version_major": 2,
       "version_minor": 0
      },
      "text/plain": [
       "interactive(children=(IntSlider(value=13, continuous_update=False, description='cell_size', max=600, min=1), O…"
      ]
     },
     "metadata": {},
     "output_type": "display_data"
    },
    {
     "data": {
      "application/vnd.jupyter.widget-view+json": {
       "model_id": "aba8b8bdb60647af9e9960cc7a00631f",
       "version_major": 2,
       "version_minor": 0
      },
      "text/plain": [
       "Button(description='Generate line', style=ButtonStyle())"
      ]
     },
     "metadata": {},
     "output_type": "display_data"
    },
    {
     "data": {
      "application/vnd.jupyter.widget-view+json": {
       "model_id": "667c7a048e3b49c29f4ef7742fd2a9f9",
       "version_major": 2,
       "version_minor": 0
      },
      "text/plain": [
       "Button(description='Show river', style=ButtonStyle())"
      ]
     },
     "metadata": {},
     "output_type": "display_data"
    }
   ],
   "source": [
    "generate_line = ipywidgets.Button(description='Generate line',button_style='')\n",
    "show_river = ipywidgets.Button(description='Show river',button_style='')\n",
    "cell = ipywidgets.IntSlider(value =13, min = 1, max = 600,step = 1,continuous_update=False)\n",
    "river = gp.read_file(\"data/data_lines/river.geojson\")\n",
    "\n",
    "def test_lo(cell_size):\n",
    "    ax= line_1.plot(color=\"grey\",alpha = 0.5, figsize=(10,10))\n",
    "    gp.GeoSeries(cg.li_openshaw(force_2d(line_1.geometry[0]),cell_size)).plot(ax=ax)\n",
    "    ax.axes.get_xaxis().set_visible(False)\n",
    "    ax.axes.get_yaxis().set_visible(False)\n",
    "\n",
    "def new_line(generate_line):\n",
    "    global line_1\n",
    "    points = []\n",
    "    for i in range(30):\n",
    "        points.append((i*10, random.uniform(*(0, 100)))) \n",
    "    line_1 = LineString(points)\n",
    "    line_1 = gp.GeoDataFrame(geometry=gp.GeoSeries(line_1))\n",
    "    if cell.value == 13:\n",
    "        cell.value = 12\n",
    "    else:\n",
    "        cell.value = 13\n",
    "\n",
    "def show_river_func(show_river):\n",
    "    global line_1\n",
    "    line_1 = river[(river.index == 19)]\n",
    "    line_1 = line_1.reset_index(drop=True)\n",
    "    if cell.value == 13:\n",
    "        cell.value = 12\n",
    "    else:\n",
    "        cell.value = 13\n",
    "        \n",
    "generate_line.on_click(new_line)\n",
    "show_river.on_click(show_river_func)\n",
    "\n",
    "out_test_lo = ipywidgets.interactive(test_lo,cell_size=cell)\n",
    "display(out_test_lo,generate_line, show_river)\n"
   ]
  },
  {
   "cell_type": "markdown",
   "metadata": {},
   "source": [
    "**3.3/** CartAGen's Li-Openshaw algorithm code details"
   ]
  },
  {
   "cell_type": "code",
   "execution_count": 11,
   "metadata": {},
   "outputs": [
    {
     "data": {
      "text/plain": [
       "<Axes: >"
      ]
     },
     "execution_count": 11,
     "metadata": {},
     "output_type": "execute_result"
    },
    {
     "data": {
      "image/png": "[encoded data removed]",
      "text/plain": [
       "<Figure size 1000x1000 with 1 Axes>"
      ]
     },
     "metadata": {},
     "output_type": "display_data"
    }
   ],
   "source": [
    "ax= line_1.plot(color=\"grey\",alpha = 0.5, figsize=(10,10))\n",
    "    \n",
    "gp.GeoSeries(cg.li_openshaw(force_2d(line_1.geometry[0]),35)).plot(ax=ax)"
   ]
  },
  {
   "cell_type": "markdown",
   "metadata": {},
   "source": [
    "Like Visvalingam-Whyatt algorithm, Li-Openshaw algorithm seems more suited to the simplification of natural features such as river. Moreover, it has the advantage of being faster in terms of computation time."
   ]
  },
  {
   "cell_type": "markdown",
   "metadata": {},
   "source": [
    "However, the fact that the vertices of the simplified line are not necessarly part of the original line can be a problem, resulting in irrealistic outputs in certain situations."
   ]
  },
  {
   "cell_type": "markdown",
   "metadata": {},
   "source": [
    "## **Part 4** Raposo algorithm"
   ]
  },
  {
   "cell_type": "markdown",
   "metadata": {},
   "source": [
    "This algorithm created by [Paulo Raposo](https://www.tandfonline.com/doi/abs/10.1080/15230406.2013.803707) in 2013 is similar to the Li-Openshaw algorithm, since it involves a regular grid."
   ]
  },
  {
   "cell_type": "markdown",
   "metadata": {},
   "source": [
    "The idea of the algorithm is to put a hexagonal tessallation on top of the line to simplify, the size of the cells depending on the targeted granularity of the line. Similarly to the Li-Openshaw algorithm, only one vertex is kept inside each cell. This point can be the centroid of the removed vertices, or a projection on the initial line of this centroid."
   ]
  },
  {
   "cell_type": "markdown",
   "metadata": {},
   "source": [
    "**4.1/** Principle"
   ]
  },
  {
   "cell_type": "code",
   "execution_count": 27,
   "metadata": {},
   "outputs": [
    {
     "data": {
      "application/vnd.jupyter.widget-view+json": {
       "model_id": "0794ce1a23264a2a968ce5af0b454d81",
       "version_major": 2,
       "version_minor": 0
      },
      "text/plain": [
       "Button(description='Next step', style=ButtonStyle())"
      ]
     },
     "metadata": {},
     "output_type": "display_data"
    },
    {
     "data": {
      "application/vnd.jupyter.widget-view+json": {
       "model_id": "41ff4aa4fc524c21b8cef39ffa58ae7f",
       "version_major": 2,
       "version_minor": 0
      },
      "text/plain": [
       "Button(description='Previous step', style=ButtonStyle())"
      ]
     },
     "metadata": {},
     "output_type": "display_data"
    },
    {
     "data": {
      "application/vnd.jupyter.widget-view+json": {
       "model_id": "9338f9287bd34a5380dab495b6323c63",
       "version_major": 2,
       "version_minor": 0
      },
      "text/plain": [
       "interactive(children=(IntText(value=0, description='step', disabled=True), Output()), _dom_classes=('widget-in…"
      ]
     },
     "metadata": {},
     "output_type": "display_data"
    }
   ],
   "source": [
    "next_step = ipywidgets.Button(description='Next step',button_style='')\n",
    "back_step = ipywidgets.Button(description='Previous step',button_style='')\n",
    "count_rapo = ipywidgets.IntText(value=0,disabled=True)\n",
    "line_1 = gp.read_file(\"data/data_lines/ligne.geojson\")\n",
    "line_1_vertices = gp.GeoDataFrame(geometry=gp.GeoSeries([Point(vertice) for vertice in line_1.geometry[0].coords]))\n",
    "\n",
    "def rapo(step):\n",
    "    global hexgrid\n",
    "    global pts_to_keep\n",
    "    global idx\n",
    "    if count_rapo.value == 0:\n",
    "        ax = line_1.plot(color=\"grey\",figsize=(12,12))\n",
    "        line_1_vertices.plot(ax=ax,color=\"grey\")\n",
    "        ax.axes.get_xaxis().set_visible(False)\n",
    "        ax.axes.get_yaxis().set_visible(False)\n",
    "    ###############################################\n",
    "    if count_rapo.value == 1:\n",
    "        print(\"Compute a hexagonal grid based on the extent of the line.\\nThe size of side of the grid cells is the result of this function :\\nmean length of the segment of the line * generalization factor, i.e (1/final scale)/(1/initial scale)\")\n",
    "        ax = line_1.plot(color=\"grey\",figsize=(12,12))\n",
    "        line_1_vertices.plot(ax=ax,color=\"grey\",alpha=0.5)\n",
    "        hexgrid = cg.tessellate(gp.GeoSeries(line_1.geometry[0].envelope).total_bounds, 19.7, shape='hexagonal')\n",
    "        gp.GeoDataFrame(geometry=hexgrid).plot(ax=ax,facecolor = 'None',edgecolor=\"darkblue\")\n",
    "        plt.xlim(gp.GeoSeries(line_1.geometry[0].envelope).total_bounds[0]-20, gp.GeoSeries(line_1.geometry[0].envelope).total_bounds[2]+20)\n",
    "        plt.ylim(gp.GeoSeries(line_1.geometry[0].envelope).total_bounds[1]-20, gp.GeoSeries(line_1.geometry[0].envelope).total_bounds[3]+20)\n",
    "        ax.axes.get_xaxis().set_visible(False)\n",
    "        ax.axes.get_yaxis().set_visible(False)\n",
    "    ###############################################    \n",
    "    if count_rapo.value == 2:\n",
    "        print(\"Inside each cells, retrieve the line vertices and compute their centroid.\\nThose centroids will be the vertices of the simplified line\")\n",
    "        ax = line_1_vertices.plot(color=\"grey\", figsize=(12,12))\n",
    "        gp.GeoDataFrame(geometry=hexgrid).plot(ax=ax,facecolor = 'None',edgecolor=\"darkblue\",alpha=0.5)\n",
    "        pts_to_keep = []\n",
    "        for i in range(len(hexgrid)):\n",
    "            gdf = gp.GeoDataFrame(geometry=intersection(gp.GeoSeries(hexgrid)[i], line_1_vertices.geometry))\n",
    "            gdf = gdf[~gdf.is_empty]\n",
    "            if len(gdf) > 0:\n",
    "                pts_to_compute = []\n",
    "                for j,row in gdf.iterrows():\n",
    "                    pts_to_compute.append(line_1_vertices.iloc[j].iloc[0])\n",
    "                pts_to_compute = MultiPoint(pts_to_compute)\n",
    "                pt_keep = gp.GeoSeries(centroid(pts_to_compute))\n",
    "                pt_keep.plot(ax=ax, color = \"green\")\n",
    "                pts_to_keep.append(pt_keep)\n",
    "        plt.xlim(gp.GeoSeries(line_1.geometry[0].envelope).total_bounds[0]-20, gp.GeoSeries(line_1.geometry[0].envelope).total_bounds[2]+20)\n",
    "        plt.ylim(gp.GeoSeries(line_1.geometry[0].envelope).total_bounds[1]-20, gp.GeoSeries(line_1.geometry[0].envelope).total_bounds[3]+20)\n",
    "        ax.axes.get_xaxis().set_visible(False)\n",
    "        ax.axes.get_yaxis().set_visible(False)\n",
    "    ###############################################    \n",
    "    if count_rapo.value == 3:\n",
    "        print(\"Make sure the first and last point of the original line are kept aswell\")\n",
    "        ax = line_1_vertices.plot(color=\"grey\", figsize=(12,12),alpha = 0.3)\n",
    "        gp.GeoDataFrame(geometry=hexgrid).plot(ax=ax,facecolor = 'None',edgecolor=\"darkblue\",alpha=0.5)\n",
    "        # first = gp.GeoSeries(line_1_vertices.iloc[0].geometry)\n",
    "        # first.plot(ax=ax, color = \"green\")\n",
    "        gp.GeoDataFrame(geometry=gp.GeoSeries([point[0] for point in pts_to_keep])).plot(ax=ax,color=\"grey\")\n",
    "        last = gp.GeoSeries(line_1_vertices.iloc[len(line_1_vertices)-1].geometry)\n",
    "        last.plot(ax=ax, color = \"green\")\n",
    "        #pts_to_keep.insert(0,first)\n",
    "        pts_to_keep.insert(len(pts_to_keep),last)\n",
    "        plt.xlim(gp.GeoSeries(line_1.geometry[0].envelope).total_bounds[0]-20, gp.GeoSeries(line_1.geometry[0].envelope).total_bounds[2]+20)\n",
    "        plt.ylim(gp.GeoSeries(line_1.geometry[0].envelope).total_bounds[1]-20, gp.GeoSeries(line_1.geometry[0].envelope).total_bounds[3]+20)\n",
    "        ax.axes.get_xaxis().set_visible(False)\n",
    "        ax.axes.get_yaxis().set_visible(False)\n",
    "    ###############################################    \n",
    "    if count_rapo.value == 4:\n",
    "        print(\"Compute the simplified line\")\n",
    "        ax = line_1.plot(color=\"grey\",figsize=(12,12),alpha=0.5)\n",
    "        gp.GeoDataFrame(geometry=gp.GeoSeries([point[0] for point in pts_to_keep])).plot(ax=ax)\n",
    "        #pts_to_keep[7], pts_to_keep[8] = pts_to_keep[8], pts_to_keep[7]\n",
    "        final_line = gp.GeoSeries(LineString([point[0] for point in pts_to_keep]))\n",
    "        final_line.plot(ax=ax)\n",
    "        ax.axes.get_xaxis().set_visible(False)\n",
    "        ax.axes.get_yaxis().set_visible(False)\n",
    "\n",
    "def next(next_step):\n",
    "    count_rapo.value+=1\n",
    "        \n",
    "next_step.on_click(next)\n",
    "\n",
    "def back(back_step):\n",
    "    count_rapo.value-=1\n",
    "        \n",
    "back_step.on_click(back)\n",
    "\n",
    "out_rapo = ipywidgets.interactive(rapo,step=count_rapo)\n",
    "display(next_step, back_step, out_rapo)"
   ]
  },
  {
   "cell_type": "markdown",
   "metadata": {},
   "source": [
    "**4.2/** Hands on"
   ]
  },
  {
   "cell_type": "code",
   "execution_count": 31,
   "metadata": {},
   "outputs": [
    {
     "data": {
      "application/vnd.jupyter.widget-view+json": {
       "model_id": "9417432ce7e9470a8b3d9fe465889394",
       "version_major": 2,
       "version_minor": 0
      },
      "text/plain": [
       "interactive(children=(IntText(value=1000, description='initial_scale'), IntText(value=2500, description='final…"
      ]
     },
     "metadata": {},
     "output_type": "display_data"
    },
    {
     "data": {
      "application/vnd.jupyter.widget-view+json": {
       "model_id": "cf806811030c4c39b95c0035f71e2edc",
       "version_major": 2,
       "version_minor": 0
      },
      "text/plain": [
       "Button(description='Generate line', style=ButtonStyle())"
      ]
     },
     "metadata": {},
     "output_type": "display_data"
    },
    {
     "data": {
      "application/vnd.jupyter.widget-view+json": {
       "model_id": "acf42ef11cfc49d2b4626637e0ad6e80",
       "version_major": 2,
       "version_minor": 0
      },
      "text/plain": [
       "Button(description='Show river', style=ButtonStyle())"
      ]
     },
     "metadata": {},
     "output_type": "display_data"
    }
   ],
   "source": [
    "generate_line = ipywidgets.Button(description='Generate line',button_style='')\n",
    "show_river = ipywidgets.Button(description='Show river',button_style='')\n",
    "initial_scale = ipywidgets.IntText(value=1000)\n",
    "final_scale = ipywidgets.IntText(value=2500)\n",
    "in_line = ipywidgets.Checkbox(value=True, description=\"Create new points\")  \n",
    "river = gp.read_file(\"data/data_lines/river.geojson\")\n",
    "\n",
    "def test_rapo(initial_scale, final_scale, in_line):\n",
    "    ax= line_1.plot(color=\"grey\",alpha = 0.5, figsize=(10,10))\n",
    "    gp.GeoSeries(cg.raposo(line_1.geometry[0], initial_scale, final_scale, centroid=in_line, tobler=False)).plot(ax=ax)\n",
    "    ax.axes.get_xaxis().set_visible(False)\n",
    "    ax.axes.get_yaxis().set_visible(False)\n",
    "\n",
    "def new_line(generate_line):\n",
    "    points = []\n",
    "    for i in range(30):\n",
    "        points.append((i*10, random.uniform(*(0, 100)))) \n",
    "    line_1 = LineString(points)\n",
    "    line_1 = gp.GeoDataFrame(geometry=gp.GeoSeries(line_1))\n",
    "    if initial_scale.value == 13:\n",
    "        initial_scale.value = 12\n",
    "    else:\n",
    "        initial_scale.value = 13\n",
    "\n",
    "def show_river_func(show_river):\n",
    "    line_1 = river[(river.index == 19)]\n",
    "    line_1 = line_1.reset_index(drop=True)\n",
    "    if initial_scale.value == 13:\n",
    "        initial_scale.value = 12\n",
    "    else:\n",
    "        initial_scale.value = 13\n",
    "        \n",
    "generate_line.on_click(new_line)\n",
    "show_river.on_click(show_river_func)\n",
    "\n",
    "out_test_rapo = ipywidgets.interactive(test_rapo,initial_scale=initial_scale, final_scale=final_scale, in_line=in_line)\n",
    "display(out_test_rapo,generate_line, show_river)\n"
   ]
  },
  {
   "cell_type": "code",
   "execution_count": 26,
   "metadata": {},
   "outputs": [
    {
     "data": {
      "text/plain": [
       "<Axes: >"
      ]
     },
     "execution_count": 26,
     "metadata": {},
     "output_type": "execute_result"
    },
    {
     "data": {
      "image/png": "[encoded data removed]",
      "text/plain": [
       "<Figure size 1000x1000 with 1 Axes>"
      ]
     },
     "metadata": {},
     "output_type": "display_data"
    }
   ],
   "source": [
    "ax= line_1.plot(color=\"grey\",alpha = 0.5, figsize=(10,10))\n",
    "    \n",
    "res = gp.GeoSeries(cg.raposo(line_1.geometry[0], initial_scale=1000, final_scale=2000, centroid=True, tobler=False))\n",
    "res.plot(ax=ax)"
   ]
  }
 ],
 "metadata": {
  "kernelspec": {
   "display_name": ".venv",
   "language": "python",
   "name": "python3"
  },
  "language_info": {
   "codemirror_mode": {
    "name": "ipython",
    "version": 3
   },
   "file_extension": ".py",
   "mimetype": "text/x-python",
   "name": "python",
   "nbconvert_exporter": "python",
   "pygments_lexer": "ipython3",
   "version": "3.10.12"
  }
 },
 "nbformat": 4,
 "nbformat_minor": 2
}
