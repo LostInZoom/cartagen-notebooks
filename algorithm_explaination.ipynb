{
 "cells": [
  {
   "cell_type": "markdown",
   "metadata": {},
   "source": [
    "# **Focus** : How to simplify the shape of a line/polygon ? \n",
    "## Detailed explaination of some generalization algorithms\n",
    "Press **`space bar`** to display the next slide.\n",
    "_If this Notebook doesn't appear in slideshow mode, reload the page_"
   ]
  },
  {
   "cell_type": "markdown",
   "metadata": {},
   "source": [
    "- 🙋 **For whom ?** : \n",
    "  - people who have spatial data represented by lines or polygones and wish to simplify its aspect.\n",
    "  - expert cartographers wishing to discover new simplification algorithms offered by the CartAGen tool\n",
    "  - student in algorithm class \n",
    "\n",
    "Press **`spacebar`** and **`scroll down`** to display the following message. _Reload the page if you can't scroll down._ "
   ]
  },
  {
   "cell_type": "markdown",
   "metadata": {},
   "source": [
    "\n",
    "- ❓ **What is CartAGen ?** :\n",
    "    - an **open source Python library** made by **IGN** (i.e the french national mapping agency) researchers\n",
    "    - a tool to carry out cartographic generalization processes and **automate** them\n",
    "    - a **QGIS plugin** to use the Python library in a GIS environment  \n",
    "    \n",
    "Press **`space bar`** and **`scroll down`** to show next message "
   ]
  },
  {
   "cell_type": "markdown",
   "metadata": {},
   "source": [
    "\n",
    "- 📗 **How to use this Notebook ?** : \n",
    "    - a Notebook is a document that mixes **markdown cells** (i.e. cells with formatted text like this one) and **code cells**, which you can modify and execute at will\n",
    "\n",
    "Press **`right arrow`** to show next slide and start part 0, or press **`space bar`** to show sub-slide and see useful links"
   ]
  },
  {
   "cell_type": "markdown",
   "metadata": {},
   "source": [
    "   \n",
    "- 🔗 **Useful links** : \n",
    "    - [Library repository](https://github.com/LostInZoom/cartagen4py?tab=readme-ov-file) \n",
    "    - [QGIS Plugin repository](https://github.com/LostInZoom/cartagen-qgis)\n",
    "    - [CartAGen documentation](https://cartagen.readthedocs.io/en/latest/)\n",
    "\n",
    "_by Paul Bourcier, 2024 - EUPL 1.2_\n",
    "\n",
    "Press **`space bar`** to show next slide, press **`shift + space bar`** to go backward\\\n",
    "**`Click`** question mark icon to show other shortcuts"
   ]
  },
  {
   "cell_type": "markdown",
   "metadata": {},
   "source": [
    "## ⚙️ **Part 0 :** Preparing the working environment"
   ]
  },
  {
   "cell_type": "markdown",
   "metadata": {},
   "source": [
    "Press **`space bar`** to show code cell, then press **`shift + enter`** to execute it\\\n",
    "**`*`** symbol means code output is loading"
   ]
  },
  {
   "cell_type": "code",
   "execution_count": 1,
   "metadata": {},
   "outputs": [],
   "source": [
    "# Importing libraries\n",
    "\n",
    "import cartagen as cg # the main library, containing cartographic generalization algorithms\n",
    "\n",
    "#geographic data manipulation \n",
    "import geopandas as gp # used to import and manipulate geographic data\n",
    "from shapely.geometry import Polygon, MultiPolygon, Point, LineString # Create and manipulate geometries\n",
    "from shapely.ops import linemerge, transform\n",
    "from time import sleep # Creating loading bar\n",
    "\n",
    "#displaying the data\n",
    "from matplotlib import pyplot as plt # for ploting results, especially maps\n",
    "from mpl_toolkits.axes_grid1.anchored_artists import AnchoredSizeBar # adding scalebar to the maps\n",
    "import matplotlib.colors as matcol # generating color palettes\n",
    "from matplotlib.path import Path  # Plot generation\n",
    "from matplotlib.patches import PathPatch # Plot generation\n",
    "from mpl_toolkits.axisartist.axislines import Subplot # Plot generation\n",
    "import matplotlib.colors as mcolors #generating colors \n",
    "import matplotlib.cm as cm #used to display colorbar\n",
    "import contextily as ctx # Adding basemaps\n",
    "\n",
    "#creating interactive outputs\n",
    "import ipywidgets # creation of interactive plots\n",
    "from IPython.display import display, clear_output\n",
    "import pydeck as pdk #deck.gl in Python for interactive maps\n",
    "import json #manipulating dictionnaries\n",
    "import progressbar\n",
    "import ipyleaflet #creates interactive maps\n",
    "from time import sleep\n",
    "\n",
    "# other data manipulation\n",
    "import pandas as pd # used to concatenate datas\n",
    "import numpy as np # Using mathematical operations in Python\n",
    "from sklearn import cluster #clustering methods\n",
    "\n",
    "import random #generating random numbers\n",
    "import warnings # Remove warnings\n",
    "warnings.filterwarnings(\"ignore\", category=UserWarning, message=\".*GeoDataFrame you are attempting to plot is empty.*\") # Remove user warning \n",
    "warnings.filterwarnings(\"ignore\", category=UserWarning, message=\".*CRS not set for some of the concatenation inputs.*.\")"
   ]
  },
  {
   "cell_type": "markdown",
   "metadata": {},
   "source": [
    "**Cartogaphic generalisation** refers to the processes of transforming the graphical representation of the elements of a map to lower its complexity."
   ]
  },
  {
   "cell_type": "markdown",
   "metadata": {},
   "source": [
    "Here are some examples of generalisation techniques : \n",
    "\n",
    "\n",
    "![Alt text](https://raw.githubusercontent.com/gowestmen/images/refs/heads/main/carto_generalization_operators.png)"
   ]
  },
  {
   "cell_type": "markdown",
   "metadata": {},
   "source": [
    "The need for cartographic generalisation can occurs in different situations : \n",
    "- When the map is unreadable because there are too much element on it/the elements are too small\n",
    "- In the context of sensible spatial data (ex : adresses of hospital patients), to prevent from be able to identify precise locations\n",
    "- For aestetic purposes\n",
    "- To reduce the complexity/weight of spatial data prior to other geoprocessings"
   ]
  },
  {
   "cell_type": "markdown",
   "metadata": {},
   "source": [
    "When it comes to vector data taking the form of line or polyon, that can represent feature like roads, river, administrative boundaries, etc., cartographic generalisation often consists in geometry simplification."
   ]
  },
  {
   "cell_type": "markdown",
   "metadata": {},
   "source": [
    "In **CartAGen**, there are curently four available algorithms dedicated to those techniques. Each of these algorithms have their own specifities, making them more or less suitable depending on the feature represented. Some are specialized in generalizing river, meanwhile some other seems more adapted to roads.   "
   ]
  },
  {
   "cell_type": "markdown",
   "metadata": {},
   "source": [
    "To choose wisely which of these algorithms best suits your datas, it is important to understand how they works ! This Notebook is meant to show you this.\n",
    "Here are the algorithms reviewed : \n",
    "- Douglas-Peucker algorithm\n",
    "- Visvalingam-Whyatt algorithm\n",
    "- Raposo algorithm\n",
    "- Li-Openshaw algorithm "
   ]
  },
  {
   "cell_type": "markdown",
   "metadata": {},
   "source": [
    "##  **Part 1** : Douglas-Peucker algorithm"
   ]
  },
  {
   "cell_type": "markdown",
   "metadata": {},
   "source": [
    "This line simplification algorithm created by David H. Douglas and Thomas K. Peucker. It is the oldest of the four presented here."
   ]
  },
  {
   "cell_type": "markdown",
   "metadata": {},
   "source": [
    "It is a line filtering algorithm, which means that it filters the vertices of the line (or polygon) to only retain the most important ones to preserve the shape of the line. The algorithm iteratively searches the most characteristics vertices of portions of the line and decides to retain or remove them given a distance threshold."
   ]
  },
  {
   "cell_type": "markdown",
   "metadata": {},
   "source": [
    "**1.1/** Load the line to simplify"
   ]
  },
  {
   "cell_type": "code",
   "execution_count": 2,
   "metadata": {},
   "outputs": [
    {
     "data": {
      "application/vnd.jupyter.widget-view+json": {
       "model_id": "8f3459e5d161420dae7855e345ec3ed3",
       "version_major": 2,
       "version_minor": 0
      },
      "text/plain": [
       "interactive(children=(IntSlider(value=6, continuous_update=False, description='figure_size', max=16, min=1), C…"
      ]
     },
     "metadata": {},
     "output_type": "display_data"
    }
   ],
   "source": [
    "line_1 = gp.read_file(\"data/data_lines/ligne.geojson\")\n",
    "line_1_vertices = gp.GeoDataFrame(geometry=gp.GeoSeries([Point(vertice) for vertice in line_1.geometry[0].coords]))\n",
    "load_vertices = ipywidgets.Checkbox(\n",
    "    value=False,\n",
    "    description='Show vertices'\n",
    ")\n",
    "figure_size = ipywidgets.IntSlider(value =6, min = 1, max = 16,step = 1,continuous_update=False)\n",
    "\n",
    "def load_line_1(figure_size, load_vertices):\n",
    "    ax = line_1.plot(figsize=(figure_size,figure_size))\n",
    "    ax.axes.get_xaxis().set_visible(False)\n",
    "    ax.axes.get_yaxis().set_visible(False)\n",
    "    if load_vertices == True:  \n",
    "        line_1_vertices.plot(ax=ax)\n",
    "\n",
    "out_load_line_1 = ipywidgets.interactive(load_line_1, figure_size = figure_size, load_vertices = load_vertices)\n",
    "display(out_load_line_1)"
   ]
  },
  {
   "cell_type": "markdown",
   "metadata": {},
   "source": [
    "**1.2/** Principle"
   ]
  },
  {
   "cell_type": "code",
   "execution_count": 93,
   "metadata": {},
   "outputs": [
    {
     "data": {
      "text/plain": [
       "[<POINT (667202.121 6861030.391)>,\n",
       " <POINT (667212.21 6861022.676)>,\n",
       " <POINT (667219.332 6861032.172)>,\n",
       " <POINT (667238.916 6861068.374)>,\n",
       " <POINT (667239.51 6861044.041)>,\n",
       " <POINT (667281.053 6861077.276)>]"
      ]
     },
     "execution_count": 93,
     "metadata": {},
     "output_type": "execute_result"
    }
   ],
   "source": [
    "[point.geometry[0] for point in pt_red]"
   ]
  },
  {
   "cell_type": "code",
   "execution_count": 94,
   "metadata": {},
   "outputs": [
    {
     "data": {
      "application/vnd.jupyter.widget-view+json": {
       "model_id": "57366242c35a42bc9e368469f94d89ac",
       "version_major": 2,
       "version_minor": 0
      },
      "text/plain": [
       "Button(description='Next step', style=ButtonStyle())"
      ]
     },
     "metadata": {},
     "output_type": "display_data"
    },
    {
     "data": {
      "application/vnd.jupyter.widget-view+json": {
       "model_id": "1e173fc6b41c4f97b6f312814d525a7f",
       "version_major": 2,
       "version_minor": 0
      },
      "text/plain": [
       "Button(description='Previous step', style=ButtonStyle())"
      ]
     },
     "metadata": {},
     "output_type": "display_data"
    },
    {
     "data": {
      "application/vnd.jupyter.widget-view+json": {
       "model_id": "3f981beea6c54bb5a064032efd4c9440",
       "version_major": 2,
       "version_minor": 0
      },
      "text/plain": [
       "interactive(children=(IntText(value=0, description='step', disabled=True), Output()), _dom_classes=('widget-in…"
      ]
     },
     "metadata": {},
     "output_type": "display_data"
    }
   ],
   "source": [
    "next_step = ipywidgets.Button(description='Next step',button_style='')\n",
    "back_step = ipywidgets.Button(description='Previous step',button_style='')\n",
    "count = ipywidgets.IntText(value=0,disabled=True)\n",
    "\n",
    "def dp(step):\n",
    "    global pt_red\n",
    "    global pt_green\n",
    "    if count.value == 0:\n",
    "        ax = line_1.plot(color=\"grey\")\n",
    "        line_1_vertices.plot(ax=ax,color=\"grey\")\n",
    "        ax.axes.get_xaxis().set_visible(False)\n",
    "        ax.axes.get_yaxis().set_visible(False)\n",
    "    if count.value == 1:\n",
    "        ax = line_1.plot(color=\"grey\")\n",
    "        line_1_vertices.plot(ax=ax,color=\"grey\")\n",
    "        gp.GeoDataFrame(geometry=gp.GeoSeries(LineString([line_1_vertices.geometry[0],line_1_vertices.geometry[25]]))).plot(ax=ax)\n",
    "        ax.axes.get_xaxis().set_visible(False)\n",
    "        ax.axes.get_yaxis().set_visible(False)\n",
    "        print(\"Retrieving the line formed by the first and last point\")\n",
    "    if count.value == 2:\n",
    "        print(\"The points below a certain distance are removed\")\n",
    "        ax = line_1.plot(color=\"grey\")\n",
    "        buff = gp.GeoSeries(LineString([line_1_vertices.geometry[0],line_1_vertices.geometry[25]])).buffer(15,cap_style='flat')\n",
    "        buff.plot(ax=ax,color = \"orange\", alpha = 0.5)\n",
    "        gp.GeoDataFrame(geometry=gp.GeoSeries(LineString([line_1_vertices.geometry[0],line_1_vertices.geometry[25]]))).plot(ax=ax)\n",
    "        pt_red = []\n",
    "        pt_green = []\n",
    "        for i in range(len(line_1_vertices)):\n",
    "            pt = line_1_vertices[(line_1_vertices.index == i)]\n",
    "            pt = pt.reset_index(drop=True)\n",
    "            \n",
    "            if pt.geometry.intersects(buff.geometry)[0] and i != 0 and i != 25:\n",
    "                pt.plot(ax=ax,color = \"red\")\n",
    "                pt_red.append(pt)\n",
    "            else: \n",
    "                pt.plot(ax=ax,color = \"green\")\n",
    "                pt_green.append(pt)\n",
    "        ax.axes.get_xaxis().set_visible(False)\n",
    "        ax.axes.get_yaxis().set_visible(False)\n",
    "    if count.value == 3:\n",
    "        print(\"As there are still green points, we compute two new lines with the perpendicullarly farthest point from the previous line\")\n",
    "        ax = line_1.plot(color=\"grey\")\n",
    "        gp.GeoDataFrame(geometry=gp.GeoSeries(LineString([line_1_vertices.geometry[0],line_1_vertices.geometry[25]]))).plot(ax=ax)\n",
    "       \n",
    "        gp.GeoDataFrame(geometry = [point.geometry[0] for point in pt_red]).plot(ax=ax, color='red',alpha = 0.5)\n",
    "        gp.GeoDataFrame(geometry = [point.geometry[0] for point in pt_green]).plot(ax=ax, color='green')\n",
    "\n",
    "\n",
    "        ax.axes.get_xaxis().set_visible(False)\n",
    "        ax.axes.get_yaxis().set_visible(False)\n",
    "\n",
    "def next(next_step):\n",
    "    count.value+=1\n",
    "        \n",
    "next_step.on_click(next)\n",
    "\n",
    "def back(back_step):\n",
    "    count.value-=1\n",
    "        \n",
    "back_step.on_click(back)\n",
    "\n",
    "out_dp = ipywidgets.interactive(dp,step=count)\n",
    "display(next_step, back_step, out_dp)"
   ]
  },
  {
   "cell_type": "code",
   "execution_count": null,
   "metadata": {},
   "outputs": [],
   "source": [
    "for i in range(len(com)):\n",
    "    com_simp.append(cg.douglas_peucker(list(com.geometry)[i], 200,False))\n",
    "gp.GeoDataFrame(geometry = com_simp).plot()"
   ]
  }
 ],
 "metadata": {
  "kernelspec": {
   "display_name": ".venv",
   "language": "python",
   "name": "python3"
  },
  "language_info": {
   "codemirror_mode": {
    "name": "ipython",
    "version": 3
   },
   "file_extension": ".py",
   "mimetype": "text/x-python",
   "name": "python",
   "nbconvert_exporter": "python",
   "pygments_lexer": "ipython3",
   "version": "3.10.12"
  }
 },
 "nbformat": 4,
 "nbformat_minor": 2
}
