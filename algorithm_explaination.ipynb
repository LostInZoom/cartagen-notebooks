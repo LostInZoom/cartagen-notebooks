{
 "cells": [
  {
   "cell_type": "markdown",
   "metadata": {},
   "source": [
    "# **Focus** : How to simplify the shape of a line/polygon ? \n",
    "## Detailed explaination of some generalization algorithms\n",
    "Press **`space bar`** to display the next slide.\n",
    "_If this Notebook doesn't appear in slideshow mode, reload the page_"
   ]
  },
  {
   "cell_type": "markdown",
   "metadata": {},
   "source": [
    "- 🙋 **For whom ?** : \n",
    "  - people who have spatial data represented by lines or polygones and wish to simplify its aspect.\n",
    "  - expert cartographers wishing to discover new simplification algorithms offered by the CartAGen tool\n",
    "  - student in algorithm class \n",
    "\n",
    "Press **`spacebar`** and **`scroll down`** to display the following message. _Reload the page if you can't scroll down._ "
   ]
  },
  {
   "cell_type": "markdown",
   "metadata": {},
   "source": [
    "\n",
    "- ❓ **What is CartAGen ?** :\n",
    "    - an **open source Python library** made by **IGN** (i.e the french national mapping agency) researchers\n",
    "    - a tool to carry out cartographic generalization processes and **automate** them\n",
    "    - a **QGIS plugin** to use the Python library in a GIS environment  \n",
    "    \n",
    "Press **`space bar`** and **`scroll down`** to show next message "
   ]
  },
  {
   "cell_type": "markdown",
   "metadata": {},
   "source": [
    "\n",
    "- 📗 **How to use this Notebook ?** : \n",
    "    - a Notebook is a document that mixes **markdown cells** (i.e. cells with formatted text like this one) and **code cells**, which you can modify and execute at will\n",
    "\n",
    "Press **`right arrow`** to show next slide and start part 0, or press **`space bar`** to show sub-slide and see useful links"
   ]
  },
  {
   "cell_type": "markdown",
   "metadata": {},
   "source": [
    "   \n",
    "- 🔗 **Useful links** : \n",
    "    - [Library repository](https://github.com/LostInZoom/cartagen4py?tab=readme-ov-file) \n",
    "    - [QGIS Plugin repository](https://github.com/LostInZoom/cartagen-qgis)\n",
    "    - [CartAGen documentation](https://cartagen.readthedocs.io/en/latest/)\n",
    "\n",
    "_by Paul Bourcier, 2024 - EUPL 1.2_\n",
    "\n",
    "Press **`space bar`** to show next slide, press **`shift + space bar`** to go backward\\\n",
    "**`Click`** question mark icon to show other shortcuts"
   ]
  },
  {
   "cell_type": "markdown",
   "metadata": {},
   "source": [
    "## ⚙️ **Part 0 :** Preparing the working environment"
   ]
  },
  {
   "cell_type": "markdown",
   "metadata": {},
   "source": [
    "Press **`space bar`** to show code cell, then press **`shift + enter`** to execute it\\\n",
    "**`*`** symbol means code output is loading"
   ]
  },
  {
   "cell_type": "code",
   "execution_count": 1,
   "metadata": {},
   "outputs": [],
   "source": [
    "# Importing libraries\n",
    "\n",
    "import cartagen as cg # the main library, containing cartographic generalization algorithms\n",
    "\n",
    "#geographic data manipulation \n",
    "import geopandas as gp # used to import and manipulate geographic data\n",
    "from shapely.geometry import Polygon, MultiPolygon, Point, LineString # Create and manipulate geometries\n",
    "from shapely.ops import linemerge, transform\n",
    "from shapely import line_interpolate_point\n",
    "from time import sleep # Creating loading bar\n",
    "\n",
    "#displaying the data\n",
    "from matplotlib import pyplot as plt # for ploting results, especially maps\n",
    "from mpl_toolkits.axes_grid1.anchored_artists import AnchoredSizeBar # adding scalebar to the maps\n",
    "import matplotlib.colors as matcol # generating color palettes\n",
    "from matplotlib.path import Path  # Plot generation\n",
    "from matplotlib.patches import PathPatch # Plot generation\n",
    "from mpl_toolkits.axisartist.axislines import Subplot # Plot generation\n",
    "import matplotlib.colors as mcolors #generating colors \n",
    "import matplotlib.cm as cm #used to display colorbar\n",
    "import contextily as ctx # Adding basemaps\n",
    "\n",
    "#creating interactive outputs\n",
    "import ipywidgets # creation of interactive plots\n",
    "from IPython.display import display, clear_output\n",
    "import pydeck as pdk #deck.gl in Python for interactive maps\n",
    "import json #manipulating dictionnaries\n",
    "import progressbar\n",
    "import ipyleaflet #creates interactive maps\n",
    "from time import sleep\n",
    "\n",
    "# other data manipulation\n",
    "import pandas as pd # used to concatenate datas\n",
    "import numpy as np # Using mathematical operations in Python\n",
    "from sklearn import cluster #clustering methods\n",
    "\n",
    "import random #generating random numbers\n",
    "import warnings # Remove warnings\n",
    "warnings.filterwarnings(\"ignore\", category=UserWarning, message=\".*GeoDataFrame you are attempting to plot is empty.*\") # Remove user warning \n",
    "warnings.filterwarnings(\"ignore\", category=UserWarning, message=\".*CRS not set for some of the concatenation inputs.*.\")"
   ]
  },
  {
   "cell_type": "markdown",
   "metadata": {},
   "source": [
    "**Cartogaphic generalisation** refers to the processes of transforming the graphical representation of the elements of a map to lower its complexity."
   ]
  },
  {
   "cell_type": "markdown",
   "metadata": {},
   "source": [
    "Here are some examples of generalisation techniques : \n",
    "\n",
    "\n",
    "![Alt text](https://raw.githubusercontent.com/gowestmen/images/refs/heads/main/carto_generalization_operators.png)"
   ]
  },
  {
   "cell_type": "markdown",
   "metadata": {},
   "source": [
    "The need for cartographic generalisation can occurs in different situations : \n",
    "- When the map is unreadable because there are too much element on it/the elements are too small\n",
    "- In the context of sensible spatial data (ex : adresses of hospital patients), to prevent from be able to identify precise locations\n",
    "- For aestetic purposes\n",
    "- To reduce the complexity/weight of spatial data prior to other geoprocessings"
   ]
  },
  {
   "cell_type": "markdown",
   "metadata": {},
   "source": [
    "When it comes to vector data taking the form of line or polyon, that can represent feature like roads, river, administrative boundaries, etc., cartographic generalisation often consists in geometry simplification."
   ]
  },
  {
   "cell_type": "markdown",
   "metadata": {},
   "source": [
    "In **CartAGen**, there are curently four available algorithms dedicated to those techniques. Each of these algorithms have their own specifities, making them more or less suitable depending on the feature represented. Some are specialized in generalizing river, meanwhile some other seems more adapted to roads.   "
   ]
  },
  {
   "cell_type": "markdown",
   "metadata": {},
   "source": [
    "To choose wisely which of these algorithms best suits your datas, it is important to understand how they works ! This Notebook is meant to show you this.\n",
    "Here are the algorithms reviewed : \n",
    "- Douglas-Peucker algorithm\n",
    "- Visvalingam-Whyatt algorithm\n",
    "- Raposo algorithm\n",
    "- Li-Openshaw algorithm "
   ]
  },
  {
   "cell_type": "markdown",
   "metadata": {},
   "source": [
    "##  **Part 1** : Douglas-Peucker algorithm"
   ]
  },
  {
   "cell_type": "markdown",
   "metadata": {},
   "source": [
    "This line simplification algorithm created by David H. Douglas and Thomas K. Peucker. It is the oldest of the four presented here."
   ]
  },
  {
   "cell_type": "markdown",
   "metadata": {},
   "source": [
    "It is a line filtering algorithm, which means that it filters the vertices of the line (or polygon) to only retain the most important ones to preserve the shape of the line. The algorithm iteratively searches the most characteristics vertices of portions of the line and decides to retain or remove them given a distance threshold."
   ]
  },
  {
   "cell_type": "markdown",
   "metadata": {},
   "source": [
    "**1.1/** Load the line to simplify"
   ]
  },
  {
   "cell_type": "code",
   "execution_count": 2,
   "metadata": {},
   "outputs": [
    {
     "data": {
      "application/vnd.jupyter.widget-view+json": {
       "model_id": "1fa1394e184b49afa66c46ff6ab9f30d",
       "version_major": 2,
       "version_minor": 0
      },
      "text/plain": [
       "interactive(children=(IntSlider(value=6, continuous_update=False, description='figure_size', max=16, min=1), C…"
      ]
     },
     "metadata": {},
     "output_type": "display_data"
    }
   ],
   "source": [
    "line_1 = gp.read_file(\"data/data_lines/ligne.geojson\")\n",
    "line_1_vertices = gp.GeoDataFrame(geometry=gp.GeoSeries([Point(vertice) for vertice in line_1.geometry[0].coords]))\n",
    "load_vertices = ipywidgets.Checkbox(\n",
    "    value=False,\n",
    "    description='Show vertices'\n",
    ")\n",
    "figure_size = ipywidgets.IntSlider(value =6, min = 1, max = 16,step = 1,continuous_update=False)\n",
    "\n",
    "def load_line_1(figure_size, load_vertices):\n",
    "    ax = line_1.plot(figsize=(figure_size,figure_size))\n",
    "    ax.axes.get_xaxis().set_visible(False)\n",
    "    ax.axes.get_yaxis().set_visible(False)\n",
    "    if load_vertices == True:  \n",
    "        line_1_vertices.plot(ax=ax)\n",
    "\n",
    "out_load_line_1 = ipywidgets.interactive(load_line_1, figure_size = figure_size, load_vertices = load_vertices)\n",
    "display(out_load_line_1)"
   ]
  },
  {
   "cell_type": "markdown",
   "metadata": {},
   "source": [
    "**1.2/** Principle"
   ]
  },
  {
   "cell_type": "code",
   "execution_count": 3,
   "metadata": {},
   "outputs": [
    {
     "data": {
      "application/vnd.jupyter.widget-view+json": {
       "model_id": "7405d7aa26d6449a910815c33e8c0bdd",
       "version_major": 2,
       "version_minor": 0
      },
      "text/plain": [
       "Button(description='Next step', style=ButtonStyle())"
      ]
     },
     "metadata": {},
     "output_type": "display_data"
    },
    {
     "data": {
      "application/vnd.jupyter.widget-view+json": {
       "model_id": "f4f0ec0a63d9469681a50248ef750084",
       "version_major": 2,
       "version_minor": 0
      },
      "text/plain": [
       "Button(description='Previous step', style=ButtonStyle())"
      ]
     },
     "metadata": {},
     "output_type": "display_data"
    },
    {
     "data": {
      "application/vnd.jupyter.widget-view+json": {
       "model_id": "c5993cdf622e487c9a94299e79741917",
       "version_major": 2,
       "version_minor": 0
      },
      "text/plain": [
       "interactive(children=(IntText(value=0, description='step', disabled=True), Output()), _dom_classes=('widget-in…"
      ]
     },
     "metadata": {},
     "output_type": "display_data"
    }
   ],
   "source": [
    "next_step = ipywidgets.Button(description='Next step',button_style='')\n",
    "back_step = ipywidgets.Button(description='Previous step',button_style='')\n",
    "count = ipywidgets.IntText(value=0,disabled=True)\n",
    "\n",
    "def dp(step):\n",
    "    global pt_red\n",
    "    global pt_green\n",
    "    global second_line_1\n",
    "    global second_line_2\n",
    "    global farthest_pt_1\n",
    "    global farthest_pt_2\n",
    "    global third_line_1\n",
    "    global third_line_2\n",
    "    global fourth_line_1\n",
    "    global fourth_line_2\n",
    "    global gdf_red\n",
    "    global gdf_green\n",
    "    if count.value == 0:\n",
    "        ax = line_1.plot(color=\"grey\",figsize=(12,12))\n",
    "        line_1_vertices.plot(ax=ax,color=\"grey\")\n",
    "        ax.axes.get_xaxis().set_visible(False)\n",
    "        ax.axes.get_yaxis().set_visible(False)\n",
    "    if count.value == 1:\n",
    "        ax = line_1.plot(color=\"grey\",figsize=(12,12))\n",
    "        line_1_vertices.plot(ax=ax,color=\"grey\")\n",
    "        gp.GeoDataFrame(geometry=gp.GeoSeries(LineString([line_1_vertices.geometry[0],line_1_vertices.geometry[len(line_1_vertices)-1]]))).plot(ax=ax)\n",
    "        ax.axes.get_xaxis().set_visible(False)\n",
    "        ax.axes.get_yaxis().set_visible(False)\n",
    "        print(\"Retrieving the line formed by the first and last point\")\n",
    "    if count.value == 2:\n",
    "        print(\"Checking if there are vertices above the length threshold\")\n",
    "        ax = line_1.plot(color=\"grey\",figsize=(12,12))\n",
    "        buff = gp.GeoSeries(LineString([line_1_vertices.geometry[0],line_1_vertices.geometry[len(line_1_vertices)-1]])).buffer(13,cap_style='flat')\n",
    "        buff.plot(ax=ax,color = \"orange\", alpha = 0.5)\n",
    "        gp.GeoDataFrame(geometry=gp.GeoSeries(LineString([line_1_vertices.geometry[0],line_1_vertices.geometry[len(line_1_vertices)-1]]))).plot(ax=ax)\n",
    "        pt_red = []\n",
    "        pt_green = []\n",
    "        for i in range(len(line_1_vertices)):\n",
    "            pt = line_1_vertices[(line_1_vertices.index == i)].geometry\n",
    "            pt = pt.reset_index(drop=True)\n",
    "            \n",
    "            if pt.intersects(buff.geometry)[0]:\n",
    "                pt.plot(ax=ax,color = \"grey\")\n",
    "                pt_red.append(pt)\n",
    "            else: \n",
    "                pt.plot(ax=ax,color = \"green\")\n",
    "                pt_green.append(pt)\n",
    "        gdf_red = gp.GeoDataFrame(geometry = gp.GeoSeries([point[0] for point in pt_red]))\n",
    "        gdf_green = gp.GeoDataFrame(geometry = gp.GeoSeries([point[0] for point in pt_green]))\n",
    "        ax.axes.get_xaxis().set_visible(False)\n",
    "        ax.axes.get_yaxis().set_visible(False)\n",
    "    if count.value == 3:\n",
    "        print(\"As there are vertices above the length threshold, \\nwe compute two new lines with the perpendicullarly farthest point from the previous line\")\n",
    "        first_line = gp.GeoDataFrame(geometry=gp.GeoSeries(LineString([line_1_vertices.geometry[0],line_1_vertices.geometry[len(line_1_vertices)-1]])))\n",
    "        ax = first_line.plot(linestyle = 'dashed',figsize=(12,12))\n",
    "        line_1.plot(color=\"grey\",ax=ax, alpha=0.5)\n",
    "        gdf_red.plot(ax=ax, color='grey', alpha=0.5)\n",
    "        gdf_green.plot(ax=ax, color='grey', alpha=0.5)\n",
    "    \n",
    "        gdf_green['distance'] = gdf_green.geometry.apply(lambda point: point.distance(first_line.geometry[0]))\n",
    "        farthest_pt_1 = gdf_green[(gdf_green['distance'] == max(gdf_green['distance']))].geometry[gdf_green[(gdf_green['distance'] == max(gdf_green['distance']))].geometry.index[0]]\n",
    "        second_line_1 = gp.GeoDataFrame(geometry=gp.GeoSeries(LineString([line_1_vertices.geometry[0],farthest_pt_1])))\n",
    "        second_line_2 = gp.GeoDataFrame(geometry=gp.GeoSeries(LineString([farthest_pt_1,line_1_vertices.geometry[len(line_1_vertices)-1]])))\n",
    "        second_line_1.plot(ax=ax)\n",
    "        second_line_2.plot(ax=ax)\n",
    "        \n",
    "        seg_length = np.sqrt(abs(gdf_green[(gdf_green['distance'] == max(gdf_green['distance']))]['distance'].iloc[0]**2-second_line_1.geometry.length.iloc[0]**2))\n",
    "        perpen_line = gp.GeoDataFrame(geometry=gp.GeoSeries(LineString([farthest_pt_1,line_interpolate_point(first_line, seg_length).geometry[0]])))\n",
    "        perpen_line.plot(ax=ax,linestyle='dashed')\n",
    "        ax.axes.get_xaxis().set_visible(False)\n",
    "        ax.axes.get_yaxis().set_visible(False)\n",
    "    if count.value == 4:\n",
    "        pt_green_2 = []\n",
    "        pt_red_2 = []\n",
    "        print(\"Checking the vectrice - line distance like in step 2, but with the new computed lines\")\n",
    "        ax = line_1.plot(color=\"grey\",figsize=(12,12))\n",
    "        buff_2 = second_line_1.geometry.buffer(13,cap_style='flat')\n",
    "        buff_2.plot(ax=ax,color = \"orange\", alpha = 0.5)\n",
    "        buff_3 = second_line_2.geometry.buffer(13,cap_style='flat')\n",
    "        buff_3.plot(ax=ax,color = \"orange\", alpha = 0.5)\n",
    "        second_line_1.plot(ax=ax)\n",
    "        second_line_2.plot(ax=ax)\n",
    "        counter = 0\n",
    "        for i in range(len(line_1_vertices)):\n",
    "            pt = line_1_vertices[(line_1_vertices.index == i)].geometry\n",
    "            pt = pt.reset_index(drop=True)\n",
    "            counter += 1\n",
    "            if pt.intersects(buff_2)[0] or pt.intersects(buff_3)[0]:\n",
    "                pt.plot(ax=ax,color = \"grey\")\n",
    "                pt_red_2.append(pt)\n",
    "            else: \n",
    "                pt.plot(ax=ax,color = \"green\")\n",
    "                pt_green_2.append(pt)\n",
    "        pt_green = [pt[0] for pt in pt_green_2]\n",
    "        pt_red = [pt[0] for pt in pt_red_2]\n",
    "        ax.axes.get_xaxis().set_visible(False)\n",
    "        ax.axes.get_yaxis().set_visible(False)\n",
    "        gdf_red = gp.GeoDataFrame(geometry = pt_red)\n",
    "        gdf_green = gp.GeoDataFrame(geometry = pt_green)\n",
    "    if count.value == 5:\n",
    "        print(\"Compute new lines since there are vertices above length threshold.\")\n",
    "        second_line_1 = gp.GeoDataFrame(geometry=gp.GeoSeries(LineString([line_1_vertices.geometry[0],farthest_pt_1])))\n",
    "        second_line_2 = gp.GeoDataFrame(geometry=gp.GeoSeries(LineString([farthest_pt_1,line_1_vertices.geometry[len(line_1_vertices)-1]])))\n",
    "        ax = second_line_1.plot(linestyle = 'dashed',figsize=(12,12))\n",
    "        second_line_2.plot(ax=ax,linestyle = 'dashed')\n",
    "        line_1.plot(color=\"grey\",ax=ax, alpha = 0.5)\n",
    "        line_1_vertices.plot(ax=ax, color='grey', alpha=0.5)\n",
    "        \n",
    "        gdf_green['distance'] = gdf_green.geometry.apply(lambda point: point.distance(second_line_1.geometry[0]))\n",
    "        farthest_pt_2 = pt_green[0]\n",
    "        third_line_1 = gp.GeoDataFrame(geometry=gp.GeoSeries(LineString([line_1_vertices.geometry[0],farthest_pt_2])))\n",
    "        third_line_1.plot(ax=ax)\n",
    "        third_line_2 = gp.GeoDataFrame(geometry=gp.GeoSeries(LineString([farthest_pt_2,farthest_pt_1])))\n",
    "        third_line_2.plot(ax=ax)\n",
    "        \n",
    "        seg_length = np.sqrt(abs(gdf_green['distance'].iloc[0]**2-third_line_1.geometry.length.iloc[0]**2))\n",
    "        perpen_line = gp.GeoDataFrame(geometry=gp.GeoSeries(LineString([farthest_pt_2,line_interpolate_point(second_line_1, seg_length).geometry[0]])))\n",
    "        perpen_line.plot(ax=ax,linestyle='dashed')\n",
    "        ax.axes.get_xaxis().set_visible(False)\n",
    "        ax.axes.get_yaxis().set_visible(False)\n",
    "    if count.value == 6:\n",
    "        pt_green_2 = []\n",
    "        pt_red_2 = []\n",
    "        print(\"Checking the vectrice - line distance like in step 2, but with the new computed lines\")\n",
    "        ax = line_1.plot(color=\"grey\",figsize=(12,12))\n",
    "        buff_4 = third_line_1.geometry.buffer(13,cap_style='flat')\n",
    "        buff_4.plot(ax=ax,color = \"orange\", alpha = 0.5)\n",
    "        buff_5 = third_line_2.geometry.buffer(13,cap_style='flat')\n",
    "        buff_5.plot(ax=ax,color = \"orange\", alpha = 0.5)\n",
    "        buff_3 = second_line_2.geometry.buffer(13,cap_style='flat')\n",
    "        buff_3.plot(ax=ax,color = \"orange\", alpha = 0.5)\n",
    "    \n",
    "        third_line_1.plot(ax=ax)\n",
    "        third_line_2.plot(ax=ax)\n",
    "        second_line_2.plot(ax=ax)\n",
    "        counter = 0\n",
    "        for i in range(len(line_1_vertices)):\n",
    "            pt = line_1_vertices[(line_1_vertices.index == i)].geometry\n",
    "            pt = pt.reset_index(drop=True)\n",
    "            counter += 1\n",
    "            if (pt.intersects(buff_4)[0] or pt.intersects(buff_5)[0] or pt.intersects(buff_3)[0]):\n",
    "                pt.plot(ax=ax,color = \"grey\")\n",
    "                pt_red_2.append(pt)\n",
    "            else: \n",
    "                pt.plot(ax=ax,color = \"green\")\n",
    "                pt_green_2.append(pt)\n",
    "        pt_green = [pt[0] for pt in pt_green_2]\n",
    "        pt_red = [pt[0] for pt in pt_red_2]\n",
    "        ax.axes.get_xaxis().set_visible(False)\n",
    "        ax.axes.get_yaxis().set_visible(False)\n",
    "        gdf_red = gp.GeoDataFrame(geometry = pt_red)\n",
    "        gdf_green = gp.GeoDataFrame(geometry = pt_green)\n",
    "    if count.value == 7:\n",
    "        print(\"Compute new lines since there are vertices above length threshold.\")\n",
    "        ax = second_line_2.plot(linestyle = 'dashed',figsize=(12,12))\n",
    "        third_line_1.plot(ax=ax,linestyle = 'dashed')\n",
    "        third_line_2.plot(ax=ax,linestyle = 'dashed')\n",
    "        line_1.plot(color=\"grey\",ax=ax, alpha = 0.5)\n",
    "        line_1_vertices.plot(ax=ax, color='grey', alpha=0.5)\n",
    "        \n",
    "        gdf_green['distance'] = gdf_green.geometry.apply(lambda point: point.distance(third_line_1.geometry[0]))\n",
    "        farthest_pt_3 = pt_green[1]\n",
    "        fourth_line_1 = gp.GeoDataFrame(geometry=gp.GeoSeries(LineString([line_1_vertices.geometry[0],farthest_pt_3])))\n",
    "        fourth_line_1.plot(ax=ax)\n",
    "        fourth_line_2 = gp.GeoDataFrame(geometry=gp.GeoSeries(LineString([farthest_pt_3,farthest_pt_2])))\n",
    "        fourth_line_2.plot(ax=ax)\n",
    "        \n",
    "        seg_length = np.sqrt(abs(gdf_green['distance'].iloc[1]**2-fourth_line_2.geometry.length.iloc[0]**2))\n",
    "        perpen_line = gp.GeoDataFrame(geometry=gp.GeoSeries(LineString([farthest_pt_3,line_interpolate_point(third_line_1, -seg_length).geometry[0]])))\n",
    "        perpen_line.plot(ax=ax,linestyle='dashed')\n",
    "        ax.axes.get_xaxis().set_visible(False)\n",
    "        ax.axes.get_yaxis().set_visible(False)\n",
    "    if count.value == 8:\n",
    "        print(\"Get the final simplified line thanks to the selected vertices\")\n",
    "        ax = line_1.plot(color=\"grey\",alpha=0.5,figsize=(12,12))\n",
    "        fourth_line_1.plot(ax=ax)\n",
    "        fourth_line_2.plot(ax=ax)\n",
    "        third_line_2.plot(ax=ax)\n",
    "        second_line_2.plot(ax=ax)\n",
    "        for i in range(len(line_1_vertices)):\n",
    "            pt = line_1_vertices[(line_1_vertices.index == i)].geometry\n",
    "            pt = pt.reset_index(drop=True)\n",
    "            if pt.touches(fourth_line_1.geometry)[0] or pt.touches(fourth_line_2.geometry)[0] or pt.touches(third_line_2.geometry)[0] or pt.touches(second_line_2.geometry)[0]:\n",
    "                pt.plot(ax=ax)\n",
    "        ax.axes.get_xaxis().set_visible(False)\n",
    "        ax.axes.get_yaxis().set_visible(False)\n",
    "\n",
    "def next(next_step):\n",
    "    count.value+=1\n",
    "        \n",
    "next_step.on_click(next)\n",
    "\n",
    "def back(back_step):\n",
    "    count.value-=1\n",
    "        \n",
    "back_step.on_click(back)\n",
    "\n",
    "out_dp = ipywidgets.interactive(dp,step=count)\n",
    "display(next_step, back_step, out_dp)"
   ]
  },
  {
   "cell_type": "markdown",
   "metadata": {},
   "source": [
    "**1.3/** Hands on"
   ]
  },
  {
   "cell_type": "code",
   "execution_count": 39,
   "metadata": {},
   "outputs": [
    {
     "data": {
      "application/vnd.jupyter.widget-view+json": {
       "model_id": "b7ed9a5807284bbb9665b21bb48eaab8",
       "version_major": 2,
       "version_minor": 0
      },
      "text/plain": [
       "interactive(children=(IntSlider(value=13, continuous_update=False, description='length_thshld', max=5000, min=…"
      ]
     },
     "metadata": {},
     "output_type": "display_data"
    },
    {
     "data": {
      "application/vnd.jupyter.widget-view+json": {
       "model_id": "3834f50734aa4d82a511f3c3136b5daf",
       "version_major": 2,
       "version_minor": 0
      },
      "text/plain": [
       "Button(description='Generate line', style=ButtonStyle())"
      ]
     },
     "metadata": {},
     "output_type": "display_data"
    },
    {
     "data": {
      "application/vnd.jupyter.widget-view+json": {
       "model_id": "b158a599d03646d69acadeb3142011b5",
       "version_major": 2,
       "version_minor": 0
      },
      "text/plain": [
       "Button(description='Show Brittany', style=ButtonStyle())"
      ]
     },
     "metadata": {},
     "output_type": "display_data"
    }
   ],
   "source": [
    "generate_line = ipywidgets.Button(description='Generate line',button_style='')\n",
    "show_brit = ipywidgets.Button(description='Show Brittany',button_style='')\n",
    "length = ipywidgets.IntSlider(value =13, min = 1, max = 5000,step = 1,continuous_update=False)\n",
    "brit = gp.read_file(\"data/puntos/brittany.geojson\")\n",
    "\n",
    "def test_dp(length_thshld):\n",
    "    ax= line_1.plot(color=\"grey\",alpha = 0.7, figsize=(12,12))\n",
    "    gp.GeoDataFrame(geometry = cg.douglas_peucker(list(line_1.geometry), length_thshld,False)).plot(ax=ax)\n",
    "    ax.set_aspect('equal')\n",
    "    ax.axes.get_xaxis().set_visible(False)\n",
    "    ax.axes.get_yaxis().set_visible(False)\n",
    "\n",
    "def new_line(generate_line):\n",
    "    global line_1\n",
    "    points = []\n",
    "    for i in range(20):\n",
    "        points.append((i*1000, random.uniform(*(0, 5000)))) \n",
    "    line_1 = LineString(points)\n",
    "    line_1 = gp.GeoDataFrame(geometry=gp.GeoSeries(line_1))\n",
    "    if length.value == 13:\n",
    "        length.value = 12\n",
    "    else:\n",
    "        length.value = 13\n",
    "\n",
    "def show_brit_func(show_brit):\n",
    "    global line_1\n",
    "    line_1 = brit\n",
    "    if length.value == 13:\n",
    "        length.value = 12\n",
    "    else:\n",
    "        length.value = 13\n",
    "        \n",
    "generate_line.on_click(new_line)\n",
    "show_brit.on_click(show_brit_func)\n",
    "\n",
    "out_test_dp = ipywidgets.interactive(test_dp,length_thshld=length)\n",
    "display(out_test_dp,generate_line, show_brit)"
   ]
  },
  {
   "cell_type": "markdown",
   "metadata": {},
   "source": [
    "Eventhough Douglas-Peucker algorithm is easy to use and to understand (only one parameter is required), the resulting simplified geometry has often a lot of unsmooth angles. This \"sharp\" aspect is not ideal when generalizing natural features, such as rivers or coasts (as we can see with Brittany in our example)."
   ]
  },
  {
   "cell_type": "markdown",
   "metadata": {},
   "source": [
    "**1.3/** Douglas-Peucker algorithm in CartAGen"
   ]
  },
  {
   "cell_type": "code",
   "execution_count": 73,
   "metadata": {},
   "outputs": [
    {
     "data": {
      "text/plain": [
       "<Axes: >"
      ]
     },
     "execution_count": 73,
     "metadata": {},
     "output_type": "execute_result"
    }
   ],
   "source": [
    "res = cg.douglas_peucker(list(line_1.geometry), threshold=13 ,preserve_topology=False) #in this example, \"line_1\" is a GeoDataFrame\n",
    "\n",
    "gp.GeoDataFrame(geometry = res).plot(ax=ax)"
   ]
  }
 ],
 "metadata": {
  "kernelspec": {
   "display_name": ".venv",
   "language": "python",
   "name": "python3"
  },
  "language_info": {
   "codemirror_mode": {
    "name": "ipython",
    "version": 3
   },
   "file_extension": ".py",
   "mimetype": "text/x-python",
   "name": "python",
   "nbconvert_exporter": "python",
   "pygments_lexer": "ipython3",
   "version": "3.10.12"
  }
 },
 "nbformat": 4,
 "nbformat_minor": 2
}
