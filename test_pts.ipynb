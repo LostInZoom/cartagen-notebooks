{
 "cells": [
  {
   "cell_type": "code",
   "execution_count": 1,
   "metadata": {},
   "outputs": [],
   "source": [
    "import geopandas as gp\n",
    "import cartagen as cg"
   ]
  },
  {
   "cell_type": "code",
   "execution_count": 22,
   "metadata": {},
   "outputs": [],
   "source": [
    "pts =gp.read_file(\"data/puntos/crepes.geojson\")\n",
    "poly = gp.read_file(\"test_build.geojson\")"
   ]
  },
  {
   "cell_type": "code",
   "execution_count": 42,
   "metadata": {},
   "outputs": [
    {
     "data": {
      "text/html": [
       "<div>\n",
       "<style scoped>\n",
       "    .dataframe tbody tr th:only-of-type {\n",
       "        vertical-align: middle;\n",
       "    }\n",
       "\n",
       "    .dataframe tbody tr th {\n",
       "        vertical-align: top;\n",
       "    }\n",
       "\n",
       "    .dataframe thead th {\n",
       "        text-align: right;\n",
       "    }\n",
       "</style>\n",
       "<table border=\"1\" class=\"dataframe\">\n",
       "  <thead>\n",
       "    <tr style=\"text-align: right;\">\n",
       "      <th></th>\n",
       "      <th>geometry</th>\n",
       "      <th>count</th>\n",
       "    </tr>\n",
       "  </thead>\n",
       "  <tbody>\n",
       "    <tr>\n",
       "      <th>0</th>\n",
       "      <td>POLYGON ((105388.041 6708758.443, 110388.041 6...</td>\n",
       "      <td>NaN</td>\n",
       "    </tr>\n",
       "    <tr>\n",
       "      <th>1</th>\n",
       "      <td>POLYGON ((105388.041 6713758.443, 110388.041 6...</td>\n",
       "      <td>NaN</td>\n",
       "    </tr>\n",
       "    <tr>\n",
       "      <th>2</th>\n",
       "      <td>POLYGON ((105388.041 6718758.443, 110388.041 6...</td>\n",
       "      <td>NaN</td>\n",
       "    </tr>\n",
       "    <tr>\n",
       "      <th>3</th>\n",
       "      <td>POLYGON ((105388.041 6723758.443, 110388.041 6...</td>\n",
       "      <td>NaN</td>\n",
       "    </tr>\n",
       "    <tr>\n",
       "      <th>4</th>\n",
       "      <td>POLYGON ((105388.041 6728758.443, 110388.041 6...</td>\n",
       "      <td>NaN</td>\n",
       "    </tr>\n",
       "    <tr>\n",
       "      <th>...</th>\n",
       "      <td>...</td>\n",
       "      <td>...</td>\n",
       "    </tr>\n",
       "    <tr>\n",
       "      <th>1990</th>\n",
       "      <td>POLYGON ((385388.041 6858758.443, 390388.041 6...</td>\n",
       "      <td>NaN</td>\n",
       "    </tr>\n",
       "    <tr>\n",
       "      <th>1991</th>\n",
       "      <td>POLYGON ((385388.041 6863758.443, 390388.041 6...</td>\n",
       "      <td>NaN</td>\n",
       "    </tr>\n",
       "    <tr>\n",
       "      <th>1992</th>\n",
       "      <td>POLYGON ((385388.041 6868758.443, 390388.041 6...</td>\n",
       "      <td>NaN</td>\n",
       "    </tr>\n",
       "    <tr>\n",
       "      <th>1993</th>\n",
       "      <td>POLYGON ((385388.041 6873758.443, 390388.041 6...</td>\n",
       "      <td>NaN</td>\n",
       "    </tr>\n",
       "    <tr>\n",
       "      <th>1994</th>\n",
       "      <td>POLYGON ((385388.041 6878758.443, 390388.041 6...</td>\n",
       "      <td>NaN</td>\n",
       "    </tr>\n",
       "  </tbody>\n",
       "</table>\n",
       "<p>1995 rows × 2 columns</p>\n",
       "</div>"
      ],
      "text/plain": [
       "                                               geometry  count\n",
       "0     POLYGON ((105388.041 6708758.443, 110388.041 6...    NaN\n",
       "1     POLYGON ((105388.041 6713758.443, 110388.041 6...    NaN\n",
       "2     POLYGON ((105388.041 6718758.443, 110388.041 6...    NaN\n",
       "3     POLYGON ((105388.041 6723758.443, 110388.041 6...    NaN\n",
       "4     POLYGON ((105388.041 6728758.443, 110388.041 6...    NaN\n",
       "...                                                 ...    ...\n",
       "1990  POLYGON ((385388.041 6858758.443, 390388.041 6...    NaN\n",
       "1991  POLYGON ((385388.041 6863758.443, 390388.041 6...    NaN\n",
       "1992  POLYGON ((385388.041 6868758.443, 390388.041 6...    NaN\n",
       "1993  POLYGON ((385388.041 6873758.443, 390388.041 6...    NaN\n",
       "1994  POLYGON ((385388.041 6878758.443, 390388.041 6...    NaN\n",
       "\n",
       "[1995 rows x 2 columns]"
      ]
     },
     "execution_count": 42,
     "metadata": {},
     "output_type": "execute_result"
    }
   ],
   "source": [
    "res = cg.reduce_labelgrid(pts, width = 5000, height= 5000, shape='square', mode = \"aggregation\", grid=True)\n",
    "res[1]\n"
   ]
  }
 ],
 "metadata": {
  "kernelspec": {
   "display_name": ".venv",
   "language": "python",
   "name": "python3"
  },
  "language_info": {
   "codemirror_mode": {
    "name": "ipython",
    "version": 3
   },
   "file_extension": ".py",
   "mimetype": "text/x-python",
   "name": "python",
   "nbconvert_exporter": "python",
   "pygments_lexer": "ipython3",
   "version": "3.10.12"
  }
 },
 "nbformat": 4,
 "nbformat_minor": 2
}
