{
 "cells": [
  {
   "cell_type": "markdown",
   "metadata": {
    "slideshow": {
     "slide_type": "slide"
    }
   },
   "source": [
    "# **Tutorial** : create your own base map from A to Z with CartAGen, from IGN's BD TOPO\n",
    "![Alt text](https://assets-global.website-files.com/63483ad423421bd16e7a7ae7/63a16770a97b930a84c77f00_voyager-positron.png)\n",
    "\n",
    "_Source : https://carto.com/blog/new-voyager-basemap_ \\\n",
    "Press **`space bar`** to show next slide "
   ]
  },
  {
   "cell_type": "markdown",
   "metadata": {
    "slideshow": {
     "slide_type": "slide"
    }
   },
   "source": [
    "- 🙋 **For whom ?** : \n",
    "    - cartographers wishing to obtain a **customized background map** to enhance their cartographic projects, with an **open source** solution\n",
    "    - **national mapping institutes** and other organizations wishing to discover the **cartographic generalization possibilities** offered by the CartAGen tool\n",
    "    - anyone who wants to understand how **topographic maps** are made!\n",
    "\n",
    "Press **`space bar`** to show next message"
   ]
  },
  {
   "cell_type": "markdown",
   "metadata": {
    "slideshow": {
     "slide_type": "fragment"
    }
   },
   "source": [
    "- ❓ **What is CartAGen ?** :\n",
    "    - an **open source Python library** made by **IGN** (i.e the french national mapping agency) researchers\n",
    "    - a tool to carry out cartographic generalization processes and **automate** them\n",
    "    - a **QGIS plugin** to use the Python library in a GIS environment  \n",
    "    \n",
    "Press **`space bar`** and **`scroll down`** to show next message "
   ]
  },
  {
   "cell_type": "markdown",
   "metadata": {
    "slideshow": {
     "slide_type": "fragment"
    }
   },
   "source": [
    "- 📗 **How to use this Notebook ?** : \n",
    "    - a Notebook is a document that mixes **markdown cells** (i.e. cells with formatted text like this one) and **code cells**, which you can modify and execute at will\n",
    "    - it comes with a **sample data set** on which you can **test** the various features of the CartAGen python library\n",
    "    - you can import your **own data** and run the code cells of this Notebook, or use the CartAGen tool in **another environment** (QGIS or python script)\n",
    "    \n",
    "Press **`right arrow`** to show next slide and start part 0, or press **`space bar`** to show sub-slide and see useful links"
   ]
  },
  {
   "cell_type": "markdown",
   "metadata": {
    "slideshow": {
     "slide_type": "subslide"
    }
   },
   "source": [
    "- 🔗 **Useful links** : \n",
    "    - [Repository of the library](https://github.com/LostInZoom/cartagen4py?tab=readme-ov-file)\n",
    "    - [Repository of the QGIS Plugin](https://github.com/LostInZoom/cartagen-qgis)\n",
    "    - [CartAGen documentation](https://cartagen4py.readthedocs.io/en/latest/index.html)\n",
    "    - [IGN's BD TOPO](https://geoservices.ign.fr/bdtopo)\n",
    "\n",
    "_by Paul Bourcier, 2024 - CC-BY-SA 4.0_\n",
    "\n",
    "Press **`space bar`** to show next slide, press **`shift + space bar`** to go backward\\\n",
    "**`Click`** question mark icon to show other shortcuts"
   ]
  },
  {
   "cell_type": "markdown",
   "metadata": {
    "slideshow": {
     "slide_type": "slide"
    }
   },
   "source": [
    "## ⚙️ **Part 0 :** Preparing the working environment"
   ]
  },
  {
   "cell_type": "markdown",
   "metadata": {
    "slideshow": {
     "slide_type": "fragment"
    }
   },
   "source": [
    "Press **`space bar`** to show code cell, then press **`shift + enter`** to execute it\\\n",
    "**`*`** symbol means code output is loading"
   ]
  },
  {
   "cell_type": "code",
   "execution_count": 2,
   "metadata": {
    "slideshow": {
     "slide_type": "fragment"
    }
   },
   "outputs": [],
   "source": [
    "# 0.1/ Importing libraries\n",
    "\n",
    "from matplotlib import pyplot as plt # for ploting results, especially maps\n",
    "import cartagen as cg # the main library, containing cartographic generalization algorithms\n",
    "import geopandas as gp # used to import and manipulate geographic data\n",
    "import pandas as pd # used to concatenate datas\n",
    "import ipywidgets # creation of interactive plots\n",
    "import os # navigation within the environnement\n",
    "from mpl_toolkits.axes_grid1.anchored_artists import AnchoredSizeBar # adding scalebar to the maps\n",
    "import matplotlib.colors as matcol # generating color palettes\n",
    "from matplotlib.figure import Figure # Plot generation\n",
    "from mpl_toolkits.axisartist.axislines import Subplot # Plot generation\n",
    "from shapely.geometry import Polygon, MultiPolygon # Create and manipulate geometries\n",
    "from shapely.wkt import loads # Create and manipulate geometries\n",
    "from shapely import intersects\n",
    "from shapely.ops import linemerge\n",
    "from tqdm.notebook import tqdm # Creating loading bar\n",
    "from time import sleep # Creating loading bar\n",
    "import progressbar # Creating loading bar\n",
    "import numpy as np # Using mathematical operations in Python\n",
    "import re # regex\n",
    "from IPython.display import clear_output, Image # used to delete widgets\n",
    "\n",
    "import warnings # Remove warnings\n",
    "warnings.filterwarnings(\"ignore\", category=UserWarning, message=\".*GeoDataFrame you are attempting to plot is empty.*\") # Remove user warning \n",
    "warnings.filterwarnings(\"ignore\", category=UserWarning, message=\".*CRS not set for some of the concatenation inputs.*.\")"
   ]
  },
  {
   "cell_type": "markdown",
   "metadata": {
    "slideshow": {
     "slide_type": "slide"
    }
   },
   "source": [
    "**0.2/** Configuring screen for figure size"
   ]
  },
  {
   "cell_type": "code",
   "execution_count": 3,
   "metadata": {
    "hideCode": true,
    "slideshow": {
     "slide_type": "subslide"
    }
   },
   "outputs": [
    {
     "data": {
      "application/vnd.jupyter.widget-view+json": {
       "model_id": "709052d04951475e9c925d83f86a9d3c",
       "version_major": 2,
       "version_minor": 0
      },
      "text/plain": [
       "interactive(children=(IntSlider(value=300, continuous_update=False, description='size', max=600), Output()), _…"
      ]
     },
     "metadata": {},
     "output_type": "display_data"
    },
    {
     "data": {
      "text/plain": [
       "<function __main__.cal_screen(size)>"
      ]
     },
     "execution_count": 3,
     "metadata": {},
     "output_type": "execute_result"
    }
   ],
   "source": [
    "# Configuring screen for figure size\n",
    "conv = 0\n",
    "SCREEN = 0\n",
    "def cal_screen(size):\n",
    "    global conv\n",
    "    global SCREEN\n",
    "    print(\"Configure the picture so it fits a real credit card :\")\n",
    "    display(Image('data/CreditCard.png', width=size))\n",
    "    conv = 1/100*(size/3.37007874)\n",
    "\n",
    "    SCREEN = {\n",
    "    '1:25000':(2.45*conv,2.45*conv), \n",
    "    '1:10000':(6.2*conv,6.2*conv),\n",
    "    '1:7500':(8.15*conv,8.15*conv),\n",
    "    '1:5000':(15.26*conv,15.26*conv)}\n",
    "\n",
    "ipywidgets.interact(cal_screen, size = ipywidgets.IntSlider(value = 300,min=0,max=600,step=1,continuous_update = False))"
   ]
  },
  {
   "cell_type": "markdown",
   "metadata": {
    "slideshow": {
     "slide_type": "fragment"
    }
   },
   "source": [
    "💬 Note : sometimes the **display resolution** of your screen or browser is more (or less) than 100 %, which can result in wrong scale value when displaying maps."
   ]
  },
  {
   "cell_type": "markdown",
   "metadata": {
    "slideshow": {
     "slide_type": "slide"
    }
   },
   "source": [
    "## 🗺 **Part 1 :** What is cartographic generalisation and why do we need it ?"
   ]
  },
  {
   "cell_type": "markdown",
   "metadata": {
    "slideshow": {
     "slide_type": "fragment"
    }
   },
   "source": [
    "### **1.1/** Building a basemap from IGN's BD TOPO\n",
    "BD TOPO is an IGN product consisting of a **vector database** representing all the features and infrastructures of the French territory (buildings, roads, administrative boundaries, etc.), with **metric precision**. \n",
    "It is therefore a good basis for the creation of a base map. \n",
    "\n",
    "Let's start by importing part of this database and customizing its **symbolization**. "
   ]
  },
  {
   "cell_type": "markdown",
   "metadata": {
    "hideCode": false,
    "slideshow": {
     "slide_type": "slide"
    }
   },
   "source": [
    "**1.1.1/** Importing the data of the extract (1 file per type of feature)"
   ]
  },
  {
   "cell_type": "code",
   "execution_count": 4,
   "metadata": {
    "hideCode": true,
    "slideshow": {
     "slide_type": "fragment"
    }
   },
   "outputs": [
    {
     "name": "stderr",
     "output_type": "stream",
     "text": [
      "\u001b[38;2;0;255;0m100%\u001b[39m 🟩🟩🟩🟩🟩🟩🟩🟩🟩🟩🟩🟩🟩🟩🟩🟩🟩🟩🟩🟩🟩🟩🟩🟩                                                  \n"
     ]
    },
    {
     "name": "stdout",
     "output_type": "stream",
     "text": [
      "✅ successful import\n"
     ]
    }
   ],
   "source": [
    "# Importing the data of the extract (1 file per type of feature)\n",
    "widgets = [\n",
    "    '', progressbar.Percentage(), ' ',  \n",
    "    progressbar.Bar(marker='🟩', left='', right='                                                  ', width = 1) \n",
    "]\n",
    "\n",
    "\n",
    "files = os.listdir('data/data_fd_carte_1')\n",
    "layer_names = []\n",
    "layer_list = []\n",
    "\n",
    "with progressbar.ProgressBar(max_value=len(files),widgets=widgets) as bar:\n",
    "    for file in files:\n",
    "        data = gp.read_file(f'data/data_fd_carte_1/{file}')\n",
    "        layer_list.append(data)\n",
    "        match = re.match(r'^(.*)\\.geojson', file)\n",
    "        layer_names.append(match.group(1))\n",
    "        bar.update(files.index(file))\n",
    "\n",
    "datas = {name: gdf for name, gdf in zip(layer_names, layer_list)}\n",
    "\n",
    "if len(layer_list) == len(os.listdir('data/data_fd_carte_1')):\n",
    "    print(\"✅ successful import\")\n",
    "else:\n",
    "    print(\"❌ import failed\")"
   ]
  },
  {
   "cell_type": "markdown",
   "metadata": {
    "slideshow": {
     "slide_type": "slide"
    }
   },
   "source": [
    "**1.1.2/** Display the datas without setting up symbolization"
   ]
  },
  {
   "cell_type": "code",
   "execution_count": 4,
   "metadata": {
    "hideCode": true,
    "slideshow": {
     "slide_type": "subslide"
    }
   },
   "outputs": [
    {
     "name": "stderr",
     "output_type": "stream",
     "text": [
      "\u001b[38;2;0;255;0m100%\u001b[39m 🟩🟩🟩🟩🟩🟩🟩🟩🟩🟩🟩🟩🟩🟩🟩🟩🟩🟩🟩🟩🟩🟩🟩🟩                                                  \n"
     ]
    },
    {
     "data": {
      "image/png": "[encoded data removed]",
      "text/plain": [
       "<Figure size 640x480 with 1 Axes>"
      ]
     },
     "metadata": {},
     "output_type": "display_data"
    }
   ],
   "source": [
    "# Plotting the datas without setting up symbolization\n",
    "\n",
    "ax = datas['gdf_trainline'].plot()\n",
    "plt.xlim(669039, 669745)\n",
    "plt.ylim(6860642, 6861286)\t\n",
    "\n",
    "scalebar = AnchoredSizeBar(ax.transData,\n",
    "                           100,  \n",
    "                           '100 m',  \n",
    "                           'lower left',  \n",
    "                           pad=0.5,\n",
    "                           color='black',\n",
    "                           frameon=True,\n",
    "                           size_vertical=1)\n",
    "ax.add_artist(scalebar)\n",
    "with progressbar.ProgressBar(max_value=len(datas),widgets=widgets) as bar:\n",
    "    for name, gdf in datas.items():\n",
    "        gdf.plot(ax = ax)\n",
    "        bar.update(1)"
   ]
  },
  {
   "cell_type": "markdown",
   "metadata": {
    "slideshow": {
     "slide_type": "fragment"
    }
   },
   "source": [
    "💬 This Notebook is meant to be **interactive** (beyond code modifications) : after **running** a code cell, you will often be able to **change** algorithm parameters or figure settings, thanks to **buttons**. Let's try interactivity on **road symbology**. You will be able to change roads **color** and **width** depending on their 'importance' attribute. You can also change the **size** of the figure (figure size button) and **revert** your changes."
   ]
  },
  {
   "cell_type": "markdown",
   "metadata": {
    "slideshow": {
     "slide_type": "slide"
    }
   },
   "source": [
    "**1.1.3/** Interactively setting up symbolization for roads"
   ]
  },
  {
   "cell_type": "code",
   "execution_count": null,
   "metadata": {
    "hideCode": true,
    "scrolled": false,
    "slideshow": {
     "slide_type": "subslide"
    }
   },
   "outputs": [],
   "source": [
    "# Interactively setting up symbolization for roads\n",
    "size = {'small':(5,5),'medium':(10,10), 'large':(15,15)}\n",
    "roads_sorted = [] # Creation of a list containing a gdf by degree of road importance \n",
    "for i in range(2,len(datas['gdf_road'].importance.unique())+2):\n",
    "    roads_sorted.append(datas['gdf_road'][(datas['gdf_road'].importance == str(i))]) \n",
    "\n",
    "grid = ipywidgets.GridspecLayout(5, 6)\n",
    "grid[0,0] = ipywidgets.ColorPicker(concise=False,description='color road lvl 2',value='#ffffff',style= {'description_width': 'initial'})\n",
    "grid[1,0] = ipywidgets.ColorPicker(concise=False,description='color road lvl 3',value='#ffffff',style= {'description_width': 'initial'})\n",
    "grid[2,0] = ipywidgets.ColorPicker(concise=False,description='color road lvl 4',value='#ffffff',style= {'description_width': 'initial'})\n",
    "grid[3,0] = ipywidgets.ColorPicker(concise=False,description='color road lvl 5',value='#ffffff',style= {'description_width': 'initial'})\n",
    "grid[4,0] = ipywidgets.ColorPicker(concise=False,description='color road lvl 6',value='#ffffff',style= {'description_width': 'initial'})\n",
    "grid[0,1] = ipywidgets.FloatSlider(min=0.6, max=5.0, step=0.2, description='width road lvl 2', continuous_update=False,style= {'description_width': 'initial'})\n",
    "grid[1,1] = ipywidgets.FloatSlider(min=0.6, max=5.0, step=0.2, description='width road lvl 3', continuous_update=False,style= {'description_width': 'initial'})\n",
    "grid[2,1] = ipywidgets.FloatSlider(min=0.6, max=5.0, step=0.2, description='width road lvl 4', continuous_update=False,style= {'description_width': 'initial'})\n",
    "grid[3,1] = ipywidgets.FloatSlider(min=0.6, max=5.0, step=0.2, description='width road lvl 5', continuous_update=False,style= {'description_width': 'initial'})\n",
    "grid[4,1] = ipywidgets.FloatSlider(min=0.6, max=5.0, step=0.2, description='width road lvl 6', continuous_update=False,style= {'description_width': 'initial'})\n",
    "grid[0,2] = ipywidgets.Dropdown(options=['small','medium', 'large'], value='medium', description='figure_size')\n",
    "grid[1,2] = ipywidgets.Button(description='reset',icon='undo')\n",
    "\n",
    "def plt_roads(col_2, col_3, col_4, col_5, col_6, width_2, width_3, width_4, width_5, width_6, figure_size = 'medium'): # Function that plot each road and prepare arguments for interaction\n",
    "    global size\n",
    "    \n",
    "    ax = datas['gdf_road'].plot(alpha = 0,figsize=size[figure_size])\n",
    "    plt.xlim(669039, 669745)\n",
    "    plt.ylim(6860642, 6861286)\n",
    "    scalebar = AnchoredSizeBar(ax.transData,\n",
    "                           100,  \n",
    "                           '100 m',  \n",
    "                           'lower left',  \n",
    "                           pad=0.5,\n",
    "                           color='black',\n",
    "                           frameon=True,\n",
    "                           size_vertical=1)\n",
    "    ax.axes.get_yaxis().set_visible(False)\n",
    "\n",
    "    list_col = [col_2, col_3, col_4, col_5, col_6]\n",
    "    list_width = [width_2, width_3, width_4, width_5, width_6]\n",
    "\n",
    "    with progressbar.ProgressBar(max_value=len(datas['gdf_road'].importance.unique()),widgets=widgets) as bar:\n",
    "        for i in reversed(range(2,len(datas['gdf_road'].importance.unique())+2)):\n",
    "            roads_sorted[i-2].plot(ax = ax, color = \"black\", linewidth = list_width[i-2]+1,alpha = 0.5) \n",
    "            roads_sorted[i-2].plot(ax = ax, color = list_col[i-2], linewidth = list_width[i-2])\n",
    "            bar.update(1)\n",
    "                                 \n",
    "    def reset(b):\n",
    "        grid[0,0].value = '#ffffff'\n",
    "        grid[1,0].value = '#ffffff'\n",
    "        grid[2,0].value = '#ffffff'\n",
    "        grid[3,0].value = '#ffffff'\n",
    "        grid[4,0].value = '#ffffff'\n",
    "        grid[0,1].value = 0.6\n",
    "        grid[1,1].value = 0.6\n",
    "        grid[2,1].value = 0.6\n",
    "        grid[3,1].value = 0.6\n",
    "        grid[4,1].value = 0.6\n",
    "\n",
    "    grid[1,2].on_click(reset)        \n",
    "\n",
    "out_road_symbo = ipywidgets.interactive_output(plt_roads, {'col_2':grid[0,0], 'col_3':grid[1,0], 'col_4':grid[2,0], 'col_5':grid[3,0], \n",
    "'col_6':grid[4,0], 'width_2':grid[0,1], 'width_3':grid[1,1], 'width_4':grid[2,1], 'width_5':grid[3,1], 'width_6':grid[4,1], 'figure_size':grid[0,2]})# Calls up the function for interactively defining road width and color \n",
    "\n",
    "display(grid,out_road_symbo)"
   ]
  },
  {
   "cell_type": "markdown",
   "metadata": {
    "slideshow": {
     "slide_type": "fragment"
    }
   },
   "source": [
    "💬 Since there's **a lot** of symbolization functionality to configure, let's **fast-forward** and see what our **example basemap** might look like :"
   ]
  },
  {
   "cell_type": "markdown",
   "metadata": {
    "slideshow": {
     "slide_type": "slide"
    }
   },
   "source": [
    "**1.1.4/** Display example basemap with symbology"
   ]
  },
  {
   "cell_type": "code",
   "execution_count": null,
   "metadata": {
    "hideCode": true,
    "slideshow": {
     "slide_type": "subslide"
    }
   },
   "outputs": [],
   "source": [
    "# Displaying example basemap with symbology\n",
    "\n",
    "# Dividing roads according to their type and importance\n",
    "roads_sorted = []\n",
    "for i in range(2,len(datas['gdf_road'].importance.unique())+2):\n",
    "    roads_sorted.append(datas['gdf_road'][(datas['gdf_road'].importance == str(i)) & (datas['gdf_road'].nature != \"Chemin\") \n",
    "                                                                    & (datas['gdf_road'].nature != \"Sentier\") \n",
    "                                                                    & (datas['gdf_road'].nature != \"Route empierrée\")]) \n",
    "\n",
    "gdf_paths = datas['gdf_road'][(datas['gdf_road'].nature == \"Chemin\") | (datas['gdf_road'].nature == \"Sentier\") # Creation of a gdf containing paths/trail\n",
    "                                                         | (datas['gdf_road'].nature == \"Route empierrée\")] \n",
    "\n",
    "# Preparing color palettes for roads and buildings\n",
    "list_col_roads = ['#d58c88','#d5b188','#d5c788','#ccd588','#b4d588','#95d588']\n",
    "col_buildings = matcol.LinearSegmentedColormap.from_list('ColBuildings',\n",
    "                                                        ['#9c9c9c','#9c9c9c','#bf9eb1','#9c9c9c','#fff3b0','#9c9c9c','#9c9c9c','#9fbfa1'])\n",
    "\n",
    "# Setting up the map\n",
    "ax = datas['gdf_road'].plot(alpha = 0, figsize=(8,8))\n",
    "plt.xlim(669039, 669745)\n",
    "plt.ylim(6860642, 6861286)\t\n",
    "scalebar = AnchoredSizeBar(ax.transData,\n",
    "                           100,  \n",
    "                           '100 m',  \n",
    "                           'lower left',  \n",
    "                           pad=0.5,\n",
    "                           color='black',\n",
    "                           frameon=True,\n",
    "                           size_vertical=1)\n",
    "ax.add_artist(scalebar)\n",
    "ax.axes.get_xaxis().set_visible(False)\n",
    "ax.axes.get_yaxis().set_visible(False)\n",
    "\n",
    "# Displaying the different features\n",
    "with progressbar.ProgressBar(max_value=15,widgets=widgets) as bar:\n",
    "    for i in range(1):\n",
    "        datas['gdf_water1'].plot(ax = ax, color = \"#b3d9ff\", zorder = 0) \n",
    "        bar.update(1)\n",
    "        gdf_paths.plot(ax =ax, color = \"#2aae5f\", linewidth = 0.8, linestyle='dashed', alpha = 0.5)\n",
    "        bar.update(1)\n",
    "            \n",
    "        for i in reversed(range(2,len(datas['gdf_road'].importance.unique())+2)): \n",
    "            roads_sorted[i-2].plot(ax = ax, color = \"grey\", linewidth = 6.5/i ,alpha = 0.5)\n",
    "            bar.update(1)\n",
    "            roads_sorted[i-2].plot(ax = ax, color = list_col_roads[i-2], linewidth = 5/i)\n",
    "            bar.update(1)\n",
    "\n",
    "        datas['gdf_building'].plot(ax = ax, cmap = col_buildings, column = \"usage_1\", zorder = 2) \n",
    "        bar.update(1)\n",
    "\n",
    "        datas['gdf_vegetation'].plot(ax = ax, color = \"#d1ffba\", zorder = 0)\n",
    "        bar.update(1)\n",
    "       \n"
   ]
  },
  {
   "cell_type": "markdown",
   "metadata": {
    "slideshow": {
     "slide_type": "fragment"
    }
   },
   "source": [
    "💬 As you can see, by configuring the **symbolization** of our map's elements, we obtain a satisfactory basemap. \n",
    "\n",
    "However, the **legibility** of the map tends to **diminish** as the scale decreases (and the number of elements displayed increases)...\n",
    "\n",
    "**Note :** This basemap could be improved by adding effects to the elements, such as **shading**. \n",
    "It should be noted that GIS environment offers more **user-friendly** tools for carrying out symbolization processes. "
   ]
  },
  {
   "cell_type": "markdown",
   "metadata": {
    "slideshow": {
     "slide_type": "slide"
    }
   },
   "source": [
    "### **1.2/** The issue of scale \n",
    "BD TOPO contains **many** different elements. As the scale (i.e. the mathematical relationship between the size of features on the map and reality) **decreases**, the number of features displayed **increases**. Sometimes there's too much information on the map. Here's an example :  "
   ]
  },
  {
   "cell_type": "markdown",
   "metadata": {
    "slideshow": {
     "slide_type": "fragment"
    }
   },
   "source": [
    "![Alt text](https://raw.githubusercontent.com/gowestmen/images/main/bd_topo_seine_et_marne.png)"
   ]
  },
  {
   "cell_type": "markdown",
   "metadata": {
    "slideshow": {
     "slide_type": "subslide"
    }
   },
   "source": [
    "\n",
    "Here we've displayed the BD TOPO at a **regional scale** without configuring the symbology. The result is **not readable**. The processes of transforming a map to make it readable are called **map generalization**. They can be carried out in different ways:\n",
    "- by **selecting** the elements to be displayed\n",
    "- parameterizing **symbology** (reducing road width, for example)\n",
    "- by performing **transformations on the entities** themselves -> that is what CartAGen is made for ! \n",
    "\n",
    "Let's make the same basemap on a **smaller scale**, to see to what extent entity selection and symbology settings are sometimes **not enough** to get a good result."
   ]
  },
  {
   "cell_type": "markdown",
   "metadata": {
    "slideshow": {
     "slide_type": "slide"
    }
   },
   "source": [
    "**1.2.1/** Importing the data of the second extract "
   ]
  },
  {
   "cell_type": "code",
   "execution_count": null,
   "metadata": {
    "hideCode": true,
    "slideshow": {
     "slide_type": "fragment"
    }
   },
   "outputs": [],
   "source": [
    "# Importing the data of the second extract \n",
    "\n",
    "files = os.listdir('data/data_fd_carte_2')\n",
    "\n",
    "layer_names_2 = []\n",
    "layer_list_2 = []\n",
    "\n",
    "with progressbar.ProgressBar(max_value=len(files),widgets=widgets) as bar:\n",
    "    for file in files:\n",
    "        data = gp.read_file(f'data/data_fd_carte_2/{file}')\n",
    "        layer_list_2.append(data)\n",
    "        match = re.match(r'^(.*)\\.geojson', file)\n",
    "        layer_names_2.append(match.group(1))\n",
    "        bar.update(files.index(file))\n",
    "        \n",
    "    datas_2 = {name: gdf for name, gdf in zip(layer_names_2, layer_list_2)}\n",
    "\n",
    "if len(layer_list_2) == len(os.listdir('data/data_fd_carte_2')):\n",
    "    print(\"✅ successful import\")\n",
    "else:\n",
    "    print(\"❌ import failed\")"
   ]
  },
  {
   "cell_type": "markdown",
   "metadata": {
    "slideshow": {
     "slide_type": "slide"
    }
   },
   "source": [
    "**1.2.2/** Display the smaller scale base map"
   ]
  },
  {
   "cell_type": "code",
   "execution_count": null,
   "metadata": {
    "hideCode": true,
    "slideshow": {
     "slide_type": "subslide"
    }
   },
   "outputs": [],
   "source": [
    "# Dividing roads according to their type and importance\n",
    "gdf_roads_2 = []\n",
    "for i in range(1,len(datas_2['gdf_road'].importance.unique())+2):\n",
    "    gdf_roads_2.append(datas_2['gdf_road'][(datas_2['gdf_road'].importance == str(i)) & (datas_2['gdf_road'].nature != \"Chemin\") \n",
    "                                                                    & (datas_2['gdf_road'].nature != \"Sentier\") \n",
    "                                                                    & (datas_2['gdf_road'].nature != \"Route empierrée\")])      \n",
    "gdf_paths_2 = datas_2['gdf_road'][(datas_2['gdf_road'].nature == \"Chemin\") | (datas_2['gdf_road'].nature == \"Sentier\") # Creation of a gdf containing paths/trail\n",
    "                                                         | (datas_2['gdf_road'].nature == \"Route empierrée\")] \n",
    "\n",
    "# Preparing color palettes for roads and buildings\n",
    "list_col_roads = ['#e19494','#e6a998','#e8baa1','#ffffff','#ffffff','#ffffff']\n",
    "col_buildings = matcol.LinearSegmentedColormap.from_list('ColBuildings',\n",
    "                                                        ['#111111','#111111','#bf9eb1','#111111','#9f9dbf','#111111','#111111','#9fbfa1'])\n",
    "\n",
    "# Setting up the map\n",
    "ax = datas_2['gdf_road'].plot(alpha = 0, figsize = (17,17))\n",
    "plt.xlim(665361, 675157)\n",
    "plt.ylim(6858025, 6863813)\t\n",
    "scalebar = AnchoredSizeBar(ax.transData,\n",
    "                           1000,  \n",
    "                           '1000 m',  \n",
    "                           'lower left',  \n",
    "                           pad=0.5,\n",
    "                           color='black',\n",
    "                           frameon=True,\n",
    "                           size_vertical=1)\n",
    "ax.add_artist(scalebar)\n",
    "ax.axes.get_xaxis().set_visible(False)\n",
    "ax.axes.get_yaxis().set_visible(False)\n",
    "\n",
    "# Displaying the different features\n",
    "with progressbar.ProgressBar(max_value=22,widgets=widgets) as bar:\n",
    "    for i in range(1):\n",
    "        datas_2['gdf_water1'].plot(ax = ax, color = \"#b3d9ff\", zorder = 0) \n",
    "        bar.update(1)\n",
    "        sleep(0.1)\n",
    "        datas_2['gdf_water2'].plot(ax = ax, color = \"#b3d9ff\", zorder = 0) \n",
    "        bar.update(2)\n",
    "        sleep(0.1)\n",
    "        gdf_paths_2.plot(ax =ax, color = \"#2aae5f\", linewidth = 0.8, linestyle='dashed', alpha = 0.5) \n",
    "        bar.update(3)\n",
    "        sleep(0.1)\n",
    "        datas_2['gdf_building'].plot(ax = ax, cmap = col_buildings, column = \"usage_1\", zorder = 2) \n",
    "        bar.update(4)\n",
    "        sleep(0.1)\n",
    "        for i in reversed(range(1,len(datas_2['gdf_road'].importance.unique())+1)): \n",
    "            gdf_roads_2[i-1].plot(ax = ax, color = \"black\", linewidth = 6.2/i) \n",
    "            bar.update(10)\n",
    "            sleep(0.1)\n",
    "            gdf_roads_2[i-1].plot(ax = ax, color = list_col_roads[i-1], linewidth = 5.1/i)\n",
    "    \n",
    "          \n",
    "        datas_2['gdf_vegetation'].plot(ax = ax, color = \"#d1ffba\", zorder = 0) \n",
    "        bar.update(17)\n",
    "        sleep(0.1)\n",
    "        datas_2['gdf_forest'].plot(ax = ax, color = \"#098a2e\", zorder = 0, alpha = 0.3) \n",
    "        bar.update(18)\n",
    "        sleep(0.1)\n",
    "        datas_2['gdf_commune'].plot(ax = ax, facecolor = \"None\", edgecolor = \"grey\", linestyle='dashed', zorder = 3) \n",
    "        bar.update(19)\n",
    "        sleep(0.1)\n",
    "        datas_2['gdf_trainline'].plot(ax = ax, color = \"grey\", linewidth = 1, alpha = 0.5) \n",
    "        bar.update(20)\n",
    "        sleep(0.1)\n",
    "        datas_2['gdf_sportfield'].plot(ax = ax, color = \"#9fbfa1\") \n",
    "        bar.update(21)\n",
    "        sleep(0.1)\n",
    "        datas_2['gdf_graveyard'].plot(ax = ax, color = \"grey\", alpha = 0.7) \n",
    "        bar.update(22)\n",
    "        sleep(0.1)"
   ]
  },
  {
   "cell_type": "markdown",
   "metadata": {
    "slideshow": {
     "slide_type": "subslide"
    }
   },
   "source": [
    "💬 This map shows elements of the BD TOPO at **1:25000** scale (approximatly). Compared with our first basemap, there are **much** more elements displayed. In addition, the map's legibility is **altered**, especially with regard to the following aspects : \n",
    "- many buildings (especially houses) are **too small** and produce **noise** in map legibility\n",
    "- some roads, especially paths, are **too complex in shape**, so that they look more like a mass than a line\n"
   ]
  },
  {
   "cell_type": "markdown",
   "metadata": {
    "slideshow": {
     "slide_type": "fragment"
    }
   },
   "source": [
    "To solve these **problems**, it's not enough to modify the **symbology** or to **select** the elements to be represented. Let's take the example of paths :\n",
    "- we can't really improve legibility by changing the symbology, since the **path width** is already quite small\n",
    "- not displaying paths at all seems like a bad solution (depending on cartographer's needs), as they provide **useful landmarks** on the map, especially in forests."
   ]
  },
  {
   "cell_type": "markdown",
   "metadata": {
    "slideshow": {
     "slide_type": "fragment"
    }
   },
   "source": [
    "➡️ To enhance our base map, we need to perform **transformations** on the features. Let's use CartAGen to build a cartographic generalization **workflow** !"
   ]
  },
  {
   "cell_type": "markdown",
   "metadata": {
    "slideshow": {
     "slide_type": "slide"
    }
   },
   "source": [
    "## 🏗 **Part 2 :** Cartographic generalisation workflow for basemap creation"
   ]
  },
  {
   "cell_type": "markdown",
   "metadata": {
    "slideshow": {
     "slide_type": "fragment"
    }
   },
   "source": [
    "💬 As mentioned above, the **needs** for cartographic generalization depend on the **scale** of the intended rendering (and therefore the number of elements displayed).  \n",
    "But these needs also depend on the map's **objectives**. For example, if cartographers want to display a lot of **thematic datas** on their basemap, it's in their interest to use one with a **minimalist** appearance, to stylize their map without detracting from the legibility of the thematic datas.\n",
    "\n",
    "In other words, there isn't just one \"good\" generalization workflow for a given result, but several, depending on the **needs and subjectivity** of the cartographers."
   ]
  },
  {
   "cell_type": "markdown",
   "metadata": {
    "slideshow": {
     "slide_type": "fragment"
    }
   },
   "source": [
    "Thus, this section will present different **workflows** for cartographic generalization, leading to **more or less** generalized results. \n",
    "\n",
    "As some map generalization algorithms can be **quite long** to run (especially on buildings), we will present our results on a **small area** in this Notebook, in order to keep loading time acceptable."
   ]
  },
  {
   "cell_type": "markdown",
   "metadata": {
    "slideshow": {
     "slide_type": "slide"
    }
   },
   "source": [
    "### **2.1/** Selection and symbolization\n",
    "💬 Let's start by **selecting** the elements we want to display and setting up the desired **symbology** - the **first steps** in a cartographic generalization process."
   ]
  },
  {
   "cell_type": "markdown",
   "metadata": {
    "slideshow": {
     "slide_type": "fragment"
    }
   },
   "source": [
    "Depending on the **level of generalization** you wish to achieve, your choices in terms of selection and symbolization will **change** :\n",
    "- highly generalized : keep only the **main elements** and set a **wide** width for linear elements\n",
    "- slightly generalized : retain **most elements** and set a **narrow** width for linear elements"
   ]
  },
  {
   "cell_type": "markdown",
   "metadata": {
    "slideshow": {
     "slide_type": "slide"
    }
   },
   "source": [
    "**2.1.1/** Import and prepare third data extract"
   ]
  },
  {
   "cell_type": "code",
   "execution_count": 5,
   "metadata": {
    "hideCode": true,
    "slideshow": {
     "slide_type": "fragment"
    }
   },
   "outputs": [
    {
     "name": "stderr",
     "output_type": "stream",
     "text": [
      "\u001b[38;2;0;255;0m100%\u001b[39m 🟩🟩🟩🟩🟩🟩🟩🟩🟩🟩🟩🟩🟩🟩🟩🟩🟩🟩🟩🟩🟩🟩🟩🟩                                                  \n"
     ]
    },
    {
     "name": "stdout",
     "output_type": "stream",
     "text": [
      "✅ successful import\n"
     ]
    }
   ],
   "source": [
    "# Import and prepare third data extract\n",
    "files = os.listdir('data/data_fd_carte_3')\n",
    "layer_names_3 = []\n",
    "\n",
    "layer_list_3 = []\n",
    "with progressbar.ProgressBar(max_value=len(files),widgets=widgets) as bar:\n",
    "    for file in files: # Loading data files\n",
    "        data = gp.read_file(f'data/data_fd_carte_3/{file}')\n",
    "        layer_list_3.append(data)\n",
    "        match = re.match(r'^(.*)\\.geojson', file)\n",
    "        layer_names_3.append(match.group(1))\n",
    "        bar.update(files.index(file))\n",
    "datas_3 = {name: gdf for name, gdf in zip(layer_names_3, layer_list_3)} # Storing datas in a dictionary\n",
    "\n",
    "def multipolygon_to_polygon(geom): # function that transform MultiPolygon geometry to Polygon\n",
    "    if isinstance(geom, MultiPolygon):\n",
    "        return geom.geoms[0]\n",
    "    return geom\n",
    "\n",
    "for gdf in datas_3: # Only keep useful columns and perform geometry transformations\n",
    "    if 'usage_1' in datas_3[gdf].columns:\n",
    "        datas_3[gdf] = datas_3[gdf][[\"cleabs\",\"usage_1\",\"geometry\"]]\n",
    "        datas_3[gdf].loc[:,\"geometry\"] = datas_3[gdf].loc[:,\"geometry\"].apply(multipolygon_to_polygon)\n",
    "        datas_3[gdf].loc[:,\"geometry\"] = datas_3[gdf].loc[:,\"geometry\"].force_2d()\n",
    "        \n",
    "    elif 'nature' in datas_3[gdf].columns and 'importance' in datas_3[gdf].columns:\n",
    "        datas_3[gdf] = datas_3[gdf][[\"cleabs\",\"nature\",\"importance\",\"geometry\"]]\n",
    "        datas_3[gdf].loc[:,\"geometry\"] = datas_3[gdf].loc[:,\"geometry\"].force_2d()\n",
    "        \n",
    "    else:\n",
    "        if datas_3[gdf].geometry[0].geom_type != 'LineString' :\n",
    "            datas_3[gdf] = datas_3[gdf][[\"cleabs\",\"geometry\"]]\n",
    "            datas_3[gdf].loc[:,\"geometry\"] = datas_3[gdf].loc[:,\"geometry\"].apply(multipolygon_to_polygon)\n",
    "            datas_3[gdf].loc[:,\"geometry\"] = datas_3[gdf].loc[:,\"geometry\"].force_2d()\n",
    "        else:\n",
    "            datas_3[gdf] = datas_3[gdf][[\"cleabs\",\"geometry\"]]\n",
    "            datas_3[gdf].loc[:,\"geometry\"] = datas_3[gdf].loc[:,\"geometry\"].force_2d()\n",
    "\n",
    "if len(layer_list_3) == len(os.listdir('data/data_fd_carte_3')): # Print success/failure message\n",
    "    print(\"✅ successful import\")\n",
    "else:\n",
    "    print(\"❌ import failed\")"
   ]
  },
  {
   "cell_type": "markdown",
   "metadata": {
    "slideshow": {
     "slide_type": "slide"
    }
   },
   "source": [
    "**2.1.2/** Select elements to display"
   ]
  },
  {
   "cell_type": "code",
   "execution_count": 6,
   "metadata": {
    "hideCode": true,
    "scrolled": false,
    "slideshow": {
     "slide_type": "subslide"
    }
   },
   "outputs": [
    {
     "data": {
      "application/vnd.jupyter.widget-view+json": {
       "model_id": "1261fb2c75ec44899ccfec02414e14e5",
       "version_major": 2,
       "version_minor": 0
      },
      "text/plain": [
       "GridspecLayout(children=(Checkbox(value=True, description='road importance lvl 2', layout=Layout(grid_area='wi…"
      ]
     },
     "metadata": {},
     "output_type": "display_data"
    },
    {
     "data": {
      "application/vnd.jupyter.widget-view+json": {
       "model_id": "7ccf0511b9e7419e8944b389a048ccc4",
       "version_major": 2,
       "version_minor": 0
      },
      "text/plain": [
       "Output()"
      ]
     },
     "metadata": {},
     "output_type": "display_data"
    }
   ],
   "source": [
    "# Select elements to display\n",
    "grid = ipywidgets.GridspecLayout(7, 8) # Creating grid layout for our buttons\n",
    "\n",
    "ROAD_TYPE = {\n",
    "    '0':'one side road',\n",
    "    '1':'two side road',\n",
    "    '2':'roundabout',\n",
    "    '3':'trail',\n",
    "    '4':'rocky road'}\n",
    "ROAD_TYPE_FR = {\n",
    "    '0':'Route à 1 chaussée',\n",
    "    '1':'Route à 2 chaussées',\n",
    "    '2':'Rond-point',\n",
    "    '3':'Sentier',\n",
    "    '4':'Route empierrée'}\n",
    "BUILDING_TYPE = {\n",
    "    '0':'residential',\n",
    "    '1':'annex',\n",
    "    '2':'commercial and services',\n",
    "    '3':'religious',\n",
    "    '4':'agricultural',\n",
    "    '5':'sport facility',\n",
    "    '6':'other'}\n",
    "BUILDING_TYPE_FR = {\n",
    "    '0':'Résidentiel',\n",
    "    '1':'Annexe',\n",
    "    '2':'Commercial et services',\n",
    "    '3':'Religieux',\n",
    "    '4':'Agricole',\n",
    "    '5':'Sportif',\n",
    "    '6':'Indifférencié'}\n",
    "\n",
    "for i in range(5): # buttons for road selection according to importance level and type\n",
    "    grid[i,0] = ipywidgets.Checkbox(value=True, description=f\"road importance lvl {i+2}\")\n",
    "    grid[i,1] = ipywidgets.Checkbox(value=True, description=ROAD_TYPE[f\"{i}\"])  \n",
    "for i in range(7): # buttons for building selection according to type\n",
    "    grid[i,2] = ipywidgets.Checkbox(value=True, description=BUILDING_TYPE[f\"{i}\"])\n",
    "for i in range(1): # buttons for other features\n",
    "    grid[0,3] = ipywidgets.Checkbox(value=True, description='communes boundaries')\n",
    "    grid[0,4] = ipywidgets.Checkbox(value=True, description='sports field')\n",
    "    grid[0,5] = ipywidgets.Checkbox(value=True, description='trainline')\n",
    "    grid[0,6] = ipywidgets.Checkbox(value=True, description='vegetation zone')\n",
    "    grid[0,7] = ipywidgets.Checkbox(value=True, description='water')\n",
    "    grid[3,3] = ipywidgets.Dropdown(options=['1:25000','1:10000', '1:7500', '1:5000'], value='1:7500', description='scale')\n",
    "\n",
    "selected_data = 0 # Declaring the variable that will store the selected datas\n",
    "\n",
    "def plt_and_select(road_importance_2,road_importance_3,road_importance_4,road_importance_5,road_importance_6,\n",
    "                   one_side_road, two_side_road, roundabout, trail, rocky_road, \n",
    "                   residential, annex, commercial_services, religious, agricultural, sport_facility, other,\n",
    "                   communes_boundaries,\n",
    "                   sports_field,\n",
    "                   trainline,\n",
    "                   vegetation_zone,\n",
    "                   water,scale):\n",
    "    # Setting up the map\n",
    "    global SCREEN\n",
    "    global list_generalized\n",
    "    fig = plt.figure(figsize=SCREEN[scale])\n",
    "    ax = fig.add_subplot(111)\n",
    "    plt.xlim(668198, 669411)\n",
    "    plt.ylim(6860147, 6860869)\t\n",
    "    scalebar = AnchoredSizeBar(ax.transData,\n",
    "                           250,  \n",
    "                           '250 m',  \n",
    "                           'lower left',  \n",
    "                           pad=0.5,\n",
    "                           color='black',\n",
    "                           frameon=True,\n",
    "                           size_vertical=1)\n",
    "    ax.add_artist(scalebar)\n",
    "    ax.axes.get_xaxis().set_visible(False)\n",
    "    ax.axes.get_yaxis().set_visible(False)\n",
    "\n",
    "    global selected_data\n",
    "    selected_data = datas_3.copy()\n",
    "    \n",
    "    for i in range(1): # Filtering storage variable on interactively selected features\n",
    "        if road_importance_2 != True:          \n",
    "            selected_data['gdf_road'] = selected_data['gdf_road'][(selected_data['gdf_road'].importance != \"2\")]\n",
    "        \n",
    "        if road_importance_3 != True:\n",
    "            selected_data['gdf_road'] = selected_data['gdf_road'][(selected_data['gdf_road'].importance != \"3\")]\n",
    "\n",
    "        if road_importance_4 != True:\n",
    "            selected_data['gdf_road'] = selected_data['gdf_road'][(selected_data['gdf_road'].importance != \"4\")]\n",
    "\n",
    "        if road_importance_5 != True:\n",
    "            selected_data['gdf_road'] = selected_data['gdf_road'][(selected_data['gdf_road'].importance != \"5\")]\n",
    "\n",
    "        if road_importance_6 != True:\n",
    "            selected_data['gdf_road'] = selected_data['gdf_road'][(selected_data['gdf_road'].importance != \"6\")]\n",
    "\n",
    "        if one_side_road != True:\n",
    "            selected_data['gdf_road'] = selected_data['gdf_road'][(selected_data['gdf_road'].nature != \"Route à 1 chaussée\")]\n",
    "\n",
    "        if two_side_road != True:\n",
    "            selected_data['gdf_road'] = selected_data['gdf_road'][(selected_data['gdf_road'].nature != \"Route à 2 chaussées\")]\n",
    "\n",
    "        if roundabout != True:\n",
    "            selected_data['gdf_road'] = selected_data['gdf_road'][(selected_data['gdf_road'].nature != \"Rond-point\")]\n",
    "\n",
    "        if trail != True:\n",
    "            selected_data['gdf_road'] = selected_data['gdf_road'][(selected_data['gdf_road'].nature != \"Sentier\")]\n",
    "\n",
    "        if rocky_road != True:\n",
    "            selected_data['gdf_road'] = selected_data['gdf_road'][(selected_data['gdf_road'].nature != \"Route empierrée\")]\n",
    "        \n",
    "        if residential != True:\n",
    "            selected_data['gdf_building'] = selected_data['gdf_building'][(selected_data['gdf_building'].usage_1 != \"Résidentiel\")]\n",
    "\n",
    "        if annex != True:\n",
    "            selected_data['gdf_building'] = selected_data['gdf_building'][(selected_data['gdf_building'].usage_1 != \"Annexe\")]\n",
    "\n",
    "        if commercial_services != True:\n",
    "            selected_data['gdf_building'] = selected_data['gdf_building'][(selected_data['gdf_building'].usage_1 != \"Commercial et services\")]\n",
    "\n",
    "        if religious != True:\n",
    "            selected_data['gdf_building'] = selected_data['gdf_building'][(selected_data['gdf_building'].usage_1 != \"Religieux\")]\n",
    "\n",
    "        if agricultural != True:\n",
    "            selected_data['gdf_building'] = selected_data['gdf_building'][(selected_data['gdf_building'].usage_1 != \"Agricole\")]\n",
    "\n",
    "        if sport_facility != True:\n",
    "            selected_data['gdf_building'] = selected_data['gdf_building'][(selected_data['gdf_building'].usage_1 != \"Sportif\")]\n",
    "\n",
    "        if other != True:\n",
    "            selected_data['gdf_building'] = selected_data['gdf_building'][(selected_data['gdf_building'].usage_1 != \"Indifférencié\")]\n",
    "\n",
    "        if communes_boundaries != False:\n",
    "            selected_data['gdf_commune'].plot(ax= ax, facecolor = 'None', edgecolor = \"grey\")\n",
    "        else:\n",
    "            selected_data['gdf_commune'] = selected_data['gdf_commune'].iloc[0:0]\n",
    "\n",
    "        if sports_field != False:\n",
    "            selected_data['gdf_sportfield'].plot(ax= ax, facecolor = \"green\")\n",
    "        else:\n",
    "            selected_data['gdf_sportfield'] = selected_data['gdf_sportfield'].iloc[0:0]\n",
    "\n",
    "        if trainline != False:\n",
    "            selected_data['gdf_trainline'].plot(ax= ax, color = \"black\")\n",
    "        else:\n",
    "            selected_data['gdf_trainline'] = selected_data['gdf_trainline'].iloc[0:0]\n",
    "        \n",
    "        if vegetation_zone != False:\n",
    "            selected_data['gdf_vegetation'].plot(ax= ax, facecolor = \"green\")\n",
    "        else:\n",
    "            selected_data['gdf_vegetation'] = selected_data['gdf_vegetation'].iloc[0:0]\n",
    "\n",
    "        if water != False:\n",
    "            selected_data['gdf_water'].plot(ax= ax, facecolor = \"blue\")\n",
    "        else:\n",
    "            selected_data['gdf_water'] = selected_data['gdf_water'].iloc[0:0]\n",
    "\n",
    "    with progressbar.ProgressBar(max_value=17,widgets=widgets) as bar:\n",
    "        for i in range(5): # Displaying roads\n",
    "            selected_data['gdf_road'][(selected_data['gdf_road'].importance == f\"{i+2}\")].plot(ax = ax, color = \"grey\", linewidth = 4*(1/(i+1)))\n",
    "\n",
    "            selected_data['gdf_road'][(selected_data['gdf_road'].nature == ROAD_TYPE_FR[f\"{i}\"])].plot(ax = ax, color = \"grey\", linewidth = 0.5)\n",
    "            bar.update(i)   \n",
    "        for i in range(7): # Displaying buildings\n",
    "            selected_data['gdf_building'][(selected_data['gdf_building'].usage_1 == BUILDING_TYPE_FR[f\"{i}\"])].plot(ax = ax, color = list(np.random.choice(range(20), size=3)/256))\n",
    "            bar.update(i+5)\n",
    "    \n",
    "    list_generalized = [selected_data['gdf_road'].copy()]\n",
    "out = ipywidgets.interactive_output(plt_and_select, {'road_importance_2':grid[0,0],'road_importance_3':grid[1,0], 'road_importance_4':grid[2,0], 'road_importance_5':grid[3,0], 'road_importance_6':grid[4,0],\n",
    "                                                     'one_side_road':grid[0,1],'two_side_road':grid[1,1], 'roundabout':grid[2,1], 'trail':grid[3,1], 'rocky_road':grid[4,1],\n",
    "                                                     'residential':grid[0,2],'annex':grid[1,2],'commercial_services':grid[2,2],'religious':grid[3,2],'agricultural':grid[4,2],'sport_facility':grid[5,2],'other':grid[6,2],\n",
    "                                                     'communes_boundaries':grid[0,3],\n",
    "                                                     'sports_field':grid[0,4],\n",
    "                                                     'trainline':grid[0,5],\n",
    "                                                     'vegetation_zone':grid[0,6],\n",
    "                                                     'water':grid[0,7],\n",
    "                                                     'scale':grid[3,3]})   \n",
    "display(grid, out)"
   ]
  },
  {
   "cell_type": "markdown",
   "metadata": {
    "slideshow": {
     "slide_type": "slide"
    }
   },
   "source": [
    "**2.1.3/** Set up symbology"
   ]
  },
  {
   "cell_type": "code",
   "execution_count": 7,
   "metadata": {
    "hideCode": true,
    "scrolled": false,
    "slideshow": {
     "slide_type": "subslide"
    }
   },
   "outputs": [
    {
     "data": {
      "application/vnd.jupyter.widget-view+json": {
       "model_id": "8b9a68b139394f3abd6d8e2856352ec0",
       "version_major": 2,
       "version_minor": 0
      },
      "text/plain": [
       "GridspecLayout(children=(ColorPicker(value='#111111', description='color road lvl2', layout=Layout(grid_area='…"
      ]
     },
     "metadata": {},
     "output_type": "display_data"
    },
    {
     "data": {
      "application/vnd.jupyter.widget-view+json": {
       "model_id": "1cef6e7105b143078a26b9defd2ba422",
       "version_major": 2,
       "version_minor": 0
      },
      "text/plain": [
       "Output()"
      ]
     },
     "metadata": {},
     "output_type": "display_data"
    }
   ],
   "source": [
    "# Set up symbology\n",
    "gdf_bckgrnd = gp.GeoDataFrame(geometry=gp.GeoSeries([loads('Polygon ((668199 6860870, 669412 6860870, 669412 6860148, 668199 6860148, 668199 6860870))')]))\n",
    "\n",
    "grid = ipywidgets.GridspecLayout(7, 9) # Creating grid layout for our button\n",
    "\n",
    "for i in range(5): # Creating the buttons road color and width\n",
    "    grid[i,0] = ipywidgets.ColorPicker(concise=False,description=f\"color road lvl{i+2}\",value='#111111',style= {'description_width': 'initial'})\n",
    "    grid[i,1] = ipywidgets.FloatSlider(min=0.6, max=15.0, step=0.2, description=f'width road lvl {i+2}', continuous_update=False,style= {'description_width': 'initial'})\n",
    "for i in range(7): # Creating the buildings color\n",
    "    grid[i,2] = ipywidgets.ColorPicker(concise=False,description='color '+BUILDING_TYPE[f'{i}'],value='#111111',style= {'description_width': 'initial'})\n",
    "for i in range(1): # buttons for other features\n",
    "    grid[0,3] = ipywidgets.Checkbox(value=True, description='background on/off')\n",
    "    grid[1,3] = ipywidgets.ColorPicker(concise=False, description='color background', value='#ffffff')\n",
    "    grid[4,3] = ipywidgets.Dropdown(options=['1:25000','1:10000', '1:7500', '1:5000'], value='1:7500', description='scale')\n",
    "\n",
    "    grid[0,4] = ipywidgets.ColorPicker(concise=False, description='color sports field', value='#111111',style= {'description_width': 'initial'})\n",
    "\n",
    "    grid[0,5] = ipywidgets.ColorPicker(concise=False, description='color communes', value='#111111', style= {'description_width': 'initial'})\n",
    "    grid[1,5] = ipywidgets.FloatSlider(min=0.6, max=15.0, step=0.2, description='width communes', continuous_update=False, style= {'description_width': 'initial'})\n",
    "\n",
    "    grid[0,6] = ipywidgets.ColorPicker(concise=False, description='color trainline', value='#111111')\n",
    "    grid[1,6] = ipywidgets.FloatSlider(min=0.6, max=15.0, step=0.2, description='width trainline', continuous_update=False, style= {'description_width': 'initial'})\n",
    "\n",
    "    grid[0,7] = ipywidgets.ColorPicker(concise=False, description='color vegetation', value='#111111')\n",
    "\n",
    "    grid[0,8] = ipywidgets.ColorPicker(concise=False, description='color water', value='#111111')\n",
    "\n",
    "    SYMBO_PARAM = { # Declare variable that will store chosen values\n",
    "        'road_col_2':'0',\n",
    "        'road_col_3':'0',\n",
    "        'road_col_4':'0',\n",
    "        'road_col_5':'0',\n",
    "        'road_col_6':'0',\n",
    "        'road_width_2':0,\n",
    "        'road_width_3':0,\n",
    "        'road_width_4':0,\n",
    "        'road_width_5':0,\n",
    "        'road_width_6':0,  \n",
    "        'residential_col' :'0',\n",
    "        'annex_col' :'0',\n",
    "        'com_serv_col' :'0',\n",
    "        'religious_col' :'0',\n",
    "        'agricultural_col' :'0',\n",
    "        'sport_facility_col' :'0',\n",
    "        'other_col' :'0',\n",
    "        'bckgrnd_col' :'0',\n",
    "        'sports_field_col' :'0',\n",
    "        'communes_col' :'0',\n",
    "        'communes_width' :'0',\n",
    "        'trainline_col' :'0',\n",
    "        'trainline_width' :'0',\n",
    "        'vegetation_col' :'0',\n",
    "        'water_col' :'0'}\n",
    "\n",
    "def pick_symbo(col_road_2, col_road_3, col_road_4, col_road_5, col_road_6, # Function for interactively set up symbology\n",
    "               width_road_2, width_road_3, width_road_4, width_road_5, width_road_6, \n",
    "               col_residential, col_annex, col_com_serv, col_religious, col_agricultural, col_sport_facility, col_other, \n",
    "               background_on_off, col_bckgrnd,\n",
    "               col_sports_field,\n",
    "               col_communes, width_communes,\n",
    "               col_trainline, width_trainline,\n",
    "               col_vegetation,\n",
    "               col_water,\n",
    "               scale):\n",
    "\n",
    "    # Setting up the map\n",
    "    global SCREEN          \n",
    "    fig = plt.figure(figsize=SCREEN[scale])\n",
    "    ax = fig.add_subplot(111)\n",
    "    plt.xlim(668198, 669411)\n",
    "    plt.ylim(6860147, 6860869)\t\n",
    "    scalebar = AnchoredSizeBar(ax.transData,\n",
    "                           250,  \n",
    "                           '250 m',  \n",
    "                           'lower left',  \n",
    "                           pad=0.5,\n",
    "                           color='black',\n",
    "                           frameon=True,\n",
    "                           size_vertical=1)\n",
    "    ax.add_artist(scalebar)\n",
    "    ax.axes.get_xaxis().set_visible(False)\n",
    "    ax.axes.get_yaxis().set_visible(False)\n",
    "\n",
    "    global SYMBO_PARAM # Calling the dictionnary that will store parameters\n",
    "\n",
    "    with progressbar.ProgressBar(max_value=18,widgets=widgets) as bar:\n",
    "        for i in range(1):\n",
    "            if grid[0,3].value == True:\n",
    "                gdf_bckgrnd.plot(ax= ax, color = col_bckgrnd)\n",
    "                SYMBO_PARAM['bckgrnd_col'] = grid[1,3].value\n",
    "                grid[1,3].description = \"col_bckgrnd\"\n",
    "            else:\n",
    "                grid[1,3].description = \"not selected\"\n",
    "            bar.update(1)  \n",
    "\n",
    "            if not selected_data['gdf_vegetation'].empty:\n",
    "                selected_data['gdf_vegetation'].plot(ax= ax, color = col_vegetation)\n",
    "                SYMBO_PARAM['vegetation_col'] = grid[0,7].value\n",
    "            else:\n",
    "                grid[0,7].description = \"not selected\"\n",
    "            bar.update(2)  \n",
    "\n",
    "            if not selected_data['gdf_road'][(selected_data['gdf_road'].importance == \"6\")].empty:\n",
    "                selected_data['gdf_road'][(selected_data['gdf_road'].importance == \"6\")].plot(ax= ax, color = \"#1f2232\", linewidth = width_road_6+1, alpha = 0.5)\n",
    "                selected_data['gdf_road'][(selected_data['gdf_road'].importance == \"6\")].plot(ax= ax, color = col_road_6, linewidth = width_road_6)\n",
    "                SYMBO_PARAM['road_col_6'] = grid[4,0].value\n",
    "                SYMBO_PARAM['road_width_6'] = grid[4,1].value\n",
    "            else:\n",
    "                grid[4,0].description = \"not selected\"\n",
    "                grid[4,1].description = \"not selected\"\n",
    "            bar.update(3)  \n",
    "\n",
    "            if not selected_data['gdf_road'][(selected_data['gdf_road'].importance == \"5\")].empty:\n",
    "                selected_data['gdf_road'][(selected_data['gdf_road'].importance == \"5\")].plot(ax= ax, color = \"#1f2232\", linewidth = width_road_5+1, alpha = 0.5)\n",
    "                selected_data['gdf_road'][(selected_data['gdf_road'].importance == \"5\")].plot(ax= ax, color = col_road_5, linewidth = width_road_5)\n",
    "                SYMBO_PARAM['road_col_5'] = grid[3,0].value\n",
    "                SYMBO_PARAM['road_width_5'] = grid[3,1].value\n",
    "            else:\n",
    "                grid[3,0].description = \"not selected\"\n",
    "                grid[3,1].description = \"not selected\"\n",
    "            bar.update(4)  \n",
    "\n",
    "            if not selected_data['gdf_road'][(selected_data['gdf_road'].importance == \"4\")].empty:\n",
    "                selected_data['gdf_road'][(selected_data['gdf_road'].importance == \"4\")].plot(ax= ax, color = \"#1f2232\", linewidth = width_road_4+1, alpha = 0.5)\n",
    "                selected_data['gdf_road'][(selected_data['gdf_road'].importance == \"4\")].plot(ax= ax, color = col_road_4, linewidth = width_road_4)\n",
    "                SYMBO_PARAM['road_col_4'] = grid[2,0].value\n",
    "                SYMBO_PARAM['road_width_4'] = grid[2,1].value\n",
    "            else:\n",
    "                grid[2,0].description = \"not selected\"\n",
    "                grid[2,1].description = \"not selected\"\n",
    "            bar.update(5)   \n",
    "\n",
    "            if not selected_data['gdf_road'][(selected_data['gdf_road'].importance == \"3\")].empty:\n",
    "                selected_data['gdf_road'][(selected_data['gdf_road'].importance == \"3\")].plot(ax= ax, color = \"#1f2232\", linewidth = width_road_3+1, alpha = 0.5)\n",
    "                selected_data['gdf_road'][(selected_data['gdf_road'].importance == \"3\")].plot(ax= ax, color = col_road_3, linewidth = width_road_3)\n",
    "                SYMBO_PARAM['road_col_3'] = grid[1,0].value\n",
    "                SYMBO_PARAM['road_width_3'] = grid[1,1].value\n",
    "            else:\n",
    "                grid[1,0].description = \"not selected\"\n",
    "                grid[1,1].description = \"not selected\"\n",
    "            bar.update(6)    \n",
    "\n",
    "            if not selected_data['gdf_road'][(selected_data['gdf_road'].importance == \"2\")].empty:\n",
    "                selected_data['gdf_road'][(selected_data['gdf_road'].importance == \"2\")].plot(ax= ax, color = \"#1f2232\", linewidth = width_road_2+1, alpha = 0.5)\n",
    "                selected_data['gdf_road'][(selected_data['gdf_road'].importance == \"2\")].plot(ax= ax, color = col_road_2, linewidth = width_road_2)\n",
    "                SYMBO_PARAM['road_col_2'] = grid[0,0].value\n",
    "                SYMBO_PARAM['road_width_2'] = grid[0,1].value\n",
    "            else:\n",
    "                grid[0,0].description = \"not selected\"\n",
    "                grid[0,1].description = \"not selected\"\n",
    "            bar.update(7)   \n",
    "\n",
    "            if not selected_data['gdf_building'][(selected_data['gdf_building'].usage_1 == \"Résidentiel\")].empty:\n",
    "                selected_data['gdf_building'][(selected_data['gdf_building'].usage_1 == \"Résidentiel\")].plot(ax= ax, color = col_residential)\n",
    "                SYMBO_PARAM['residential_col'] = grid[0,2].value\n",
    "            else:\n",
    "                grid[0,2].description = \"not selected\"\n",
    "            bar.update(8)  \n",
    "\n",
    "            if not selected_data['gdf_building'][(selected_data['gdf_building'].usage_1 == \"Annexe\")].empty:\n",
    "                selected_data['gdf_building'][(selected_data['gdf_building'].usage_1 == \"Annexe\")].plot(ax= ax, color = col_annex)\n",
    "                SYMBO_PARAM['annex_col'] = grid[1,2].value\n",
    "            else:\n",
    "                grid[1,2].description = \"not selected\"\n",
    "            bar.update(9) \n",
    "\n",
    "            if not selected_data['gdf_building'][(selected_data['gdf_building'].usage_1 == \"Commercial et services\")].empty:\n",
    "                selected_data['gdf_building'][(selected_data['gdf_building'].usage_1 == \"Commercial et services\")].plot(ax= ax, color = col_com_serv)\n",
    "                SYMBO_PARAM['com_serv_col'] = grid[2,2].value\n",
    "            else:\n",
    "                grid[2,2].description = \"not selected\"\n",
    "            bar.update(10) \n",
    "\n",
    "            if not selected_data['gdf_building'][(selected_data['gdf_building'].usage_1 == \"Religieux\")].empty:\n",
    "                selected_data['gdf_building'][(selected_data['gdf_building'].usage_1 == \"Religieux\")].plot(ax= ax, color = col_religious)\n",
    "                SYMBO_PARAM['religious_col'] = grid[3,2].value\n",
    "            else:\n",
    "                grid[3,2].description = \"not selected\"\n",
    "            bar.update(11) \n",
    "\n",
    "            if not selected_data['gdf_building'][(selected_data['gdf_building'].usage_1 == \"Agricole\")].empty:\n",
    "                selected_data['gdf_building'][(selected_data['gdf_building'].usage_1 == \"Agricole\")].plot(ax= ax, color = col_agricultural)\n",
    "                SYMBO_PARAM['agricultural_col'] = grid[4,2].value\n",
    "            else:\n",
    "                grid[4,2].description = \"not selected\"\n",
    "            bar.update(12)  \n",
    "\n",
    "            if not selected_data['gdf_building'][(selected_data['gdf_building'].usage_1 == \"Sportif\")].empty:\n",
    "                selected_data['gdf_building'][(selected_data['gdf_building'].usage_1 == \"Sportif\")].plot(ax= ax, color = col_sport_facility)\n",
    "                SYMBO_PARAM['sport_facility_col'] = grid[5,2].value\n",
    "            else:\n",
    "                grid[5,2].description = \"not selected\"\n",
    "            bar.update(13) \n",
    "\n",
    "            if not selected_data['gdf_building'][(selected_data['gdf_building'].usage_1 == \"Indifférencié\")].empty:\n",
    "                selected_data['gdf_building'][(selected_data['gdf_building'].usage_1 == \"Indifférencié\")].plot(ax= ax, color = col_other)\n",
    "                SYMBO_PARAM['other_col'] = grid[6,2].value\n",
    "            else:\n",
    "                grid[6,2].description = \"not selected\"\n",
    "            bar.update(14)     \n",
    "\n",
    "            if not selected_data['gdf_sportfield'].empty:\n",
    "                selected_data['gdf_sportfield'].plot(ax= ax, color = col_sports_field)\n",
    "                SYMBO_PARAM['sports_field_col'] = grid[0,4].value\n",
    "            else:\n",
    "                grid[0,4].description = \"not selected\"\n",
    "            bar.update(15) \n",
    "\n",
    "            if not selected_data['gdf_commune'].empty:\n",
    "                selected_data['gdf_commune'].plot(ax= ax, facecolor = 'None', edgecolor = col_communes, linewidth = width_communes,linestyle='dashed', alpha = 0.25)\n",
    "                SYMBO_PARAM['communes_col'] = grid[0,5].value\n",
    "                SYMBO_PARAM['communes_width'] = grid[1,5].value\n",
    "            else:\n",
    "                grid[0,5].description = \"not selected\"\n",
    "                grid[1,5].description = \"not selected\"\n",
    "            bar.update(16)  \n",
    "\n",
    "            if not selected_data['gdf_trainline'].empty:\n",
    "                selected_data['gdf_trainline'].plot(ax= ax, color = col_trainline, linewidth = width_trainline)\n",
    "                SYMBO_PARAM['trainline_col'] = grid[0,6].value\n",
    "                SYMBO_PARAM['trainline_width'] = grid[1,6].value\n",
    "            else:\n",
    "                grid[0,6].description = \"not selected\"\n",
    "                grid[1,6].description = \"not selected\"\n",
    "            bar.update(17)  \n",
    "\n",
    "            if not selected_data['gdf_water'].empty:\n",
    "                selected_data['gdf_water'].plot(ax= ax, color = col_water)\n",
    "                SYMBO_PARAM['water_col'] = grid[0,8].value\n",
    "            else:\n",
    "                grid[0,8].description = \"not selected\"\n",
    "            bar.update(18)\n",
    "\n",
    "\n",
    "out_2 = ipywidgets.interactive_output(pick_symbo,{'col_road_2':grid[0,0],'col_road_3':grid[1,0],'col_road_4':grid[2,0],'col_road_5':grid[3,0], 'col_road_6':grid[4,0],\n",
    "                                                  'width_road_2':grid[0,1],'width_road_3':grid[1,1],'width_road_4':grid[2,1],'width_road_5':grid[3,1],'width_road_6':grid[4,1],\n",
    "                                                  'col_residential':grid[0,2], 'col_annex':grid[1,2], 'col_com_serv':grid[2,2], 'col_religious':grid[3,2], 'col_agricultural':grid[4,2], 'col_sport_facility':grid[5,2], 'col_other':grid[6,2],\n",
    "                                                  'background_on_off':grid[0,3], 'col_bckgrnd':grid[1,3],\n",
    "                                                  'col_sports_field':grid[0,4],\n",
    "                                                  'col_communes':grid[0,5], 'width_communes':grid[1,5],\n",
    "                                                  'col_trainline':grid[0,6], 'width_trainline':grid[1,6],\n",
    "                                                  'col_vegetation':grid[0,7],\n",
    "                                                  'col_water':grid[0,8],\n",
    "                                                  'scale':grid[4,3]})\n",
    "\n",
    "display(grid, out_2)\n",
    "scale = ipywidgets.Dropdown(options=['1:25000','1:10000', '1:7500', '1:5000'], value='1:7500', description='scale')"
   ]
  },
  {
   "cell_type": "markdown",
   "metadata": {
    "slideshow": {
     "slide_type": "slide"
    }
   },
   "source": [
    "💬 Now that we have done the **selection and symbolization**, it's time to dive into the **transformation** of our elements to complete our generalization processes.\n",
    "\n",
    "The following sections will present proposed workflows for three **levels of generalization**. If the code cell relates to the targeted generalization level (indicated by the 🟡, 🟠 or 🔴 icon), then you should **run** this cell, otherwise you can **skip** it and go the next code cell."
   ]
  },
  {
   "cell_type": "markdown",
   "metadata": {
    "slideshow": {
     "slide_type": "fragment"
    }
   },
   "source": [
    "- 🟡 **Slightly generalized :** most map details are preserved -> useful for large-scale maps (neighborhood) \n",
    "- 🟠 **Medium generalization :** intermediate between very generalized and lightly generalized rendering.\n",
    "- 🔴 **Very generalized :** only the main map structures are preserved -> useful for small scales or minimalist basemaps"
   ]
  },
  {
   "cell_type": "markdown",
   "metadata": {
    "slideshow": {
     "slide_type": "slide"
    }
   },
   "source": [
    "### **2.2/** Road generalization\n",
    "\n",
    "Let's start by generalizing roads and paths so they have less details"
   ]
  },
  {
   "cell_type": "markdown",
   "metadata": {
    "slideshow": {
     "slide_type": "slide"
    }
   },
   "source": [
    "**2.2.1/** 🟡🟠🔴 Using the \"detect_dead_ends\" algorithm on roads, to select small sections that decreazes road network legibility"
   ]
  },
  {
   "cell_type": "code",
   "execution_count": null,
   "metadata": {
    "hideCode": true,
    "slideshow": {
     "slide_type": "subslide"
    }
   },
   "outputs": [],
   "source": [
    "# 🟡🟠🔴 Step 1 : Using the \"detect_dead_ends\" algorithm on roads, to select small sections that decreazes road network legibility\n",
    "de_col = matcol.LinearSegmentedColormap.from_list('de_col',['blue','red'])\n",
    "count = -1\n",
    "revert = ipywidgets.Button(description='revert',icon='undo')\n",
    "outside_faces = ipywidgets.Checkbox(value=True, description=\"outside_faces\")\n",
    "scale = ipywidgets.Dropdown(options=['1:25000','1:10000', '1:7500', '1:5000'], value='1:7500', description='scale')\n",
    "\n",
    "def plt_dtc_de(outside_faces, scale):\n",
    "    global dead_ends\n",
    "    global list_generalized\n",
    "    global SCREEN\n",
    "    global de_col\n",
    "    global count \n",
    "\n",
    "    \n",
    "    with progressbar.ProgressBar(max_value=9,widgets=widgets) as bar:\n",
    "        try:\n",
    "            dead_ends = cg.detect_dead_ends(list_generalized[count], outside_faces = outside_faces)\n",
    "            bar.update(1)\n",
    "        except IndexError:\n",
    "            count += 1\n",
    "            dead_ends = cg.detect_dead_ends(list_generalized[count], outside_faces = outside_faces)\n",
    "            bar.update(1)\n",
    "\n",
    "        # Setting up the map\n",
    "        fig = plt.figure(figsize=SCREEN[scale])\n",
    "        bar.update(2)\n",
    "        ax = fig.add_subplot(111)\n",
    "        bar.update(3)\n",
    "        plt.xlim(668198, 669411)\n",
    "        bar.update(4)\n",
    "        plt.ylim(6860147, 6860869)\n",
    "        bar.update(5)\n",
    "        scalebar = AnchoredSizeBar(ax.transData, 250, '250 m', 'lower left', pad=0.5, color='black', frameon=True, size_vertical=1)\n",
    "        bar.update(6)\n",
    "        ax.add_artist(scalebar)\n",
    "        bar.update(7)\n",
    "        ax.axes.get_xaxis().set_visible(False)\n",
    "        bar.update(8)\n",
    "        ax.axes.get_yaxis().set_visible(False)\n",
    "\n",
    "        # Display the result \n",
    "        bar.update(9)\n",
    "        dead_ends.plot(ax = ax, column = 'deadend', cmap = de_col, linewidth = 0.8) \n",
    "\n",
    "def revert_fun(b):\n",
    "    global count \n",
    "    global out_dtc_de\n",
    "    count -= 1\n",
    "    clear_output()\n",
    "    out_dtc_de = ipywidgets.interactive(plt_dtc_de, outside_faces = outside_faces, scale = scale)\n",
    "    display(out_dtc_de, revert)\n",
    "revert.on_click(revert_fun)\n",
    " \n",
    "\n",
    "out_dtc_de = ipywidgets.interactive(plt_dtc_de, outside_faces = outside_faces, scale = scale)\n",
    "display(out_dtc_de, revert)"
   ]
  },
  {
   "cell_type": "markdown",
   "metadata": {
    "slideshow": {
     "slide_type": "fragment"
    }
   },
   "source": [
    "If you wish to see how the code of this algorithm works, press **`space bar`** and go to the next sub-slide."
   ]
  },
  {
   "cell_type": "markdown",
   "metadata": {
    "slideshow": {
     "slide_type": "subslide"
    }
   },
   "source": [
    "**2.2.1'/** Detect dead end algorithm details"
   ]
  },
  {
   "cell_type": "code",
   "execution_count": null,
   "metadata": {
    "slideshow": {
     "slide_type": "subslide"
    }
   },
   "outputs": [],
   "source": [
    "import cartagen as cg\n",
    "\n",
    "o_faces = True # storing algorithm parameter in a variable, used later on\n",
    "de = cg.detect_dead_ends(list_generalized[count], outside_faces = o_faces) #list_generalized[count] is the road network in Geopandas GeoDataFrame format\n",
    " \n",
    "de_col = matcol.LinearSegmentedColormap.from_list('de_col',['blue','red']) #declaring color palette for displaying result\n",
    "de.plot(column = 'deadend', cmap = de_col) #using .plot() method on given GeoDataFrame, \n",
    "# and set up color according to section status (i.e dead end = True or False)"
   ]
  },
  {
   "cell_type": "markdown",
   "metadata": {
    "slideshow": {
     "slide_type": "subslide"
    }
   },
   "source": [
    "💬 This algorithm detect dead ends on each **\"faces\"** of the road network, i.e every zones **delimitated by roads**. As our data sample is **small**, we have a lot of **outside faces**, which tends to detect sections as dead ends while they are **main roads** cut in this data extract. "
   ]
  },
  {
   "cell_type": "code",
   "execution_count": null,
   "metadata": {
    "hideCode": true,
    "slideshow": {
     "slide_type": "fragment"
    }
   },
   "outputs": [],
   "source": [
    "# Network faces calculation example\n",
    "# Setting up the map\n",
    "fig = plt.figure(figsize=SCREEN['1:7500'])\n",
    "ax = fig.add_subplot(111)\n",
    "plt.xlim(668198, 669411)\n",
    "plt.ylim(6860147, 6860869)\t\t\n",
    "scalebar = AnchoredSizeBar(ax.transData,\n",
    "                                    250,  \n",
    "                                    '250 m',  \n",
    "                                    'lower left',  \n",
    "                                    pad=0.5,\n",
    "                                    color='black',\n",
    "                                    frameon=True,\n",
    "                                    size_vertical=1)\n",
    "ax.add_artist(scalebar)\n",
    "ax.axes.get_xaxis().set_visible(False)\n",
    "ax.axes.get_yaxis().set_visible(False)\n",
    "\n",
    "nf_geom = cg.network_faces(dead_ends.geometry,convex_hull=o_faces)\n",
    "nf = gp.GeoDataFrame(geometry=gp.GeoSeries(nf_geom))\n",
    "\n",
    "list_col_face = []\n",
    "for i in nf.geometry:\n",
    "    list_col_face.append((np.random.uniform(0, 1),np.random.uniform(0, 1),np.random.uniform(0, 1)))\n",
    "\n",
    "col_face = matcol.LinearSegmentedColormap.from_list('col_face',list_col_face)\n",
    "\n",
    "nf.plot(ax=ax, cmap = col_face)\n",
    "dead_ends.plot(ax=ax, color = 'black', linewidth = 0.8)"
   ]
  },
  {
   "cell_type": "markdown",
   "metadata": {
    "slideshow": {
     "slide_type": "fragment"
    }
   },
   "source": [
    "💬 Here is how are delimited the **network faces**. Only colorized part are faces taken in account for dead end **detection**"
   ]
  },
  {
   "cell_type": "markdown",
   "metadata": {
    "slideshow": {
     "slide_type": "slide"
    }
   },
   "source": [
    "**2.2.2/** 🟡🟠🔴 Removing part of the roads considered as dead ends by using \"eliminate_dead_ends\" "
   ]
  },
  {
   "cell_type": "code",
   "execution_count": null,
   "metadata": {
    "hideCode": true,
    "scrolled": false,
    "slideshow": {
     "slide_type": "subslide"
    }
   },
   "outputs": [],
   "source": [
    "# 🟡🟠🔴 Step 2 : Removing part of the roads considered as dead ends by using \"eliminate_dead_ends\"\n",
    "count_intrn = 0\n",
    "def plt_elim_de(length, klongest, scale = \"1:7500\"):\n",
    "    global list_generalized\n",
    "    global dead_ends\n",
    "    global SCREEN\n",
    "    global de_col\n",
    "    global count\n",
    "    global count_intrn\n",
    "    \n",
    "    with progressbar.ProgressBar(max_value=11,widgets=widgets) as bar:\n",
    "        if 'dead_ends' not in globals():\n",
    "            print(\"you must perform dead ends detection before collapsing them !\")\n",
    "            bar.update(1)\n",
    "        else:\n",
    "            count_intrn += 1\n",
    "            bar.update(1)\n",
    "            if count_intrn > 1:\n",
    "                del(list_generalized[-1])\n",
    "            generalized = cg.eliminate_dead_ends(dead_ends, length, klongest)\n",
    "            bar.update(2)\n",
    "            list_generalized.append(generalized)\n",
    "            bar.update(3)\n",
    "            \n",
    "            # Setting up the map\n",
    "            fig = plt.figure(figsize=SCREEN[scale])\n",
    "            bar.update(4)\n",
    "            ax = fig.add_subplot(111)\n",
    "            bar.update(5)\n",
    "            plt.xlim(668198, 669411)\n",
    "            bar.update(6)\n",
    "            plt.ylim(6860147, 6860869)\n",
    "            bar.update(7)\n",
    "            scalebar = AnchoredSizeBar(ax.transData,\n",
    "                                                250,  \n",
    "                                                '250 m',  \n",
    "                                                'lower left',  \n",
    "                                                pad=0.5,\n",
    "                                                color='black',\n",
    "                                                frameon=True,\n",
    "                                                size_vertical=1)\n",
    "            bar.update(8)\n",
    "            ax.add_artist(scalebar)\n",
    "            bar.update(9)\n",
    "            ax.axes.get_xaxis().set_visible(False)\n",
    "            bar.update(10)\n",
    "            ax.axes.get_yaxis().set_visible(False)\n",
    "\n",
    "            list_generalized[-1].plot(ax =ax, column = 'deadend', cmap = de_col, linewidth = 0.8)\n",
    "            bar.update(11)\n",
    "            \n",
    "ipywidgets.interact(plt_elim_de, length = ipywidgets.FloatSlider(value = 20, min = 0,max = 500,step = 10,continuous_update=False),\n",
    "                                                          klongest = True,\n",
    "                                                          scale = ['1:25000','1:10000', '1:7500', '1:5000'])"
   ]
  },
  {
   "cell_type": "markdown",
   "metadata": {
    "slideshow": {
     "slide_type": "fragment"
    }
   },
   "source": [
    "💬 You can configure the **length threshold** to keep part of the dead ends (if you need details on your map). Using the keep_longest button allows you to keep the **main component** of dead end section, when it has a complex shape."
   ]
  },
  {
   "cell_type": "markdown",
   "metadata": {
    "slideshow": {
     "slide_type": "subslide"
    }
   },
   "source": [
    "**2.2.2'/** Eliminate dead ends algorithm details"
   ]
  },
  {
   "cell_type": "code",
   "execution_count": null,
   "metadata": {
    "hideCode": false,
    "slideshow": {
     "slide_type": "subslide"
    }
   },
   "outputs": [],
   "source": [
    "generalized_de = cg.eliminate_dead_ends(dead_ends, length = 10, keep_longest = True)\n",
    "\n",
    "generalized_de.plot(column = 'deadend', cmap = de_col, linewidth = 0.8) #Display result gdf with color according to section status (i.e dead end = True or False)"
   ]
  },
  {
   "cell_type": "markdown",
   "metadata": {
    "slideshow": {
     "slide_type": "slide"
    }
   },
   "source": [
    "**2.2.3/** 🟡🟠🔴 Display intermediary results "
   ]
  },
  {
   "cell_type": "code",
   "execution_count": null,
   "metadata": {
    "hideCode": true,
    "scrolled": false,
    "slideshow": {
     "slide_type": "subslide"
    }
   },
   "outputs": [],
   "source": [
    "# 🟡🟠🔴 Display intermediary results    \n",
    "\n",
    "symbology_on_off = ipywidgets.Checkbox(value=True, description='symbology_on')\n",
    "\n",
    "def bf_af_1(scale='1:7500', symbology_on= True):\n",
    "    global SCREEN\n",
    "    fig = plt.figure(figsize=SCREEN[scale])\n",
    "    ax1 = fig.add_subplot(111)\n",
    "    plt.xlim(668198, 669411)\n",
    "    plt.ylim(6860147, 6860869)\t\n",
    "    plt.title(\"Before\")\t\n",
    "    scalebar = AnchoredSizeBar(ax1.transData,\n",
    "                                        250,  \n",
    "                                        '250 m',  \n",
    "                                        'lower left',  \n",
    "                                        pad=0.5,\n",
    "                                        color='black',\n",
    "                                        frameon=True,\n",
    "                                        size_vertical=1)\n",
    "    ax1.add_artist(scalebar)\n",
    "    ax1.axes.get_xaxis().set_visible(False)\n",
    "    ax1.axes.get_yaxis().set_visible(False)\n",
    "    \n",
    "    fig2 = plt.figure(figsize=SCREEN[scale])\n",
    "    ax2 = fig2.add_subplot(111)\n",
    "    plt.xlim(668198, 669411)\n",
    "    plt.ylim(6860147, 6860869)\n",
    "    plt.title(\"After\")\t\n",
    "    scalebar = AnchoredSizeBar(ax2.transData,\n",
    "                                        250,  \n",
    "                                        '250 m',  \n",
    "                                        'lower left',  \n",
    "                                        pad=0.5,\n",
    "                                        color='black',\n",
    "                                        frameon=True,\n",
    "                                        size_vertical=1)\n",
    "    ax2.add_artist(scalebar)\t\n",
    "    ax2.axes.get_xaxis().set_visible(False)\n",
    "    ax2.axes.get_yaxis().set_visible(False)\t\n",
    "    \n",
    "    if scale == '1:25000':\n",
    "        plt.subplots_adjust(hspace=0)\n",
    "        \n",
    "    if symbology_on == True:\n",
    "        with progressbar.ProgressBar(max_value=19,widgets=widgets) as bar:\n",
    "        \n",
    "            for i in reversed(range(2,7)):\n",
    "                selected_data['gdf_road'][(selected_data['gdf_road'].importance == f\"{i}\")].plot(ax=ax1, color = \"#1f2232\", linewidth = SYMBO_PARAM[f'road_width_{i}']+1)\n",
    "\n",
    "                selected_data['gdf_road'][(selected_data['gdf_road'].importance == f\"{i}\")].plot(ax=ax1, color = SYMBO_PARAM[f'road_col_{i}'], linewidth = SYMBO_PARAM[f'road_width_{i}'])\n",
    "\n",
    "\n",
    "                list_generalized[len(list_generalized)-1][(list_generalized[len(list_generalized)-1].importance == f\"{i}\")].plot(ax=ax2, color = \"#1f2232\", linewidth = SYMBO_PARAM[f'road_width_{i}']+1)\n",
    "\n",
    "                list_generalized[len(list_generalized)-1][(list_generalized[len(list_generalized)-1].importance == f\"{i}\")].plot(ax=ax2, color = SYMBO_PARAM[f'road_col_{i}'], linewidth = SYMBO_PARAM[f'road_width_{i}'])\n",
    "                bar.update(5)\n",
    "\n",
    "            for i in range(1):\n",
    "                gdf_bckgrnd.plot(ax=ax2, color = SYMBO_PARAM['bckgrnd_col'])\n",
    "                bar.update(6)\n",
    "                gdf_bckgrnd.plot(ax=ax1, color = SYMBO_PARAM['bckgrnd_col'])\n",
    "                bar.update(7)\n",
    "\n",
    "                selected_data['gdf_trainline'].plot(ax=ax1, color = SYMBO_PARAM['trainline_col'], linewidth = SYMBO_PARAM['trainline_width'])\n",
    "                bar.update(8)\n",
    "                selected_data['gdf_trainline'].plot(ax=ax2, color = SYMBO_PARAM['trainline_col'], linewidth = SYMBO_PARAM['trainline_width'])\n",
    "                bar.update(9) \n",
    "\n",
    "                selected_data['gdf_commune'].plot(ax=ax1, facecolor = 'None', edgecolor = SYMBO_PARAM['communes_col'], linewidth = SYMBO_PARAM['communes_width'],linestyle='dashed')\n",
    "                bar.update(10)\n",
    "                selected_data['gdf_commune'].plot(ax=ax2, facecolor = 'None', edgecolor = SYMBO_PARAM['communes_col'], linewidth = SYMBO_PARAM['communes_width'],linestyle='dashed')\n",
    "                bar.update(11) \n",
    "\n",
    "                col_buildings = matcol.LinearSegmentedColormap.from_list('colbuildings',\n",
    "                                                                [SYMBO_PARAM['agricultural_col'], SYMBO_PARAM['annex_col'],SYMBO_PARAM['com_serv_col'], SYMBO_PARAM['other_col'],SYMBO_PARAM['religious_col'],SYMBO_PARAM['residential_col'],SYMBO_PARAM['sports_field_col']])    \n",
    "                selected_data['gdf_building'].plot(ax=ax1, column = 'usage_1', cmap = col_buildings)\n",
    "                bar.update(12)\n",
    "                selected_data['gdf_building'].plot(ax=ax2, column = 'usage_1', cmap = col_buildings)\n",
    "                bar.update(13)\n",
    "\n",
    "                selected_data['gdf_sportfield'].plot(ax=ax1, color = SYMBO_PARAM['sports_field_col'])\n",
    "                bar.update(14)\n",
    "                selected_data['gdf_sportfield'].plot(ax=ax2, color = SYMBO_PARAM['sports_field_col'])\n",
    "                bar.update(15)\n",
    "\n",
    "                selected_data['gdf_vegetation'].plot(ax=ax1, color = SYMBO_PARAM['vegetation_col'])\n",
    "                bar.update(16)\n",
    "                selected_data['gdf_vegetation'].plot(ax=ax2, color = SYMBO_PARAM['vegetation_col'])\n",
    "                bar.update(17)\n",
    "\n",
    "                selected_data['gdf_water'].plot(ax=ax1, color = SYMBO_PARAM['water_col'])\n",
    "                bar.update(18)\n",
    "                selected_data['gdf_water'].plot(ax=ax2, color = SYMBO_PARAM['water_col'])\n",
    "                bar.update(19)\n",
    "             \n",
    "    else:\n",
    "        with progressbar.ProgressBar(max_value=2,widgets=widgets) as bar:\n",
    "            for i in range(1):\n",
    "                selected_data['gdf_road'].plot(ax =ax1, linewidth = 0.8)\n",
    "                bar.update(1)\n",
    "                list_generalized[len(list_generalized)-1].plot(ax =ax2, linewidth = 0.8)\n",
    "                bar.update(2)\n",
    "        \n",
    "       \n",
    "ipywidgets.interact(bf_af_1, scale = ['1:25000','1:10000', '1:7500', '1:5000'], symbology_on = True)"
   ]
  },
  {
   "cell_type": "markdown",
   "metadata": {
    "slideshow": {
     "slide_type": "slide"
    }
   },
   "source": [
    "**2.2.4/** 🟡🟠🔴 Selecting the roundabouts to collapse using \"detect_roundabouts\" algorithm"
   ]
  },
  {
   "cell_type": "code",
   "execution_count": null,
   "metadata": {
    "hideCode": true,
    "slideshow": {
     "slide_type": "subslide"
    }
   },
   "outputs": [],
   "source": [
    "# 🟡🟠🔴 Step 3 : Selecting the roundabouts to collapse using \"detect_roundabouts\"\n",
    "count = -1\n",
    "area_threshold = ipywidgets.IntSlider(value=500, min=0, max=2500, step=10, continuous_update=False, style= {'description_width': 'initial'})\n",
    "miller_index = ipywidgets.FloatSlider(value =0.95, min = 0,max = 1,step = 0.01,continuous_update=False)\n",
    "revert1 = ipywidgets.Button(description='revert',icon='undo')\n",
    "\n",
    "def plt_rb(area_threshold, miller_index, scale):\n",
    "    with progressbar.ProgressBar(max_value=10,widgets=widgets) as bar:\n",
    "        global list_generalized\n",
    "        global rb\n",
    "        global SCREEN\n",
    "        global count\n",
    "        global rb\n",
    "\n",
    "        try:\n",
    "            rb = cg.detect_roundabouts(list_generalized[count], area_threshold = area_threshold, miller_index = miller_index)\n",
    "            bar.update(1)\n",
    "        except IndexError:\n",
    "            count += 1\n",
    "            rb = cg.detect_roundabouts(list_generalized[count], area_threshold = area_threshold, miller_index = miller_index)\n",
    "            bar.update(1)\n",
    "        \n",
    "        fig = plt.figure(figsize=SCREEN[scale])\n",
    "        bar.update(2)\n",
    "        ax = fig.add_subplot(111)\n",
    "        bar.update(3)\n",
    "        plt.xlim(668198, 669411)\n",
    "        bar.update(4)\n",
    "        plt.ylim(6860147, 6860869)\n",
    "        bar.update(5)\n",
    "        scalebar = AnchoredSizeBar(ax.transData,\n",
    "                                                250,  \n",
    "                                                '250 m',  \n",
    "                                                'lower left',  \n",
    "                                                pad=0.5,\n",
    "                                                color='black',\n",
    "                                                frameon=True,\n",
    "                                                size_vertical=1)\n",
    "        bar.update(6)\n",
    "        ax.add_artist(scalebar)\n",
    "        bar.update(7)\n",
    "        ax.axes.get_xaxis().set_visible(False)\n",
    "        bar.update(8)\n",
    "        ax.axes.get_yaxis().set_visible(False)\n",
    "        bar.update(9)\n",
    "        \n",
    "        # Display the result\n",
    "        list_generalized[count].plot(ax =ax, linewidth = 0.8)\n",
    "        if type(rb) == gp.geodataframe.GeoDataFrame:\n",
    "            rb.plot(ax = ax, color = \"orange\") \n",
    "        bar.update(10)\n",
    "        \n",
    "def revert_fun(b):\n",
    "    global count \n",
    "    global out_dtc_rb\n",
    "    count -= 1\n",
    "    clear_output()\n",
    "    out_dtc_rb = ipywidgets.interactive(plt_rb, area_threshold = area_threshold, miller_index = miller_index, scale = scale)\n",
    "    display(out_dtc_rb, revert1)\n",
    "revert1.on_click(revert_fun)\n",
    "\n",
    "\n",
    "out_dtc_rb = ipywidgets.interactive(plt_rb, area_threshold = area_threshold, miller_index = miller_index, scale = scale)\n",
    "display(out_dtc_rb, revert1)"
   ]
  },
  {
   "cell_type": "markdown",
   "metadata": {
    "slideshow": {
     "slide_type": "fragment"
    }
   },
   "source": [
    "💬 **Miller index** give an idea of how **round** should be the feature to detect. The more it is close to **1**, the **rounder** detected features have to be."
   ]
  },
  {
   "cell_type": "markdown",
   "metadata": {
    "slideshow": {
     "slide_type": "subslide"
    }
   },
   "source": [
    "**2.2.4'/** Detect roundabouts algorithm details"
   ]
  },
  {
   "cell_type": "code",
   "execution_count": null,
   "metadata": {
    "slideshow": {
     "slide_type": "subslide"
    }
   },
   "outputs": [],
   "source": [
    "roundabts = cg.detect_roundabouts(list_generalized[count], area_threshold = 4000, miller_index = 0.95) \n",
    "\n",
    "#Configuring display window\n",
    "fig = plt.figure()\n",
    "ax = fig.add_subplot(111)\n",
    "plt.xlim(668198, 669411)\n",
    "plt.ylim(6860147, 6860869)\n",
    "\n",
    "if len(roundabts) > 0: \n",
    "    roundabts.plot(ax=ax, color = 'orange')\n",
    "    list_generalized[count].plot(ax =ax, linewidth = 0.8)\n",
    "else: \n",
    "    print(\"no roundabouts detected\")"
   ]
  },
  {
   "cell_type": "markdown",
   "metadata": {
    "slideshow": {
     "slide_type": "slide"
    }
   },
   "source": [
    "**2.2.5/** 🟡🟠🔴 Selecting the branching crossroads to collapse using \"detect_branching_crossroads\""
   ]
  },
  {
   "cell_type": "code",
   "execution_count": null,
   "metadata": {
    "hideCode": true,
    "slideshow": {
     "slide_type": "subslide"
    }
   },
   "outputs": [],
   "source": [
    "# 🟡🟠🔴 Step 4 : Selecting the branching crossroads to collapse using \"detect_branching_crossroads\"\n",
    "count = -1\n",
    "revert2 = ipywidgets.Button(description='revert',icon='undo')\n",
    "area_threshold_bc = ipywidgets.IntSlider(value =4000, min = 0,max = 10000,step = 100,continuous_update=False,style= {'description_width': 'initial'})\n",
    "maximum_distance_area = ipywidgets.FloatSlider(value =0.5, min = 0,max = 1,step = 0.025,continuous_update=False, style= {'description_width': 'initial'})\n",
    "allow_middle_node = ipywidgets.Checkbox(value=True, description=\"allow_middle_node \") \n",
    "middle_angle_tolerance = ipywidgets.FloatSlider(value =10, min = 0,max = 40,step = 1,continuous_update=False, style = {'description_width': 'initial'}) \n",
    "allow_single_4degree_node = ipywidgets.Checkbox(value=True, description=\"allow_single_4degree_node\")\n",
    "\n",
    "def plt_bc(area_threshold_bc, maximum_distance_area, allow_middle_node, middle_angle_tolerance, allow_single_4degree_node, scale = '1:7500'):\n",
    "    with progressbar.ProgressBar(max_value=10,widgets=widgets) as bar:\n",
    "        global bc \n",
    "        global list_generalized\n",
    "        global SCREEN\n",
    "        global roundabouts\n",
    "        global count\n",
    "\n",
    "        if 'rb' not in globals():\n",
    "            print(\"it is recommanded to perform roundabouts detection prior to branching crossroads detection\")\n",
    "            try:\n",
    "                bc = cg.detect_branching_crossroads(list_generalized[count], area_threshold = area_threshold_bc, maximum_distance_area = maximum_distance_area,\n",
    "                                                    allow_middle_node = allow_middle_node, middle_angle_tolerance = middle_angle_tolerance, allow_single_4degree_node = allow_single_4degree_node)\n",
    "                bar.update(1)\n",
    "            except IndexError:\n",
    "                count += 1\n",
    "                bc = cg.detect_branching_crossroads(list_generalized[count], area_threshold = area_threshold_bc, maximum_distance_area = maximum_distance_area,\n",
    "                                                    allow_middle_node = allow_middle_node, middle_angle_tolerance = middle_angle_tolerance, allow_single_4degree_node = allow_single_4degree_node)\n",
    "                bar.update(1)\n",
    "        else: \n",
    "            try:                                           \n",
    "                bc = cg.detect_branching_crossroads(list_generalized[count], roundabouts = rb, area_threshold = area_threshold_bc, maximum_distance_area = maximum_distance_area,\n",
    "                                                    allow_middle_node = allow_middle_node, middle_angle_tolerance = middle_angle_tolerance, allow_single_4degree_node = allow_single_4degree_node)\n",
    "                bar.update(1)\n",
    "            except IndexError:\n",
    "                count += 1\n",
    "                bc = cg.detect_branching_crossroads(list_generalized[count],roundabouts = rb, area_threshold = area_threshold_bc, maximum_distance_area = maximum_distance_area,\n",
    "                                                    allow_middle_node = allow_middle_node, middle_angle_tolerance = middle_angle_tolerance, allow_single_4degree_node = allow_single_4degree_node)\n",
    "                bar.update(1)\n",
    "                \n",
    "        # Setting up the map\n",
    "        fig = plt.figure(figsize=SCREEN[scale])\n",
    "        bar.update(2)\n",
    "        ax = fig.add_subplot(111)\n",
    "        bar.update(3)\n",
    "        plt.xlim(668198, 669411)\n",
    "        bar.update(4)\n",
    "        plt.ylim(6860147, 6860869)\n",
    "        bar.update(5)\n",
    "        scalebar = AnchoredSizeBar(ax.transData,\n",
    "                                                        250,  \n",
    "                                                        '250 m',  \n",
    "                                                        'lower left',  \n",
    "                                                        pad=0.5,\n",
    "                                                        color='black',\n",
    "                                                        frameon=True,\n",
    "                                                        size_vertical=1)\n",
    "        bar.update(6)\n",
    "        ax.add_artist(scalebar)\n",
    "        bar.update(7)\n",
    "        ax.axes.get_xaxis().set_visible(False)\n",
    "        bar.update(8)\n",
    "        ax.axes.get_yaxis().set_visible(False)\n",
    "        bar.update(9)\n",
    "\n",
    "        # Display the result\n",
    "        list_generalized[count].plot(ax =ax, linewidth = 0.8)\n",
    "        if type(bc) == gp.geodataframe.GeoDataFrame:\n",
    "            bc.plot(ax = ax, color = \"orange\") \n",
    "        bar.update(10)\n",
    "            \n",
    "def revert_fun(b):\n",
    "    global count \n",
    "    global out_dtc_bc\n",
    "    count -= 1\n",
    "    clear_output()\n",
    "    out_dtc_bc = ipywidgets.interact(plt_bc, area_threshold_bc = area_threshold_bc, maximum_distance_area = maximum_distance_area, allow_middle_node = allow_middle_node, \n",
    "                                             middle_angle_tolerance = middle_angle_tolerance, allow_single_4degree_node = allow_single_4degree_node, scale = scale)\n",
    "    display(out_dtc_bc, revert2)\n",
    "revert2.on_click(revert_fun)\n",
    "\n",
    "out_dtc_bc = ipywidgets.interactive(plt_bc, area_threshold_bc = area_threshold_bc, maximum_distance_area = maximum_distance_area, allow_middle_node = allow_middle_node, \n",
    "                                             middle_angle_tolerance = middle_angle_tolerance, allow_single_4degree_node = allow_single_4degree_node, scale = scale)\n",
    "display(out_dtc_bc, revert2)"
   ]
  },
  {
   "cell_type": "markdown",
   "metadata": {
    "slideshow": {
     "slide_type": "fragment"
    }
   },
   "source": [
    "💬 Branching crossroads should be detected **after** roundabouts, as providing roundabouts in branching crossroads detection gives **better** results when collapsing those objects."
   ]
  },
  {
   "cell_type": "markdown",
   "metadata": {
    "slideshow": {
     "slide_type": "subslide"
    }
   },
   "source": [
    "**2.2.5'/** Detect branching crossroads algorithm details"
   ]
  },
  {
   "cell_type": "code",
   "execution_count": null,
   "metadata": {
    "slideshow": {
     "slide_type": "subslide"
    }
   },
   "outputs": [],
   "source": [
    "branching = cg.detect_branching_crossroads(list_generalized[count], roundabouts = rb, area_threshold = 4000, maximum_distance_area = 0.5,\n",
    "                                                    allow_middle_node = True, middle_angle_tolerance = 10, allow_single_4degree_node = True)\n",
    "#Configuring display window\n",
    "fig = plt.figure()\n",
    "ax = fig.add_subplot(111)\n",
    "plt.xlim(668198, 669411)\n",
    "plt.ylim(6860147, 6860869)\n",
    "\n",
    "if len(branching) > 0:\n",
    "    branching.plot(ax=ax, color = 'orange')\n",
    "    list_generalized[count].plot(ax =ax, linewidth = 0.8)\n",
    "else:\n",
    "    print(\"No branching crossroads detected\")"
   ]
  },
  {
   "cell_type": "markdown",
   "metadata": {
    "slideshow": {
     "slide_type": "slide"
    }
   },
   "source": [
    "**2.2.6/** 🟡🟠🔴 Using collapse branching crossroads algorithm "
   ]
  },
  {
   "cell_type": "code",
   "execution_count": null,
   "metadata": {
    "hideCode": true,
    "slideshow": {
     "slide_type": "subslide"
    }
   },
   "outputs": [],
   "source": [
    "# 🟡🟠🔴 Step 5 : Collapsing branching crossroads\n",
    "revert3 = ipywidgets.Button(description='revert',icon='undo')\n",
    "count = -1\n",
    "count_intrn = 0\n",
    "maximum_area = ipywidgets.IntSlider(value =1000, min = 0,max = 10000,step = 10,continuous_update=False,style= {'description_width': 'initial'})\n",
    "\n",
    "def elim_bc(maximum_area, scale = '1:7500'):\n",
    "    with progressbar.ProgressBar(max_value=11,widgets=widgets) as bar:\n",
    "        global list_generalized\n",
    "        global count_intrn\n",
    "        global bc \n",
    "        global SCREEN\n",
    "        global dead_ends\n",
    "        global count\n",
    "            \n",
    "        if 'bc' not in globals():\n",
    "            print(\"you must perform branching crossroads detection before collapsing them !\")\n",
    "            bar.update(1)\n",
    "        else: \n",
    "            count_intrn += 1\n",
    "            if count_intrn > 1:\n",
    "                del(list_generalized[-1])\n",
    "            try:    \n",
    "                generalized = cg.collapse_branching_crossroads(list_generalized[count], bc, maximum_area = maximum_area)\n",
    "                bar.update(1)\n",
    "            except IndexError: \n",
    "                count +=1\n",
    "                generalized = cg.collapse_branching_crossroads(list_generalized[count], bc, maximum_area = maximum_area)\n",
    "                bar.update(1)\n",
    "                \n",
    "            list_generalized.append(generalized)\n",
    "            bar.update(2)\n",
    "            \n",
    "            # Setting up the map\n",
    "            fig = plt.figure(figsize=SCREEN[scale])\n",
    "            bar.update(3)\n",
    "            ax = fig.add_subplot(111)\n",
    "            bar.update(4)\n",
    "            plt.xlim(668198, 669411)\n",
    "            bar.update(5)\n",
    "            plt.ylim(6860147, 6860869)\t\t\n",
    "            bar.update(6)\n",
    "            scalebar = AnchoredSizeBar(ax.transData,\n",
    "                                                            250,  \n",
    "                                                            '250 m',  \n",
    "                                                            'lower left',  \n",
    "                                                            pad=0.5,\n",
    "                                                            color='black',\n",
    "                                                            frameon=True,\n",
    "                                                            size_vertical=1)\n",
    "            bar.update(7)\n",
    "            ax.add_artist(scalebar)\n",
    "            bar.update(8)\n",
    "            ax.axes.get_xaxis().set_visible(False)\n",
    "            bar.update(9)\n",
    "            ax.axes.get_yaxis().set_visible(False)\n",
    "\n",
    "            # Display the result\n",
    "            bc.plot(ax=ax, color = \"red\",alpha = 0.25)\n",
    "            bar.update(10)\n",
    "            generalized.plot(ax =ax, linewidth = 0.8)\n",
    "            bar.update(11)\n",
    "\n",
    "def revert_fun(b):\n",
    "    global count \n",
    "    global out_elim_bc\n",
    "    count -= 1\n",
    "    clear_output()\n",
    "    out_elim_bc = ipywidgets.interactive(elim_bc, maximum_area = maximum_area, scale = scale)\n",
    "    display(out_elim_bc, revert3)\n",
    "revert3.on_click(revert_fun)\n",
    "                \n",
    "out_elim_bc = ipywidgets.interactive(elim_bc, maximum_area = maximum_area, scale = scale)\n",
    "display(out_elim_bc, revert3)"
   ]
  },
  {
   "cell_type": "markdown",
   "metadata": {
    "slideshow": {
     "slide_type": "fragment"
    }
   },
   "source": [
    "💬 Once again, you can decide to **keep** some of the branching crossroads if you think they are important in your map, by configuring the **area threshold**."
   ]
  },
  {
   "cell_type": "markdown",
   "metadata": {
    "slideshow": {
     "slide_type": "subslide"
    }
   },
   "source": [
    "**2.2.6'/** Collapse branching crossroads algorithm"
   ]
  },
  {
   "cell_type": "code",
   "execution_count": null,
   "metadata": {
    "slideshow": {
     "slide_type": "subslide"
    }
   },
   "outputs": [],
   "source": [
    "generalized_roads = cg.collapse_branching_crossroads(list_generalized[count-2], crossroads = bc, maximum_area = 1000)\n",
    "\n",
    "#Configuring display window\n",
    "fig = plt.figure()\n",
    "ax = fig.add_subplot(111)\n",
    "plt.xlim(668198, 669411)\n",
    "plt.ylim(6860147, 6860869) \n",
    "\n",
    "bc.plot(ax=ax, color = 'orange')\n",
    "generalized_roads.plot(ax =ax, linewidth = 0.8)\n",
    "  "
   ]
  },
  {
   "cell_type": "markdown",
   "metadata": {
    "slideshow": {
     "slide_type": "slide"
    }
   },
   "source": [
    "**2.2.7/** 🟡🟠🔴 Using collapse roundabouts algorithm"
   ]
  },
  {
   "cell_type": "code",
   "execution_count": null,
   "metadata": {
    "hideCode": true,
    "scrolled": true,
    "slideshow": {
     "slide_type": "subslide"
    }
   },
   "outputs": [],
   "source": [
    "# 🟡🟠🔴 Step 6 : Collapsing roundabouts\n",
    "revert4 = ipywidgets.Button(description='revert',icon='undo')\n",
    "maximum_diameter = ipywidgets.IntSlider(value =50, min = 0,max = 500,step = 5, continuous_update=False, style= {'description_width': 'initial'})\n",
    "count_intrn = 0\n",
    "count = -1 \n",
    "def plt_cllpse_rb(maximum_diameter, scale = '1:7500'):\n",
    "    global SCREEN\n",
    "    global roudabouts\n",
    "    global list_generalized\n",
    "    global count\n",
    "    global count_intrn \n",
    "\n",
    "    with progressbar.ProgressBar(max_value=11,widgets=widgets) as bar:\n",
    "        if 'rb' not in globals():\n",
    "            print(\"you must perform roundabouts detection before collapsing them !\")\n",
    "            bar.update(1)\n",
    "        else: \n",
    "            count_intrn += 1\n",
    "            if count_intrn > 1:\n",
    "                del(list_generalized[-1])\n",
    "            try:\n",
    "                generalized = cg.collapse_roundabouts(list_generalized[count], rb, maximum_diameter = maximum_diameter)\n",
    "            except IndexError:\n",
    "                count += 1\n",
    "                generalized = cg.collapse_roundabouts(list_generalized[count], rb, maximum_diameter = maximum_diameter)\n",
    "                bar.update(1)\n",
    "                \n",
    "            list_generalized.append(generalized)\n",
    "            bar.update(2)\n",
    "            \n",
    "            # Setting up the map\n",
    "            fig = plt.figure(figsize=SCREEN[scale])\n",
    "            bar.update(3)\n",
    "            ax = fig.add_subplot(111)\n",
    "            bar.update(4)\n",
    "            plt.xlim(668198, 669411)\n",
    "            bar.update(5)\n",
    "            plt.ylim(6860147, 6860869)\n",
    "            bar.update(6)\n",
    "            scalebar = AnchoredSizeBar(ax.transData,\n",
    "                                                            250,  \n",
    "                                                            '250 m',  \n",
    "                                                            'lower left',  \n",
    "                                                            pad=0.5,\n",
    "                                                            color='black',\n",
    "                                                            frameon=True,\n",
    "                                                            size_vertical=1)\n",
    "            ax.add_artist(scalebar)\n",
    "            bar.update(7)\n",
    "            ax.axes.get_xaxis().set_visible(False)\n",
    "            bar.update(8)\n",
    "            ax.axes.get_yaxis().set_visible(False)\n",
    "            bar.update(9)\n",
    "            \n",
    "            # Display the result\n",
    "            rb.plot(ax =ax, color= \"red\", alpha = 0.25)\n",
    "            bar.update(10)\n",
    "            generalized.plot(ax = ax, linewidth = 0.8) \n",
    "            bar.update(11)\n",
    "\n",
    "def revert_fun(b):\n",
    "    global count \n",
    "    global out_cllpse_rb\n",
    "    count -= 1\n",
    "    clear_output()\n",
    "    out_cllpse_rb = ipywidgets.interactive(plt_cllpse_rb, maximum_diameter = maximum_diameter, scale = scale)\n",
    "    display(out_cllpse_rb, revert4)\n",
    "revert4.on_click(revert_fun)\n",
    "\n",
    "out_cllpse_rb = ipywidgets.interactive(plt_cllpse_rb, maximum_diameter = maximum_diameter, scale = scale)\n",
    "display(out_cllpse_rb, revert4)"
   ]
  },
  {
   "cell_type": "markdown",
   "metadata": {
    "slideshow": {
     "slide_type": "fragment"
    }
   },
   "source": [
    "💬 Eventhough roundabouts can act as **landmarks** and be useful to display in a map at large scale, removing them **simplifies** the shape of the road network and make the use of some other road network algorithms easier."
   ]
  },
  {
   "cell_type": "markdown",
   "metadata": {
    "slideshow": {
     "slide_type": "subslide"
    }
   },
   "source": [
    "**2.2.7'/** Collapse roundabouts algorithm details"
   ]
  },
  {
   "cell_type": "code",
   "execution_count": null,
   "metadata": {
    "slideshow": {
     "slide_type": "subslide"
    }
   },
   "outputs": [],
   "source": [
    "generalized_roads = cg.collapse_roundabouts(list_generalized[count-2], roundabouts = rb, maximum_diameter = 500)\n",
    "\n",
    "#Configuring display window\n",
    "fig = plt.figure()\n",
    "ax = fig.add_subplot(111)\n",
    "plt.xlim(668198, 669411)\n",
    "plt.ylim(6860147, 6860869)\n",
    "\n",
    "rb.plot(ax=ax, color = 'orange')\n",
    "generalized_roads.plot(ax =ax, linewidth = 0.8)"
   ]
  },
  {
   "cell_type": "markdown",
   "metadata": {
    "slideshow": {
     "slide_type": "slide"
    }
   },
   "source": [
    "**2.2.8/** 🟡🟠🔴 Using detect dual carriageways algorithm"
   ]
  },
  {
   "cell_type": "code",
   "execution_count": null,
   "metadata": {
    "hideCode": true,
    "slideshow": {
     "slide_type": "subslide"
    }
   },
   "outputs": [],
   "source": [
    "# 🟡🟠🔴 Step 7 : Selecting the dual carriageways to collapse using \"detect_dual_carriageways\"\n",
    "count = -1\n",
    "revert5 = ipywidgets.Button(description='revert',icon='undo')\n",
    "concavity = ipywidgets.FloatSlider(value =0.85, min = 0,max = 1,step = 0.05,continuous_update=False)\n",
    "elongation = ipywidgets.IntSlider(value =6.0, min = 0,max = 10,step = 1,continuous_update=False)\n",
    "compactness = ipywidgets.FloatSlider(value =0.12, min = 0,max = 1,step = 0.05,continuous_update=False)\n",
    "area = ipywidgets.IntSlider(value = 60000, min = 0,max = 100000,step = 1000,continuous_update=False)\n",
    "width = ipywidgets.IntSlider(value = 20.0, min = 0,max = 40,step = 5,continuous_update=False)\n",
    "huber = ipywidgets.IntSlider(value = 16, min = 0,max = 32,step = 4,continuous_update=False)\n",
    "\n",
    "def plt_dtc_dc(concavity, elongation, compactness, area, width, huber, scale):\n",
    "    global SCREEN\n",
    "    global dc\n",
    "    global list_generalized\n",
    "    global count\n",
    "    \n",
    "    with progressbar.ProgressBar(max_value=10,widgets=widgets) as bar:\n",
    "        try:\n",
    "            dc = cg.detect_dual_carriageways(list_generalized[count], concavity = concavity, elongation = elongation, compactness = compactness, area = area, width = width, huber = huber)\n",
    "            bar.update(1)\n",
    "        except IndexError:\n",
    "            count += 1\n",
    "            dc = cg.detect_dual_carriageways(list_generalized[count], concavity = concavity, elongation = elongation, compactness = compactness, area = area, width = width, huber = huber)\n",
    "            bar.update(1)\n",
    "                \n",
    "        # Setting up the map\n",
    "        fig = plt.figure(figsize=SCREEN[scale])\n",
    "        bar.update(2)\n",
    "        ax = fig.add_subplot(111)\n",
    "        bar.update(3)\n",
    "        plt.xlim(668198, 669411)\n",
    "        bar.update(4)\n",
    "        plt.ylim(6860147, 6860869)\n",
    "        bar.update(5)\n",
    "        scalebar = AnchoredSizeBar(ax.transData,\n",
    "                                                        250,  \n",
    "                                                        '250 m',  \n",
    "                                                        'lower left',  \n",
    "                                                        pad=0.5,\n",
    "                                                        color='black',\n",
    "                                                        frameon=True,\n",
    "                                                        size_vertical=1)\n",
    "        bar.update(6)\n",
    "        ax.add_artist(scalebar)\n",
    "        bar.update(7)\n",
    "        ax.axes.get_xaxis().set_visible(False)\n",
    "        bar.update(8)\n",
    "        ax.axes.get_yaxis().set_visible(False)\n",
    "        bar.update(9)\n",
    "        \n",
    "        list_generalized[count].plot(ax= ax, color = \"grey\",linewidth = 0.8)\n",
    "        if type(dc) == gp.geodataframe.GeoDataFrame:\n",
    "            dc.plot(ax=ax, color = \"red\")\n",
    "        bar.update(10)\n",
    "            \n",
    "def revert_fun(b):\n",
    "    global count \n",
    "    global out_dtc_dc\n",
    "    count -= 1\n",
    "    clear_output()\n",
    "    out_dtc_dc = ipywidgets.interactive(plt_dtc_dc, concavity = concavity, elongation = elongation, compactness = compactness, area = area, width = width, huber = huber, scale = scale)\n",
    "    display(out_dtc_dc, revert5)\n",
    "revert5.on_click(revert_fun)  \n",
    "\n",
    "out_dtc_dc = ipywidgets.interactive(plt_dtc_dc, concavity = concavity, elongation = elongation, compactness = compactness, area = area, width = width, huber = huber, scale = scale)\n",
    "display(out_dtc_dc, revert5)"
   ]
  },
  {
   "cell_type": "markdown",
   "metadata": {
    "slideshow": {
     "slide_type": "fragment"
    }
   },
   "source": [
    "💬 Sometimes, the two roads detected as dual carriageways are not of the **same nature in reality** (i.e not twice the same road with different directions but two different roads the are next to eachother), which makes the settings of this algorithm **sensitive**. "
   ]
  },
  {
   "cell_type": "markdown",
   "metadata": {
    "slideshow": {
     "slide_type": "subslide"
    }
   },
   "source": [
    "**2.2.8'/** Detect dual carriageways algorithm details"
   ]
  },
  {
   "cell_type": "code",
   "execution_count": null,
   "metadata": {
    "slideshow": {
     "slide_type": "subslide"
    }
   },
   "outputs": [],
   "source": [
    "dual_c = cg.detect_dual_carriageways(list_generalized[-2], concavity = 0.85, elongation = 6.0, \n",
    "                                     compactness = 0.12, area = 6000, width = 20.0, huber = 16)\n",
    "\n",
    "#Configuring display window\n",
    "fig = plt.figure()\n",
    "ax = fig.add_subplot(111)\n",
    "plt.xlim(668198, 669411)\n",
    "plt.ylim(6860147, 6860869)\n",
    " \n",
    "if len(dual_c) > 0:\n",
    "    dual_c.plot(ax=ax, color = 'orange')\n",
    "    list_generalized[-2].plot(ax =ax, linewidth = 0.8)\n",
    "else:\n",
    "    print(\"no dual carriageways detected\")"
   ]
  },
  {
   "cell_type": "markdown",
   "metadata": {
    "slideshow": {
     "slide_type": "slide"
    }
   },
   "source": [
    "**2.2.9/** 🟡🟠🔴 Using collapse dual carriageways algorithm"
   ]
  },
  {
   "cell_type": "code",
   "execution_count": null,
   "metadata": {
    "hideCode": true,
    "slideshow": {
     "slide_type": "subslide"
    }
   },
   "outputs": [],
   "source": [
    "# 🟡🟠🔴 Step 8 : Collapsing dual carriageways\n",
    "count_intrn = 0\n",
    "count = -1\n",
    "revert6 = ipywidgets.Button(description='revert',icon='undo')\n",
    "sigma = ipywidgets.IntSlider(value = 3, min = 1,max = 10,step = 1,continuous_update=False)\n",
    "\n",
    "def elim_dc(sigma, scale='1:7500'):\n",
    "    global list_generalized\n",
    "    global count\n",
    "    global dc\n",
    "    global count_intrn\n",
    "    \n",
    "    with progressbar.ProgressBar(max_value=11,widgets=widgets) as bar:\n",
    "    \n",
    "        if 'dc' not in globals():\n",
    "            print(\"you must detect dual carriageways before collapsing them !\")\n",
    "            bar.update(1)\n",
    "        else:\n",
    "            count_intrn += 1\n",
    "            if count_intrn > 1:\n",
    "                del(list_generalized[-1])\n",
    "            try:\n",
    "                generalized = cg.collapse_dual_carriageways(list_generalized[count], dc, sigma = sigma, propagate_attributes = ['cleabs','nature','importance'])\n",
    "            except IndexError:\n",
    "                count += 1\n",
    "                generalized = cg.collapse_dual_carriageways(list_generalized[count], dc, sigma = sigma, propagate_attributes = ['cleabs','nature','importance'])\n",
    "                bar.update(1)\n",
    "\n",
    "            list_generalized.append(generalized)\n",
    "            bar.update(2)\n",
    "\n",
    "            # Setting up the map\n",
    "            fig = plt.figure(figsize=SCREEN[scale])\n",
    "            bar.update(3)\n",
    "            ax = fig.add_subplot(111)\n",
    "            bar.update(4)\n",
    "            plt.xlim(668198, 669411)\n",
    "            bar.update(5)\n",
    "            plt.ylim(6860147, 6860869)\n",
    "            bar.update(6)\n",
    "            scalebar = AnchoredSizeBar(ax.transData,\n",
    "                                                    250,  \n",
    "                                                    '250 m',  \n",
    "                                                    'lower left',  \n",
    "                                                    pad=0.5,\n",
    "                                                    color='black',\n",
    "                                                    frameon=True,\n",
    "                                                    size_vertical=1)\n",
    "            bar.update(7)\n",
    "            ax.add_artist(scalebar)\n",
    "            bar.update(8)\n",
    "            ax.axes.get_xaxis().set_visible(False)\n",
    "            bar.update(9)\n",
    "            ax.axes.get_yaxis().set_visible(False)\n",
    "            bar.update(10)\n",
    "\n",
    "            if type(dc) == gp.geodataframe.GeoDataFrame:\n",
    "                    dc.plot(ax=ax, color = \"red\",alpha = 0.25)\n",
    "            generalized.plot(ax=ax, linewidth = 0.8)\n",
    "            bar.update(11)\n",
    "\n",
    "def revert_fun(b):\n",
    "    global count \n",
    "    global out_elim_dc\n",
    "    count -= 1\n",
    "    clear_output()\n",
    "    out_elim_dc = ipywidgets.interactive(elim_dc, sigma = sigma, scale = scale)\n",
    "    display(out_elim_dc, revert6)\n",
    "revert6.on_click(revert_fun)\n",
    "\n",
    "out_elim_dc = ipywidgets.interactive(elim_dc, sigma = sigma, scale = scale)\n",
    "display(out_elim_dc, revert6)"
   ]
  },
  {
   "cell_type": "markdown",
   "metadata": {
    "slideshow": {
     "slide_type": "fragment"
    }
   },
   "source": [
    "Yet, this algorithm is not optimized, which can results in bad output geometries"
   ]
  },
  {
   "cell_type": "markdown",
   "metadata": {
    "slideshow": {
     "slide_type": "subslide"
    }
   },
   "source": [
    "**2.2.9'/** Collapse dual carriageways algorithm details"
   ]
  },
  {
   "cell_type": "code",
   "execution_count": null,
   "metadata": {
    "slideshow": {
     "slide_type": "subslide"
    }
   },
   "outputs": [],
   "source": [
    "generalized_roads = cg.collapse_dual_carriageways(list_generalized[-2], carriageways = dc, sigma = 3,\n",
    "                                                  propagate_attributes = ['cleabs','nature','importance'])\n",
    " \n",
    "#Configuring display window\n",
    "fig = plt.figure()\n",
    "ax = fig.add_subplot(111)\n",
    "plt.xlim(668198, 669411)\n",
    "plt.ylim(6860147, 6860869)\n",
    "\n",
    "dual_c.plot(ax=ax, color = 'orange')\n",
    "generalized_roads.plot(ax =ax, linewidth = 0.8)"
   ]
  },
  {
   "cell_type": "markdown",
   "metadata": {
    "slideshow": {
     "slide_type": "slide"
    }
   },
   "source": [
    "**2.2.10/** 🟡🟠🔴 Display intermediary results "
   ]
  },
  {
   "cell_type": "code",
   "execution_count": null,
   "metadata": {
    "hideCode": true,
    "slideshow": {
     "slide_type": "subslide"
    }
   },
   "outputs": [],
   "source": [
    "# 🟡🟠🔴 Display intermediary results    \n",
    "\n",
    "symbology_on_off = ipywidgets.Checkbox(value=True, description='symbology_on')\n",
    "\n",
    "def bf_af_2(scale='1:7500', symbology_on= True):\n",
    "    global SCREEN\n",
    "    global SYMBO_PARAM\n",
    "    fig = plt.figure(figsize=SCREEN[scale])\n",
    "    ax1 = fig.add_subplot(111)\n",
    "    plt.xlim(668198, 669411)\n",
    "    plt.ylim(6860147, 6860869)\t\n",
    "    plt.title(\"Before\")\t\n",
    "    scalebar = AnchoredSizeBar(ax1.transData,\n",
    "                                        250,  \n",
    "                                        '250 m',  \n",
    "                                        'lower left',  \n",
    "                                        pad=0.5,\n",
    "                                        color='black',\n",
    "                                        frameon=True,\n",
    "                                        size_vertical=1)\n",
    "    ax1.add_artist(scalebar)\n",
    "    ax1.axes.get_xaxis().set_visible(False)\n",
    "    ax1.axes.get_yaxis().set_visible(False)\n",
    "    \n",
    "    fig2 = plt.figure(figsize=SCREEN[scale])\n",
    "    ax2 = fig2.add_subplot(111)\n",
    "    plt.xlim(668198, 669411)\n",
    "    plt.ylim(6860147, 6860869)\n",
    "    plt.title(\"After\")\t\n",
    "    scalebar = AnchoredSizeBar(ax2.transData,\n",
    "                                        250,  \n",
    "                                        '250 m',  \n",
    "                                        'lower left',  \n",
    "                                        pad=0.5,\n",
    "                                        color='black',\n",
    "                                        frameon=True,\n",
    "                                        size_vertical=1)\n",
    "    ax2.add_artist(scalebar)\t\n",
    "    ax2.axes.get_xaxis().set_visible(False)\n",
    "    ax2.axes.get_yaxis().set_visible(False)\t\n",
    "        \n",
    "    if symbology_on == True:\n",
    "        with progressbar.ProgressBar(max_value=19, widgets=widgets) as bar:\n",
    "        \n",
    "            for i in reversed(range(2,7)):\n",
    "                selected_data['gdf_road'][(selected_data['gdf_road'].importance == f\"{i}\")].plot(ax=ax1, color = \"#1f2232\", linewidth = SYMBO_PARAM[f'road_width_{i}']+1)\n",
    "                selected_data['gdf_road'][(selected_data['gdf_road'].importance == f\"{i}\")].plot(ax=ax1, color = SYMBO_PARAM[f'road_col_{i}'], linewidth = SYMBO_PARAM[f'road_width_{i}'])\n",
    "\n",
    "\n",
    "                list_generalized[len(list_generalized)-1][(list_generalized[len(list_generalized)-1].importance == f\"{i}\")].plot(ax=ax2, color = \"#1f2232\", linewidth = SYMBO_PARAM[f'road_width_{i}']+1)\n",
    "                list_generalized[len(list_generalized)-1][(list_generalized[len(list_generalized)-1].importance == f\"{i}\")].plot(ax=ax2, color = SYMBO_PARAM[f'road_col_{i}'], linewidth = SYMBO_PARAM[f'road_width_{i}'])\n",
    "            bar.update(5)\n",
    "            for i in range(1):\n",
    "                gdf_bckgrnd.plot(ax=ax2, color = SYMBO_PARAM['bckgrnd_col'])\n",
    "                bar.update(6)\n",
    "                gdf_bckgrnd.plot(ax=ax1, color = SYMBO_PARAM['bckgrnd_col'])\n",
    "                bar.update(7)\n",
    "\n",
    "                selected_data['gdf_trainline'].plot(ax=ax1, color = SYMBO_PARAM['trainline_col'], linewidth = SYMBO_PARAM['trainline_width'])\n",
    "                bar.update(8)\n",
    "                selected_data['gdf_trainline'].plot(ax=ax2, color = SYMBO_PARAM['trainline_col'], linewidth = SYMBO_PARAM['trainline_width'])\n",
    "                bar.update(9) \n",
    "\n",
    "                selected_data['gdf_commune'].plot(ax=ax1, facecolor = 'None', edgecolor = SYMBO_PARAM['communes_col'], linewidth = SYMBO_PARAM['communes_width'],linestyle='dashed')\n",
    "                bar.update(10)\n",
    "                selected_data['gdf_commune'].plot(ax=ax2, facecolor = 'None', edgecolor = SYMBO_PARAM['communes_col'], linewidth = SYMBO_PARAM['communes_width'],linestyle='dashed')\n",
    "                bar.update(11) \n",
    "\n",
    "                col_buildings = matcol.LinearSegmentedColormap.from_list('colbuildings',\n",
    "                                                                [SYMBO_PARAM['agricultural_col'], SYMBO_PARAM['annex_col'],SYMBO_PARAM['com_serv_col'], SYMBO_PARAM['other_col'],SYMBO_PARAM['religious_col'],SYMBO_PARAM['residential_col'],SYMBO_PARAM['sports_field_col']])    \n",
    "                selected_data['gdf_building'].plot(ax=ax1, column = 'usage_1', cmap = col_buildings)\n",
    "                bar.update(12)\n",
    "                selected_data['gdf_building'].plot(ax=ax2, column = 'usage_1', cmap = col_buildings)\n",
    "                bar.update(13)\n",
    "\n",
    "                selected_data['gdf_sportfield'].plot(ax=ax1, color = SYMBO_PARAM['sports_field_col'])\n",
    "                bar.update(14)\n",
    "                selected_data['gdf_sportfield'].plot(ax=ax2, color = SYMBO_PARAM['sports_field_col'])\n",
    "                bar.update(15)\n",
    "\n",
    "                selected_data['gdf_vegetation'].plot(ax=ax1, color = SYMBO_PARAM['vegetation_col'])\n",
    "                bar.update(16)\n",
    "                selected_data['gdf_vegetation'].plot(ax=ax2, color = SYMBO_PARAM['vegetation_col'])\n",
    "                bar.update(17)\n",
    "\n",
    "                selected_data['gdf_water'].plot(ax=ax1, color = SYMBO_PARAM['water_col'])\n",
    "                bar.update(18)\n",
    "                selected_data['gdf_water'].plot(ax=ax2, color = SYMBO_PARAM['water_col'])\n",
    "                bar.update(19)\n",
    "         \n",
    "    else:\n",
    "        with progressbar.ProgressBar(max_value=2, widgets=widgets)as bar:\n",
    "            for i in range(1):\n",
    "                selected_data['gdf_road'].plot(ax =ax1, linewidth = 0.8)\n",
    "                bar.update(1)\n",
    "                list_generalized[len(list_generalized)-1].plot(ax =ax2, linewidth = 0.8)\n",
    "                bar.update(2)\n",
    "        \n",
    "ipywidgets.interact(bf_af_2, scale = ['1:25000','1:10000', '1:7500', '1:5000'], symbology_on = True)"
   ]
  },
  {
   "cell_type": "markdown",
   "metadata": {
    "slideshow": {
     "slide_type": "slide"
    }
   },
   "source": [
    "**2.2.11/** 🟡🟠🔴 Removing road sections depending on network density (🏗 work in progess...)"
   ]
  },
  {
   "cell_type": "code",
   "execution_count": 36,
   "metadata": {
    "slideshow": {
     "slide_type": "subslide"
    }
   },
   "outputs": [],
   "source": [
    "# 🟡🟠🔴 Removing road sections depending on network density (🏗 work in progess...) "
   ]
  },
  {
   "cell_type": "markdown",
   "metadata": {
    "slideshow": {
     "slide_type": "slide"
    }
   },
   "source": [
    "### **2.3/** Building generalisation"
   ]
  },
  {
   "cell_type": "markdown",
   "metadata": {
    "slideshow": {
     "slide_type": "fragment"
    }
   },
   "source": [
    "Let's continue by generalizing **buildings**. On the contrary of roads where differences between targeted rendered depends on **settings** within the different algorithms, the choice of the **algorithms** themselves is important when it comes to building generalization."
   ]
  },
  {
   "cell_type": "markdown",
   "metadata": {
    "slideshow": {
     "slide_type": "slide"
    }
   },
   "source": [
    "**2.3.1/** 🟡🟠🔴  Preparing the datas representing buildings"
   ]
  },
  {
   "cell_type": "code",
   "execution_count": 8,
   "metadata": {
    "hideCode": true,
    "scrolled": true,
    "slideshow": {
     "slide_type": "fragment"
    }
   },
   "outputs": [
    {
     "name": "stderr",
     "output_type": "stream",
     "text": [
      "\u001b[38;2;0;255;0m100%\u001b[39m 🟩🟩🟩🟩🟩🟩🟩🟩🟩🟩🟩🟩🟩🟩🟩🟩🟩🟩🟩🟩🟩🟩🟩🟩                                                  \n"
     ]
    },
    {
     "name": "stdout",
     "output_type": "stream",
     "text": [
      "GeoDataFrame containing buildings (sample) :\n"
     ]
    },
    {
     "data": {
      "text/html": [
       "<div>\n",
       "<style scoped>\n",
       "    .dataframe tbody tr th:only-of-type {\n",
       "        vertical-align: middle;\n",
       "    }\n",
       "\n",
       "    .dataframe tbody tr th {\n",
       "        vertical-align: top;\n",
       "    }\n",
       "\n",
       "    .dataframe thead th {\n",
       "        text-align: right;\n",
       "    }\n",
       "</style>\n",
       "<table border=\"1\" class=\"dataframe\">\n",
       "  <thead>\n",
       "    <tr style=\"text-align: right;\">\n",
       "      <th></th>\n",
       "      <th>cleabs</th>\n",
       "      <th>usage_1</th>\n",
       "      <th>geometry</th>\n",
       "      <th>area</th>\n",
       "    </tr>\n",
       "  </thead>\n",
       "  <tbody>\n",
       "    <tr>\n",
       "      <th>0</th>\n",
       "      <td>BATIMENT0000000002728180</td>\n",
       "      <td>Résidentiel</td>\n",
       "      <td>POLYGON ((668493.5 6860871.7, 668489.3 6860869...</td>\n",
       "      <td>100.00</td>\n",
       "    </tr>\n",
       "    <tr>\n",
       "      <th>1</th>\n",
       "      <td>BATIMENT0000000002728188</td>\n",
       "      <td>Annexe</td>\n",
       "      <td>POLYGON ((668476.9 6860859.8, 668473.2 6860858...</td>\n",
       "      <td>45.45</td>\n",
       "    </tr>\n",
       "  </tbody>\n",
       "</table>\n",
       "</div>"
      ],
      "text/plain": [
       "                     cleabs      usage_1  \\\n",
       "0  BATIMENT0000000002728180  Résidentiel   \n",
       "1  BATIMENT0000000002728188       Annexe   \n",
       "\n",
       "                                            geometry    area  \n",
       "0  POLYGON ((668493.5 6860871.7, 668489.3 6860869...  100.00  \n",
       "1  POLYGON ((668476.9 6860859.8, 668473.2 6860858...   45.45  "
      ]
     },
     "execution_count": 8,
     "metadata": {},
     "output_type": "execute_result"
    }
   ],
   "source": [
    "# 🟡🟠🔴  Preparing the dictionnary containing building data\n",
    "build = {'base_building':selected_data['gdf_building'].copy()}\n",
    "build['base_building'] = build['base_building'].reset_index(drop = True)\n",
    "\n",
    "# Calculating area of each builing (used later)\n",
    "with progressbar.ProgressBar(max_value = len(build['base_building']), widgets=widgets) as bar:\n",
    "    for i in range(len(build['base_building'])):\n",
    "        build['base_building'].loc[i,'area'] = build['base_building'].loc[i,'geometry'].area  \n",
    "        bar.update(i)\n",
    "        sleep(0.0001)\n",
    "print(\"GeoDataFrame containing buildings (sample) :\")\n",
    "build['base_building'].head(2)\n"
   ]
  },
  {
   "cell_type": "markdown",
   "metadata": {
    "slideshow": {
     "slide_type": "slide"
    }
   },
   "source": [
    "**2.3.2/** 🔴 Partition the building according to the network structure"
   ]
  },
  {
   "cell_type": "code",
   "execution_count": 9,
   "metadata": {
    "hideCode": true,
    "hidePrompt": false,
    "slideshow": {
     "slide_type": "subslide"
    }
   },
   "outputs": [
    {
     "name": "stderr",
     "output_type": "stream",
     "text": [
      "\u001b[38;2;0;255;0m100%\u001b[39m 🟩🟩🟩🟩🟩🟩🟩🟩🟩🟩🟩🟩🟩🟩🟩🟩🟩🟩🟩🟩🟩🟩🟩🟩                                                  \n"
     ]
    },
    {
     "data": {
      "image/png": "[encoded data removed]",
      "text/plain": [
       "<Figure size 725.502x725.502 with 1 Axes>"
      ]
     },
     "metadata": {},
     "output_type": "display_data"
    }
   ],
   "source": [
    "# 🔴 Partition the building according to the network structure\n",
    "partition = cg.partition_networks(build['base_building'], list_generalized[-1])\n",
    "\n",
    "partition_gdf = gp.GeoDataFrame(geometry=partition[-1])\n",
    "\n",
    "# Setting up the map\n",
    "fig = plt.figure(figsize=(SCREEN['1:7500']))\n",
    "ax = fig.add_subplot(111)\n",
    "plt.xlim(668198, 669411)\n",
    "plt.ylim(6860147, 6860869)\t\n",
    "ax.axes.get_xaxis().set_visible(False)\n",
    "ax.axes.get_yaxis().set_visible(False)\t\n",
    "\n",
    "partition_gdf.plot(ax=ax, alpha = 0.2, edgecolor = 'black')\n",
    "with progressbar.ProgressBar(max_value=len(partition[0]),widgets=widgets) as bar:\n",
    "    for i in range(len(partition[0])):\n",
    "        gdf = build['base_building'].copy()\n",
    "        gdf = gdf.iloc[partition[0][i]]\n",
    "        gdf.plot(ax=ax,color = (np.random.uniform(0, 1),np.random.uniform(0, 1),np.random.uniform(0, 1)))\n",
    "        bar.update(i)"
   ]
  },
  {
   "cell_type": "markdown",
   "metadata": {
    "slideshow": {
     "slide_type": "fragment"
    }
   },
   "source": [
    "💬 Partitioning is an **important** step when generalizing **big** dataset, since it speeds up processing."
   ]
  },
  {
   "cell_type": "markdown",
   "metadata": {
    "slideshow": {
     "slide_type": "subslide"
    }
   },
   "source": [
    "**2.3.2'/** Code details on partition_networks algorithm"
   ]
  },
  {
   "cell_type": "code",
   "execution_count": null,
   "metadata": {
    "hideCode": false,
    "hideOutput": false,
    "slideshow": {
     "slide_type": "subslide"
    }
   },
   "outputs": [],
   "source": [
    "partition = cg.partition_networks(build['base_building'], list_generalized[-1]) #using the Cartagen function on\n",
    "#gdf containing building, and gdf containing roads\n",
    "\n",
    "#the output is a list of two elements. First one is a list of list. Each list of this list \n",
    "#represent a face of the network and contains building indexes. \n",
    "#The second element of the list is a list of geometries of the faces\n",
    "\n",
    "partition_gdf = gp.GeoDataFrame(geometry=partition[-1]) #using the last element of the list to build a gdf\n",
    "\n",
    "# Setting up the map\n",
    "fig = plt.figure(figsize=(SCREEN['1:7500']))\n",
    "ax = fig.add_subplot(111)\n",
    "plt.xlim(668198, 669411)\n",
    "plt.ylim(6860147, 6860869)\n",
    "\n",
    "partition_gdf.plot(ax=ax, alpha = 0.2, edgecolor = 'black') #display the faces\n",
    "for i in range(len(partition[0])): #for each network face\n",
    "    gdf = build['base_building'].copy()\n",
    "    gdf = gdf.iloc[partition[0][i]] #filter the building gdf according to the indexes contained in the current face\n",
    "    gdf.plot(ax=ax,color = (np.random.uniform(0, 1),np.random.uniform(0, 1),np.random.uniform(0, 1)))"
   ]
  },
  {
   "cell_type": "markdown",
   "metadata": {
    "slideshow": {
     "slide_type": "slide"
    }
   },
   "source": [
    "**2.3.3/** 🔴 Transforming buildings into built up area with the 'morphological_amalgamation' algorithm"
   ]
  },
  {
   "cell_type": "code",
   "execution_count": 10,
   "metadata": {
    "hideCode": true,
    "slideshow": {
     "slide_type": "subslide"
    }
   },
   "outputs": [
    {
     "data": {
      "application/vnd.jupyter.widget-view+json": {
       "model_id": "c3d118353404454aa33f55be80a7a1ca",
       "version_major": 2,
       "version_minor": 0
      },
      "text/plain": [
       "interactive(children=(IntSlider(value=10, continuous_update=False, description='buffer'), IntSlider(value=0, c…"
      ]
     },
     "metadata": {},
     "output_type": "display_data"
    },
    {
     "data": {
      "text/plain": [
       "<function __main__.ma(buffer, edge_length, symbology_on, scale='1:7500')>"
      ]
     },
     "execution_count": 10,
     "metadata": {},
     "output_type": "execute_result"
    }
   ],
   "source": [
    "# 🔴 Transforming buildings into built up area with the 'morphological_amalgamation' algorithm\n",
    "\n",
    "def ma(buffer, edge_length, symbology_on, scale = '1:7500'):\n",
    "    \n",
    "    # Setting up the map\n",
    "    fig = plt.figure(figsize=(SCREEN[scale]))\n",
    "    ax = fig.add_subplot(111)\n",
    "    plt.xlim(668198, 669411)\n",
    "    plt.ylim(6860147, 6860869)\n",
    "    ax.axes.get_xaxis().set_visible(False)\n",
    "    ax.axes.get_yaxis().set_visible(False)\n",
    "    with progressbar.ProgressBar(max_value=len(partition[0]),widgets=widgets) as bar:\n",
    "        if symbology_on == True:\n",
    "         \n",
    "            gdf_bckgrnd.plot(ax=ax, color = SYMBO_PARAM['bckgrnd_col'])\n",
    "            selected_data['gdf_trainline'].plot(ax=ax, color = SYMBO_PARAM['trainline_col'], linewidth = SYMBO_PARAM['trainline_width'])    \n",
    "            selected_data['gdf_commune'].plot(ax=ax, facecolor = 'None', edgecolor = SYMBO_PARAM['communes_col'], linewidth = SYMBO_PARAM['communes_width'],linestyle='dashed')\n",
    "\n",
    "            selected_data['gdf_sportfield'].plot(ax=ax, color = SYMBO_PARAM['sports_field_col']) \n",
    "\n",
    "            selected_data['gdf_vegetation'].plot(ax=ax, color = SYMBO_PARAM['vegetation_col'])\n",
    "\n",
    "            selected_data['gdf_water'].plot(ax=ax, color = SYMBO_PARAM['water_col'])\n",
    "\n",
    "            for i in range(len(partition[0])):\n",
    "                gdf = build['base_building'].copy()\n",
    "                gdf = gdf.iloc[partition[0][i]]\n",
    "                \n",
    "                try:\n",
    "                    generalized = cg.morphological_amalgamation(list(gdf.geometry), buffer = buffer, edge_length = edge_length) \n",
    "\n",
    "                except: \n",
    "                    generalized = gdf.geometry\n",
    "\n",
    "                generalized_gdf = gp.GeoDataFrame(geometry=gp.GeoSeries(generalized))\n",
    "                generalized_gdf = generalized_gdf.reset_index(drop = True)\n",
    "                build[f'boffet_{i}'] = generalized_gdf\n",
    "                build[f'boffet_{i}'].plot(ax=ax, color = SYMBO_PARAM['residential_col'])\n",
    "                bar.update(i)\n",
    "                \n",
    "            for j in reversed(range(2,7)):\n",
    "                list_generalized[len(list_generalized)-1][(list_generalized[len(list_generalized)-1].importance == f\"{j}\")].plot(ax=ax, color = \"#1f2232\", linewidth = SYMBO_PARAM[f'road_width_{j}']+1)\n",
    "                list_generalized[len(list_generalized)-1][(list_generalized[len(list_generalized)-1].importance == f\"{j}\")].plot(ax=ax, color = SYMBO_PARAM[f'road_col_{j}'], linewidth = SYMBO_PARAM[f'road_width_{j}'])\n",
    "            \n",
    "         \n",
    "        \n",
    "    \n",
    "        else:\n",
    "            for i in range(len(partition[0])):\n",
    "                gdf = build['base_building'].copy()\n",
    "                gdf = gdf.iloc[partition[0][i]]\n",
    "\n",
    "                try:\n",
    "                    generalized = cg.morphological_amalgamation(list(gdf.geometry), buffer = buffer, edge_length = edge_length) \n",
    "                except: \n",
    "                    generalized = gdf.geometry\n",
    "\n",
    "                generalized_gdf = gp.GeoDataFrame(geometry=gp.GeoSeries(generalized))\n",
    "                generalized_gdf = generalized_gdf.reset_index(drop = True)\n",
    "                build[f'ma_{i}'] = generalized_gdf\n",
    "                build[f'ma_{i}'].plot(ax=ax)\n",
    "                bar.update(i)\n",
    "                \n",
    "ipywidgets.interact(ma, scale = ['1:25000','1:10000', '1:7500', '1:5000'], symbology_on = False, \n",
    "                        buffer = ipywidgets.IntSlider(value = 10, min = 0,max = 100,step = 1,continuous_update=False), \n",
    "                        edge_length = ipywidgets.IntSlider(value = 0, min = 0,max = 50,step = 1,continuous_update=False))"
   ]
  },
  {
   "cell_type": "markdown",
   "metadata": {
    "slideshow": {
     "slide_type": "fragment"
    }
   },
   "source": [
    "💬 Another way of transforming buildings into **built up area** is to use the **'boffet_area'** algorithm"
   ]
  },
  {
   "cell_type": "markdown",
   "metadata": {
    "slideshow": {
     "slide_type": "slide"
    }
   },
   "source": [
    "**2.3.3'/** Code details on morphological_amalgamation algorithm"
   ]
  },
  {
   "cell_type": "code",
   "execution_count": null,
   "metadata": {
    "slideshow": {
     "slide_type": "subslide"
    }
   },
   "outputs": [],
   "source": [
    "geom = [] #creating empty list that will store geometries\n",
    "for i in range(len(partition[0])): #for each group of partitionned buildings\n",
    "    gdf = build['base_building'].copy() \n",
    "    gdf = gdf.iloc[partition[0][i]] #filter the gdf containing buildings to keep buildings in the current group\n",
    "\n",
    "    try:\n",
    "        generalized = cg.morphological_amalgamation(list(gdf.geometry), buffer = 19, edge_length = 2) \n",
    "        #trying to use the algorithm on a list of the geometry of the group of buildings         \n",
    "    except: \n",
    "        generalized = gdf.geometry\n",
    "        #if the operation fails, return the geometries of the buildings without transformations\n",
    "         \n",
    "    for poly in generalized:\n",
    "        geom.append(poly) #filling the list with the geometries of the result for current group\n",
    "     \n",
    " #configuring figure \n",
    "fig = plt.figure(figsize=(8,8))\n",
    "ax = fig.add_subplot(111)\n",
    "plt.xlim(668198, 669411)\n",
    "plt.ylim(6860147, 6860869)\n",
    "        \n",
    "generalized_gdf = gp.GeoDataFrame(geometry=gp.GeoSeries(geom)) #build a gdf from the result\n",
    "generalized_gdf.plot(ax=ax)"
   ]
  },
  {
   "cell_type": "markdown",
   "metadata": {
    "slideshow": {
     "slide_type": "slide"
    }
   },
   "source": [
    "**2.3.4/** 🔴 Transforming buildings into built up area with the 'boffet_area' algorithm"
   ]
  },
  {
   "cell_type": "code",
   "execution_count": 11,
   "metadata": {
    "hideCode": true,
    "slideshow": {
     "slide_type": "subslide"
    }
   },
   "outputs": [
    {
     "data": {
      "application/vnd.jupyter.widget-view+json": {
       "model_id": "7b055bfc114149a4a1f2f2fc5a91f7be",
       "version_major": 2,
       "version_minor": 0
      },
      "text/plain": [
       "interactive(children=(IntSlider(value=8, continuous_update=False, description='buffer'), FloatSlider(value=0.1…"
      ]
     },
     "metadata": {},
     "output_type": "display_data"
    },
    {
     "data": {
      "text/plain": [
       "<function __main__.boff_area(buffer, erosion, symbology_on, simplification_dist, scale='1:7500')>"
      ]
     },
     "execution_count": 11,
     "metadata": {},
     "output_type": "execute_result"
    }
   ],
   "source": [
    "# 🔴 Transforming buildings into built up area with the 'boffet_area' algorithm\n",
    "\n",
    "def boff_area(buffer, erosion, symbology_on, simplification_dist, scale = '1:7500'):\n",
    "\n",
    "    # Setting up the map\n",
    "    fig = plt.figure(figsize=SCREEN[scale])\n",
    "    ax = fig.add_subplot(111)\n",
    "    plt.xlim(668198, 669411)\n",
    "    plt.ylim(6860147, 6860869)\n",
    "    scalebar = AnchoredSizeBar(ax.transData,\n",
    "                                    250,  \n",
    "                                    '250 m',  \n",
    "                                    'lower left',  \n",
    "                                    pad=0.5,\n",
    "                                    color='black',\n",
    "                                    frameon=True,\n",
    "                                    size_vertical=1)\n",
    "    ax.add_artist(scalebar)\n",
    "    ax.axes.get_xaxis().set_visible(False)\n",
    "    ax.axes.get_yaxis().set_visible(False)\n",
    "    with progressbar.ProgressBar(max_value=len(partition[0]),widgets=widgets) as bar:\n",
    "        if symbology_on == True: \n",
    "            gdf_bckgrnd.plot(ax=ax, color = SYMBO_PARAM['bckgrnd_col'])\n",
    "            count = -1\n",
    "            for i in range(len(partition[0])):\n",
    "                gdf = build['base_building'].copy()\n",
    "                gdf = gdf.iloc[partition[0][i]]\n",
    "\n",
    "                try:\n",
    "                    generalized = cg.boffet_areas(gdf.geometry, buffer = buffer,  erosion = erosion, simplification_distance = simplification_dist)\n",
    "                except: \n",
    "                    generalized = gdf.geometry  \n",
    "                generalized_gdf = gp.GeoDataFrame(geometry=gp.GeoSeries(generalized))\n",
    "                generalized_gdf.plot(ax=ax, color = SYMBO_PARAM['residential_col'])\n",
    "                build[f'boffet_{i}'] = generalized_gdf\n",
    "            \n",
    "                bar.update(i)    \n",
    "            selected_data['gdf_trainline'].plot(ax=ax, color = SYMBO_PARAM['trainline_col'], linewidth = SYMBO_PARAM['trainline_width'])\n",
    "            selected_data['gdf_commune'].plot(ax=ax, facecolor = 'None', edgecolor = SYMBO_PARAM['communes_col'], linewidth = SYMBO_PARAM['communes_width'],linestyle='dashed')\n",
    "            selected_data['gdf_sportfield'].plot(ax=ax, color = SYMBO_PARAM['sports_field_col'])\n",
    "            selected_data['gdf_vegetation'].plot(ax=ax, color = SYMBO_PARAM['vegetation_col'])\n",
    "            selected_data['gdf_water'].plot(ax=ax, color = SYMBO_PARAM['water_col'])\n",
    "\n",
    "            for i in reversed(range(2,7)):\n",
    "                list_generalized[len(list_generalized)-1][(list_generalized[len(list_generalized)-1].importance == f\"{i}\")].plot(ax=ax, color = \"#1f2232\", linewidth = SYMBO_PARAM[f'road_width_{i}']+1)\n",
    "                list_generalized[len(list_generalized)-1][(list_generalized[len(list_generalized)-1].importance == f\"{i}\")].plot(ax=ax, color = SYMBO_PARAM[f'road_col_{i}'], linewidth = SYMBO_PARAM[f'road_width_{i}'])\n",
    "\n",
    "        else:    \n",
    "            for i in range(len(partition[0])):\n",
    "                gdf = build['base_building'].copy()\n",
    "                gdf = gdf.iloc[partition[0][i]]\n",
    "                try:\n",
    "                    generalized = cg.boffet_areas(gdf.geometry, buffer = buffer,  erosion = erosion, simplification_distance = simplification_dist)\n",
    "                except: \n",
    "                    generalized = gdf.geometry  \n",
    "                generalized_gdf = gp.GeoDataFrame(geometry=gp.GeoSeries(generalized))\n",
    "                generalized_gdf.plot(ax=ax)\n",
    "                build[f'boffet_{i}'] = generalized_gdf\n",
    "                bar.update(i)\n",
    "                \n",
    "ipywidgets.interact(boff_area, buffer = ipywidgets.IntSlider(value = 8, min=0, max=100, step=1,  continuous_update=False),\n",
    "                               erosion = ipywidgets.FloatSlider(min=0.1, max=100, step=1, continuous_update=False), \n",
    "                               simplification_dist = ipywidgets.IntSlider(min=1, max=100, step=1, continuous_update=False,style= {'description_width': 'initial'}),\n",
    "                               scale = ['1:25000','1:10000', '1:7500', '1:5000'],\n",
    "                               symbology_on = False) "
   ]
  },
  {
   "cell_type": "markdown",
   "metadata": {
    "slideshow": {
     "slide_type": "fragment"
    }
   },
   "source": [
    "💬 In this case we use the **boffet_area** algorithm directly to generalize our buildings. Note that this algorithm was firstly design to **separate** rural and urban area **prior** to other generalisation processes. "
   ]
  },
  {
   "cell_type": "markdown",
   "metadata": {
    "slideshow": {
     "slide_type": "subslide"
    }
   },
   "source": [
    "**2.3.4'/** Code details on boffet_area algorithm"
   ]
  },
  {
   "cell_type": "code",
   "execution_count": null,
   "metadata": {
    "slideshow": {
     "slide_type": "subslide"
    }
   },
   "outputs": [],
   "source": [
    "geom = [] #creating empty list that will store geometries\n",
    "for i in range(len(partition[0])): #for each group of partitionned buildings\n",
    "    gdf = build['base_building'].copy() \n",
    "    gdf = gdf.iloc[partition[0][i]] #filter the gdf containing buildings to keep buildings in the current group\n",
    "\n",
    "    try:\n",
    "        generalized = cg.boffet_areas(gdf.geometry, buffer = 8,  erosion = 20, simplification_distance = 1)\n",
    "        #trying to use the algorithm on the geometry of the group of buildings         \n",
    "    except: \n",
    "        generalized = gdf.geometry\n",
    "        #if the operation fails, return the geometries of the buildings without transformations\n",
    "         \n",
    "    for poly in generalized:\n",
    "        geom.append(poly) #filling the list with the geometries of the result for current group\n",
    "     \n",
    " #configuring figure \n",
    "fig = plt.figure(figsize=(8,8))\n",
    "ax = fig.add_subplot(111)\n",
    "plt.xlim(668198, 669411)\n",
    "plt.ylim(6860147, 6860869)\n",
    "        \n",
    "generalized_gdf = gp.GeoDataFrame(geometry=gp.GeoSeries(geom)) #build a gdf from the result\n",
    "generalized_gdf.plot(ax=ax)"
   ]
  },
  {
   "cell_type": "markdown",
   "metadata": {
    "slideshow": {
     "slide_type": "slide"
    }
   },
   "source": [
    "**2.3.5/** 🔴 Removing too small areas "
   ]
  },
  {
   "cell_type": "code",
   "execution_count": 12,
   "metadata": {
    "hideCode": true,
    "scrolled": false,
    "slideshow": {
     "slide_type": "subslide"
    }
   },
   "outputs": [
    {
     "data": {
      "application/vnd.jupyter.widget-view+json": {
       "model_id": "5981e00c4390497ba0edd2fc61ff11a8",
       "version_major": 2,
       "version_minor": 0
      },
      "text/plain": [
       "interactive(children=(IntSlider(value=100, continuous_update=False, description='area_threshold', max=5000), D…"
      ]
     },
     "metadata": {},
     "output_type": "display_data"
    },
    {
     "data": {
      "text/plain": [
       "<function __main__.rm_small(area_threshold, datas=1, scale='1:7500')>"
      ]
     },
     "execution_count": 12,
     "metadata": {},
     "output_type": "execute_result"
    }
   ],
   "source": [
    "# 🔴 Removing too small areas \n",
    "def rm_small(area_threshold, datas=1, scale = '1:7500'):\n",
    "\n",
    "    # Setting up the map\n",
    "    fig = plt.figure(figsize=SCREEN[scale])\n",
    "    ax = fig.add_subplot(111)\n",
    "    plt.xlim(668198, 669411)\n",
    "    plt.ylim(6860147, 6860869)\t\t\n",
    "    ax.axes.get_xaxis().set_visible(False)\n",
    "    ax.axes.get_yaxis().set_visible(False)\n",
    "\n",
    "    with progressbar.ProgressBar(max_value=len(partition[0]),widgets=widgets) as bar:\n",
    "        if datas == 1 and 'ma_0' in build:\n",
    "            build['red_gen'] = []  \n",
    "\n",
    "            for i in range(len(partition[0])):\n",
    "\n",
    "                for j in range(len(build[f'ma_{i}'])):\n",
    "                    build[f'ma_{i}'].loc[j,'area'] = build[f'ma_{i}'].loc[j,'geometry'].area \n",
    "                build[f'red_gen_{i}'] = build[f'ma_{i}'][(build[f'ma_{i}'].area > area_threshold)] \n",
    "                build[f'red_gen_{i}'].plot(ax=ax)\n",
    "                build['red_gen'].append(build[f'red_gen_{i}'])\n",
    "                bar.update(i)\n",
    "            build['red_gen'] = gp.GeoDataFrame(pd.concat(build['red_gen'], ignore_index=True))\n",
    "\n",
    "        elif datas == 2 and 'boffet_0' in build:\n",
    "            build['red_gen'] = [] \n",
    "            for i in range(len(partition[0])):\n",
    "                for j in range(len(build[f'boffet_{i}'])):\n",
    "                    build[f'boffet_{i}'].loc[j,'area'] = build[f'boffet_{i}'].loc[j,'geometry'].area\n",
    "\n",
    "                build[f'red_gen_{i}'] = build[f'boffet_{i}'][(build[f'boffet_{i}'].area > area_threshold)]\n",
    "                build[f'red_gen_{i}'].plot(ax=ax)    \n",
    "                build['red_gen'].append(build[f'red_gen_{i}'])\n",
    "                bar.update(i)\n",
    "            build['red_gen'] = gp.GeoDataFrame(pd.concat(build['red_gen'], ignore_index=True))\n",
    "        elif 'boffet_0' not in build and 'ma_0' not in build:\n",
    "            print(\"You must perform \\'morphological_amalgation\\' or \\'boffet_area\\' before running this cell !\")\n",
    "        else:\n",
    "            print(\"there is no data to display, try other input data\")\n",
    "ipywidgets.interact(rm_small, scale = ['1:25000','1:10000', '1:7500', '1:5000'], area_threshold = ipywidgets.IntSlider(value = 100, min = 0,max = 5000,step = 1,continuous_update=False),\n",
    "                              datas = ipywidgets.Dropdown(options=[('Morphological amalgamation', 1), ('Boffet area', 2)], value=1, description='Input datas :',))\n"
   ]
  },
  {
   "cell_type": "markdown",
   "metadata": {
    "slideshow": {
     "slide_type": "fragment"
    }
   },
   "source": [
    "💬 This selection depending on the area value of each feature is not part of an algorithm in CartAGen : we simply use Geopandas' functions and methods to do that."
   ]
  },
  {
   "cell_type": "markdown",
   "metadata": {
    "hideCode": false,
    "slideshow": {
     "slide_type": "slide"
    }
   },
   "source": [
    "**2.3.5/** 🔴 Display results"
   ]
  },
  {
   "cell_type": "code",
   "execution_count": null,
   "metadata": {
    "hideCode": true,
    "slideshow": {
     "slide_type": "subslide"
    }
   },
   "outputs": [],
   "source": [
    "# 🔴 Display results    \n",
    "\n",
    "def bf_af_3(scale='1:7500'):\n",
    "    fig = plt.figure(figsize=SCREEN[scale])\n",
    "    ax1 = fig.add_subplot(111)\n",
    "    plt.xlim(668198, 669411)\n",
    "    plt.ylim(6860147, 6860869)\t\n",
    "    plt.title(\"Before\")\t\n",
    "    scalebar = AnchoredSizeBar(ax1.transData,\n",
    "                                        250,  \n",
    "                                        '250 m',  \n",
    "                                        'lower left',  \n",
    "                                        pad=0.5,\n",
    "                                        color='black',\n",
    "                                        frameon=True,\n",
    "                                        size_vertical=1)\n",
    "    ax1.add_artist(scalebar)\n",
    "    ax1.axes.get_xaxis().set_visible(False)\n",
    "    ax1.axes.get_yaxis().set_visible(False)\n",
    "    \n",
    "    fig2 = plt.figure(figsize=SCREEN[scale])\n",
    "    ax2 = fig2.add_subplot(111)\n",
    "    plt.xlim(668198, 669411)\n",
    "    plt.ylim(6860147, 6860869)\n",
    "    plt.title(\"After\")\t\n",
    "    scalebar = AnchoredSizeBar(ax2.transData,\n",
    "                                        250,  \n",
    "                                        '250 m',  \n",
    "                                        'lower left',  \n",
    "                                        pad=0.5,\n",
    "                                        color='black',\n",
    "                                        frameon=True,\n",
    "                                        size_vertical=1)\n",
    "    ax2.add_artist(scalebar)\t\n",
    "    ax2.axes.get_xaxis().set_visible(False)\n",
    "    ax2.axes.get_yaxis().set_visible(False)\t\n",
    "    with progressbar.ProgressBar(max_value=len(partition[0]),widgets=widgets) as bar:\n",
    "        if scale == '1:25000':\n",
    "            plt.subplots_adjust(hspace=0)\n",
    "\n",
    "\n",
    "        for i in reversed(range(2,7)):\n",
    "            selected_data['gdf_road'][(selected_data['gdf_road'].importance == f\"{i}\")].plot(ax=ax1, color = \"#1f2232\", linewidth = SYMBO_PARAM[f'road_width_{i}']+1)\n",
    "\n",
    "            selected_data['gdf_road'][(selected_data['gdf_road'].importance == f\"{i}\")].plot(ax=ax1, color = SYMBO_PARAM[f'road_col_{i}'], linewidth = SYMBO_PARAM[f'road_width_{i}'])\n",
    "\n",
    "\n",
    "            list_generalized[len(list_generalized)-1][(list_generalized[len(list_generalized)-1].importance == f\"{i}\")].plot(ax=ax2, color = \"#1f2232\", linewidth = SYMBO_PARAM[f'road_width_{i}']+1)\n",
    "\n",
    "            list_generalized[len(list_generalized)-1][(list_generalized[len(list_generalized)-1].importance == f\"{i}\")].plot(ax=ax2, color = SYMBO_PARAM[f'road_col_{i}'], linewidth = SYMBO_PARAM[f'road_width_{i}'])\n",
    "\n",
    "        for i in range(1):\n",
    "            gdf_bckgrnd.plot(ax=ax2, color = SYMBO_PARAM['bckgrnd_col'])\n",
    "\n",
    "            gdf_bckgrnd.plot(ax=ax1, color = SYMBO_PARAM['bckgrnd_col'])\n",
    "\n",
    "\n",
    "            for j in range(len(partition[0])): \n",
    "                build[f'red_gen_{j}'].plot(ax = ax2, color = SYMBO_PARAM['residential_col'])\n",
    "                bar.update(j)\n",
    "\n",
    "            selected_data['gdf_trainline'].plot(ax=ax1, color = SYMBO_PARAM['trainline_col'], linewidth = SYMBO_PARAM['trainline_width'])\n",
    "\n",
    "            selected_data['gdf_trainline'].plot(ax=ax2, color = SYMBO_PARAM['trainline_col'], linewidth = SYMBO_PARAM['trainline_width'])\n",
    "\n",
    "\n",
    "            col_buildings = matcol.LinearSegmentedColormap.from_list('colbuildings',\n",
    "                                                                [SYMBO_PARAM['agricultural_col'], SYMBO_PARAM['annex_col'],SYMBO_PARAM['com_serv_col'], SYMBO_PARAM['other_col'],SYMBO_PARAM['religious_col'],SYMBO_PARAM['residential_col'],SYMBO_PARAM['sports_field_col']])       \n",
    "            selected_data['gdf_building'].plot(ax=ax1, column = 'usage_1', cmap = col_buildings)\n",
    "\n",
    "\n",
    "            selected_data['gdf_sportfield'].plot(ax=ax1, color = SYMBO_PARAM['sports_field_col'])\n",
    "\n",
    "            selected_data['gdf_sportfield'].plot(ax=ax2, color = SYMBO_PARAM['sports_field_col'])\n",
    "\n",
    "\n",
    "            selected_data['gdf_vegetation'].plot(ax=ax1, color = SYMBO_PARAM['vegetation_col'])\n",
    "\n",
    "            selected_data['gdf_vegetation'].plot(ax=ax2, color = SYMBO_PARAM['vegetation_col'])\n",
    "\n",
    "\n",
    "            selected_data['gdf_water'].plot(ax=ax1, color = SYMBO_PARAM['water_col'])\n",
    "\n",
    "            selected_data['gdf_water'].plot(ax=ax2, color = SYMBO_PARAM['water_col'])\n",
    "\n",
    "\n",
    "            selected_data['gdf_commune'].plot(ax=ax1, facecolor = 'None', edgecolor = SYMBO_PARAM['communes_col'], linewidth = SYMBO_PARAM['communes_width'],linestyle=(0,(5,10)))\n",
    "\n",
    "            selected_data['gdf_commune'].plot(ax=ax2, facecolor = 'None', edgecolor = SYMBO_PARAM['communes_col'], linewidth = SYMBO_PARAM['communes_width'],linestyle=(0,(5,10)))\n",
    "\n",
    "           \n",
    "ipywidgets.interact(bf_af_3, scale = ['1:25000','1:10000', '1:7500', '1:5000'])"
   ]
  },
  {
   "cell_type": "markdown",
   "metadata": {
    "slideshow": {
     "slide_type": "fragment"
    }
   },
   "source": [
    "💬 Let's try a **less** generalized render, with both **merged** bulidings areas and **individual** buildings :"
   ]
  },
  {
   "cell_type": "markdown",
   "metadata": {
    "slideshow": {
     "slide_type": "slide"
    }
   },
   "source": [
    "**2.3.6/** 🟠 Define area threshold between 'big' and 'small' buildings"
   ]
  },
  {
   "cell_type": "code",
   "execution_count": null,
   "metadata": {
    "hideCode": true,
    "scrolled": false,
    "slideshow": {
     "slide_type": "subslide"
    }
   },
   "outputs": [],
   "source": [
    "# 🟠 Define area threshold between 'big' and 'small' buildings\n",
    "\n",
    "def area_build(area_tshld, scale = '1:7500'):\n",
    "    global SCREEN\n",
    "    global build\n",
    "\n",
    "    build['small'] = []\n",
    "    build['big'] = []\n",
    "    with progressbar.ProgressBar(max_value=len(build['base_building'].geometry),widgets=widgets) as bar:\n",
    "        for i in range(len(build['base_building'])):\n",
    "            if build['base_building'].geometry[i].area <= area_tshld:\n",
    "                build['small'].append(build['base_building'].geometry[i])\n",
    "            else:\n",
    "                build['big'].append(build['base_building'].iloc[i])\n",
    "            bar.update(i)\n",
    "        build['small'] = gp.GeoDataFrame({'geometry':gp.GeoSeries(build['small'])})\n",
    "        build['big'] = gp.GeoDataFrame({'geometry':build['base_building'].geometry[(build['base_building'].area > area_tshld)],\n",
    "                                       'usage_1':build['base_building'].usage_1[(build['base_building'].area > area_tshld)]})\n",
    "\n",
    "        # Setting up the map\n",
    "        fig = plt.figure(figsize=SCREEN[scale])\n",
    "        ax = fig.add_subplot(111)\n",
    "        plt.xlim(668198, 669411)\n",
    "        plt.ylim(6860147, 6860869)\t\t\n",
    "        scalebar = AnchoredSizeBar(ax.transData,\n",
    "                                            250,  \n",
    "                                            '250 m',  \n",
    "                                            'lower left',  \n",
    "                                            pad=0.5,\n",
    "                                            color='black',\n",
    "                                            frameon=True,\n",
    "                                            size_vertical=1)\n",
    "        ax.add_artist(scalebar)\n",
    "        ax.axes.get_xaxis().set_visible(False)\n",
    "        ax.axes.get_yaxis().set_visible(False)\n",
    "\n",
    "        build['small'].plot(ax=ax, color = '#36BA98')\n",
    "        build['big'].plot(ax=ax, color = '#F4A261')\n",
    "\n",
    "ipywidgets.interact(area_build, area_tshld = ipywidgets.IntSlider(value = 40, min=0, max=1500, step=1,  continuous_update=False), \n",
    "                                scale = ['1:25000','1:10000', '1:7500', '1:5000'])"
   ]
  },
  {
   "cell_type": "markdown",
   "metadata": {
    "slideshow": {
     "slide_type": "fragment"
    }
   },
   "source": [
    "💬 Again, this separation is performed using only Geopandas library. Thanks to it, we will be able to perform different types of transformation depending on **building size**. In the next cells, we want to **amalgamate** the small buildings, but not the big ones "
   ]
  },
  {
   "cell_type": "markdown",
   "metadata": {
    "slideshow": {
     "slide_type": "slide"
    }
   },
   "source": [
    "**2.3.7/** 🟠 Partition the datas for small buildings"
   ]
  },
  {
   "cell_type": "code",
   "execution_count": null,
   "metadata": {
    "hideCode": true,
    "scrolled": true,
    "slideshow": {
     "slide_type": "subslide"
    }
   },
   "outputs": [],
   "source": [
    "# 🟠 Partition the datas for small buildings\n",
    "partition_small = cg.partition_networks(build['small'], list_generalized[-1])\n",
    "\n",
    "partition_small_gdf = gp.GeoDataFrame(geometry=partition_small[-1])\n",
    "\n",
    "# Setting up the map\n",
    "fig = plt.figure(figsize=(SCREEN['1:7500']))\n",
    "ax = fig.add_subplot(111)\n",
    "plt.xlim(668198, 669411)\n",
    "plt.ylim(6860147, 6860869)\t\n",
    "ax.axes.get_xaxis().set_visible(False)\n",
    "ax.axes.get_yaxis().set_visible(False)\t\n",
    "\n",
    "partition_small_gdf.plot(ax=ax, alpha = 0.2, edgecolor = 'black')\n",
    "with progressbar.ProgressBar(max_value=len(partition_small[0]),widgets=widgets) as bar:\n",
    "    for i in range(len(partition_small[0])):\n",
    "        gdf = build['small'].copy()\n",
    "        gdf = gdf.iloc[partition_small[0][i]]\n",
    "        gdf.plot(ax=ax,color = (np.random.uniform(0, 1),np.random.uniform(0, 1),np.random.uniform(0, 1)))\n",
    "        bar.update(i)"
   ]
  },
  {
   "cell_type": "markdown",
   "metadata": {
    "slideshow": {
     "slide_type": "fragment"
    }
   },
   "source": [
    "💬 The process is the same as for the red 🔴 generalization workflow (see **2.3.2'**)"
   ]
  },
  {
   "cell_type": "markdown",
   "metadata": {
    "slideshow": {
     "slide_type": "slide"
    }
   },
   "source": [
    "**2.3.8/** 🟠 Use the 'morphological_amalgamation' algorithm to merge small buildings"
   ]
  },
  {
   "cell_type": "code",
   "execution_count": null,
   "metadata": {
    "hideCode": true,
    "scrolled": true,
    "slideshow": {
     "slide_type": "subslide"
    }
   },
   "outputs": [],
   "source": [
    "# 🟠 Use the 'morphological_amalgamation' algorithm to merge small buildings\n",
    "\n",
    "def morph_amal(buffer, edge_length, symbology_on, scale = '1:7500'):\n",
    "    # Setting up the map\n",
    "    fig = plt.figure(figsize=SCREEN[scale])\n",
    "    ax = fig.add_subplot(111)\n",
    "    plt.xlim(668198, 669411)\n",
    "    plt.ylim(6860147, 6860869)\n",
    "    ax.axes.get_xaxis().set_visible(False)\n",
    "    ax.axes.get_yaxis().set_visible(False)\n",
    "    with progressbar.ProgressBar(max_value=len(partition_small[0]),widgets=widgets) as bar:\n",
    "        if symbology_on == True:\n",
    "\n",
    "            for i in range(1):\n",
    "                gdf_bckgrnd.plot(ax=ax, color = SYMBO_PARAM['bckgrnd_col'])\n",
    "\n",
    "                for i in range(len(partition_small[0])):\n",
    "                    gdf = build['small'].copy()\n",
    "                    gdf = gdf.iloc[partition_small[0][i]]\n",
    "                    try:\n",
    "                        generalized = cg.morphological_amalgamation(list(gdf.geometry), buffer = buffer, edge_length = edge_length) \n",
    "                    except: \n",
    "                        generalized = gdf.geometry\n",
    "                    generalized_gdf = gp.GeoDataFrame(geometry=gp.GeoSeries(generalized))\n",
    "                    generalized_gdf = generalized_gdf.reset_index(drop = True)\n",
    "                    build[f'ma_small_{i}'] = generalized_gdf\n",
    "                    build[f'ma_small_{i}'].plot(ax=ax, color = SYMBO_PARAM['residential_col'])\n",
    "                    bar.update(i)\n",
    "                selected_data['gdf_trainline'].plot(ax=ax, color = SYMBO_PARAM['trainline_col'], linewidth = SYMBO_PARAM['trainline_width'])\n",
    "\n",
    "                selected_data['gdf_sportfield'].plot(ax=ax, color = SYMBO_PARAM['sports_field_col'])\n",
    "\n",
    "                selected_data['gdf_vegetation'].plot(ax=ax, color = SYMBO_PARAM['vegetation_col'])\n",
    "\n",
    "                selected_data['gdf_commune'].plot(ax=ax, facecolor = 'None', edgecolor = SYMBO_PARAM['communes_col'], linewidth = SYMBO_PARAM['communes_width'],linestyle='dashed')\n",
    "\n",
    "                selected_data['gdf_water'].plot(ax=ax, color = SYMBO_PARAM['water_col'])\n",
    "\n",
    "                col_buildings = matcol.LinearSegmentedColormap.from_list('colbuildings',\n",
    "                                                                [SYMBO_PARAM['agricultural_col'], SYMBO_PARAM['annex_col'],SYMBO_PARAM['com_serv_col'], SYMBO_PARAM['other_col'],SYMBO_PARAM['religious_col'],SYMBO_PARAM['residential_col'],SYMBO_PARAM['sports_field_col']])    \n",
    "                build['big'].plot(ax=ax, column = 'usage_1', cmap = col_buildings)\n",
    "\n",
    "            for i in reversed(range(2,7)):\n",
    "                list_generalized[len(list_generalized)-1][(list_generalized[len(list_generalized)-1].importance == f\"{i}\")].plot(ax=ax, color = \"#1f2232\", linewidth = SYMBO_PARAM[f'road_width_{i}']+1)\n",
    "\n",
    "                list_generalized[len(list_generalized)-1][(list_generalized[len(list_generalized)-1].importance == f\"{i}\")].plot(ax=ax, color = SYMBO_PARAM[f'road_col_{i}'], linewidth = SYMBO_PARAM[f'road_width_{i}'])\n",
    "\n",
    "        else:    \n",
    "        \n",
    "            for i in range(len(partition_small[0])):\n",
    "                gdf = build['small'].copy()\n",
    "                gdf = gdf.iloc[partition_small[0][i]]\n",
    "                try:\n",
    "                    generalized = cg.morphological_amalgamation(list(gdf.geometry), buffer = buffer, edge_length = edge_length) \n",
    "                except: \n",
    "                    generalized = gdf.geometry\n",
    "                generalized_gdf = gp.GeoDataFrame(geometry=gp.GeoSeries(generalized))\n",
    "                generalized_gdf = generalized_gdf.reset_index(drop = True)\n",
    "                build[f'ma_small_{i}'] = generalized_gdf\n",
    "                build[f'ma_small_{i}'].plot(ax=ax)\n",
    "                bar.update(i)\n",
    "\n",
    "ipywidgets.interact(morph_amal, buffer = ipywidgets.IntSlider(value = 10, min=0, max=50, step=1,  continuous_update=False),\n",
    "                                                  edge_length = ipywidgets.IntSlider(min=1, max=50, step=1, continuous_update=False),\n",
    "                                                  scale = ['1:25000','1:10000', '1:7500', '1:5000'],\n",
    "                                                  symbology_on = False) "
   ]
  },
  {
   "cell_type": "markdown",
   "metadata": {
    "slideshow": {
     "slide_type": "fragment"
    }
   },
   "source": [
    "💬 The process is the same as for the red 🔴 generalization workflow (see **2.3.3'**)"
   ]
  },
  {
   "cell_type": "markdown",
   "metadata": {
    "slideshow": {
     "slide_type": "slide"
    }
   },
   "source": [
    "**2.3.9/** 🟠 Use the 'simplify_building' algorithm on big buildings"
   ]
  },
  {
   "cell_type": "code",
   "execution_count": null,
   "metadata": {
    "hideCode": true,
    "scrolled": true,
    "slideshow": {
     "slide_type": "subslide"
    }
   },
   "outputs": [],
   "source": [
    "# 🟠 Use the 'simplify_building' algorithm on big buildings\n",
    "def build_simpl(edge_threshold, symbology_on, scale = '1:7500'):\n",
    "    generalized = []\n",
    "    with progressbar.ProgressBar(max_value=len(build['big']),widgets=widgets) as bar:\n",
    "        for i in range(len(build['big'])):\n",
    "            try:    \n",
    "                generalized.append(cg.simplify_building(list(build['big'].geometry)[i], edge_threshold = edge_threshold))\n",
    "            except:\n",
    "                generalized.append(build['big'].geometry[i])\n",
    "            bar.update(i)\n",
    "        generalized_gdf = gp.GeoDataFrame(geometry=gp.GeoSeries(generalized))\n",
    "        build['simplified'] = generalized_gdf\n",
    "\n",
    "        # Setting up the map\n",
    "        fig = plt.figure(figsize=SCREEN[scale])\n",
    "        ax = fig.add_subplot(111)\n",
    "        plt.xlim(668198, 669411)\n",
    "        plt.ylim(6860147, 6860869)\t\t\n",
    "        ax.axes.get_xaxis().set_visible(False)\n",
    "        ax.axes.get_yaxis().set_visible(False)\n",
    "\n",
    "        if symbology_on == True:\n",
    "\n",
    "            for i in range(1):\n",
    "                gdf_bckgrnd.plot(ax=ax, color = SYMBO_PARAM['bckgrnd_col'])\n",
    "\n",
    "                generalized_gdf.plot(ax=ax, color = SYMBO_PARAM['residential_col'])\n",
    "\n",
    "                selected_data['gdf_trainline'].plot(ax=ax, color = SYMBO_PARAM['trainline_col'], linewidth = SYMBO_PARAM['trainline_width'])\n",
    "\n",
    "                selected_data['gdf_commune'].plot(ax=ax, facecolor = 'None', edgecolor = SYMBO_PARAM['communes_col'], linewidth = SYMBO_PARAM['communes_width'],linestyle='dashed')\n",
    "\n",
    "                selected_data['gdf_sportfield'].plot(ax=ax, color = SYMBO_PARAM['sports_field_col'])\n",
    "\n",
    "                selected_data['gdf_vegetation'].plot(ax=ax, color = SYMBO_PARAM['vegetation_col'])\n",
    "\n",
    "                selected_data['gdf_water'].plot(ax=ax, color = SYMBO_PARAM['water_col'])\n",
    "\n",
    "                for j in range(len(partition_small[0])):\n",
    "                    build[f'ma_small_{j}'].plot(ax=ax, color = SYMBO_PARAM['residential_col'])\n",
    "\n",
    "            for i in reversed(range(2,7)):\n",
    "                list_generalized[len(list_generalized)-1][(list_generalized[len(list_generalized)-1].importance == f\"{i}\")].plot(ax=ax, color = \"#1f2232\", linewidth = SYMBO_PARAM[f'road_width_{i}']+1)\n",
    "\n",
    "                list_generalized[len(list_generalized)-1][(list_generalized[len(list_generalized)-1].importance == f\"{i}\")].plot(ax=ax, color = SYMBO_PARAM[f'road_col_{i}'], linewidth = SYMBO_PARAM[f'road_width_{i}'])\n",
    "\n",
    "        else:    \n",
    "\n",
    "            generalized_gdf.plot(ax=ax, color = \"grey\")\n",
    "\n",
    "\n",
    "ipywidgets.interact(build_simpl, edge_threshold = ipywidgets.FloatSlider(min=0.0, max=50, step=1, continuous_update=False),\n",
    "                                                  scale = ['1:25000','1:10000', '1:7500', '1:5000'],\n",
    "                                                  symbology_on = False) "
   ]
  },
  {
   "cell_type": "markdown",
   "metadata": {
    "slideshow": {
     "slide_type": "subslide"
    }
   },
   "source": [
    "**2.3.9'/** Code details on 'simplify_building' algorithm"
   ]
  },
  {
   "cell_type": "code",
   "execution_count": null,
   "metadata": {
    "slideshow": {
     "slide_type": "subslide"
    }
   },
   "outputs": [],
   "source": [
    "simpl_build = [] #list to store the geometries of simplified buildings\n",
    "for i in range(len(build['big'])): #itering on each building of the gdf\n",
    "    try:    \n",
    "        simpl_build.append(cg.simplify_building(list(build['big'].geometry)[i], edge_threshold = 10)) \n",
    "        #apply the algorithm...\n",
    "    except:\n",
    "        simpl_build.append(build['big'].geometry[i])\n",
    "        #..or return the geometry of the building without transformation\n",
    "        \n",
    "simpl_build_gdf = gp.GeoDataFrame(geometry=gp.GeoSeries(simpl_build)) #transform the list into gdf to plot it\n",
    "simpl_build_gdf.plot()"
   ]
  },
  {
   "cell_type": "markdown",
   "metadata": {
    "slideshow": {
     "slide_type": "slide"
    }
   },
   "source": [
    "**2.3.10/** 🟠 Removing too small polygons"
   ]
  },
  {
   "cell_type": "code",
   "execution_count": null,
   "metadata": {
    "hideCode": true,
    "scrolled": false,
    "slideshow": {
     "slide_type": "subslide"
    }
   },
   "outputs": [],
   "source": [
    "# 🟠 Removing too small polygons\n",
    "def rm_small_2(area_threshold, scale = '1:7500'):\n",
    "\n",
    "    # Setting up the map\n",
    "    fig = plt.figure(figsize=SCREEN[scale])\n",
    "    ax = fig.add_subplot(111)\n",
    "    plt.xlim(668198, 669411)\n",
    "    plt.ylim(6860147, 6860869)\t\t\n",
    "    ax.axes.get_xaxis().set_visible(False)\n",
    "    ax.axes.get_yaxis().set_visible(False)\n",
    "    \n",
    "    with progressbar.ProgressBar(max_value=len(build['simplified'])+len(partition_small[0]),widgets=widgets) as bar:\n",
    "        for i in range(len(build['simplified'])):\n",
    "            build['simplified'].loc[i,'area'] = build['simplified'].loc[i,'geometry'].area\n",
    "            \n",
    "        build['bb'] = build['simplified'][(build['simplified'].area > area_threshold)]\n",
    "        build['bb'].plot(ax=ax)    \n",
    "        \n",
    "        build['ma_small'] = []\n",
    "        for i in range(len(partition_small[0])):\n",
    "            for j in range(len(build[f'ma_small_{i}'])):\n",
    "                build[f'ma_small_{i}'].loc[j,'area'] = build[f'ma_small_{i}'].loc[j,'geometry'].area\n",
    "            build['ma_small'].append(build[f'ma_small_{i}'][(build[f'ma_small_{i}'].area > area_threshold)])\n",
    "            bar.update(i)\n",
    "        build['ma_small'] = gp.GeoDataFrame(pd.concat(build['ma_small'], ignore_index=True))\n",
    "        build['ma_small'].plot(ax=ax) \n",
    "\n",
    "ipywidgets.interact(rm_small_2,scale = ['1:25000','1:10000', '1:7500', '1:5000'], \n",
    "                               area_threshold = ipywidgets.IntSlider(value = 100, min = 0,max = 5000,step = 1,continuous_update=False))"
   ]
  },
  {
   "cell_type": "markdown",
   "metadata": {
    "slideshow": {
     "slide_type": "fragment"
    }
   },
   "source": [
    "💬 Again, this filter is performed using only Geopandas library."
   ]
  },
  {
   "cell_type": "markdown",
   "metadata": {
    "hideCode": false,
    "slideshow": {
     "slide_type": "slide"
    }
   },
   "source": [
    "**2.3.11/** 🟠 Display results"
   ]
  },
  {
   "cell_type": "code",
   "execution_count": null,
   "metadata": {
    "hideCode": true,
    "slideshow": {
     "slide_type": "subslide"
    }
   },
   "outputs": [],
   "source": [
    "# 🟠 Display results    \n",
    "\n",
    "def bf_af_3(scale='1:7500'):\n",
    "    fig = plt.figure(figsize=SCREEN[scale])\n",
    "    ax1 = fig.add_subplot(111)\n",
    "    plt.xlim(668198, 669411)\n",
    "    plt.ylim(6860147, 6860869)\t\n",
    "    plt.title(\"Before\")\t\n",
    "    scalebar = AnchoredSizeBar(ax1.transData,\n",
    "                                        250,  \n",
    "                                        '250 m',  \n",
    "                                        'lower left',  \n",
    "                                        pad=0.5,\n",
    "                                        color='black',\n",
    "                                        frameon=True,\n",
    "                                        size_vertical=1)\n",
    "    ax1.add_artist(scalebar)\n",
    "    ax1.axes.get_xaxis().set_visible(False)\n",
    "    ax1.axes.get_yaxis().set_visible(False)\n",
    "    \n",
    "    fig2 = plt.figure(figsize=SCREEN[scale])\n",
    "    ax2 = fig2.add_subplot(111)\n",
    "    plt.xlim(668198, 669411)\n",
    "    plt.ylim(6860147, 6860869)\n",
    "    plt.title(\"After\")\n",
    "    scalebar = AnchoredSizeBar(ax2.transData,\n",
    "                                        250,  \n",
    "                                        '250 m',  \n",
    "                                        'lower left',  \n",
    "                                        pad=0.5,\n",
    "                                        color='black',\n",
    "                                        frameon=True,\n",
    "                                        size_vertical=1)\n",
    "    ax2.add_artist(scalebar)\t\n",
    "    ax2.axes.get_xaxis().set_visible(False)\n",
    "    ax2.axes.get_yaxis().set_visible(False)\t\n",
    "    \n",
    "    if scale == '1:25000':\n",
    "        plt.subplots_adjust(hspace=0)\n",
    "        \n",
    "    \n",
    "   \n",
    "    with progressbar.ProgressBar(max_value=5,widgets=widgets) as bar:    \n",
    "        for i in range(1):\n",
    "            gdf_bckgrnd.plot(ax=ax2, color = SYMBO_PARAM['bckgrnd_col'])\n",
    "\n",
    "            gdf_bckgrnd.plot(ax=ax1, color = SYMBO_PARAM['bckgrnd_col'])\n",
    "\n",
    "            bar.update(1)\n",
    "\n",
    "            build['ma_small'].plot(ax = ax2, color = SYMBO_PARAM['residential_col'])\n",
    "\n",
    "            bar.update(2)\n",
    "            build['bb'].plot(ax= ax2, color = SYMBO_PARAM['residential_col'])   \n",
    "            bar.update(3)\n",
    "\n",
    "            col_buildings = matcol.LinearSegmentedColormap.from_list('colbuildings',\n",
    "                                                                [SYMBO_PARAM['agricultural_col'], SYMBO_PARAM['annex_col'],SYMBO_PARAM['com_serv_col'], SYMBO_PARAM['other_col'],SYMBO_PARAM['religious_col'],SYMBO_PARAM['residential_col'],SYMBO_PARAM['sports_field_col']])       \n",
    "            selected_data['gdf_building'].plot(ax=ax1, column = 'usage_1', cmap = col_buildings)\n",
    "\n",
    "            bar.update(4)\n",
    "            selected_data['gdf_trainline'].plot(ax=ax1, color = SYMBO_PARAM['trainline_col'], linewidth = SYMBO_PARAM['trainline_width'])\n",
    "\n",
    "            selected_data['gdf_trainline'].plot(ax=ax2, color = SYMBO_PARAM['trainline_col'], linewidth = SYMBO_PARAM['trainline_width'])\n",
    "\n",
    "\n",
    "            selected_data['gdf_sportfield'].plot(ax=ax1, color = SYMBO_PARAM['sports_field_col'])\n",
    "\n",
    "            selected_data['gdf_sportfield'].plot(ax=ax2, color = SYMBO_PARAM['sports_field_col'])\n",
    "\n",
    "\n",
    "            selected_data['gdf_vegetation'].plot(ax=ax1, color = SYMBO_PARAM['vegetation_col'])\n",
    "\n",
    "            selected_data['gdf_vegetation'].plot(ax=ax2, color = SYMBO_PARAM['vegetation_col'])\n",
    "\n",
    "\n",
    "            selected_data['gdf_water'].plot(ax=ax1, color = SYMBO_PARAM['water_col'])\n",
    "\n",
    "            selected_data['gdf_water'].plot(ax=ax2, color = SYMBO_PARAM['water_col'])\n",
    "\n",
    "\n",
    "            selected_data['gdf_commune'].plot(ax=ax1, facecolor = 'None', edgecolor = SYMBO_PARAM['communes_col'], linewidth = SYMBO_PARAM['communes_width'],linestyle=(0,(5,10)))\n",
    "\n",
    "            selected_data['gdf_commune'].plot(ax=ax2, facecolor = 'None', edgecolor = SYMBO_PARAM['communes_col'], linewidth = SYMBO_PARAM['communes_width'],linestyle=(0,(5,10)))\n",
    "\n",
    "\n",
    "        for i in reversed(range(2,7)):\n",
    "            selected_data['gdf_road'][(selected_data['gdf_road'].importance == f\"{i}\")].plot(ax=ax1, color = \"#1f2232\", linewidth = SYMBO_PARAM[f'road_width_{i}']+1)\n",
    "\n",
    "            selected_data['gdf_road'][(selected_data['gdf_road'].importance == f\"{i}\")].plot(ax=ax1, color = SYMBO_PARAM[f'road_col_{i}'], linewidth = SYMBO_PARAM[f'road_width_{i}'])\n",
    "        \n",
    "\n",
    "            list_generalized[len(list_generalized)-1][(list_generalized[len(list_generalized)-1].importance == f\"{i}\")].plot(ax=ax2, color = \"#1f2232\", linewidth = SYMBO_PARAM[f'road_width_{i}']+1)\n",
    "\n",
    "            list_generalized[len(list_generalized)-1][(list_generalized[len(list_generalized)-1].importance == f\"{i}\")].plot(ax=ax2, color = SYMBO_PARAM[f'road_col_{i}'], linewidth = SYMBO_PARAM[f'road_width_{i}'])\n",
    "        bar.update(5)\n",
    "           \n",
    "ipywidgets.interact(bf_af_3, scale = ['1:25000','1:10000', '1:7500', '1:5000'])"
   ]
  },
  {
   "cell_type": "markdown",
   "metadata": {
    "slideshow": {
     "slide_type": "fragment"
    }
   },
   "source": [
    "💬 Let's explore another **workflow** for building generalisation that do **not** merges them (and thus gives a less generalized render). "
   ]
  },
  {
   "cell_type": "markdown",
   "metadata": {
    "slideshow": {
     "slide_type": "slide"
    }
   },
   "source": [
    "**2.3.12/** 🟡 Perform adaptative generalisation on each individual building using the AGENT model (🏗 work in progess...)"
   ]
  },
  {
   "cell_type": "code",
   "execution_count": null,
   "metadata": {
    "slideshow": {
     "slide_type": "subslide"
    }
   },
   "outputs": [],
   "source": [
    "# 🟡 Perform adaptative generalisation on each individual building (🏗 work in progess...)\n",
    "#test_build = build['base_building'].iloc[0:150].copy()\n",
    "\n",
    "#agents = []\n",
    "#for index, building in test_build.iterrows():\n",
    "    #agent = cg.BuildingAgent(building)\n",
    "    # squareness = cg.BuildingSquarenessConstraint(agent, 3,angle_tolerance=50.0)\n",
    "    #size = cg.BuildingSizeConstraint(agent, 1, min_area = 250, area_threshold= 80)\n",
    "    #granularity = cg.BuildingGranularityConstraint(agent, 1, min_length=50.0)\n",
    "\n",
    "    # agent.constraints.append(squareness)\n",
    "    #agent.constraints.append(size)\n",
    "    #agent.constraints.append(granularity)\n",
    "\n",
    "    #agents.append(agent)\n",
    "#cg.run_agents(agents)\n",
    "\n",
    "#fig = plt.figure(figsize=(12,12))\n",
    "#ax = build['base_building'].iloc[0:150].plot(color='blue')\n",
    "#test_build.plot(ax=ax,color='red')"
   ]
  },
  {
   "cell_type": "markdown",
   "metadata": {
    "slideshow": {
     "slide_type": "slide"
    }
   },
   "source": [
    "**2.3.13/** 🟡🟠 Displace buildings that overlaps (or is to close from) roads and other buildings"
   ]
  },
  {
   "cell_type": "code",
   "execution_count": null,
   "metadata": {
    "hideCode": true,
    "hidePrompt": false,
    "slideshow": {
     "slide_type": "subslide"
    }
   },
   "outputs": [],
   "source": [
    "# 🟡🟠 Displace buildings that overlaps (or is to close from) roads and other buildings\n",
    "#configuring figure \n",
    "fig = plt.figure(figsize=SCREEN['1:7500'])\n",
    "ax = fig.add_subplot(111)\n",
    "plt.xlim(668198, 669411)\n",
    "plt.ylim(6860147, 6860869)\n",
    "ax.axes.get_xaxis().set_visible(False)\n",
    "ax.axes.get_yaxis().set_visible(False)\n",
    "\n",
    "partition = cg.partition_networks(build['bb'], list_generalized[-1])\n",
    "gdf_bckgrnd.plot(ax=ax, color = SYMBO_PARAM['bckgrnd_col']) \n",
    "\n",
    "with progressbar.ProgressBar(max_value=len(partition[0]),widgets=widgets) as bar:\n",
    "    for i in range(len(partition[0])):\n",
    "        gdf = build['bb'].copy()\n",
    "        gdf = gdf.iloc[partition[0][i]]\n",
    "        build['b_dis'] = cg.random_displacement(gdf, networks=[list_generalized[-1]], polygon_distance=10.0, \n",
    "                                                         network_distance=10.0, max_trials=25, max_displacement=10.0)\n",
    "        build['b_dis'].plot(ax=ax, color= SYMBO_PARAM['residential_col']) \n",
    "        bar.update(i)\n",
    "    \n",
    "#adding other map features  \n",
    "build['ma_small'].plot(ax = ax, color = SYMBO_PARAM['residential_col'])  \n",
    "selected_data['gdf_trainline'].plot(ax=ax, color = SYMBO_PARAM['trainline_col'], linewidth = SYMBO_PARAM['trainline_width'])\n",
    "selected_data['gdf_sportfield'].plot(ax=ax, color = SYMBO_PARAM['sports_field_col'])\n",
    "selected_data['gdf_vegetation'].plot(ax=ax, color = SYMBO_PARAM['vegetation_col'])\n",
    "selected_data['gdf_water'].plot(ax=ax, color = SYMBO_PARAM['water_col'])\n",
    "selected_data['gdf_commune'].plot(ax=ax, facecolor = 'None', edgecolor = SYMBO_PARAM['communes_col'], linewidth = SYMBO_PARAM['communes_width'],linestyle=(0,(5,10)))\n",
    "for i in reversed(range(2,7)):\n",
    "    list_generalized[len(list_generalized)-1][(list_generalized[len(list_generalized)-1].importance == f\"{i}\")].plot(ax=ax, color = \"#1f2232\", linewidth = SYMBO_PARAM[f'road_width_{i}']+1)\n",
    "    list_generalized[len(list_generalized)-1][(list_generalized[len(list_generalized)-1].importance == f\"{i}\")].plot(ax=ax, color = SYMBO_PARAM[f'road_col_{i}'], linewidth = SYMBO_PARAM[f'road_width_{i}'])\n"
   ]
  },
  {
   "cell_type": "markdown",
   "metadata": {
    "slideshow": {
     "slide_type": "fragment"
    }
   },
   "source": [
    "💬 Buildings that are close to eachother are sometimes part of the **same facility** (i.e main building + annexes). Thus, displacing those buildings can be **irrealistic**. \n",
    "\n",
    "Also, note that using **partitionning** techniques highly accelerate processing for this algorithm (**21 times** faster in my case)."
   ]
  },
  {
   "cell_type": "markdown",
   "metadata": {
    "slideshow": {
     "slide_type": "subslide"
    }
   },
   "source": [
    "**2.3.13'/** Code details on random_displacement algorithm"
   ]
  },
  {
   "cell_type": "code",
   "execution_count": null,
   "metadata": {
    "slideshow": {
     "slide_type": "subslide"
    }
   },
   "outputs": [],
   "source": [
    "displaced = cg.random_displacement(build['bb'], networks=[list_generalized[-1]], polygon_distance=10.0, \n",
    "                                             network_distance=10.0, max_trials=25, max_displacement=10.0,\n",
    "                                             network_partitioning=[list_generalized[-1]])\n",
    "\n",
    "#configuring figure \n",
    "fig = plt.figure(figsize=SCREEN['1:7500'])\n",
    "ax = fig.add_subplot(111)\n",
    "plt.xlim(668198, 669411)\n",
    "plt.ylim(6860147, 6860869)\n",
    "\n",
    "list_generalized[-1].plot(ax=ax)\n",
    "displaced.plot(ax=ax)"
   ]
  },
  {
   "cell_type": "markdown",
   "metadata": {
    "slideshow": {
     "slide_type": "slide"
    }
   },
   "source": [
    "### **2.4/** Other features\n",
    "To **finalize** this generalisation workflow, let's generalize the remaining features that need it"
   ]
  },
  {
   "cell_type": "markdown",
   "metadata": {
    "slideshow": {
     "slide_type": "slide"
    }
   },
   "source": [
    "**2.4.1/** 🟡🟠🔴 Simplify the shape of the vegetation areas by fullfilling it's thin parts"
   ]
  },
  {
   "cell_type": "code",
   "execution_count": 13,
   "metadata": {
    "hideCode": true,
    "slideshow": {
     "slide_type": "subslide"
    }
   },
   "outputs": [
    {
     "data": {
      "application/vnd.jupyter.widget-view+json": {
       "model_id": "2f878d22a11b4c68a5362465bc7d6cfd",
       "version_major": 2,
       "version_minor": 0
      },
      "text/plain": [
       "interactive(children=(IntSlider(value=1, continuous_update=False, description='size', max=40), IntSlider(value…"
      ]
     },
     "metadata": {},
     "output_type": "display_data"
    },
    {
     "data": {
      "text/plain": [
       "<function __main__.close_veget(size, quad_segs, scale='1:7500')>"
      ]
     },
     "execution_count": 13,
     "metadata": {},
     "output_type": "execute_result"
    }
   ],
   "source": [
    "# 🟡🟠🔴 Simplify the shape of the vegetation areas by fullfilling it's thin parts\n",
    "def close_veget(size, quad_segs, scale = '1:7500'):\n",
    "    build['vegetation'] = selected_data['gdf_vegetation'].copy()\n",
    "    with progressbar.ProgressBar(max_value=len(build['vegetation']),widgets=widgets) as bar:\n",
    "        for i in range(len(build['vegetation'])):\n",
    "            build['vegetation'].loc[i,'geometry'] = cg.close_polygon(build['vegetation'].loc[i,'geometry'], size =size, quad_segs = quad_segs)\n",
    "            bar.update(i)\n",
    "\n",
    "     # Setting up the map\n",
    "    fig = plt.figure(figsize=SCREEN[scale])\n",
    "    ax = fig.add_subplot(111)\n",
    "    plt.xlim(668198, 669411)\n",
    "    plt.ylim(6860147, 6860869)\t\t\n",
    "    ax.axes.get_xaxis().set_visible(False)\n",
    "    ax.axes.get_yaxis().set_visible(False)\n",
    "\n",
    "    build['vegetation'].plot(ax=ax, color = SYMBO_PARAM['vegetation_col'])\n",
    "\n",
    "ipywidgets.interact(close_veget, scale = ['1:25000','1:10000', '1:7500', '1:5000'],\n",
    "                                 size = ipywidgets.IntSlider(value = 1, min=0, max=40, step=1, continuous_update=False),\n",
    "                                 quad_segs = ipywidgets.IntSlider(value = 1, min=0, max=40, step=1, continuous_update=False))"
   ]
  },
  {
   "cell_type": "markdown",
   "metadata": {
    "slideshow": {
     "slide_type": "subslide"
    }
   },
   "source": [
    "**2.4.1'/** Code details on \"close_polygon\" algorithm"
   ]
  },
  {
   "cell_type": "code",
   "execution_count": null,
   "metadata": {
    "slideshow": {
     "slide_type": "subslide"
    }
   },
   "outputs": [],
   "source": [
    "veget_simpl = selected_data['gdf_vegetation'].copy() # copying the gdf containing vegetation\n",
    "    \n",
    "for i in range(len(build['vegetation'])): #itering on the features of this gdf\n",
    "    veget_simpl.loc[i,'geometry'] = cg.close_polygon(veget_simpl.loc[i,'geometry'], \n",
    "                                            size =10, quad_segs = 8)\n",
    "veget_simpl.plot()"
   ]
  },
  {
   "cell_type": "markdown",
   "metadata": {
    "slideshow": {
     "slide_type": "slide"
    }
   },
   "source": [
    "**2.4.2/** 🟡🟠🔴 Simplify the shape of the vegetation areas by reducing the number of vertex (Douglas_Peucker algorithm)"
   ]
  },
  {
   "cell_type": "code",
   "execution_count": 15,
   "metadata": {
    "hideCode": true,
    "slideshow": {
     "slide_type": "subslide"
    }
   },
   "outputs": [
    {
     "data": {
      "application/vnd.jupyter.widget-view+json": {
       "model_id": "390458a24e964d60acd9baf2fe1b6c0d",
       "version_major": 2,
       "version_minor": 0
      },
      "text/plain": [
       "interactive(children=(IntSlider(value=0, continuous_update=False, description='threshold', max=40), Checkbox(v…"
      ]
     },
     "metadata": {},
     "output_type": "display_data"
    },
    {
     "data": {
      "text/plain": [
       "<function __main__.simpl_veget(threshold, symbology_on, preserve_topology=True, gen_type=1, scale='1:7500')>"
      ]
     },
     "execution_count": 15,
     "metadata": {},
     "output_type": "execute_result"
    }
   ],
   "source": [
    "# 🟡🟠🔴 Simplify the shape of the vegetation areas by reducing the number of vertex (Douglas_Peucker algorithm)\n",
    "def simpl_veget(threshold, symbology_on, preserve_topology=True, gen_type = 1,scale = '1:7500'):\n",
    "    global SCREEN\n",
    "    global SYMBO_PARAM\n",
    "    global build\n",
    "   \n",
    "    generalized = []\n",
    "    with progressbar.ProgressBar(max_value=len(build['vegetation']),widgets=widgets) as bar:\n",
    "        for i in range(len(build['vegetation'])):\n",
    "            generalized.append(cg.douglas_peucker(list(build['vegetation'].geometry)[i], threshold = threshold, preserve_topology = preserve_topology))\n",
    "            bar.update(i)\n",
    "    generalized_gdf = gp.GeoDataFrame(geometry=gp.GeoSeries(generalized))\n",
    "    build['vegetation_simpl'] = generalized_gdf\n",
    "    \n",
    "    for i in range(len(build['vegetation_simpl'])):\n",
    "        build['vegetation_simpl'].loc[i,'area'] = build['vegetation_simpl'].loc[i,'geometry'].area\n",
    "\n",
    "    # Setting up the map\n",
    "    fig = plt.figure(figsize=SCREEN[scale])\n",
    "    ax = fig.add_subplot(111)\n",
    "    plt.xlim(668198, 669411)\n",
    "    plt.ylim(6860147, 6860869)\n",
    "    scalebar = AnchoredSizeBar(ax.transData,\n",
    "                                    250,  \n",
    "                                    '250 m',  \n",
    "                                    'lower left',  \n",
    "                                    pad=0.5,\n",
    "                                    color='black',\n",
    "                                    frameon=True,\n",
    "                                    size_vertical=1)\n",
    "    ax.add_artist(scalebar)\n",
    "    ax.axes.get_xaxis().set_visible(False)\n",
    "    ax.axes.get_yaxis().set_visible(False)\n",
    "\n",
    "    gdf_bckgrnd.plot(ax=ax, color = SYMBO_PARAM['bckgrnd_col'])\n",
    "    \n",
    "    if symbology_on == True:  \n",
    "        if gen_type == 1 and 'red_gen' in build:\n",
    "            build['red_gen'].plot(ax=ax, color=SYMBO_PARAM['residential_col'])\n",
    "        elif gen_type == 2 and 'bb' in build:  \n",
    "            build['bb'].plot(ax=ax, color=SYMBO_PARAM['residential_col'])\n",
    "            build['ma_small'].plot(ax=ax, color=SYMBO_PARAM['residential_col'])\n",
    "        elif gen_type == 3 and 'yellow' in build: \n",
    "            build['yellow'].plot(ax=ax, color=SYMBO_PARAM['residential_col'])\n",
    "        \n",
    "        for i in range(1):\n",
    "         \n",
    "            generalized_gdf.plot(ax=ax, color = SYMBO_PARAM['vegetation_col'])\n",
    "       \n",
    "            selected_data['gdf_trainline'].plot(ax=ax, color = SYMBO_PARAM['trainline_col'], linewidth = SYMBO_PARAM['trainline_width'])\n",
    "           \n",
    "            selected_data['gdf_commune'].plot(ax=ax, facecolor = 'None', edgecolor = SYMBO_PARAM['communes_col'], linewidth = SYMBO_PARAM['communes_width'],linestyle='dashed')\n",
    "   \n",
    "            selected_data['gdf_sportfield'].plot(ax=ax, color = SYMBO_PARAM['sports_field_col'])\n",
    "       \n",
    "            selected_data['gdf_water'].plot(ax=ax, color = SYMBO_PARAM['water_col'])\n",
    "         \n",
    "        for i in reversed(range(2,7)):\n",
    "            list_generalized[len(list_generalized)-1][(list_generalized[len(list_generalized)-1].importance == f\"{i}\")].plot(ax=ax, color = \"#1f2232\", linewidth = SYMBO_PARAM[f'road_width_{i}']+1)\n",
    "      \n",
    "            list_generalized[len(list_generalized)-1][(list_generalized[len(list_generalized)-1].importance == f\"{i}\")].plot(ax=ax, color = SYMBO_PARAM[f'road_col_{i}'], linewidth = SYMBO_PARAM[f'road_width_{i}'])\n",
    "        \n",
    "         \n",
    "    else:    \n",
    "    \n",
    "        generalized_gdf.plot(ax=ax, color = SYMBO_PARAM['vegetation_col'])\n",
    "     \n",
    "\n",
    "    \n",
    "ipywidgets.interact(simpl_veget, preserve_topology = True, \n",
    "                                                  threshold = ipywidgets.IntSlider(min=0, max=40, step=1, continuous_update=False),\n",
    "                                                  scale = ['1:25000','1:10000', '1:7500', '1:5000'],\n",
    "                                                  symbology_on = False,\n",
    "                                                  gen_type = ipywidgets.Dropdown(options=[('Red', 1), ('Orange', 2), ('Yellow', 3)], style={'description_width': 'initial'},value=1, description='Generalisation workflow :')) "
   ]
  },
  {
   "cell_type": "markdown",
   "metadata": {
    "slideshow": {
     "slide_type": "fragment"
    }
   },
   "source": [
    "💬 Douglas-Peucker algorithm **remove** some vertex of the given shapes. It tends to retain the most important vertex for the shape **structure**. "
   ]
  },
  {
   "cell_type": "markdown",
   "metadata": {
    "slideshow": {
     "slide_type": "subslide"
    }
   },
   "source": [
    "**2.4.2'** Code details on douglas_peucker algorithm"
   ]
  },
  {
   "cell_type": "code",
   "execution_count": null,
   "metadata": {
    "slideshow": {
     "slide_type": "subslide"
    }
   },
   "outputs": [],
   "source": [
    "simplified_shapes = []\n",
    "for i in range(len(build['vegetation'])):\n",
    "    simplified_shapes.append(cg.douglas_peucker(list(build['vegetation'].geometry)[i],\n",
    "                                                            threshold = 10, preserve_topology = True))\n",
    "            \n",
    "simplified = gp.GeoDataFrame(geometry=gp.GeoSeries(simplified_shapes))\n",
    "\n",
    "simplified.plot()"
   ]
  },
  {
   "cell_type": "markdown",
   "metadata": {
    "slideshow": {
     "slide_type": "slide"
    }
   },
   "source": [
    "**2.4.3/** 🟡🟠🔴 Smooth the shape of the vegetation areas"
   ]
  },
  {
   "cell_type": "code",
   "execution_count": 16,
   "metadata": {
    "hideCode": true,
    "slideshow": {
     "slide_type": "subslide"
    }
   },
   "outputs": [
    {
     "data": {
      "application/vnd.jupyter.widget-view+json": {
       "model_id": "4502bc3c8d27419ebcb96212f5993692",
       "version_major": 2,
       "version_minor": 0
      },
      "text/plain": [
       "interactive(children=(IntSlider(value=0, continuous_update=False, description='sigma', max=50), IntSlider(valu…"
      ]
     },
     "metadata": {},
     "output_type": "display_data"
    },
    {
     "data": {
      "text/plain": [
       "<function __main__.smooth_veget(sigma, sample, symbology_on, densify, gen_type=1, scale='1:7500')>"
      ]
     },
     "execution_count": 16,
     "metadata": {},
     "output_type": "execute_result"
    }
   ],
   "source": [
    "# 🟡🟠🔴 Smooth the shape of the vegetation areas\n",
    "\n",
    "def smooth_veget(sigma, sample,symbology_on, densify, gen_type=1, scale = '1:7500'):\n",
    "    global SCREEN\n",
    "    global SYMBO_PARAM\n",
    "    global build\n",
    "   \n",
    "    generalized = []\n",
    "    with progressbar.ProgressBar(max_value=len(build['vegetation']),widgets=widgets) as bar:\n",
    "        for i in range(len(build['vegetation'])):\n",
    "            try:\n",
    "                generalized.append(cg.gaussian_smoothing(build['vegetation'].geometry[i], sigma = sigma, sample = sample, densify = densify))\n",
    "            except:\n",
    "                generalized.append(build['vegetation'].geometry[i])\n",
    "            bar.update(i)\n",
    "    generalized_gdf = gp.GeoDataFrame(geometry=gp.GeoSeries(generalized))\n",
    "    build['vegetation_smooth'] = generalized_gdf\n",
    "    for i in range(len(build['vegetation_smooth'])):\n",
    "        build['vegetation_smooth'].loc[i,'area'] = build['vegetation_smooth'].loc[i,'geometry'].area\n",
    "\n",
    "    # Setting up the map\n",
    "    fig = plt.figure(figsize=SCREEN[scale])\n",
    "    ax = fig.add_subplot(111)\n",
    "    plt.xlim(668198, 669411)\n",
    "    plt.ylim(6860147, 6860869)\n",
    "    scalebar = AnchoredSizeBar(ax.transData,\n",
    "                                    250,  \n",
    "                                    '250 m',  \n",
    "                                    'lower left',  \n",
    "                                    pad=0.5,\n",
    "                                    color='black',\n",
    "                                    frameon=True,\n",
    "                                    size_vertical=1)\n",
    "    ax.add_artist(scalebar)\n",
    "    ax.axes.get_xaxis().set_visible(False)\n",
    "    ax.axes.get_yaxis().set_visible(False)\n",
    "    \n",
    "    gdf_bckgrnd.plot(ax=ax, color = SYMBO_PARAM['bckgrnd_col'])\n",
    "\n",
    "    if symbology_on == True:\n",
    "        if gen_type == 1 and 'red_gen' in build:\n",
    "            build['red_gen'].plot(ax=ax, color=SYMBO_PARAM['residential_col'])\n",
    "        elif gen_type == 2 and 'bb' in build:  \n",
    "            build['bb'].plot(ax=ax, color=SYMBO_PARAM['residential_col'])\n",
    "            build['ma_small'].plot(ax=ax, color=SYMBO_PARAM['residential_col'])\n",
    "        elif gen_type == 3 and 'yellow' in build: \n",
    "            build['yellow'].plot(ax=ax, color=SYMBO_PARAM['residential_col'])\n",
    "    \n",
    "        for i in range(1):\n",
    "            \n",
    "            generalized_gdf.plot(ax=ax,color = SYMBO_PARAM['vegetation_col'])\n",
    "        \n",
    "            selected_data['gdf_trainline'].plot(ax=ax, color = SYMBO_PARAM['trainline_col'], linewidth = SYMBO_PARAM['trainline_width'])\n",
    "             \n",
    "            selected_data['gdf_commune'].plot(ax=ax, facecolor = 'None', edgecolor = SYMBO_PARAM['communes_col'], linewidth = SYMBO_PARAM['communes_width'],linestyle='dashed')\n",
    "          \n",
    "            selected_data['gdf_sportfield'].plot(ax=ax, color = SYMBO_PARAM['sports_field_col'])\n",
    "            \n",
    "            selected_data['gdf_water'].plot(ax=ax, color = SYMBO_PARAM['water_col'])\n",
    "           \n",
    "        for i in reversed(range(2,7)):\n",
    "            list_generalized[len(list_generalized)-1][(list_generalized[len(list_generalized)-1].importance == f\"{i}\")].plot(ax=ax, color = \"#1f2232\", linewidth = SYMBO_PARAM[f'road_width_{i}']+1)\n",
    "            \n",
    "            list_generalized[len(list_generalized)-1][(list_generalized[len(list_generalized)-1].importance == f\"{i}\")].plot(ax=ax, color = SYMBO_PARAM[f'road_col_{i}'], linewidth = SYMBO_PARAM[f'road_width_{i}'])\n",
    "                \n",
    "    else:    \n",
    "        generalized_gdf.plot(ax=ax, color = SYMBO_PARAM['vegetation_col'])\n",
    "       \n",
    "    \n",
    "ipywidgets.interact(smooth_veget, sigma = ipywidgets.IntSlider(min=0, max=50, step=1, continuous_update=False),\n",
    "                                 scale = ['1:25000','1:10000', '1:7500', '1:5000'],\n",
    "                                 sample = ipywidgets.IntSlider(min=0, max=50, step=1, continuous_update=False),\n",
    "                                densify = True,\n",
    "                                symbology_on = False,\n",
    "                                gen_type = ipywidgets.Dropdown(options=[('Red', 1), ('Orange', 2), ('Yellow', 3)], style={'description_width': 'initial'},value=1, description='Generalisation workflow :')) "
   ]
  },
  {
   "cell_type": "markdown",
   "metadata": {
    "slideshow": {
     "slide_type": "fragment"
    }
   },
   "source": [
    "💬 If you do not like the **\"sharp\"** aspect of the vegetation area after the use of Douglas-Peucker algorithm, you can run this **smoothing aglorithm** instead. It gives a **\"rounder\"** result."
   ]
  },
  {
   "cell_type": "markdown",
   "metadata": {
    "slideshow": {
     "slide_type": "subslide"
    }
   },
   "source": [
    "**2.4.3'/** Code details on 'gaussian_smoothing' algorithm "
   ]
  },
  {
   "cell_type": "code",
   "execution_count": null,
   "metadata": {
    "slideshow": {
     "slide_type": "subslide"
    }
   },
   "outputs": [],
   "source": [
    "smoothed_shapes = []\n",
    "for i in range(len(build['vegetation'])): #for each vegetation feature\n",
    "    try:\n",
    "        smoothed_shapes.append(cg.gaussian_smoothing(build['vegetation'].geometry[i], sigma = 8, sample = 8, densify = True)) \n",
    "    except:\n",
    "        smoothed_shapes.append(build['vegetation'].geometry[i])        \n",
    "\n",
    "smoothed = gp.GeoDataFrame(geometry=gp.GeoSeries(smoothed_shapes))\n",
    "\n",
    "smoothed.plot()"
   ]
  },
  {
   "cell_type": "markdown",
   "metadata": {
    "slideshow": {
     "slide_type": "slide"
    }
   },
   "source": [
    "**2.4.4/** 🟡🟠🔴 Remove too small areas "
   ]
  },
  {
   "cell_type": "code",
   "execution_count": 17,
   "metadata": {
    "hideCode": true,
    "slideshow": {
     "slide_type": "subslide"
    }
   },
   "outputs": [
    {
     "data": {
      "application/vnd.jupyter.widget-view+json": {
       "model_id": "497dd91c2ce940a4bece2ff2fbfac569",
       "version_major": 2,
       "version_minor": 0
      },
      "text/plain": [
       "interactive(children=(IntSlider(value=0, continuous_update=False, description='area_threshold', max=1000), Dro…"
      ]
     },
     "metadata": {},
     "output_type": "display_data"
    },
    {
     "data": {
      "text/plain": [
       "<function __main__.small_veg(area_threshold, vegetation=1, scale='1:7500')>"
      ]
     },
     "execution_count": 17,
     "metadata": {},
     "output_type": "execute_result"
    }
   ],
   "source": [
    "# 🟡🟠🔴 Remove too small areas \n",
    "\n",
    "def small_veg(area_threshold, vegetation=1, scale = '1:7500'):\n",
    "    global build \n",
    "    \n",
    "    fig = plt.figure(figsize=SCREEN[scale])\n",
    "    ax = fig.add_subplot(111)\n",
    "    plt.xlim(668198, 669411)\n",
    "    plt.ylim(6860147, 6860869)\t\t\n",
    "    ax.axes.get_xaxis().set_visible(False)\n",
    "    ax.axes.get_yaxis().set_visible(False)\n",
    "    def multipolygon_to_polygon(geom): # function that transform MultiPolygon geometry to Polygon\n",
    "        if isinstance(geom, MultiPolygon):\n",
    "            return geom.geoms[0]\n",
    "        return geom\n",
    "\n",
    "    if vegetation == 1:\n",
    "    \n",
    "     \n",
    "        build['veget_ok'] = build['vegetation_smooth'][(build['vegetation_smooth'].area > area_threshold)]\n",
    "        build['veget_ok'].plot(ax=ax, color = SYMBO_PARAM['vegetation_col'])\n",
    "\n",
    "    elif  vegetation == 2:\n",
    "        for i in range(len(build['vegetation_simpl'])):\n",
    "            build['vegetation_simpl'].loc[i,'area'] = build['vegetation_simpl'].loc[i,'geometry'].area\n",
    "        build['veget_ok'] = build['vegetation_simpl'][(build['vegetation_simpl'].area > area_threshold)]\n",
    "        build['veget_ok'].plot(ax=ax, color = SYMBO_PARAM['vegetation_col'])\n",
    "\n",
    "    else:\n",
    "        build['vegetation'] = selected_data['gdf_vegetation'].copy()\n",
    "        for i in range(len(build['vegetation'])):\n",
    "            build['vegetation'].loc[i,'area'] = build['vegetation'].loc[i,'geometry'].area\n",
    "        build['veget_ok'] = build['vegetation'][(build['vegetation'].area > area_threshold)]\n",
    "        build['veget_ok'].plot(ax=ax, color = SYMBO_PARAM['vegetation_col'])\n",
    "\n",
    "ipywidgets.interact(small_veg, scale = ['1:25000','1:10000', '1:7500', '1:5000'],\n",
    " area_threshold = ipywidgets.IntSlider(min=0, max=1000, step=1, continuous_update=False),\n",
    " vegetation = ipywidgets.Dropdown(options=[('Smoothed', 1), ('Simplified', 2), ('Not generalized', 3)], style={'description_width': 'initial'},value=1, description='Vegetation'))"
   ]
  },
  {
   "cell_type": "markdown",
   "metadata": {
    "slideshow": {
     "slide_type": "slide"
    }
   },
   "source": [
    "**2.4.5/** 🟡🟠🔴 Display results"
   ]
  },
  {
   "cell_type": "code",
   "execution_count": null,
   "metadata": {
    "hideCode": true,
    "slideshow": {
     "slide_type": "subslide"
    }
   },
   "outputs": [],
   "source": [
    "# Display results \n",
    "def bf_af_4(gen_type =1, scale = '1:7500'):\n",
    "    if gen_type == 2 and 'ma_small' in build:\n",
    "        fig = plt.figure(figsize=(SCREEN[scale]))\n",
    "        ax1 = fig.add_subplot(111)\n",
    "        plt.xlim(668198, 669411)\n",
    "        plt.ylim(6860147, 6860869)\t\n",
    "        plt.title(\"Before\")\t\n",
    "        scalebar = AnchoredSizeBar(ax1.transData,\n",
    "                                            250,  \n",
    "                                            '250 m',  \n",
    "                                            'lower left',  \n",
    "                                            pad=0.5,\n",
    "                                            color='black',\n",
    "                                            frameon=True,\n",
    "                                            size_vertical=1)\n",
    "        ax1.add_artist(scalebar)\n",
    "        ax1.axes.get_xaxis().set_visible(False)\n",
    "        ax1.axes.get_yaxis().set_visible(False)\n",
    "        \n",
    "        fig2 = plt.figure(figsize=SCREEN[scale])\n",
    "        ax2 = fig2.add_subplot(111)\n",
    "        plt.xlim(668198, 669411)\n",
    "        plt.ylim(6860147, 6860869)\n",
    "        plt.title(\"After\")\t\n",
    "        scalebar = AnchoredSizeBar(ax2.transData,\n",
    "                                            250,  \n",
    "                                            '250 m',  \n",
    "                                            'lower left',  \n",
    "                                            pad=0.5,\n",
    "                                            color='black',\n",
    "                                            frameon=True,\n",
    "                                            size_vertical=1)\n",
    "        ax2.add_artist(scalebar)\t\n",
    "        ax2.axes.get_xaxis().set_visible(False)\n",
    "        ax2.axes.get_yaxis().set_visible(False)\t\n",
    "        \n",
    "        gdf_bckgrnd.plot(ax=ax2, color = SYMBO_PARAM['bckgrnd_col'])\n",
    "        gdf_bckgrnd.plot(ax=ax1, color = SYMBO_PARAM['bckgrnd_col'])\n",
    "            \n",
    "        build['ma_small'].plot(ax = ax2, color = SYMBO_PARAM['residential_col']) \n",
    "        build['bb'].plot(ax = ax2, color = SYMBO_PARAM['residential_col'])     \n",
    "\n",
    "        col_buildings = matcol.LinearSegmentedColormap.from_list('colbuildings',\n",
    "                                                                [SYMBO_PARAM['agricultural_col'], SYMBO_PARAM['annex_col'],SYMBO_PARAM['com_serv_col'], SYMBO_PARAM['other_col'],SYMBO_PARAM['religious_col'],SYMBO_PARAM['residential_col'],SYMBO_PARAM['sports_field_col']])       \n",
    "        build['base_building'].plot(ax=ax1, column = 'usage_1', cmap = col_buildings)\n",
    "            \n",
    "\n",
    "        selected_data['gdf_trainline'].plot(ax=ax1, color = SYMBO_PARAM['trainline_col'], linewidth = SYMBO_PARAM['trainline_width'])\n",
    "        selected_data['gdf_trainline'].plot(ax=ax2, color = SYMBO_PARAM['trainline_col'], linewidth = SYMBO_PARAM['trainline_width'])    \n",
    "        \n",
    "        selected_data['gdf_sportfield'].plot(ax=ax1, color = SYMBO_PARAM['sports_field_col']) \n",
    "        selected_data['gdf_sportfield'].plot(ax=ax2, color = SYMBO_PARAM['sports_field_col'])\n",
    "        \n",
    "        selected_data['gdf_vegetation'].plot(ax=ax1, color = SYMBO_PARAM['vegetation_col']) \n",
    "        build['veget_ok'].plot(ax=ax2, color = SYMBO_PARAM['vegetation_col'])\n",
    "            \n",
    "        selected_data['gdf_water'].plot(ax=ax1, color = SYMBO_PARAM['water_col'])\n",
    "        selected_data['gdf_water'].plot(ax=ax2, color = SYMBO_PARAM['water_col'])\n",
    "            \n",
    "        selected_data['gdf_commune'].plot(ax=ax1, facecolor = 'None', edgecolor = SYMBO_PARAM['communes_col'], linewidth = SYMBO_PARAM['communes_width'],linestyle=(0,(5,10)))\n",
    "        selected_data['gdf_commune'].plot(ax=ax2, facecolor = 'None', edgecolor = SYMBO_PARAM['communes_col'], linewidth = SYMBO_PARAM['communes_width'],linestyle=(0,(5,10)))\n",
    "            \n",
    "        for i in reversed(range(2,7)):\n",
    "            list_generalized[len(list_generalized)-1][(list_generalized[len(list_generalized)-1].importance == f\"{i}\")].plot(ax=ax2, color = \"#1f2232\", linewidth = SYMBO_PARAM[f'road_width_{i}']+1)\n",
    "            \n",
    "            list_generalized[len(list_generalized)-1][(list_generalized[len(list_generalized)-1].importance == f\"{i}\")].plot(ax=ax2, color = SYMBO_PARAM[f'road_col_{i}'], linewidth = SYMBO_PARAM[f'road_width_{i}'])\n",
    "            selected_data['gdf_road'][(selected_data['gdf_road'].importance == f\"{i}\")].plot(ax=ax1, color = \"#1f2232\", linewidth = SYMBO_PARAM[f'road_width_{i}']+1)\n",
    "\n",
    "            selected_data['gdf_road'][(selected_data['gdf_road'].importance == f\"{i}\")].plot(ax=ax1, color = SYMBO_PARAM[f'road_col_{i}'], linewidth = SYMBO_PARAM[f'road_width_{i}'])\n",
    "          \n",
    "\n",
    "    elif gen_type == 1 and 'red_gen' in build:\n",
    "        fig = plt.figure(figsize=(SCREEN[scale]))\n",
    "        ax1 = fig.add_subplot(111)\n",
    "        plt.xlim(668198, 669411)\n",
    "        plt.ylim(6860147, 6860869)\t\n",
    "        plt.title(\"Before\")\t\n",
    "        scalebar = AnchoredSizeBar(ax1.transData,\n",
    "                                            250,  \n",
    "                                            '250 m',  \n",
    "                                            'lower left',  \n",
    "                                            pad=0.5,\n",
    "                                            color='black',\n",
    "                                            frameon=True,\n",
    "                                            size_vertical=1)\n",
    "        ax1.add_artist(scalebar)\n",
    "        ax1.axes.get_xaxis().set_visible(False)\n",
    "        ax1.axes.get_yaxis().set_visible(False)\n",
    "        \n",
    "        fig2 = plt.figure(figsize=SCREEN[scale])\n",
    "        ax2 = fig2.add_subplot(111)\n",
    "        plt.xlim(668198, 669411)\n",
    "        plt.ylim(6860147, 6860869)\n",
    "        plt.title(\"After\")\t\n",
    "        scalebar = AnchoredSizeBar(ax2.transData,\n",
    "                                            250,  \n",
    "                                            '250 m',  \n",
    "                                            'lower left',  \n",
    "                                            pad=0.5,\n",
    "                                            color='black',\n",
    "                                            frameon=True,\n",
    "                                            size_vertical=1)\n",
    "        ax2.add_artist(scalebar)\t\n",
    "        ax2.axes.get_xaxis().set_visible(False)\n",
    "        ax2.axes.get_yaxis().set_visible(False)\t\n",
    "        \n",
    "        gdf_bckgrnd.plot(ax=ax2, color = SYMBO_PARAM['bckgrnd_col'])\n",
    "        gdf_bckgrnd.plot(ax=ax1, color = SYMBO_PARAM['bckgrnd_col'])\n",
    "            \n",
    "        build['red_gen'].plot(ax = ax2, color = SYMBO_PARAM['residential_col']) \n",
    "            \n",
    "        col_buildings = matcol.LinearSegmentedColormap.from_list('colbuildings',\n",
    "                                                                [SYMBO_PARAM['agricultural_col'], SYMBO_PARAM['annex_col'],SYMBO_PARAM['com_serv_col'], SYMBO_PARAM['other_col'],SYMBO_PARAM['religious_col'],SYMBO_PARAM['residential_col'],SYMBO_PARAM['sports_field_col']])       \n",
    "        build['base_building'].plot(ax=ax1, column = 'usage_1', cmap = col_buildings)\n",
    "            \n",
    "\n",
    "        selected_data['gdf_trainline'].plot(ax=ax1, color = SYMBO_PARAM['trainline_col'], linewidth = SYMBO_PARAM['trainline_width'])\n",
    "        selected_data['gdf_trainline'].plot(ax=ax2, color = SYMBO_PARAM['trainline_col'], linewidth = SYMBO_PARAM['trainline_width'])    \n",
    "        \n",
    "        selected_data['gdf_sportfield'].plot(ax=ax1, color = SYMBO_PARAM['sports_field_col']) \n",
    "        selected_data['gdf_sportfield'].plot(ax=ax2, color = SYMBO_PARAM['sports_field_col'])\n",
    "        \n",
    "        selected_data['gdf_vegetation'].plot(ax=ax1, color = SYMBO_PARAM['vegetation_col']) \n",
    "        build['veget_ok'].plot(ax=ax2, color = SYMBO_PARAM['vegetation_col'])\n",
    "            \n",
    "        selected_data['gdf_water'].plot(ax=ax1, color = SYMBO_PARAM['water_col'])\n",
    "        selected_data['gdf_water'].plot(ax=ax2, color = SYMBO_PARAM['water_col'])\n",
    "            \n",
    "        selected_data['gdf_commune'].plot(ax=ax1, facecolor = 'None', edgecolor = SYMBO_PARAM['communes_col'], linewidth = SYMBO_PARAM['communes_width'],linestyle=(0,(5,10)))\n",
    "        selected_data['gdf_commune'].plot(ax=ax2, facecolor = 'None', edgecolor = SYMBO_PARAM['communes_col'], linewidth = SYMBO_PARAM['communes_width'],linestyle=(0,(5,10)))\n",
    "            \n",
    "        for i in reversed(range(2,7)):\n",
    "            list_generalized[len(list_generalized)-1][(list_generalized[len(list_generalized)-1].importance == f\"{i}\")].plot(ax=ax2, color = \"#1f2232\", linewidth = SYMBO_PARAM[f'road_width_{i}']+1)\n",
    "            \n",
    "            list_generalized[len(list_generalized)-1][(list_generalized[len(list_generalized)-1].importance == f\"{i}\")].plot(ax=ax2, color = SYMBO_PARAM[f'road_col_{i}'], linewidth = SYMBO_PARAM[f'road_width_{i}'])\n",
    "            selected_data['gdf_road'][(selected_data['gdf_road'].importance == f\"{i}\")].plot(ax=ax1, color = \"#1f2232\", linewidth = SYMBO_PARAM[f'road_width_{i}']+1)\n",
    "            selected_data['gdf_road'][(selected_data['gdf_road'].importance == f\"{i}\")].plot(ax=ax1, color = SYMBO_PARAM[f'road_col_{i}'], linewidth = SYMBO_PARAM[f'road_width_{i}'])\n",
    "          \n",
    "    elif gen_type == 3 and 'yellow' in build:\n",
    "        fig = plt.figure(figsize=(SCREEN[scale]))\n",
    "        ax1 = fig.add_subplot(111)\n",
    "        plt.xlim(668198, 669411)\n",
    "        plt.ylim(6860147, 6860869)\t\n",
    "        plt.title(\"Before\")\t\n",
    "        scalebar = AnchoredSizeBar(ax1.transData,\n",
    "                                            250,  \n",
    "                                            '250 m',  \n",
    "                                            'lower left',  \n",
    "                                            pad=0.5,\n",
    "                                            color='black',\n",
    "                                            frameon=True,\n",
    "                                            size_vertical=1)\n",
    "        ax1.add_artist(scalebar)\n",
    "        ax1.axes.get_xaxis().set_visible(False)\n",
    "        ax1.axes.get_yaxis().set_visible(False)\n",
    "        \n",
    "        fig2 = plt.figure(figsize=SCREEN[scale])\n",
    "        ax2 = fig2.add_subplot(111)\n",
    "        plt.xlim(668198, 669411)\n",
    "        plt.ylim(6860147, 6860869)\n",
    "        plt.title(\"After\")\t\n",
    "        scalebar = AnchoredSizeBar(ax2.transData,\n",
    "                                            250,  \n",
    "                                            '250 m',  \n",
    "                                            'lower left',  \n",
    "                                            pad=0.5,\n",
    "                                            color='black',\n",
    "                                            frameon=True,\n",
    "                                            size_vertical=1)\n",
    "        ax2.add_artist(scalebar)\t\n",
    "        ax2.axes.get_xaxis().set_visible(False)\n",
    "        ax2.axes.get_yaxis().set_visible(False)\t\n",
    "        \n",
    "        gdf_bckgrnd.plot(ax=ax2, color = SYMBO_PARAM['bckgrnd_col'])\n",
    "        gdf_bckgrnd.plot(ax=ax1, color = SYMBO_PARAM['bckgrnd_col'])\n",
    "            \n",
    "        build['yellow'].plot(ax = ax2, color = SYMBO_PARAM['residential_col']) \n",
    "            \n",
    "        col_buildings = matcol.LinearSegmentedColormap.from_list('colbuildings',\n",
    "                                                                [SYMBO_PARAM['agricultural_col'], SYMBO_PARAM['annex_col'],SYMBO_PARAM['com_serv_col'], SYMBO_PARAM['other_col'],SYMBO_PARAM['religious_col'],SYMBO_PARAM['residential_col'],SYMBO_PARAM['sports_field_col']])       \n",
    "        build['base_building'].plot(ax=ax1, column = 'usage_1', cmap = col_buildings)\n",
    "            \n",
    "\n",
    "        selected_data['gdf_trainline'].plot(ax=ax1, color = SYMBO_PARAM['trainline_col'], linewidth = SYMBO_PARAM['trainline_width'])\n",
    "        selected_data['gdf_trainline'].plot(ax=ax2, color = SYMBO_PARAM['trainline_col'], linewidth = SYMBO_PARAM['trainline_width'])    \n",
    "        \n",
    "        selected_data['gdf_sportfield'].plot(ax=ax1, color = SYMBO_PARAM['sports_field_col']) \n",
    "        selected_data['gdf_sportfield'].plot(ax=ax2, color = SYMBO_PARAM['sports_field_col'])\n",
    "        \n",
    "        selected_data['gdf_vegetation'].plot(ax=ax1, color = SYMBO_PARAM['vegetation_col']) \n",
    "        build['veget_ok'].plot(ax=ax2, color = SYMBO_PARAM['vegetation_col'])\n",
    "            \n",
    "        selected_data['gdf_water'].plot(ax=ax1, color = SYMBO_PARAM['water_col'])\n",
    "        selected_data['gdf_water'].plot(ax=ax2, color = SYMBO_PARAM['water_col'])\n",
    "            \n",
    "        selected_data['gdf_commune'].plot(ax=ax1, facecolor = 'None', edgecolor = SYMBO_PARAM['communes_col'], linewidth = SYMBO_PARAM['communes_width'],linestyle=(0,(5,10)))\n",
    "        selected_data['gdf_commune'].plot(ax=ax2, facecolor = 'None', edgecolor = SYMBO_PARAM['communes_col'], linewidth = SYMBO_PARAM['communes_width'],linestyle=(0,(5,10)))\n",
    "            \n",
    "        for i in reversed(range(2,7)):\n",
    "            list_generalized[len(list_generalized)-1][(list_generalized[len(list_generalized)-1].importance == f\"{i}\")].plot(ax=ax2, color = \"#1f2232\", linewidth = SYMBO_PARAM[f'road_width_{i}']+1)\n",
    "            \n",
    "            list_generalized[len(list_generalized)-1][(list_generalized[len(list_generalized)-1].importance == f\"{i}\")].plot(ax=ax2, color = SYMBO_PARAM[f'road_col_{i}'], linewidth = SYMBO_PARAM[f'road_width_{i}'])\n",
    "            selected_data['gdf_road'][(selected_data['gdf_road'].importance == f\"{i}\")].plot(ax=ax1, color = \"#1f2232\", linewidth = SYMBO_PARAM[f'road_width_{i}']+1)\n",
    "            selected_data['gdf_road'][(selected_data['gdf_road'].importance == f\"{i}\")].plot(ax=ax1, color = SYMBO_PARAM[f'road_col_{i}'], linewidth = SYMBO_PARAM[f'road_width_{i}'])\n",
    "    else: \n",
    "        print(\"Buildings are not generalized, try selecting another generalisation workflow\")\n",
    "\n",
    "ipywidgets.interact(bf_af_4,scale = ['1:25000','1:10000', '1:7500', '1:5000'],\n",
    " gen_type = ipywidgets.Dropdown(options=[('Red', 1), ('Orange', 2), ('Yellow', 3)], style={'description_width': 'initial'},value=1, description='Generalisation workflow :'))\n",
    "    "
   ]
  },
  {
   "cell_type": "markdown",
   "metadata": {
    "slideshow": {
     "slide_type": "slide"
    }
   },
   "source": [
    "### **2.5/** Some example results (🏗 work in progess...)\n",
    "\n",
    "💬 It is important to note that **perfect** worflow for cartographic generalisation **doesn't exist** : each algorithm have their **limits**, so there are often hand made **corections** to be made.\n",
    "\n",
    "With that said, here are examples of render using **only** the techniques shown here, without corections. \n",
    "Not bad, right ?"
   ]
  }
 ],
 "metadata": {
  "celltoolbar": "Hide code",
  "kernelspec": {
   "display_name": "Python 3 (ipykernel)",
   "language": "python",
   "name": "python3"
  },
  "language_info": {
   "codemirror_mode": {
    "name": "ipython",
    "version": 3
   },
   "file_extension": ".py",
   "mimetype": "text/x-python",
   "name": "python",
   "nbconvert_exporter": "python",
   "pygments_lexer": "ipython3",
   "version": "3.10.12"
  },
  "rise": {
   "autolaunch": true,
   "scroll": true
  }
 },
 "nbformat": 4,
 "nbformat_minor": 2
}
